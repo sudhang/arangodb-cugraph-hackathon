{
  "cells": [
    {
      "cell_type": "markdown",
      "metadata": {
        "id": "view-in-github",
        "colab_type": "text"
      },
      "source": [
        "<a href=\"https://colab.research.google.com/github/sudhang/arangodb-cugraph-hackathon/blob/master/Top_Physics_Researchers.ipynb\" target=\"_parent\"><img src=\"https://colab.research.google.com/assets/colab-badge.svg\" alt=\"Open In Colab\"/></a>"
      ]
    },
    {
      "cell_type": "markdown",
      "metadata": {
        "jp-MarkdownHeadingCollapsed": true,
        "id": "qYJkhQk5szjl"
      },
      "source": [
        "# Overview"
      ]
    },
    {
      "cell_type": "markdown",
      "metadata": {
        "id": "zq9XddZsszjp"
      },
      "source": [
        "\n",
        "\n",
        "```\n",
        "# This is formatted as code\n",
        "```\n",
        "\n",
        "<p align=\"center\">\n",
        "    <img src=\"attachment:b5af8b9d-6ec3-4eba-a73d-934ea6f1439c.png\" style=\"height: 500px;\">\n",
        "</p>"
      ]
    },
    {
      "cell_type": "code",
      "source": [
        "import locale\n",
        "locale.getpreferredencoding = lambda: \"UTF-8\""
      ],
      "metadata": {
        "id": "rtB9iNqn_KPN"
      },
      "execution_count": 1,
      "outputs": []
    },
    {
      "cell_type": "markdown",
      "metadata": {
        "id": "L4nmLCFf3HoC",
        "jp-MarkdownHeadingCollapsed": true
      },
      "source": [
        "### Step 0: Package Installation & setup"
      ]
    },
    {
      "cell_type": "code",
      "execution_count": 2,
      "metadata": {
        "id": "pV0dx8Ny1q64",
        "colab": {
          "base_uri": "https://localhost:8080/"
        },
        "outputId": "4ec25051-1c85-47b0-c294-1f1a572d1110"
      },
      "outputs": [
        {
          "output_type": "stream",
          "name": "stdout",
          "text": [
            "Requirement already satisfied: nx-arangodb in /usr/local/lib/python3.11/dist-packages (1.3.0)\n",
            "Requirement already satisfied: networkx<=3.4,>=3.0 in /usr/local/lib/python3.11/dist-packages (from nx-arangodb) (3.4)\n",
            "Requirement already satisfied: phenolrs~=0.5 in /usr/local/lib/python3.11/dist-packages (from nx-arangodb) (0.5.9)\n",
            "Requirement already satisfied: python-arango~=8.1 in /usr/local/lib/python3.11/dist-packages (from nx-arangodb) (8.1.6)\n",
            "Requirement already satisfied: adbnx-adapter~=5.0.5 in /usr/local/lib/python3.11/dist-packages (from nx-arangodb) (5.0.6)\n",
            "Requirement already satisfied: requests>=2.27.1 in /usr/local/lib/python3.11/dist-packages (from adbnx-adapter~=5.0.5->nx-arangodb) (2.32.3)\n",
            "Requirement already satisfied: rich>=12.5.1 in /usr/local/lib/python3.11/dist-packages (from adbnx-adapter~=5.0.5->nx-arangodb) (13.9.4)\n",
            "Requirement already satisfied: setuptools>=45 in /usr/local/lib/python3.11/dist-packages (from adbnx-adapter~=5.0.5->nx-arangodb) (75.1.0)\n",
            "Requirement already satisfied: numpy~=1.26 in /usr/local/lib/python3.11/dist-packages (from phenolrs~=0.5->nx-arangodb) (1.26.4)\n",
            "Requirement already satisfied: urllib3>=1.26.0 in /usr/local/lib/python3.11/dist-packages (from python-arango~=8.1->nx-arangodb) (2.3.0)\n",
            "Requirement already satisfied: requests_toolbelt in /usr/local/lib/python3.11/dist-packages (from python-arango~=8.1->nx-arangodb) (1.0.0)\n",
            "Requirement already satisfied: PyJWT in /usr/local/lib/python3.11/dist-packages (from python-arango~=8.1->nx-arangodb) (2.10.1)\n",
            "Requirement already satisfied: importlib_metadata>=4.7.1 in /usr/local/lib/python3.11/dist-packages (from python-arango~=8.1->nx-arangodb) (8.6.1)\n",
            "Requirement already satisfied: packaging>=23.1 in /usr/local/lib/python3.11/dist-packages (from python-arango~=8.1->nx-arangodb) (24.2)\n",
            "Requirement already satisfied: zipp>=3.20 in /usr/local/lib/python3.11/dist-packages (from importlib_metadata>=4.7.1->python-arango~=8.1->nx-arangodb) (3.21.0)\n",
            "Requirement already satisfied: charset-normalizer<4,>=2 in /usr/local/lib/python3.11/dist-packages (from requests>=2.27.1->adbnx-adapter~=5.0.5->nx-arangodb) (3.4.1)\n",
            "Requirement already satisfied: idna<4,>=2.5 in /usr/local/lib/python3.11/dist-packages (from requests>=2.27.1->adbnx-adapter~=5.0.5->nx-arangodb) (3.10)\n",
            "Requirement already satisfied: certifi>=2017.4.17 in /usr/local/lib/python3.11/dist-packages (from requests>=2.27.1->adbnx-adapter~=5.0.5->nx-arangodb) (2025.1.31)\n",
            "Requirement already satisfied: markdown-it-py>=2.2.0 in /usr/local/lib/python3.11/dist-packages (from rich>=12.5.1->adbnx-adapter~=5.0.5->nx-arangodb) (3.0.0)\n",
            "Requirement already satisfied: pygments<3.0.0,>=2.13.0 in /usr/local/lib/python3.11/dist-packages (from rich>=12.5.1->adbnx-adapter~=5.0.5->nx-arangodb) (2.18.0)\n",
            "Requirement already satisfied: mdurl~=0.1 in /usr/local/lib/python3.11/dist-packages (from markdown-it-py>=2.2.0->rich>=12.5.1->adbnx-adapter~=5.0.5->nx-arangodb) (0.1.2)\n"
          ]
        }
      ],
      "source": [
        "# 1. Install nx-arangodb via pip\n",
        "# Github: https://github.com/arangodb/nx-arangodb\n",
        "\n",
        "!pip install nx-arangodb"
      ]
    },
    {
      "cell_type": "code",
      "execution_count": 3,
      "metadata": {
        "colab": {
          "base_uri": "https://localhost:8080/"
        },
        "id": "JOa19V6Tszjr",
        "outputId": "cee5b129-c48a-4337-f3fd-01a0d8ff09f1"
      },
      "outputs": [
        {
          "output_type": "stream",
          "name": "stdout",
          "text": [
            "Sun Mar  9 14:04:21 2025       \n",
            "+-----------------------------------------------------------------------------------------+\n",
            "| NVIDIA-SMI 550.54.15              Driver Version: 550.54.15      CUDA Version: 12.4     |\n",
            "|-----------------------------------------+------------------------+----------------------+\n",
            "| GPU  Name                 Persistence-M | Bus-Id          Disp.A | Volatile Uncorr. ECC |\n",
            "| Fan  Temp   Perf          Pwr:Usage/Cap |           Memory-Usage | GPU-Util  Compute M. |\n",
            "|                                         |                        |               MIG M. |\n",
            "|=========================================+========================+======================|\n",
            "|   0  Tesla T4                       Off |   00000000:00:04.0 Off |                    0 |\n",
            "| N/A   39C    P8              9W /   70W |       0MiB /  15360MiB |      0%      Default |\n",
            "|                                         |                        |                  N/A |\n",
            "+-----------------------------------------+------------------------+----------------------+\n",
            "                                                                                         \n",
            "+-----------------------------------------------------------------------------------------+\n",
            "| Processes:                                                                              |\n",
            "|  GPU   GI   CI        PID   Type   Process name                              GPU Memory |\n",
            "|        ID   ID                                                               Usage      |\n",
            "|=========================================================================================|\n",
            "|  No running processes found                                                             |\n",
            "+-----------------------------------------------------------------------------------------+\n",
            "nvcc: NVIDIA (R) Cuda compiler driver\n",
            "Copyright (c) 2005-2024 NVIDIA Corporation\n",
            "Built on Thu_Jun__6_02:18:23_PDT_2024\n",
            "Cuda compilation tools, release 12.5, V12.5.82\n",
            "Build cuda_12.5.r12.5/compiler.34385749_0\n"
          ]
        }
      ],
      "source": [
        "# 2. Check if you have an NVIDIA GPU\n",
        "# Note: If this returns \"command not found\", then GPU-based algorithms via cuGraph are unavailable\n",
        "\n",
        "!nvidia-smi\n",
        "!nvcc --version"
      ]
    },
    {
      "cell_type": "code",
      "execution_count": 4,
      "metadata": {
        "colab": {
          "base_uri": "https://localhost:8080/"
        },
        "id": "E1MHrHTWszjr",
        "outputId": "9f565d46-aff6-4a66-d968-8989731afa37"
      },
      "outputs": [
        {
          "output_type": "stream",
          "name": "stdout",
          "text": [
            "Looking in indexes: https://pypi.org/simple, https://pypi.nvidia.com\n",
            "Requirement already satisfied: nx-cugraph-cu12 in /usr/local/lib/python3.11/dist-packages (25.2.0)\n",
            "Requirement already satisfied: cupy-cuda12x>=12.0.0 in /usr/local/lib/python3.11/dist-packages (from nx-cugraph-cu12) (13.3.0)\n",
            "Requirement already satisfied: networkx>=3.2 in /usr/local/lib/python3.11/dist-packages (from nx-cugraph-cu12) (3.4)\n",
            "Requirement already satisfied: numpy<3.0a0,>=1.23 in /usr/local/lib/python3.11/dist-packages (from nx-cugraph-cu12) (1.26.4)\n",
            "Requirement already satisfied: pylibcugraph-cu12==25.2.* in /usr/local/lib/python3.11/dist-packages (from nx-cugraph-cu12) (25.2.0)\n",
            "Requirement already satisfied: libcugraph-cu12==25.2.* in /usr/local/lib/python3.11/dist-packages (from pylibcugraph-cu12==25.2.*->nx-cugraph-cu12) (25.2.0)\n",
            "Requirement already satisfied: pylibraft-cu12==25.2.* in /usr/local/lib/python3.11/dist-packages (from pylibcugraph-cu12==25.2.*->nx-cugraph-cu12) (25.2.0)\n",
            "Requirement already satisfied: rmm-cu12==25.2.* in /usr/local/lib/python3.11/dist-packages (from pylibcugraph-cu12==25.2.*->nx-cugraph-cu12) (25.2.0)\n",
            "Requirement already satisfied: libraft-cu12==25.2.* in /usr/local/lib/python3.11/dist-packages (from libcugraph-cu12==25.2.*->pylibcugraph-cu12==25.2.*->nx-cugraph-cu12) (25.2.0)\n",
            "Requirement already satisfied: cuda-python<13.0a0,>=12.6.2 in /usr/local/lib/python3.11/dist-packages (from pylibraft-cu12==25.2.*->pylibcugraph-cu12==25.2.*->nx-cugraph-cu12) (12.6.2.post1)\n",
            "Requirement already satisfied: nvidia-cublas-cu12 in /usr/local/lib/python3.11/dist-packages (from libraft-cu12==25.2.*->libcugraph-cu12==25.2.*->pylibcugraph-cu12==25.2.*->nx-cugraph-cu12) (12.5.3.2)\n",
            "Requirement already satisfied: nvidia-curand-cu12 in /usr/local/lib/python3.11/dist-packages (from libraft-cu12==25.2.*->libcugraph-cu12==25.2.*->pylibcugraph-cu12==25.2.*->nx-cugraph-cu12) (10.3.6.82)\n",
            "Requirement already satisfied: nvidia-cusolver-cu12 in /usr/local/lib/python3.11/dist-packages (from libraft-cu12==25.2.*->libcugraph-cu12==25.2.*->pylibcugraph-cu12==25.2.*->nx-cugraph-cu12) (11.6.3.83)\n",
            "Requirement already satisfied: nvidia-cusparse-cu12 in /usr/local/lib/python3.11/dist-packages (from libraft-cu12==25.2.*->libcugraph-cu12==25.2.*->pylibcugraph-cu12==25.2.*->nx-cugraph-cu12) (12.5.1.3)\n",
            "Requirement already satisfied: fastrlock>=0.5 in /usr/local/lib/python3.11/dist-packages (from cupy-cuda12x>=12.0.0->nx-cugraph-cu12) (0.8.3)\n",
            "Requirement already satisfied: nvidia-nvjitlink-cu12 in /usr/local/lib/python3.11/dist-packages (from nvidia-cusolver-cu12->libraft-cu12==25.2.*->libcugraph-cu12==25.2.*->pylibcugraph-cu12==25.2.*->nx-cugraph-cu12) (12.5.82)\n"
          ]
        }
      ],
      "source": [
        "# 3. Install nx-cugraph via pip\n",
        "# Note: Only enable this installation if the step above is working!\n",
        "\n",
        "!pip install nx-cugraph-cu12 --extra-index-url https://pypi.nvidia.com # Requires CUDA-capable GPU"
      ]
    },
    {
      "cell_type": "code",
      "execution_count": 5,
      "metadata": {
        "colab": {
          "base_uri": "https://localhost:8080/"
        },
        "id": "X6bTR9bMszjr",
        "outputId": "85179a3d-94b0-49b6-aa33-e8243753343d"
      },
      "outputs": [
        {
          "output_type": "stream",
          "name": "stdout",
          "text": [
            "Requirement already satisfied: langchain in /usr/local/lib/python3.11/dist-packages (0.3.20)\n",
            "Requirement already satisfied: langchain-community in /usr/local/lib/python3.11/dist-packages (0.3.19)\n",
            "Requirement already satisfied: langchain-openai in /usr/local/lib/python3.11/dist-packages (0.3.8)\n",
            "Requirement already satisfied: langgraph in /usr/local/lib/python3.11/dist-packages (0.3.5)\n",
            "Requirement already satisfied: langchain-google-genai in /usr/local/lib/python3.11/dist-packages (2.0.11)\n",
            "Requirement already satisfied: langchain-core<1.0.0,>=0.3.41 in /usr/local/lib/python3.11/dist-packages (from langchain) (0.3.43)\n",
            "Requirement already satisfied: langchain-text-splitters<1.0.0,>=0.3.6 in /usr/local/lib/python3.11/dist-packages (from langchain) (0.3.6)\n",
            "Requirement already satisfied: langsmith<0.4,>=0.1.17 in /usr/local/lib/python3.11/dist-packages (from langchain) (0.3.11)\n",
            "Requirement already satisfied: pydantic<3.0.0,>=2.7.4 in /usr/local/lib/python3.11/dist-packages (from langchain) (2.10.6)\n",
            "Requirement already satisfied: SQLAlchemy<3,>=1.4 in /usr/local/lib/python3.11/dist-packages (from langchain) (2.0.38)\n",
            "Requirement already satisfied: requests<3,>=2 in /usr/local/lib/python3.11/dist-packages (from langchain) (2.32.3)\n",
            "Requirement already satisfied: PyYAML>=5.3 in /usr/local/lib/python3.11/dist-packages (from langchain) (6.0.2)\n",
            "Requirement already satisfied: aiohttp<4.0.0,>=3.8.3 in /usr/local/lib/python3.11/dist-packages (from langchain-community) (3.11.13)\n",
            "Requirement already satisfied: tenacity!=8.4.0,<10,>=8.1.0 in /usr/local/lib/python3.11/dist-packages (from langchain-community) (9.0.0)\n",
            "Requirement already satisfied: dataclasses-json<0.7,>=0.5.7 in /usr/local/lib/python3.11/dist-packages (from langchain-community) (0.6.7)\n",
            "Requirement already satisfied: pydantic-settings<3.0.0,>=2.4.0 in /usr/local/lib/python3.11/dist-packages (from langchain-community) (2.8.1)\n",
            "Requirement already satisfied: httpx-sse<1.0.0,>=0.4.0 in /usr/local/lib/python3.11/dist-packages (from langchain-community) (0.4.0)\n",
            "Requirement already satisfied: numpy<3,>=1.26.2 in /usr/local/lib/python3.11/dist-packages (from langchain-community) (1.26.4)\n",
            "Requirement already satisfied: openai<2.0.0,>=1.58.1 in /usr/local/lib/python3.11/dist-packages (from langchain-openai) (1.61.1)\n",
            "Requirement already satisfied: tiktoken<1,>=0.7 in /usr/local/lib/python3.11/dist-packages (from langchain-openai) (0.9.0)\n",
            "Requirement already satisfied: langgraph-checkpoint<3.0.0,>=2.0.10 in /usr/local/lib/python3.11/dist-packages (from langgraph) (2.0.18)\n",
            "Requirement already satisfied: langgraph-prebuilt<0.2,>=0.1.1 in /usr/local/lib/python3.11/dist-packages (from langgraph) (0.1.2)\n",
            "Requirement already satisfied: langgraph-sdk<0.2.0,>=0.1.42 in /usr/local/lib/python3.11/dist-packages (from langgraph) (0.1.55)\n",
            "Requirement already satisfied: filetype<2.0.0,>=1.2.0 in /usr/local/lib/python3.11/dist-packages (from langchain-google-genai) (1.2.0)\n",
            "Requirement already satisfied: google-ai-generativelanguage<0.7.0,>=0.6.16 in /usr/local/lib/python3.11/dist-packages (from langchain-google-genai) (0.6.16)\n",
            "Requirement already satisfied: aiohappyeyeballs>=2.3.0 in /usr/local/lib/python3.11/dist-packages (from aiohttp<4.0.0,>=3.8.3->langchain-community) (2.4.6)\n",
            "Requirement already satisfied: aiosignal>=1.1.2 in /usr/local/lib/python3.11/dist-packages (from aiohttp<4.0.0,>=3.8.3->langchain-community) (1.3.2)\n",
            "Requirement already satisfied: attrs>=17.3.0 in /usr/local/lib/python3.11/dist-packages (from aiohttp<4.0.0,>=3.8.3->langchain-community) (25.1.0)\n",
            "Requirement already satisfied: frozenlist>=1.1.1 in /usr/local/lib/python3.11/dist-packages (from aiohttp<4.0.0,>=3.8.3->langchain-community) (1.5.0)\n",
            "Requirement already satisfied: multidict<7.0,>=4.5 in /usr/local/lib/python3.11/dist-packages (from aiohttp<4.0.0,>=3.8.3->langchain-community) (6.1.0)\n",
            "Requirement already satisfied: propcache>=0.2.0 in /usr/local/lib/python3.11/dist-packages (from aiohttp<4.0.0,>=3.8.3->langchain-community) (0.3.0)\n",
            "Requirement already satisfied: yarl<2.0,>=1.17.0 in /usr/local/lib/python3.11/dist-packages (from aiohttp<4.0.0,>=3.8.3->langchain-community) (1.18.3)\n",
            "Requirement already satisfied: marshmallow<4.0.0,>=3.18.0 in /usr/local/lib/python3.11/dist-packages (from dataclasses-json<0.7,>=0.5.7->langchain-community) (3.26.1)\n",
            "Requirement already satisfied: typing-inspect<1,>=0.4.0 in /usr/local/lib/python3.11/dist-packages (from dataclasses-json<0.7,>=0.5.7->langchain-community) (0.9.0)\n",
            "Requirement already satisfied: google-api-core!=2.0.*,!=2.1.*,!=2.10.*,!=2.2.*,!=2.3.*,!=2.4.*,!=2.5.*,!=2.6.*,!=2.7.*,!=2.8.*,!=2.9.*,<3.0.0dev,>=1.34.1 in /usr/local/lib/python3.11/dist-packages (from google-api-core[grpc]!=2.0.*,!=2.1.*,!=2.10.*,!=2.2.*,!=2.3.*,!=2.4.*,!=2.5.*,!=2.6.*,!=2.7.*,!=2.8.*,!=2.9.*,<3.0.0dev,>=1.34.1->google-ai-generativelanguage<0.7.0,>=0.6.16->langchain-google-genai) (2.24.1)\n",
            "Requirement already satisfied: google-auth!=2.24.0,!=2.25.0,<3.0.0dev,>=2.14.1 in /usr/local/lib/python3.11/dist-packages (from google-ai-generativelanguage<0.7.0,>=0.6.16->langchain-google-genai) (2.38.0)\n",
            "Requirement already satisfied: proto-plus<2.0.0dev,>=1.22.3 in /usr/local/lib/python3.11/dist-packages (from google-ai-generativelanguage<0.7.0,>=0.6.16->langchain-google-genai) (1.26.0)\n",
            "Requirement already satisfied: protobuf!=4.21.0,!=4.21.1,!=4.21.2,!=4.21.3,!=4.21.4,!=4.21.5,<6.0.0dev,>=3.20.2 in /usr/local/lib/python3.11/dist-packages (from google-ai-generativelanguage<0.7.0,>=0.6.16->langchain-google-genai) (4.25.6)\n",
            "Requirement already satisfied: jsonpatch<2.0,>=1.33 in /usr/local/lib/python3.11/dist-packages (from langchain-core<1.0.0,>=0.3.41->langchain) (1.33)\n",
            "Requirement already satisfied: packaging<25,>=23.2 in /usr/local/lib/python3.11/dist-packages (from langchain-core<1.0.0,>=0.3.41->langchain) (24.2)\n",
            "Requirement already satisfied: typing-extensions>=4.7 in /usr/local/lib/python3.11/dist-packages (from langchain-core<1.0.0,>=0.3.41->langchain) (4.12.2)\n",
            "Requirement already satisfied: msgpack<2.0.0,>=1.1.0 in /usr/local/lib/python3.11/dist-packages (from langgraph-checkpoint<3.0.0,>=2.0.10->langgraph) (1.1.0)\n",
            "Requirement already satisfied: httpx>=0.25.2 in /usr/local/lib/python3.11/dist-packages (from langgraph-sdk<0.2.0,>=0.1.42->langgraph) (0.28.1)\n",
            "Requirement already satisfied: orjson>=3.10.1 in /usr/local/lib/python3.11/dist-packages (from langgraph-sdk<0.2.0,>=0.1.42->langgraph) (3.10.15)\n",
            "Requirement already satisfied: requests-toolbelt<2.0.0,>=1.0.0 in /usr/local/lib/python3.11/dist-packages (from langsmith<0.4,>=0.1.17->langchain) (1.0.0)\n",
            "Requirement already satisfied: zstandard<0.24.0,>=0.23.0 in /usr/local/lib/python3.11/dist-packages (from langsmith<0.4,>=0.1.17->langchain) (0.23.0)\n",
            "Requirement already satisfied: anyio<5,>=3.5.0 in /usr/local/lib/python3.11/dist-packages (from openai<2.0.0,>=1.58.1->langchain-openai) (3.7.1)\n",
            "Requirement already satisfied: distro<2,>=1.7.0 in /usr/local/lib/python3.11/dist-packages (from openai<2.0.0,>=1.58.1->langchain-openai) (1.9.0)\n",
            "Requirement already satisfied: jiter<1,>=0.4.0 in /usr/local/lib/python3.11/dist-packages (from openai<2.0.0,>=1.58.1->langchain-openai) (0.8.2)\n",
            "Requirement already satisfied: sniffio in /usr/local/lib/python3.11/dist-packages (from openai<2.0.0,>=1.58.1->langchain-openai) (1.3.1)\n",
            "Requirement already satisfied: tqdm>4 in /usr/local/lib/python3.11/dist-packages (from openai<2.0.0,>=1.58.1->langchain-openai) (4.67.1)\n",
            "Requirement already satisfied: annotated-types>=0.6.0 in /usr/local/lib/python3.11/dist-packages (from pydantic<3.0.0,>=2.7.4->langchain) (0.7.0)\n",
            "Requirement already satisfied: pydantic-core==2.27.2 in /usr/local/lib/python3.11/dist-packages (from pydantic<3.0.0,>=2.7.4->langchain) (2.27.2)\n",
            "Requirement already satisfied: python-dotenv>=0.21.0 in /usr/local/lib/python3.11/dist-packages (from pydantic-settings<3.0.0,>=2.4.0->langchain-community) (1.0.1)\n",
            "Requirement already satisfied: charset-normalizer<4,>=2 in /usr/local/lib/python3.11/dist-packages (from requests<3,>=2->langchain) (3.4.1)\n",
            "Requirement already satisfied: idna<4,>=2.5 in /usr/local/lib/python3.11/dist-packages (from requests<3,>=2->langchain) (3.10)\n",
            "Requirement already satisfied: urllib3<3,>=1.21.1 in /usr/local/lib/python3.11/dist-packages (from requests<3,>=2->langchain) (2.3.0)\n",
            "Requirement already satisfied: certifi>=2017.4.17 in /usr/local/lib/python3.11/dist-packages (from requests<3,>=2->langchain) (2025.1.31)\n",
            "Requirement already satisfied: greenlet!=0.4.17 in /usr/local/lib/python3.11/dist-packages (from SQLAlchemy<3,>=1.4->langchain) (3.1.1)\n",
            "Requirement already satisfied: regex>=2022.1.18 in /usr/local/lib/python3.11/dist-packages (from tiktoken<1,>=0.7->langchain-openai) (2024.11.6)\n",
            "Requirement already satisfied: googleapis-common-protos<2.0.dev0,>=1.56.2 in /usr/local/lib/python3.11/dist-packages (from google-api-core!=2.0.*,!=2.1.*,!=2.10.*,!=2.2.*,!=2.3.*,!=2.4.*,!=2.5.*,!=2.6.*,!=2.7.*,!=2.8.*,!=2.9.*,<3.0.0dev,>=1.34.1->google-api-core[grpc]!=2.0.*,!=2.1.*,!=2.10.*,!=2.2.*,!=2.3.*,!=2.4.*,!=2.5.*,!=2.6.*,!=2.7.*,!=2.8.*,!=2.9.*,<3.0.0dev,>=1.34.1->google-ai-generativelanguage<0.7.0,>=0.6.16->langchain-google-genai) (1.69.0)\n",
            "Requirement already satisfied: grpcio<2.0dev,>=1.33.2 in /usr/local/lib/python3.11/dist-packages (from google-api-core[grpc]!=2.0.*,!=2.1.*,!=2.10.*,!=2.2.*,!=2.3.*,!=2.4.*,!=2.5.*,!=2.6.*,!=2.7.*,!=2.8.*,!=2.9.*,<3.0.0dev,>=1.34.1->google-ai-generativelanguage<0.7.0,>=0.6.16->langchain-google-genai) (1.70.0)\n",
            "Requirement already satisfied: grpcio-status<2.0.dev0,>=1.33.2 in /usr/local/lib/python3.11/dist-packages (from google-api-core[grpc]!=2.0.*,!=2.1.*,!=2.10.*,!=2.2.*,!=2.3.*,!=2.4.*,!=2.5.*,!=2.6.*,!=2.7.*,!=2.8.*,!=2.9.*,<3.0.0dev,>=1.34.1->google-ai-generativelanguage<0.7.0,>=0.6.16->langchain-google-genai) (1.62.3)\n",
            "Requirement already satisfied: cachetools<6.0,>=2.0.0 in /usr/local/lib/python3.11/dist-packages (from google-auth!=2.24.0,!=2.25.0,<3.0.0dev,>=2.14.1->google-ai-generativelanguage<0.7.0,>=0.6.16->langchain-google-genai) (5.5.2)\n",
            "Requirement already satisfied: pyasn1-modules>=0.2.1 in /usr/local/lib/python3.11/dist-packages (from google-auth!=2.24.0,!=2.25.0,<3.0.0dev,>=2.14.1->google-ai-generativelanguage<0.7.0,>=0.6.16->langchain-google-genai) (0.4.1)\n",
            "Requirement already satisfied: rsa<5,>=3.1.4 in /usr/local/lib/python3.11/dist-packages (from google-auth!=2.24.0,!=2.25.0,<3.0.0dev,>=2.14.1->google-ai-generativelanguage<0.7.0,>=0.6.16->langchain-google-genai) (4.9)\n",
            "Requirement already satisfied: httpcore==1.* in /usr/local/lib/python3.11/dist-packages (from httpx>=0.25.2->langgraph-sdk<0.2.0,>=0.1.42->langgraph) (1.0.7)\n",
            "Requirement already satisfied: h11<0.15,>=0.13 in /usr/local/lib/python3.11/dist-packages (from httpcore==1.*->httpx>=0.25.2->langgraph-sdk<0.2.0,>=0.1.42->langgraph) (0.14.0)\n",
            "Requirement already satisfied: jsonpointer>=1.9 in /usr/local/lib/python3.11/dist-packages (from jsonpatch<2.0,>=1.33->langchain-core<1.0.0,>=0.3.41->langchain) (3.0.0)\n",
            "Requirement already satisfied: mypy-extensions>=0.3.0 in /usr/local/lib/python3.11/dist-packages (from typing-inspect<1,>=0.4.0->dataclasses-json<0.7,>=0.5.7->langchain-community) (1.0.0)\n",
            "Requirement already satisfied: pyasn1<0.7.0,>=0.4.6 in /usr/local/lib/python3.11/dist-packages (from pyasn1-modules>=0.2.1->google-auth!=2.24.0,!=2.25.0,<3.0.0dev,>=2.14.1->google-ai-generativelanguage<0.7.0,>=0.6.16->langchain-google-genai) (0.6.1)\n"
          ]
        }
      ],
      "source": [
        "# 4. Install LangChain & LangGraph\n",
        "\n",
        "!pip install --upgrade langchain langchain-community langchain-openai langgraph langchain-google-genai"
      ]
    },
    {
      "cell_type": "code",
      "source": [
        "# 5. Visualistion etc libraries -- Not from template\n",
        "!pip install plotly"
      ],
      "metadata": {
        "colab": {
          "base_uri": "https://localhost:8080/"
        },
        "id": "nIaTDaaB7Emb",
        "outputId": "ad171776-9462-4d28-a2be-bde35091ac57"
      },
      "execution_count": 6,
      "outputs": [
        {
          "output_type": "stream",
          "name": "stdout",
          "text": [
            "Requirement already satisfied: plotly in /usr/local/lib/python3.11/dist-packages (5.24.1)\n",
            "Requirement already satisfied: tenacity>=6.2.0 in /usr/local/lib/python3.11/dist-packages (from plotly) (9.0.0)\n",
            "Requirement already satisfied: packaging in /usr/local/lib/python3.11/dist-packages (from plotly) (24.2)\n"
          ]
        }
      ]
    },
    {
      "cell_type": "code",
      "execution_count": 7,
      "metadata": {
        "id": "cUkcguDKszjr",
        "colab": {
          "base_uri": "https://localhost:8080/"
        },
        "outputId": "eb347a24-5f4e-49c9-cddf-f7a7c2cca49f"
      },
      "outputs": [
        {
          "output_type": "stream",
          "name": "stderr",
          "text": [
            "[14:04:41 +0000] [INFO]: NetworkX-cuGraph is available.\n",
            "INFO:nx_arangodb:NetworkX-cuGraph is available.\n"
          ]
        }
      ],
      "source": [
        "# 5. Import the required modules\n",
        "\n",
        "import networkx as nx\n",
        "import nx_arangodb as nxadb\n",
        "\n",
        "from arango import ArangoClient\n",
        "\n",
        "import pandas as pd\n",
        "import numpy as np\n",
        "import networkx as nx\n",
        "import matplotlib.pyplot as plt\n",
        "from random import randint\n",
        "import re\n",
        "\n",
        "from langgraph.prebuilt import create_react_agent\n",
        "from langgraph.checkpoint.memory import MemorySaver\n",
        "from langchain_openai import ChatOpenAI\n",
        "from langchain_google_genai import ChatGoogleGenerativeAI\n",
        "from langchain_community.graphs import ArangoGraph\n",
        "from langchain_community.chains.graph_qa.arangodb import ArangoGraphQAChain\n",
        "from langchain_core.tools import tool"
      ]
    },
    {
      "cell_type": "code",
      "execution_count": 8,
      "metadata": {
        "colab": {
          "base_uri": "https://localhost:8080/"
        },
        "id": "2B2M3QHNszjs",
        "outputId": "f4d31d42-9363-46d2-faea-0de9e244b548"
      },
      "outputs": [
        {
          "output_type": "stream",
          "name": "stdout",
          "text": [
            "<StandardDatabase _system>\n"
          ]
        }
      ],
      "source": [
        "# 6. Connect to the ArangoDB database\n",
        "# TODO: Configure your credentials here!\n",
        "\n",
        "from google.colab import userdata\n",
        "myarangohost = userdata.get('ARANGO_HOST')\n",
        "mypass = userdata.get('ARANGO_PASS')\n",
        "db = ArangoClient(hosts=myarangohost).db(username=\"root\", password=mypass, verify=True)\n",
        "\n",
        "print(db)"
      ]
    },
    {
      "cell_type": "markdown",
      "metadata": {
        "jp-MarkdownHeadingCollapsed": true,
        "id": "dfo8kas-szjs"
      },
      "source": [
        "### Step 1: Choose & prepare your dataset for NetworkX"
      ]
    },
    {
      "cell_type": "markdown",
      "metadata": {
        "id": "UFtt53_yszjs"
      },
      "source": [
        "This section will provide a template for data transformation, including placeholders for loading CSV/JSON files, defining graph schemas, and preparing data for ingestion."
      ]
    },
    {
      "cell_type": "markdown",
      "metadata": {
        "jp-MarkdownHeadingCollapsed": true,
        "id": "dO03dsi-szjt"
      },
      "source": [
        "### Step 2: Convert and Load Graph Data into NetworkX"
      ]
    },
    {
      "cell_type": "markdown",
      "metadata": {
        "id": "u04QV--0szjt"
      },
      "source": [
        "Here, we load the data of physics research papers and their authors"
      ]
    },
    {
      "cell_type": "code",
      "execution_count": 9,
      "metadata": {
        "id": "QffIKL6pszju"
      },
      "outputs": [],
      "source": [
        "import networkx as nx\n",
        "\n",
        "G = nx.read_graphml(\"coauthorship_bipartite.graphml\")\n"
      ]
    },
    {
      "cell_type": "markdown",
      "source": [
        "Let us now check out one of the physicists and their papers and co-authors"
      ],
      "metadata": {
        "id": "obEvK_OM0Rpb"
      }
    },
    {
      "cell_type": "code",
      "source": [
        "def get_author_network(G, author_id):\n",
        "  try:\n",
        "    sub_nodes = {author_id} | set(G.neighbors(author_id))\n",
        "\n",
        "    print(f\"{sub_nodes=}\")\n",
        "\n",
        "    return G.subgraph(sub_nodes)\n",
        "  except:\n",
        "    print(f\"Author {author_id} not found\")\n",
        "    return None\n",
        "\n",
        "import networkx as nx\n",
        "import plotly.graph_objs as go\n",
        "import plotly.offline as pyo\n",
        "\n",
        "def plot_author_network(G, author_id):\n",
        "  G_author = get_author_network(G, author_id)\n",
        "  pos = nx.spring_layout(G_author, seed=42)\n",
        "\n",
        "  # Prepare lists for nodes separated by type.\n",
        "  authors_x, authors_y, authors_text = [], [], []\n",
        "  papers_x, papers_y, papers_text = [], [], []\n",
        "\n",
        "  for node, data in G_author.nodes(data=True):\n",
        "      x, y = pos[node]\n",
        "      if data.get('type') == 'Author':\n",
        "          authors_x.append(x)\n",
        "          authors_y.append(y)\n",
        "          # Display the author's name as the label.\n",
        "          authors_text.append(data.get('name', str(node)))\n",
        "      else:\n",
        "          papers_x.append(x)\n",
        "          papers_y.append(y)\n",
        "          # Display the paper title as the label.\n",
        "          papers_text.append(data.get('title', str(node)))\n",
        "\n",
        "  # Create the author trace with distinct marker (circle) and color.\n",
        "  authors_trace = go.Scatter(\n",
        "      x=authors_x,\n",
        "      y=authors_y,\n",
        "      mode='markers+text',\n",
        "      name='Authors',\n",
        "      text=authors_text,\n",
        "      textposition=\"top center\",\n",
        "      marker=dict(symbol=\"circle\", size=20, color=\"skyblue\"),\n",
        "      hoverinfo=\"text\"\n",
        "  )\n",
        "\n",
        "  # Create the paper trace with a different marker (square) and color.\n",
        "  papers_trace = go.Scatter(\n",
        "      x=papers_x,\n",
        "      y=papers_y,\n",
        "      mode='markers+text',\n",
        "      name='Papers',\n",
        "      text=papers_text,\n",
        "      textposition=\"bottom center\",\n",
        "      marker=dict(symbol=\"square\", size=20, color=\"lightgreen\"),\n",
        "      hoverinfo=\"text\"\n",
        "  )\n",
        "\n",
        "  # Build edge traces for all edges.\n",
        "  edge_x = []\n",
        "  edge_y = []\n",
        "  for source, target, data in G_author.edges(data=True):\n",
        "      x0, y0 = pos[source]\n",
        "      x1, y1 = pos[target]\n",
        "      edge_x.extend([x0, x1, None])\n",
        "      edge_y.extend([y0, y1, None])\n",
        "\n",
        "  edge_trace = go.Scatter(\n",
        "      x=edge_x,\n",
        "      y=edge_y,\n",
        "      line=dict(width=1, color='#888'),\n",
        "      hoverinfo='none',\n",
        "      mode='lines'\n",
        "  )\n",
        "\n",
        "  # Create the Plotly figure.\n",
        "  fig = go.Figure(\n",
        "      data=[edge_trace, authors_trace, papers_trace],\n",
        "      layout=go.Layout(\n",
        "          title='Author Ego Network',\n",
        "          titlefont_size=16,\n",
        "          showlegend=True,\n",
        "          hovermode='closest',\n",
        "          margin=dict(b=20, l=5, r=5, t=40),\n",
        "          xaxis=dict(showgrid=False, zeroline=False, showticklabels=False),\n",
        "          yaxis=dict(showgrid=False, zeroline=False, showticklabels=False)\n",
        "      )\n",
        "  )\n",
        "\n",
        "  # Display the interactive visualization.\n",
        "  fig.show()\n",
        "\n",
        "\n",
        "\n"
      ],
      "metadata": {
        "id": "UIu76aJy0Q_f"
      },
      "execution_count": 10,
      "outputs": []
    },
    {
      "cell_type": "code",
      "source": [
        "plot_author_network(G, \"ur.011344733521.27\")\n"
      ],
      "metadata": {
        "colab": {
          "base_uri": "https://localhost:8080/",
          "height": 559
        },
        "id": "YbE73kYO7QeL",
        "outputId": "e576335e-f391-4dcf-a1ad-9866570cc88a"
      },
      "execution_count": 11,
      "outputs": [
        {
          "output_type": "stream",
          "name": "stdout",
          "text": [
            "sub_nodes={'ur.0762271037.55', '10.1002/CPA.20124', 'ur.07353444575.53', 'ur.011344733521.27'}\n"
          ]
        },
        {
          "output_type": "display_data",
          "data": {
            "text/html": [
              "<html>\n",
              "<head><meta charset=\"utf-8\" /></head>\n",
              "<body>\n",
              "    <div>            <script src=\"https://cdnjs.cloudflare.com/ajax/libs/mathjax/2.7.5/MathJax.js?config=TeX-AMS-MML_SVG\"></script><script type=\"text/javascript\">if (window.MathJax && window.MathJax.Hub && window.MathJax.Hub.Config) {window.MathJax.Hub.Config({SVG: {font: \"STIX-Web\"}});}</script>                <script type=\"text/javascript\">window.PlotlyConfig = {MathJaxConfig: 'local'};</script>\n",
              "        <script charset=\"utf-8\" src=\"https://cdn.plot.ly/plotly-2.35.2.min.js\"></script>                <div id=\"8801b28b-a5ad-4113-96dc-c31451c83a5c\" class=\"plotly-graph-div\" style=\"height:525px; width:100%;\"></div>            <script type=\"text/javascript\">                                    window.PLOTLYENV=window.PLOTLYENV || {};                                    if (document.getElementById(\"8801b28b-a5ad-4113-96dc-c31451c83a5c\")) {                    Plotly.newPlot(                        \"8801b28b-a5ad-4113-96dc-c31451c83a5c\",                        [{\"hoverinfo\":\"none\",\"line\":{\"color\":\"#888\",\"width\":1},\"mode\":\"lines\",\"x\":[0.3563184624919795,0.9939280383886342,null,0.3563184624919795,-0.993928038388634,null,0.3563184624919795,-0.3563184624919799,null,0.9939280383886342,-0.993928038388634,null,0.9939280383886342,-0.3563184624919799,null,-0.3563184624919799,-0.993928038388634,null],\"y\":[1.0,-0.35415491046630787,null,1.0,0.3541549104663071,null,1.0,-1.0,null,-0.35415491046630787,0.3541549104663071,null,-0.35415491046630787,-1.0,null,-1.0,0.3541549104663071,null],\"type\":\"scatter\"},{\"hoverinfo\":\"text\",\"marker\":{\"color\":\"skyblue\",\"size\":20,\"symbol\":\"circle\"},\"mode\":\"markers+text\",\"name\":\"Authors\",\"text\":[\"Terence Tao\",\"Justin K Romberg\",\"Emmanuel J Candès\"],\"textposition\":\"top center\",\"x\":[0.3563184624919795,-0.3563184624919799,-0.993928038388634],\"y\":[1.0,-1.0,0.3541549104663071],\"type\":\"scatter\"},{\"hoverinfo\":\"text\",\"marker\":{\"color\":\"lightgreen\",\"size\":20,\"symbol\":\"square\"},\"mode\":\"markers+text\",\"name\":\"Papers\",\"text\":[\"Unknown\"],\"textposition\":\"bottom center\",\"x\":[0.9939280383886342],\"y\":[-0.35415491046630787],\"type\":\"scatter\"}],                        {\"hovermode\":\"closest\",\"margin\":{\"b\":20,\"l\":5,\"r\":5,\"t\":40},\"showlegend\":true,\"title\":{\"font\":{\"size\":16},\"text\":\"Author Ego Network\"},\"xaxis\":{\"showgrid\":false,\"showticklabels\":false,\"zeroline\":false},\"yaxis\":{\"showgrid\":false,\"showticklabels\":false,\"zeroline\":false},\"template\":{\"data\":{\"histogram2dcontour\":[{\"type\":\"histogram2dcontour\",\"colorbar\":{\"outlinewidth\":0,\"ticks\":\"\"},\"colorscale\":[[0.0,\"#0d0887\"],[0.1111111111111111,\"#46039f\"],[0.2222222222222222,\"#7201a8\"],[0.3333333333333333,\"#9c179e\"],[0.4444444444444444,\"#bd3786\"],[0.5555555555555556,\"#d8576b\"],[0.6666666666666666,\"#ed7953\"],[0.7777777777777778,\"#fb9f3a\"],[0.8888888888888888,\"#fdca26\"],[1.0,\"#f0f921\"]]}],\"choropleth\":[{\"type\":\"choropleth\",\"colorbar\":{\"outlinewidth\":0,\"ticks\":\"\"}}],\"histogram2d\":[{\"type\":\"histogram2d\",\"colorbar\":{\"outlinewidth\":0,\"ticks\":\"\"},\"colorscale\":[[0.0,\"#0d0887\"],[0.1111111111111111,\"#46039f\"],[0.2222222222222222,\"#7201a8\"],[0.3333333333333333,\"#9c179e\"],[0.4444444444444444,\"#bd3786\"],[0.5555555555555556,\"#d8576b\"],[0.6666666666666666,\"#ed7953\"],[0.7777777777777778,\"#fb9f3a\"],[0.8888888888888888,\"#fdca26\"],[1.0,\"#f0f921\"]]}],\"heatmap\":[{\"type\":\"heatmap\",\"colorbar\":{\"outlinewidth\":0,\"ticks\":\"\"},\"colorscale\":[[0.0,\"#0d0887\"],[0.1111111111111111,\"#46039f\"],[0.2222222222222222,\"#7201a8\"],[0.3333333333333333,\"#9c179e\"],[0.4444444444444444,\"#bd3786\"],[0.5555555555555556,\"#d8576b\"],[0.6666666666666666,\"#ed7953\"],[0.7777777777777778,\"#fb9f3a\"],[0.8888888888888888,\"#fdca26\"],[1.0,\"#f0f921\"]]}],\"heatmapgl\":[{\"type\":\"heatmapgl\",\"colorbar\":{\"outlinewidth\":0,\"ticks\":\"\"},\"colorscale\":[[0.0,\"#0d0887\"],[0.1111111111111111,\"#46039f\"],[0.2222222222222222,\"#7201a8\"],[0.3333333333333333,\"#9c179e\"],[0.4444444444444444,\"#bd3786\"],[0.5555555555555556,\"#d8576b\"],[0.6666666666666666,\"#ed7953\"],[0.7777777777777778,\"#fb9f3a\"],[0.8888888888888888,\"#fdca26\"],[1.0,\"#f0f921\"]]}],\"contourcarpet\":[{\"type\":\"contourcarpet\",\"colorbar\":{\"outlinewidth\":0,\"ticks\":\"\"}}],\"contour\":[{\"type\":\"contour\",\"colorbar\":{\"outlinewidth\":0,\"ticks\":\"\"},\"colorscale\":[[0.0,\"#0d0887\"],[0.1111111111111111,\"#46039f\"],[0.2222222222222222,\"#7201a8\"],[0.3333333333333333,\"#9c179e\"],[0.4444444444444444,\"#bd3786\"],[0.5555555555555556,\"#d8576b\"],[0.6666666666666666,\"#ed7953\"],[0.7777777777777778,\"#fb9f3a\"],[0.8888888888888888,\"#fdca26\"],[1.0,\"#f0f921\"]]}],\"surface\":[{\"type\":\"surface\",\"colorbar\":{\"outlinewidth\":0,\"ticks\":\"\"},\"colorscale\":[[0.0,\"#0d0887\"],[0.1111111111111111,\"#46039f\"],[0.2222222222222222,\"#7201a8\"],[0.3333333333333333,\"#9c179e\"],[0.4444444444444444,\"#bd3786\"],[0.5555555555555556,\"#d8576b\"],[0.6666666666666666,\"#ed7953\"],[0.7777777777777778,\"#fb9f3a\"],[0.8888888888888888,\"#fdca26\"],[1.0,\"#f0f921\"]]}],\"mesh3d\":[{\"type\":\"mesh3d\",\"colorbar\":{\"outlinewidth\":0,\"ticks\":\"\"}}],\"scatter\":[{\"fillpattern\":{\"fillmode\":\"overlay\",\"size\":10,\"solidity\":0.2},\"type\":\"scatter\"}],\"parcoords\":[{\"type\":\"parcoords\",\"line\":{\"colorbar\":{\"outlinewidth\":0,\"ticks\":\"\"}}}],\"scatterpolargl\":[{\"type\":\"scatterpolargl\",\"marker\":{\"colorbar\":{\"outlinewidth\":0,\"ticks\":\"\"}}}],\"bar\":[{\"error_x\":{\"color\":\"#2a3f5f\"},\"error_y\":{\"color\":\"#2a3f5f\"},\"marker\":{\"line\":{\"color\":\"#E5ECF6\",\"width\":0.5},\"pattern\":{\"fillmode\":\"overlay\",\"size\":10,\"solidity\":0.2}},\"type\":\"bar\"}],\"scattergeo\":[{\"type\":\"scattergeo\",\"marker\":{\"colorbar\":{\"outlinewidth\":0,\"ticks\":\"\"}}}],\"scatterpolar\":[{\"type\":\"scatterpolar\",\"marker\":{\"colorbar\":{\"outlinewidth\":0,\"ticks\":\"\"}}}],\"histogram\":[{\"marker\":{\"pattern\":{\"fillmode\":\"overlay\",\"size\":10,\"solidity\":0.2}},\"type\":\"histogram\"}],\"scattergl\":[{\"type\":\"scattergl\",\"marker\":{\"colorbar\":{\"outlinewidth\":0,\"ticks\":\"\"}}}],\"scatter3d\":[{\"type\":\"scatter3d\",\"line\":{\"colorbar\":{\"outlinewidth\":0,\"ticks\":\"\"}},\"marker\":{\"colorbar\":{\"outlinewidth\":0,\"ticks\":\"\"}}}],\"scattermapbox\":[{\"type\":\"scattermapbox\",\"marker\":{\"colorbar\":{\"outlinewidth\":0,\"ticks\":\"\"}}}],\"scatterternary\":[{\"type\":\"scatterternary\",\"marker\":{\"colorbar\":{\"outlinewidth\":0,\"ticks\":\"\"}}}],\"scattercarpet\":[{\"type\":\"scattercarpet\",\"marker\":{\"colorbar\":{\"outlinewidth\":0,\"ticks\":\"\"}}}],\"carpet\":[{\"aaxis\":{\"endlinecolor\":\"#2a3f5f\",\"gridcolor\":\"white\",\"linecolor\":\"white\",\"minorgridcolor\":\"white\",\"startlinecolor\":\"#2a3f5f\"},\"baxis\":{\"endlinecolor\":\"#2a3f5f\",\"gridcolor\":\"white\",\"linecolor\":\"white\",\"minorgridcolor\":\"white\",\"startlinecolor\":\"#2a3f5f\"},\"type\":\"carpet\"}],\"table\":[{\"cells\":{\"fill\":{\"color\":\"#EBF0F8\"},\"line\":{\"color\":\"white\"}},\"header\":{\"fill\":{\"color\":\"#C8D4E3\"},\"line\":{\"color\":\"white\"}},\"type\":\"table\"}],\"barpolar\":[{\"marker\":{\"line\":{\"color\":\"#E5ECF6\",\"width\":0.5},\"pattern\":{\"fillmode\":\"overlay\",\"size\":10,\"solidity\":0.2}},\"type\":\"barpolar\"}],\"pie\":[{\"automargin\":true,\"type\":\"pie\"}]},\"layout\":{\"autotypenumbers\":\"strict\",\"colorway\":[\"#636efa\",\"#EF553B\",\"#00cc96\",\"#ab63fa\",\"#FFA15A\",\"#19d3f3\",\"#FF6692\",\"#B6E880\",\"#FF97FF\",\"#FECB52\"],\"font\":{\"color\":\"#2a3f5f\"},\"hovermode\":\"closest\",\"hoverlabel\":{\"align\":\"left\"},\"paper_bgcolor\":\"white\",\"plot_bgcolor\":\"#E5ECF6\",\"polar\":{\"bgcolor\":\"#E5ECF6\",\"angularaxis\":{\"gridcolor\":\"white\",\"linecolor\":\"white\",\"ticks\":\"\"},\"radialaxis\":{\"gridcolor\":\"white\",\"linecolor\":\"white\",\"ticks\":\"\"}},\"ternary\":{\"bgcolor\":\"#E5ECF6\",\"aaxis\":{\"gridcolor\":\"white\",\"linecolor\":\"white\",\"ticks\":\"\"},\"baxis\":{\"gridcolor\":\"white\",\"linecolor\":\"white\",\"ticks\":\"\"},\"caxis\":{\"gridcolor\":\"white\",\"linecolor\":\"white\",\"ticks\":\"\"}},\"coloraxis\":{\"colorbar\":{\"outlinewidth\":0,\"ticks\":\"\"}},\"colorscale\":{\"sequential\":[[0.0,\"#0d0887\"],[0.1111111111111111,\"#46039f\"],[0.2222222222222222,\"#7201a8\"],[0.3333333333333333,\"#9c179e\"],[0.4444444444444444,\"#bd3786\"],[0.5555555555555556,\"#d8576b\"],[0.6666666666666666,\"#ed7953\"],[0.7777777777777778,\"#fb9f3a\"],[0.8888888888888888,\"#fdca26\"],[1.0,\"#f0f921\"]],\"sequentialminus\":[[0.0,\"#0d0887\"],[0.1111111111111111,\"#46039f\"],[0.2222222222222222,\"#7201a8\"],[0.3333333333333333,\"#9c179e\"],[0.4444444444444444,\"#bd3786\"],[0.5555555555555556,\"#d8576b\"],[0.6666666666666666,\"#ed7953\"],[0.7777777777777778,\"#fb9f3a\"],[0.8888888888888888,\"#fdca26\"],[1.0,\"#f0f921\"]],\"diverging\":[[0,\"#8e0152\"],[0.1,\"#c51b7d\"],[0.2,\"#de77ae\"],[0.3,\"#f1b6da\"],[0.4,\"#fde0ef\"],[0.5,\"#f7f7f7\"],[0.6,\"#e6f5d0\"],[0.7,\"#b8e186\"],[0.8,\"#7fbc41\"],[0.9,\"#4d9221\"],[1,\"#276419\"]]},\"xaxis\":{\"gridcolor\":\"white\",\"linecolor\":\"white\",\"ticks\":\"\",\"title\":{\"standoff\":15},\"zerolinecolor\":\"white\",\"automargin\":true,\"zerolinewidth\":2},\"yaxis\":{\"gridcolor\":\"white\",\"linecolor\":\"white\",\"ticks\":\"\",\"title\":{\"standoff\":15},\"zerolinecolor\":\"white\",\"automargin\":true,\"zerolinewidth\":2},\"scene\":{\"xaxis\":{\"backgroundcolor\":\"#E5ECF6\",\"gridcolor\":\"white\",\"linecolor\":\"white\",\"showbackground\":true,\"ticks\":\"\",\"zerolinecolor\":\"white\",\"gridwidth\":2},\"yaxis\":{\"backgroundcolor\":\"#E5ECF6\",\"gridcolor\":\"white\",\"linecolor\":\"white\",\"showbackground\":true,\"ticks\":\"\",\"zerolinecolor\":\"white\",\"gridwidth\":2},\"zaxis\":{\"backgroundcolor\":\"#E5ECF6\",\"gridcolor\":\"white\",\"linecolor\":\"white\",\"showbackground\":true,\"ticks\":\"\",\"zerolinecolor\":\"white\",\"gridwidth\":2}},\"shapedefaults\":{\"line\":{\"color\":\"#2a3f5f\"}},\"annotationdefaults\":{\"arrowcolor\":\"#2a3f5f\",\"arrowhead\":0,\"arrowwidth\":1},\"geo\":{\"bgcolor\":\"white\",\"landcolor\":\"#E5ECF6\",\"subunitcolor\":\"white\",\"showland\":true,\"showlakes\":true,\"lakecolor\":\"white\"},\"title\":{\"x\":0.05},\"mapbox\":{\"style\":\"light\"}}}},                        {\"responsive\": true}                    ).then(function(){\n",
              "                            \n",
              "var gd = document.getElementById('8801b28b-a5ad-4113-96dc-c31451c83a5c');\n",
              "var x = new MutationObserver(function (mutations, observer) {{\n",
              "        var display = window.getComputedStyle(gd).display;\n",
              "        if (!display || display === 'none') {{\n",
              "            console.log([gd, 'removed!']);\n",
              "            Plotly.purge(gd);\n",
              "            observer.disconnect();\n",
              "        }}\n",
              "}});\n",
              "\n",
              "// Listen for the removal of the full notebook cells\n",
              "var notebookContainer = gd.closest('#notebook-container');\n",
              "if (notebookContainer) {{\n",
              "    x.observe(notebookContainer, {childList: true});\n",
              "}}\n",
              "\n",
              "// Listen for the clearing of the current output cell\n",
              "var outputEl = gd.closest('.output');\n",
              "if (outputEl) {{\n",
              "    x.observe(outputEl, {childList: true});\n",
              "}}\n",
              "\n",
              "                        })                };                            </script>        </div>\n",
              "</body>\n",
              "</html>"
            ]
          },
          "metadata": {}
        }
      ]
    },
    {
      "cell_type": "code",
      "source": [
        "G.nodes[\"ur.011344733521.27\"]"
      ],
      "metadata": {
        "colab": {
          "base_uri": "https://localhost:8080/"
        },
        "id": "Cxph3U09GdJM",
        "outputId": "db1ed3cc-da6c-48d6-b4c4-75273db79beb"
      },
      "execution_count": 12,
      "outputs": [
        {
          "output_type": "execute_result",
          "data": {
            "text/plain": [
              "{'type': 'Author',\n",
              " 'name': 'Terence Tao',\n",
              " 'affiliation': 'University of California| Los Angeles',\n",
              " 'country': 'United States',\n",
              " 'num_papers': 3,\n",
              " 'num_citations': 25028.0,\n",
              " 'degree': 3}"
            ]
          },
          "metadata": {},
          "execution_count": 12
        }
      ]
    },
    {
      "cell_type": "code",
      "source": [
        "G.nodes[\"10.1002/CPA.20124\"]"
      ],
      "metadata": {
        "colab": {
          "base_uri": "https://localhost:8080/"
        },
        "id": "CplbaNSY7lO5",
        "outputId": "f0d81ef1-a6d8-441d-9852-9a5a50570754"
      },
      "execution_count": 13,
      "outputs": [
        {
          "output_type": "execute_result",
          "data": {
            "text/plain": [
              "{'type': 'Paper',\n",
              " 'title': 'Unknown',\n",
              " 'year': 2005.0,\n",
              " 'num_citations': 6257.0,\n",
              " 'abstract': \"Suppose we wish to recover a vector x_0 Є R^m (e.g., a digital signal or image) from incomplete and contaminated observations y = Ax_0 + e; A is an n by m matrix with far fewer rows than columns (n « m) and e is an error term. Is it possible to recover x_0 accurately based on the data y? \\nTo recover x_0, we consider the solution x^# to the l_(1-)regularization problem min ‖x‖l_1 subject to ‖Ax - y‖l(2) ≤ Є, where Є is the size of the error term e. We show that if A obeys a uniform uncertainty principle (with unit-normed columns) and if the vector x_0 is sufficiently sparse, then the solution is within the noise level ‖x^# - x_0‖l_2 ≤ C Є. As a first example, suppose that A is a Gaussian random matrix; then stable recovery occurs for almost all such A's provided that the number of nonzeros of x_0 is of about the same order as the number of observations. As a second instance, suppose one observes few Fourier samples of x_0; then stable recovery occurs for almost any set of n coefficients provided that the number of nonzeros is of the order of n/[log m]^6. In the case where the error term vanishes, the recovery is of course exact, and this work actually provides novel insights into the exact recovery phenomenon discussed in earlier papers. The methodology also explains why one can also very nearly recover approximately sparse signals.\"}"
            ]
          },
          "metadata": {},
          "execution_count": 13
        }
      ]
    },
    {
      "cell_type": "code",
      "source": [
        "G_terry = get_author_network(G, \"ur.011344733521.27\")"
      ],
      "metadata": {
        "colab": {
          "base_uri": "https://localhost:8080/"
        },
        "id": "DVKRnP_OKhY2",
        "outputId": "215c8f43-e875-44f1-cde5-deec18a27958"
      },
      "execution_count": 14,
      "outputs": [
        {
          "output_type": "stream",
          "name": "stdout",
          "text": [
            "sub_nodes={'ur.0762271037.55', '10.1002/CPA.20124', 'ur.07353444575.53', 'ur.011344733521.27'}\n"
          ]
        }
      ]
    },
    {
      "cell_type": "markdown",
      "metadata": {
        "jp-MarkdownHeadingCollapsed": true,
        "id": "jAvuBFEEszjv"
      },
      "source": [
        "### Step 3: Persist the Graph in ArangoDB"
      ]
    },
    {
      "cell_type": "markdown",
      "metadata": {
        "id": "RvXd6Q--szjv"
      },
      "source": [
        "As in the template, we persist the graph inside ArangoDB.  \n",
        "\n",
        "\n",
        "#### Bad Data Handling\n",
        "I noticed that some of my data is \"bad\" in the sense that there are nan values in some columns.  Tools like networkx and gephi can handle this, but  ArangoDB seems not to like that, and rolls back the whole transaction (seemingly).  Therefore, I clean up by replacing 'country', 'abstract', id, and 'year' with default values when they are nan"
      ]
    },
    {
      "cell_type": "markdown",
      "source": [],
      "metadata": {
        "id": "EgmzrkX-NZD_"
      }
    },
    {
      "cell_type": "code",
      "source": [
        "import math\n",
        "\n",
        "for node, data in G.nodes(data=True):\n",
        "    val = data.get('abstract', None)\n",
        "\n",
        "    if val is None or (isinstance(val, float) and math.isnan(val)):\n",
        "        data['abstract'] = \"\"\n",
        "\n",
        "    countryval = data.get('country', None)\n",
        "\n",
        "    if countryval is None or (isinstance(countryval, float) and math.isnan(countryval)):\n",
        "        data['country'] = \"UNKNOWN\"\n",
        "\n",
        "\n",
        "    year = data.get('year', None)\n",
        "\n",
        "    # For the authors, the year is nan, but just to get past the problem,\n",
        "    # i set it to year 0\n",
        "    if year is None or (isinstance(year, float) and math.isnan(year)):\n",
        "        data['year'] = 0"
      ],
      "metadata": {
        "id": "PuIpPODE0HEF"
      },
      "execution_count": 15,
      "outputs": []
    },
    {
      "cell_type": "code",
      "source": [],
      "metadata": {
        "id": "6VYIY4fY2byE"
      },
      "execution_count": 15,
      "outputs": []
    },
    {
      "cell_type": "code",
      "source": [
        "edge_definitions = [\n",
        "    {\n",
        "        \"edge_collection\": \"written_by\",\n",
        "        \"from_vertex_collections\": [\"Author\"],\n",
        "        \"to_vertex_collections\": [\"Paper\"],\n",
        "    },\n",
        "    {\n",
        "        \"edge_collection\": \"co_author_with\",\n",
        "        \"from_vertex_collections\": [\"Author\"],\n",
        "        \"to_vertex_collections\": [\"Author\"],\n",
        "    }\n",
        "]\n",
        "\n",
        "from adbnx_adapter import ADBNX_Controller, ADBNX_Adapter\n",
        "\n",
        "class Custom_ADBNX_Controller(ADBNX_Controller):\n",
        "    \"\"\"Custom controller to map heterogeneous nodes and edges.\"\"\"\n",
        "\n",
        "    def _identify_networkx_node(self, nx_node_id, nx_node, adb_v_cols):\n",
        "        \"\"\"Determine the correct ArangoDB collection for a given node.\"\"\"\n",
        "        if \"type\" in nx_node:\n",
        "            return nx_node[\"type\"]  # Returns either \"Author\" or \"Paper\"\n",
        "        raise ValueError(f\"Node {nx_node_id} does not have a 'type' attribute.\")\n",
        "\n",
        "    def _identify_networkx_edge(self, nx_edge, from_node_id, to_node_id, nx_map, adb_e_cols):\n",
        "        \"\"\"Determine the correct ArangoDB edge collection based on the 'relation' key.\"\"\"\n",
        "        relation = nx_edge.get(\"relation\", None)\n",
        "        if relation == \"WRITTEN_BY\":\n",
        "            return \"written_by\"\n",
        "        elif relation == \"CO_AUTHOR_WITH\":\n",
        "            return \"co_author_with\"\n",
        "        else:\n",
        "            raise ValueError(f\"Unknown edge relation: {relation}\")\n",
        "\n",
        "    def _keyify_networkx_node(self, i, nx_node_id, nx_node, col):\n",
        "        \"\"\"Generate valid ArangoDB _key values.\"\"\"\n",
        "        key = re.sub(r'[^a-zA-Z0-9_-]', '_', nx_node_id)\n",
        "        return str(key)\n",
        "\n",
        "# Initialize ArangoDB Adapter\n",
        "custom_adbnx_adapter = ADBNX_Adapter(db, Custom_ADBNX_Controller())\n",
        "\n",
        "# Define Graph Name\n",
        "graph_name = \"physics\"\n",
        "\n",
        "# Delete existing graph (optional)\n",
        "db.delete_graph(graph_name, drop_collections=True, ignore_missing=True)\n",
        "\n",
        "# Convert NetworkX Graph to ArangoDB\n",
        "adb_g = custom_adbnx_adapter.networkx_to_arangodb(graph_name, G, edge_definitions)\n",
        "\n",
        "# Verify the graph structure\n",
        "print(db.graph(graph_name).edge_definitions())"
      ],
      "metadata": {
        "colab": {
          "base_uri": "https://localhost:8080/",
          "height": 175,
          "referenced_widgets": [
            "679d9da6b86648efaad49bad0ad6fc7b",
            "9a8381b37c9d410c8d7780cdbb1a6e20",
            "6070538ccf4947e88bb29b7c2bb739d2",
            "bde2410ca0034ce3b77d29dabff899fc"
          ]
        },
        "id": "7ODzkEv5GPS2",
        "outputId": "7eb096df-77b0-4294-a317-93e858a20190"
      },
      "execution_count": 16,
      "outputs": [
        {
          "output_type": "stream",
          "name": "stderr",
          "text": [
            "[2025/03/09 14:04:44 +0000] [41268] [INFO] - adbnx_adapter: Instantiated ADBNX_Adapter with database '_system'\n",
            "INFO:adbnx_adapter:Instantiated ADBNX_Adapter with database '_system'\n"
          ]
        },
        {
          "output_type": "display_data",
          "data": {
            "text/plain": [
              "Output()"
            ],
            "application/vnd.jupyter.widget-view+json": {
              "version_major": 2,
              "version_minor": 0,
              "model_id": "679d9da6b86648efaad49bad0ad6fc7b"
            }
          },
          "metadata": {}
        },
        {
          "output_type": "display_data",
          "data": {
            "text/plain": [],
            "text/html": [
              "<pre style=\"white-space:pre;overflow-x:auto;line-height:normal;font-family:Menlo,'DejaVu Sans Mono',consolas,'Courier New',monospace\"></pre>\n"
            ]
          },
          "metadata": {}
        },
        {
          "output_type": "display_data",
          "data": {
            "text/plain": [
              "Output()"
            ],
            "application/vnd.jupyter.widget-view+json": {
              "version_major": 2,
              "version_minor": 0,
              "model_id": "6070538ccf4947e88bb29b7c2bb739d2"
            }
          },
          "metadata": {}
        },
        {
          "output_type": "display_data",
          "data": {
            "text/plain": [],
            "text/html": [
              "<pre style=\"white-space:pre;overflow-x:auto;line-height:normal;font-family:Menlo,'DejaVu Sans Mono',consolas,'Courier New',monospace\"></pre>\n"
            ]
          },
          "metadata": {}
        },
        {
          "output_type": "stream",
          "name": "stderr",
          "text": [
            "[2025/03/09 14:04:45 +0000] [41268] [INFO] - adbnx_adapter: Created ArangoDB 'physics' Graph\n",
            "INFO:adbnx_adapter:Created ArangoDB 'physics' Graph\n"
          ]
        },
        {
          "output_type": "stream",
          "name": "stdout",
          "text": [
            "[{'edge_collection': 'co_author_with', 'from_vertex_collections': ['Author'], 'to_vertex_collections': ['Author']}, {'edge_collection': 'written_by', 'from_vertex_collections': ['Author'], 'to_vertex_collections': ['Paper']}]\n"
          ]
        }
      ]
    },
    {
      "cell_type": "markdown",
      "source": [
        "#### Abstract Search View\n",
        "ArangoDB is a multi-model database, which means we are able to leverage full-text search on our data in addition to graph queries.  For that, I am creating a \"search view\" to search through the text of the abstracts"
      ],
      "metadata": {
        "id": "eGtg6zHYSPT9"
      }
    },
    {
      "cell_type": "code",
      "source": [
        "# Create ArangoSearch View\n",
        "view_name = \"abstract_search_view\"\n",
        "\n",
        "# If it already exists, delete it\n",
        "try:\n",
        "    db.delete_view(view_name)\n",
        "except:\n",
        "    pass\n",
        "\n",
        "# Create a new ArangoSearch View\n",
        "db.create_view(view_name, view_type=\"arangosearch\", properties={})\n",
        "\n",
        "print(f\"Created ArangoSearch view: {view_name}\")\n"
      ],
      "metadata": {
        "colab": {
          "base_uri": "https://localhost:8080/"
        },
        "id": "5PezfwQDShhy",
        "outputId": "38bc3d83-096e-4145-aee0-5f91722ed00e"
      },
      "execution_count": 17,
      "outputs": [
        {
          "output_type": "stream",
          "name": "stdout",
          "text": [
            "Created ArangoSearch view: abstract_search_view\n"
          ]
        }
      ]
    },
    {
      "cell_type": "code",
      "source": [
        "# Define ArangoSearch properties (indexes for searching)\n",
        "view_properties = {\n",
        "    \"links\": {\n",
        "        \"Paper\": {  # Index Paper collection\n",
        "            \"fields\": {\n",
        "                \"abstract\": {\"analyzers\": [\"text_en\"]}\n",
        "            }\n",
        "        },\n",
        "        \"Author\": {  # Index Author collection\n",
        "            \"fields\": {\n",
        "                \"name\": {\"analyzers\": [\"text_en\"]}\n",
        "            }\n",
        "        }\n",
        "    }\n",
        "}\n",
        "\n",
        "db.update_view(view_name, view_properties)\n"
      ],
      "metadata": {
        "colab": {
          "base_uri": "https://localhost:8080/"
        },
        "id": "-5McNwscU7gy",
        "outputId": "40728cc0-ac11-4603-aa47-9597e1726bad"
      },
      "execution_count": 18,
      "outputs": [
        {
          "output_type": "execute_result",
          "data": {
            "text/plain": [
              "{'global_id': 'hBE61A6883233/186845',\n",
              " 'id': '186845',\n",
              " 'name': 'abstract_search_view',\n",
              " 'type': 'arangosearch',\n",
              " 'cleanup_interval_step': 2,\n",
              " 'commit_interval_msec': 1000,\n",
              " 'consolidation_interval_msec': 1000,\n",
              " 'consolidation_policy': {'type': 'tier',\n",
              "  'segments_min': 1,\n",
              "  'segments_max': 10,\n",
              "  'segments_bytes_max': 5368709120,\n",
              "  'segments_bytes_floor': 2097152,\n",
              "  'min_score': 0},\n",
              " 'primary_sort': [],\n",
              " 'primary_sort_compression': 'lz4',\n",
              " 'stored_values': [],\n",
              " 'writebuffer_idle': 64,\n",
              " 'writebuffer_active': 0,\n",
              " 'writebuffer_max_size': 33554432,\n",
              " 'links': {'Paper': {'analyzers': ['identity'],\n",
              "   'fields': {'abstract': {'analyzers': ['text_en']}},\n",
              "   'includeAllFields': False,\n",
              "   'storeValues': 'none',\n",
              "   'trackListPositions': False},\n",
              "  'Author': {'analyzers': ['identity'],\n",
              "   'fields': {'name': {'analyzers': ['text_en']}},\n",
              "   'includeAllFields': False,\n",
              "   'storeValues': 'none',\n",
              "   'trackListPositions': False}},\n",
              " 'optimizeTopK': []}"
            ]
          },
          "metadata": {},
          "execution_count": 18
        }
      ]
    },
    {
      "cell_type": "markdown",
      "source": [
        "We can add some niceties like stemming and lemmatization to make the searches a bit nicer"
      ],
      "metadata": {
        "id": "Yr4RxiCDYbDO"
      }
    },
    {
      "cell_type": "code",
      "source": [
        "db.create_analyzer(\n",
        "    name=\"stem_en\",\n",
        "    analyzer_type=\"stem\",\n",
        "    properties={ \"locale\": \"en\" },  # English stemming\n",
        "    features=[\"frequency\", \"norm\", \"position\"]  # Required features\n",
        ")"
      ],
      "metadata": {
        "colab": {
          "base_uri": "https://localhost:8080/"
        },
        "id": "SPD_Xd6vYhNA",
        "outputId": "87f72eab-e96c-4ea7-ce7e-2d0774212b78"
      },
      "execution_count": 19,
      "outputs": [
        {
          "output_type": "execute_result",
          "data": {
            "text/plain": [
              "{'name': '_system::stem_en',\n",
              " 'type': 'stem',\n",
              " 'properties': {'locale': 'en'},\n",
              " 'features': ['frequency', 'position', 'norm']}"
            ]
          },
          "metadata": {},
          "execution_count": 19
        }
      ]
    },
    {
      "cell_type": "markdown",
      "source": [
        "#### Author Search View\n",
        "It is useful to allow one to search for authors easily without knowing the exact spelling etc"
      ],
      "metadata": {
        "id": "9VSGzZ_c5Cr3"
      }
    },
    {
      "cell_type": "code",
      "source": [
        "# Create ArangoSearch View\n",
        "view_name = \"author_search_view\"\n",
        "\n",
        "# If it already exists, delete it\n",
        "try:\n",
        "    db.delete_view(view_name)\n",
        "except:\n",
        "    pass\n",
        "\n",
        "# Create a new ArangoSearch View\n",
        "db.create_view(view_name, view_type=\"arangosearch\", properties={})\n",
        "\n",
        "print(f\"Created ArangoSearch view: {view_name}\")"
      ],
      "metadata": {
        "colab": {
          "base_uri": "https://localhost:8080/"
        },
        "id": "EZfc_rpD5U5J",
        "outputId": "d428fe9a-e42b-431f-fe7e-75e7e33bbcab"
      },
      "execution_count": 20,
      "outputs": [
        {
          "output_type": "stream",
          "name": "stdout",
          "text": [
            "Created ArangoSearch view: author_search_view\n"
          ]
        }
      ]
    },
    {
      "cell_type": "markdown",
      "metadata": {
        "id": "rW6u0fBcszjv"
      },
      "source": [
        "We now have the graph inside arangoDB, and can now load it from the db"
      ]
    },
    {
      "cell_type": "code",
      "execution_count": 21,
      "metadata": {
        "id": "O3ThlpALI5G9",
        "colab": {
          "base_uri": "https://localhost:8080/"
        },
        "outputId": "ef861f3e-6a85-479d-8276-8e3ddad95f63"
      },
      "outputs": [
        {
          "output_type": "stream",
          "name": "stderr",
          "text": [
            "[14:04:46 +0000] [INFO]: Graph 'physics' exists.\n",
            "INFO:nx_arangodb:Graph 'physics' exists.\n",
            "[14:04:46 +0000] [INFO]: Default node type set to 'Author'\n",
            "INFO:nx_arangodb:Default node type set to 'Author'\n"
          ]
        },
        {
          "output_type": "stream",
          "name": "stdout",
          "text": [
            "Graph named 'physics' with 2840 nodes and 5484 edges\n"
          ]
        }
      ],
      "source": [
        "# 2. Re-connect to the same Graph\n",
        "\n",
        "G_adb = nxadb.Graph(name=\"physics\", db=db)\n",
        "\n",
        "print(G_adb)"
      ]
    },
    {
      "cell_type": "code",
      "source": [
        "query = \"\"\"\n",
        "WITH Paper\n",
        "FOR doc IN abstract_search_view\n",
        "SEARCH ANALYZER(doc.abstract LIKE \"%quantum%\" OR doc.abstract LIKE \"%relativity%\", \"text_en\")\n",
        "SORT BM25(doc) DESC\n",
        "LIMIT 5\n",
        "RETURN { abstract: doc.abstract }\n",
        "\"\"\"\n",
        "\n",
        "# Execute Query\n",
        "cursor = db.aql.execute(query)\n",
        "\n",
        "# Print results\n",
        "for doc in cursor:\n",
        "    print(doc)\n"
      ],
      "metadata": {
        "colab": {
          "base_uri": "https://localhost:8080/"
        },
        "id": "aAMoUFOAVT5k",
        "outputId": "6c0f6686-dee7-4f3e-e724-1c91aa2f9836"
      },
      "execution_count": 22,
      "outputs": [
        {
          "output_type": "stream",
          "name": "stdout",
          "text": [
            "{'abstract': 'Methods are developed for discussing the photon statistics of arbitrary radiation fields in fully quantummechanical terms. In order to keep the classical limit of quantum electrodynamics plainly in view, extensive use is made of the coherent states of the field. These states, which reduce the field correlation functions to factorized forms, are shown to offer a convenient basis for the description of fields of all types. Although they are not orthogonal to one another, the coherent states form a complete set. It is shown that any quantum state of the field may be expanded in terms of them in a unique way. Expansions are also developed for arbitrary operators in terms of products of the coherent state vectors. These expansions are discussed as a general method of representing the density operator for the field. A particular form is exhibited for the density operator which makes it possible to carry out many quantum- mechanical calculations by methods resembling those of classical theory. This representation permits clear insights into the essential distinction between the quantum and classical descriptions of the field. It leads, in addition, to a simple formulation of a superposition law for photon fields. Detailed discussions are given of themore\\xa0» incoherent fields which are generated by superposing the outputs of many stationary sources. These fields are all shown to have intimately related propenties, some of which have been known for the particular case of blackbody radiation. (auth)«\\xa0less'}\n",
            "{'abstract': 'A general type of fluctuation-dissipation theorem is discussed to show that the physical quantities such as complex susceptibility of magnetic or electric polarization and complex conductivity for electric conduction are rigorously expressed in terms of time-fluctuation of dynamical variables associated with such irreversible processes. This is a generalization of statistical mechanics which affords exact formulation as the basis of calculation of such irreversible quantities from atomistic theory. The general formalism of this statistical-mechanical theory is examined in detail. The response, relaxation, and correlation functions are defined in quantummechanical way and their relations are investigated. The formalism is illustrated by simple examples of magnetic and conduction problems. Certain sum rules are discussed for these examples. Finally it is pointed out that this theory may be looked as a generalization of the Einstein relation.'}\n",
            "{'abstract': 'Electroluminescent (EL)devices are constructed using multilayer organic thin films. The basic structure consists of a hole‐transport layer and a luminescent layer. The hole‐transport layer is an amorphous diamine film in which the only mobile carrier is the hole. The luminescent layer consists of a host material, 8‐hydroxyquinoline aluminum (Alq), which predominantly transports electrons. High radiance has been achieved at an operating voltage of less than 10 V. By doping the Alq layer with highly fluorescent molecules, the EL efficiency has been improved by about a factor of 2 in comparison with the undoped cell. Representative dopants are coumarins and DCMs. The ELquantum efficiency of the doped system is about 2.5%, photon/electron. The EL colors can be readily tuned from the blue‐green to orange‐red by a suitable choice of dopants as well as by changing the concentration of the dopant. In the doped system the electron‐hole recombination and emission zones can be confined to about 50 A near the hole‐transport interface. In the undoped Alq, the EL emission zone is considerably larger due to excitondiffusion. The multilayerdopedEL structure offers a simple means for the direct determination of excitondiffusion length.'}\n",
            "{'abstract': \"Preface Acknowledgement Nomenclature and notation Part I. Fundamental Concepts: 1. Introduction and overview 2. Introduction to quantum mechanics 3. Introduction to computer science Part II. Quantum Computation: 4. Quantum circuits 5. The quantum Fourier transform and its applications 6. Quantum search algorithms 7. Quantum computers: physical realisation Part III. Quantum Information: 8. Quantum noise, open quantum systems, and quantum operations 9. Distance measurement for quantum information 10. Quantum error-correction 11. Entropy and information 12. Quantum information theory Appendix A. Notes on basic probability theory Appendix B. Group theory Appendix C. Approximating quantum gates: the Solvay-Kitaev theorem Appendix D. Number theory Appendix E. Public-key cryptography and the RSA cryptosystem Appendix F. Proof of Lieb's theorem References Index.\"}\n",
            "{'abstract': 'Fundamentals Survey of the Various Approaches Path Integral Description of Open Quantum Systems Imaginary-Time and Real-Time Approaches Influence Functional Method Phenomenological and Microscopic System-Plus-Reservoir Models Linear and Nonlinear Quantum Environments Ohmic, Super-Ohmic, and Sub-Ohmic Dissipation Quantum Decoherence and Relaxation Correlation Functions, Response Functions, and Fluctuation-Dissipation Theorem Damped Quantum Mechanical Harmonic Oscillator Quantum Brownian Motion Thermodynamic Variational Approach and Effective Potential Method Unified Approach to Quantum-Statistical Metastability: From Thermal Activation to Quantum Tunneling Electron Transfer and Incoherent Tunneling Macroscopic Quantum Effects in Josephson Systems Spin-Boson Model and Qubit Dissipative Two-State System: Thermodynamics and Dynamics Single-Charge and Cooper-Pair Tunneling Magnetic and Spin Tunneling Driven Quantum Tunneling Nonequilibrium Quantum Transport Full Counting Statistics Charge Transport in Quantum Impurity Systems Duality and Self-Duality.'}\n"
          ]
        }
      ]
    },
    {
      "cell_type": "markdown",
      "metadata": {
        "jp-MarkdownHeadingCollapsed": true,
        "id": "eQtlbMb0szjx"
      },
      "source": [
        "### Step 4: Build the Agentic App with LangChain & LangGraph"
      ]
    },
    {
      "cell_type": "markdown",
      "metadata": {
        "id": "DGNNDN3sszjx"
      },
      "source": [
        "Here, I finally start building the agentic app.  I'm targetting the following types of questions:\n",
        "\n",
        "\n",
        "- Degree of separation between two authors\n",
        "- Find papers talking about a topic, and see the demographics (country of authors, affiliations of authors, time series of years) and graph statistics about that\n",
        "- Influential Authors\n",
        "- What percentage of research is international?\n",
        "- Predict new collaborations\n",
        "- Network Ranking Fairness\n"
      ]
    },
    {
      "cell_type": "code",
      "execution_count": 23,
      "metadata": {
        "id": "jJlbLFaNszjx"
      },
      "outputs": [],
      "source": [
        "# 1. Create the ArangoGraph LangChain wrapper\n",
        "# Reference: https://api.python.langchain.com/en/latest/graphs/langchain_community.graphs.arangodb_graph.ArangoGraph.html\n",
        "\n",
        "arango_graph = ArangoGraph(db)"
      ]
    },
    {
      "cell_type": "code",
      "execution_count": 24,
      "metadata": {
        "colab": {
          "base_uri": "https://localhost:8080/"
        },
        "id": "AYu0nggFszjx",
        "outputId": "b65d0fc2-78e3-46cd-bfa0-fad4fbd1c6e5"
      },
      "outputs": [
        {
          "output_type": "execute_result",
          "data": {
            "text/plain": [
              "AIMessage(content='Hello! How can I assist you today?', additional_kwargs={'refusal': None}, response_metadata={'token_usage': {'completion_tokens': 10, 'prompt_tokens': 9, 'total_tokens': 19, 'completion_tokens_details': {'accepted_prediction_tokens': 0, 'audio_tokens': 0, 'reasoning_tokens': 0, 'rejected_prediction_tokens': 0}, 'prompt_tokens_details': {'audio_tokens': 0, 'cached_tokens': 0}}, 'model_name': 'gpt-4o-2024-08-06', 'system_fingerprint': 'fp_eb9dce56a8', 'finish_reason': 'stop', 'logprobs': None}, id='run-83c37152-a5a0-449e-ba1e-2aee4b860ea8-0', usage_metadata={'input_tokens': 9, 'output_tokens': 10, 'total_tokens': 19, 'input_token_details': {'audio': 0, 'cache_read': 0}, 'output_token_details': {'audio': 0, 'reasoning': 0}})"
            ]
          },
          "metadata": {},
          "execution_count": 24
        }
      ],
      "source": [
        "# 2. Define the llm object\n",
        "# Note: You can use any llm you want. We will be using OpenAI for example purposes.\n",
        "\n",
        "import os\n",
        "\n",
        "os.environ[\"OPENAI_API_KEY\"] = userdata.get('OPENAI_API_KEY')\n",
        "\n",
        "llm = ChatOpenAI(temperature=0, model_name=\"gpt-4o\")\n",
        "\n",
        "llm.invoke(\"hello!\")"
      ]
    },
    {
      "cell_type": "code",
      "execution_count": 25,
      "metadata": {
        "id": "bsILmx8wszjy"
      },
      "outputs": [],
      "source": [
        "# 4. Define the Text to AQL Tool\n",
        "# Reference: https://python.langchain.com/docs/integrations/graphs/arangodb/\n",
        "# Reference: https://python.langchain.com/api_reference/community/chains/langchain_community.chains.graph_qa.arangodb.ArangoGraphQAChain.html\n",
        "\n",
        "@tool\n",
        "def text_to_aql_to_text(query: str):\n",
        "    \"\"\"This tool is available to invoke the\n",
        "    ArangoGraphQAChain object, which enables you to\n",
        "    translate a Natural Language Query into AQL, execute\n",
        "    the query, and translate the result back into Natural Language.\n",
        "    \"\"\"\n",
        "\n",
        "    llm = ChatOpenAI(temperature=0, model_name=\"gpt-4o\")\n",
        "\n",
        "    chain = ArangoGraphQAChain.from_llm(\n",
        "    \tllm=llm,\n",
        "    \tgraph=arango_graph,\n",
        "    \tverbose=True,\n",
        "        allow_dangerous_requests=True\n",
        "    )\n",
        "\n",
        "    result = chain.invoke(query)\n",
        "\n",
        "    return str(result[\"result\"])"
      ]
    },
    {
      "cell_type": "code",
      "execution_count": 26,
      "metadata": {
        "id": "iVEaoy9gszjy"
      },
      "outputs": [],
      "source": [
        "# 5. Define the Text to NetworkX/cuGraph Tool\n",
        "# Note: It is encouraged to experiment and improve this section! This is just a placeholder:\n",
        "\n",
        "@tool\n",
        "def text_to_nx_algorithm_to_text(query):\n",
        "    \"\"\"This tool is available to invoke a NetworkX Algorithm on\n",
        "    the ArangoDB Graph. You are responsible for accepting the\n",
        "    Natural Language Query, establishing which algorithm needs to\n",
        "    be executed, executing the algorithm, and translating the results back\n",
        "    to Natural Language, with respect to the original query.\n",
        "\n",
        "    If the query (e.g traversals, shortest path, etc.) can be solved using the Arango Query Language, then do not use\n",
        "    this tool.\n",
        "    \"\"\"\n",
        "\n",
        "    llm = ChatOpenAI(temperature=0, model_name=\"gpt-4o\")\n",
        "\n",
        "    ######################\n",
        "    print(\"1) Generating NetworkX code\")\n",
        "\n",
        "    text_to_nx = llm.invoke(f\"\"\"\n",
        "    I have a NetworkX Graph called `G_adb`. It has the following schema: {arango_graph.schema}\n",
        "\n",
        "    I have the following graph analysis query: {query}.\n",
        "\n",
        "    Generate the Python Code required to answer the query using the `G_adb` object.\n",
        "\n",
        "    Be very precise on the NetworkX algorithm you select to answer this query. Think step by step.\n",
        "\n",
        "    Only assume that networkx is installed, and other base python dependencies.\n",
        "\n",
        "    Always set the last variable as `FINAL_RESULT`, which represents the answer to the original query.\n",
        "\n",
        "    Only provide python code that I can directly execute via `exec()`. Do not provide any instructions.\n",
        "\n",
        "    Make sure that `FINAL_RESULT` stores a short & consice answer. Avoid setting this variable to a long sequence.\n",
        "\n",
        "    Your code:\n",
        "    \"\"\").content\n",
        "\n",
        "    text_to_nx_cleaned = re.sub(r\"^```python\\n|```$\", \"\", text_to_nx, flags=re.MULTILINE).strip()\n",
        "\n",
        "    print('-'*10)\n",
        "    print(text_to_nx_cleaned)\n",
        "    print('-'*10)\n",
        "\n",
        "    ######################\n",
        "\n",
        "    print(\"\\n2) Executing NetworkX code\")\n",
        "    global_vars = {\"G_adb\": G_adb, \"nx\": nx}\n",
        "    local_vars = {}\n",
        "\n",
        "    try:\n",
        "        exec(text_to_nx_cleaned, global_vars, local_vars)\n",
        "        text_to_nx_final = text_to_nx\n",
        "    except Exception as e:\n",
        "        print(f\"EXEC ERROR: {e}\")\n",
        "        return f\"EXEC ERROR: {e}\"\n",
        "\n",
        "        # TODO: Consider experimenting with a code corrector!\n",
        "        attempt = 1\n",
        "        MAX_ATTEMPTS = 3\n",
        "\n",
        "        # while attempt <= MAX_ATTEMPTS\n",
        "            # ...\n",
        "\n",
        "    print('-'*10)\n",
        "    FINAL_RESULT = local_vars[\"FINAL_RESULT\"]\n",
        "    print(f\"FINAL_RESULT: {FINAL_RESULT}\")\n",
        "    print('-'*10)\n",
        "\n",
        "    ######################\n",
        "\n",
        "    print(\"3) Formulating final answer\")\n",
        "\n",
        "    nx_to_text = llm.invoke(f\"\"\"\n",
        "        I have a NetworkX Graph called `G_adb`. It has the following schema: {arango_graph.schema}\n",
        "\n",
        "        I have the following graph analysis query: {query}.\n",
        "\n",
        "        I have executed the following python code to help me answer my query:\n",
        "\n",
        "        ---\n",
        "        {text_to_nx_final}\n",
        "        ---\n",
        "\n",
        "        The `FINAL_RESULT` variable is set to the following: {FINAL_RESULT}.\n",
        "\n",
        "        Based on my original Query and FINAL_RESULT, generate a short and concise response to\n",
        "        answer my query.\n",
        "\n",
        "        Your response:\n",
        "    \"\"\").content\n",
        "\n",
        "    return nx_to_text"
      ]
    },
    {
      "cell_type": "markdown",
      "source": [
        "*Find the Distance Between Two Authors*\n"
      ],
      "metadata": {
        "id": "pFmTda3nwsDy"
      }
    },
    {
      "cell_type": "code",
      "source": [
        "from langchain.tools import StructuredTool\n",
        "from langchain.chat_models import ChatOpenAI\n",
        "from pydantic import BaseModel, Field\n",
        "from langchain.prompts import PromptTemplate\n",
        "from langchain.chains import LLMChain\n",
        "\n",
        "# Define the input schema\n",
        "class NameVariationInput(BaseModel):\n",
        "    name: str = Field(description=\"The full name of the author (e.g., 'Stephen Hawking')\")\n",
        "\n",
        "# Define LLM and prompt for generating variations\n",
        "llm = ChatOpenAI(temperature=0, model_name=\"gpt-4o\")\n",
        "\n",
        "name_variation_prompt = PromptTemplate(\n",
        "    input_variables=[\"name\"],\n",
        "    template=\"\"\"\n",
        "    Given the scientist's name \"{name}\", generate possible variations including:\n",
        "    - The originally input name\n",
        "    - Full name (if known)\n",
        "    - Name with middle initials\n",
        "    - Name with the first and middle names only as initials with and without a dot\n",
        "    - Shortened first names (e.g., \"Alex\" for \"Alexander\")\n",
        "    - Common abbreviations and spellings\n",
        "    - Variations where the last name might have spacing issues (e.g., \"De Witt\" vs \"DeWitt\")\n",
        "    - Variations where the name may contain punctuation marks (e.g., \"O'hara\")\n",
        "    - For East Asian names, try variations where the given name is before or after the family name\n",
        "\n",
        "    If you know who the scientist is, you can also try variations that include their full middle name and initials.\n",
        "\n",
        "    DO NOT RETURN MORE THAN 10 VARIATIONS!\n",
        "\n",
        "    Only return a **comma-separated list** of name variations.\n",
        "    \"\"\"\n",
        ")\n",
        "\n",
        "name_chain = LLMChain(llm=llm, prompt=name_variation_prompt)\n",
        "\n",
        "# Function to call LLM for name variations\n",
        "def generate_name_variations(name: str):\n",
        "    result = name_chain.run(name)\n",
        "    return result.split(\", \")\n",
        "\n",
        "# Define LangChain Tool\n",
        "name_variation_tool = StructuredTool(\n",
        "    name=\"GenerateNameVariations\",\n",
        "    func=generate_name_variations,\n",
        "    description=\"Generates possible variations of a researcher's name to improve search accuracy.\",\n",
        "    args_schema=NameVariationInput\n",
        ")\n"
      ],
      "metadata": {
        "colab": {
          "base_uri": "https://localhost:8080/"
        },
        "id": "vsFz5bHzxNa7",
        "outputId": "0d110c6c-f2dc-4ab4-de17-d33f40c311d0"
      },
      "execution_count": 27,
      "outputs": [
        {
          "output_type": "stream",
          "name": "stderr",
          "text": [
            "<ipython-input-27-f4855dc0fd12>:12: LangChainDeprecationWarning:\n",
            "\n",
            "The class `ChatOpenAI` was deprecated in LangChain 0.0.10 and will be removed in 1.0. An updated version of the class exists in the :class:`~langchain-openai package and should be used instead. To use it run `pip install -U :class:`~langchain-openai` and import as `from :class:`~langchain_openai import ChatOpenAI``.\n",
            "\n",
            "<ipython-input-27-f4855dc0fd12>:36: LangChainDeprecationWarning:\n",
            "\n",
            "The class `LLMChain` was deprecated in LangChain 0.1.17 and will be removed in 1.0. Use :meth:`~RunnableSequence, e.g., `prompt | llm`` instead.\n",
            "\n"
          ]
        }
      ]
    },
    {
      "cell_type": "code",
      "source": [
        "class FindAuthorIDInput(BaseModel):\n",
        "    name_variations: list[str] = Field(description=\"A list of possible author name variations\")\n",
        "\n",
        "def get_best_author_id(name_variations):\n",
        "    if not name_variations:\n",
        "        return None\n",
        "\n",
        "    # Build the OR clauses, making both sides lowercase:\n",
        "    #   LOWER(doc.name) LIKE CONCAT(\"%\", LOWER(@var0), \"%\") OR ...\n",
        "    filter_clauses = \" OR \".join(\n",
        "        f'LOWER(doc.name) LIKE CONCAT(\"%\", LOWER(@var{i}), \"%\")'\n",
        "        for i in range(len(name_variations))\n",
        "    )\n",
        "\n",
        "    query = f\"\"\"\n",
        "    FOR doc IN Author\n",
        "        FILTER {filter_clauses}\n",
        "        LIMIT 1\n",
        "        RETURN {{ name: doc.name, id: doc._id }}\n",
        "    \"\"\"\n",
        "\n",
        "    # Bind parameters\n",
        "    bind_vars = {f\"var{i}\": v for i, v in enumerate(name_variations)}\n",
        "\n",
        "    result = list(db.aql.execute(query, bind_vars=bind_vars))\n",
        "    return result[0] if result else None\n",
        "\n",
        "\n",
        "# Define LangChain Tool\n",
        "author_id_tool = StructuredTool(\n",
        "    name=\"FindAuthorID\",\n",
        "    func=get_best_author_id,\n",
        "    description=\"Finds an author's ID in the ArangoDB database using multiple name variations.\",\n",
        "    args_schema=FindAuthorIDInput\n",
        ")"
      ],
      "metadata": {
        "id": "LhTxzLAxx-8a"
      },
      "execution_count": 28,
      "outputs": []
    },
    {
      "cell_type": "code",
      "source": [
        "import networkx as nx\n",
        "\n",
        "class FindAuthorDistanceInput(BaseModel):\n",
        "    author1_id: str = Field(description=\"The ID of the first author\")\n",
        "    author2_id: str = Field(description=\"The ID of the second author\")\n",
        "\n",
        "def shortest_path_between_authors(author1_id: str, author2_id: str):\n",
        "    if nx.has_path(G_adb, author1_id, author2_id):\n",
        "        path = nx.shortest_path(G_adb, source=author1_id, target=author2_id)\n",
        "        return f\"Degrees of separation: {len(path)-1}\\nPath: {' → '.join(path)}\"\n",
        "    else:\n",
        "        return \"No connection found between these authors.\"\n",
        "\n",
        "# Define LangChain Tool\n",
        "distance_tool = StructuredTool(\n",
        "    name=\"FindAuthorDistance\",\n",
        "    func=shortest_path_between_authors,\n",
        "    description=\"Finds the shortest path (degrees of separation) between two researchers based on co-authorship.\",\n",
        "    args_schema=FindAuthorDistanceInput\n",
        ")\n"
      ],
      "metadata": {
        "id": "wnHTO9RTydja"
      },
      "execution_count": 29,
      "outputs": []
    },
    {
      "cell_type": "code",
      "source": [
        "from langchain.chat_models import ChatOpenAI\n",
        "from langchain.agents import initialize_agent, AgentType\n",
        "from langchain.prompts import PromptTemplate\n",
        "\n",
        "# Register tools\n",
        "tools = [name_variation_tool, author_id_tool, distance_tool]\n",
        "\n",
        "# Custom decision-making prompt\n",
        "custom_prompt = PromptTemplate(\n",
        "    input_variables=[\"input\", \"agent_scratchpad\"],\n",
        "    template=\"\"\"\n",
        "    You are an AI assistant specializing in academic research networks.\n",
        "    You have access to a **graph database** and **graph algorithms**.\n",
        "\n",
        "    **Available Tools:**\n",
        "    1. **GenerateNameVariations(name)** → Generates name variations for better author search.\n",
        "    2. **FindAuthorID(name_variations)** → Finds an author's ID in ArangoDB.\n",
        "    3. **FindAuthorDistance(author1_id, author2_id)** → Finds the degrees of separation between two authors.\n",
        "\n",
        "    **Decision Rules:**\n",
        "    - If the user asks for **\"distance between X and Y\"**:\n",
        "      1. Call **GenerateNameVariations(X)**\n",
        "      2. Call **GenerateNameVariations(Y)**\n",
        "      3. Call **FindAuthorID(name_variations) for X and Y**\n",
        "      4. Call **FindAuthorDistance(author1_id, author2_id)**\n",
        "\n",
        "    **Your Approach:**\n",
        "    1. **Identify** the best tool sequence.\n",
        "    2. **Extract parameters** (author names).\n",
        "    3. **Call the tools in the correct order**.\n",
        "    4. **Format a clear response** for the user.\n",
        "\n",
        "    User Query: {input}\n",
        "\n",
        "    {agent_scratchpad}\n",
        "    \"\"\"\n",
        ")\n",
        "\n",
        "def query_graph(query):\n",
        "    llm = ChatOpenAI(temperature=0, model_name=\"gpt-4o\")\n",
        "\n",
        "    agent = initialize_agent(\n",
        "        tools=tools,\n",
        "        llm=llm,\n",
        "        agent=AgentType.STRUCTURED_CHAT_ZERO_SHOT_REACT_DESCRIPTION,\n",
        "        verbose=True,\n",
        "        agent_kwargs={\"prompt\": custom_prompt},\n",
        "        return_intermediate_steps=True\n",
        "    )\n",
        "\n",
        "    # Invoke the agent\n",
        "    response = agent.invoke({\"input\": query})\n",
        "    return response[\"output\"]\n"
      ],
      "metadata": {
        "id": "lbJv-YYxy-xH"
      },
      "execution_count": 30,
      "outputs": []
    },
    {
      "cell_type": "code",
      "source": [
        "query_graph(\"What is the distance between Edward Witten and Terence Tao?\")"
      ],
      "metadata": {
        "colab": {
          "base_uri": "https://localhost:8080/",
          "height": 1000
        },
        "id": "wbWMS7B_zZdo",
        "outputId": "6e8e5057-88ce-4ac3-a77c-127e25f68162"
      },
      "execution_count": 31,
      "outputs": [
        {
          "output_type": "stream",
          "name": "stderr",
          "text": [
            "<ipython-input-30-f8b3be05fa7b>:42: LangChainDeprecationWarning:\n",
            "\n",
            "LangChain agents will continue to be supported, but it is recommended for new use cases to be built with LangGraph. LangGraph offers a more flexible and full-featured framework for building agents, including support for tool-calling, persistence of state, and human-in-the-loop workflows. For details, refer to the `LangGraph documentation <https://langchain-ai.github.io/langgraph/>`_ as well as guides for `Migrating from AgentExecutor <https://python.langchain.com/docs/how_to/migrate_agent/>`_ and LangGraph's `Pre-built ReAct agent <https://langchain-ai.github.io/langgraph/how-tos/create-react-agent/>`_.\n",
            "\n"
          ]
        },
        {
          "output_type": "stream",
          "name": "stdout",
          "text": [
            "\n",
            "\n",
            "\u001b[1m> Entering new AgentExecutor chain...\u001b[0m\n",
            "\u001b[32;1m\u001b[1;3mThought: To find the distance between Edward Witten and Terence Tao, I need to first generate possible name variations for both researchers, find their author IDs, and then calculate the distance between them.\n",
            "Action:\n",
            "```\n",
            "{\n",
            "  \"action\": \"GenerateNameVariations\",\n",
            "  \"action_input\": {\n",
            "    \"name\": \"Edward Witten\"\n",
            "  }\n",
            "}\n",
            "```\u001b[0m"
          ]
        },
        {
          "output_type": "stream",
          "name": "stderr",
          "text": [
            "<ipython-input-27-f4855dc0fd12>:40: LangChainDeprecationWarning:\n",
            "\n",
            "The method `Chain.run` was deprecated in langchain 0.1.0 and will be removed in 1.0. Use :meth:`~invoke` instead.\n",
            "\n"
          ]
        },
        {
          "output_type": "stream",
          "name": "stdout",
          "text": [
            "\n",
            "Observation: \u001b[36;1m\u001b[1;3m['Edward Witten', 'Edward J. Witten', 'E. J. Witten', 'E J Witten', 'Ed Witten', 'Edward W. Witten', 'E. Witten', 'Ed W. Witten', 'Edward Witten', 'Edward J Witten']\u001b[0m\n",
            "Thought:\u001b[32;1m\u001b[1;3mTo continue finding the distance between Edward Witten and Terence Tao, I will now generate name variations for Terence Tao.\n",
            "\n",
            "Action:\n",
            "```\n",
            "{\n",
            "  \"action\": \"GenerateNameVariations\",\n",
            "  \"action_input\": {\n",
            "    \"name\": \"Terence Tao\"\n",
            "  }\n",
            "}\n",
            "```\u001b[0m\n",
            "Observation: \u001b[36;1m\u001b[1;3m['Terence Tao', 'Terence Chi-Shen Tao', 'T. C. Tao', 'T C Tao', 'T. Tao', 'Terence C. Tao', 'Terry Tao', 'Terence C.-S. Tao', 'Tao Terence', 'Tao T.']\u001b[0m\n",
            "Thought:\u001b[32;1m\u001b[1;3mQuestion: To find the distance between Edward Witten and Terence Tao, I need to find their author IDs using the generated name variations.\n",
            "Thought: I need to find the author IDs for both Edward Witten and Terence Tao using their name variations.\n",
            "Action:\n",
            "```\n",
            "{\n",
            "  \"action\": \"FindAuthorID\",\n",
            "  \"action_input\": {\n",
            "    \"name_variations\": [\"Edward Witten\", \"Edward J. Witten\", \"E. J. Witten\", \"E J Witten\", \"Ed Witten\", \"Edward W. Witten\", \"E. Witten\", \"Ed W. Witten\", \"Edward Witten\", \"Edward J Witten\"]\n",
            "  }\n",
            "}\n",
            "```\u001b[0m\n",
            "Observation: \u001b[33;1m\u001b[1;3m{'name': 'Edward Witten', 'id': 'Author/ur_016240210261_17'}\u001b[0m\n",
            "Thought:\u001b[32;1m\u001b[1;3mTo continue finding the distance between Edward Witten and Terence Tao, I need to find the author ID for Terence Tao using the generated name variations.\n",
            "\n",
            "Action:\n",
            "```\n",
            "{\n",
            "  \"action\": \"FindAuthorID\",\n",
            "  \"action_input\": {\n",
            "    \"name_variations\": [\"Terence Tao\", \"Terence Chi-Shen Tao\", \"T. C. Tao\", \"T C Tao\", \"T. Tao\", \"Terence C. Tao\", \"Terry Tao\", \"Terence C.-S. Tao\", \"Tao Terence\", \"Tao T.\"]\n",
            "  }\n",
            "}\n",
            "```\n",
            "\u001b[0m\n",
            "Observation: \u001b[33;1m\u001b[1;3m{'name': 'Terence Tao', 'id': 'Author/ur_011344733521_27'}\u001b[0m\n",
            "Thought:\u001b[32;1m\u001b[1;3mTo find the distance between Edward Witten and Terence Tao, I now have their author IDs. I will proceed to calculate the shortest path between them based on co-authorship.\n",
            "\n",
            "Action:\n",
            "```\n",
            "{\n",
            "  \"action\": \"FindAuthorDistance\",\n",
            "  \"action_input\": {\n",
            "    \"author1_id\": \"Author/ur_016240210261_17\",\n",
            "    \"author2_id\": \"Author/ur_011344733521_27\"\n",
            "  }\n",
            "}\n",
            "```\u001b[0m"
          ]
        },
        {
          "output_type": "stream",
          "name": "stderr",
          "text": [
            "[14:05:05 +0000] [INFO]: Graph 'physics' load took 0.9547224044799805s\n",
            "INFO:nx_arangodb:Graph 'physics' load took 0.9547224044799805s\n",
            "[14:05:05 +0000] [INFO]: NXCG Graph construction took 0.31113290786743164s\n",
            "INFO:nx_arangodb:NXCG Graph construction took 0.31113290786743164s\n"
          ]
        },
        {
          "output_type": "stream",
          "name": "stdout",
          "text": [
            "\n",
            "Observation: \u001b[38;5;200m\u001b[1;3mNo connection found between these authors.\u001b[0m\n",
            "Thought:\u001b[32;1m\u001b[1;3mIt seems there is no direct co-authorship connection between Edward Witten and Terence Tao in the database. This means they have not collaborated on a paper together, nor is there a known chain of co-authors linking them within the data available. If you have any other questions or need further assistance, feel free to ask!\u001b[0m\n",
            "\n",
            "\u001b[1m> Finished chain.\u001b[0m\n"
          ]
        },
        {
          "output_type": "execute_result",
          "data": {
            "text/plain": [
              "'It seems there is no direct co-authorship connection between Edward Witten and Terence Tao in the database. This means they have not collaborated on a paper together, nor is there a known chain of co-authors linking them within the data available. If you have any other questions or need further assistance, feel free to ask!'"
            ],
            "application/vnd.google.colaboratory.intrinsic+json": {
              "type": "string"
            }
          },
          "metadata": {},
          "execution_count": 31
        }
      ]
    },
    {
      "cell_type": "markdown",
      "source": [
        "*Get Stats about a Topic*\n",
        "We allow the user to input some physics-related topic, and then search our abstracts for that topic.  If we find it, we get the following information about the papers:\n",
        "- Who worked on these topics\n",
        "- Where in the world these authors are\n",
        "- What are their affiliations\n",
        "- What are the trends for this topic over time\n",
        "- How influential are the authors who worked on this topic"
      ],
      "metadata": {
        "id": "LRDLCV0TFyPs"
      }
    },
    {
      "cell_type": "code",
      "source": [
        "from langchain.tools import StructuredTool\n",
        "from langchain.chat_models import ChatOpenAI\n",
        "from langchain.agents import initialize_agent, AgentType\n",
        "import networkx as nx\n",
        "import matplotlib.pyplot as plt\n",
        "import pandas as pd\n",
        "import geopandas as gpd\n",
        "import plotly.express as px\n",
        "\n",
        "WORLD_MAP_URL = \"https://naturalearth.s3.amazonaws.com/110m_cultural/ne_110m_admin_0_countries.zip\"\n",
        "world = gpd.read_file(WORLD_MAP_URL)\n",
        "\n",
        "\n",
        "# Tool: Search Papers Based on Topic\n",
        "def search_papers(search_term: str):\n",
        "    \"\"\"\n",
        "    Finds papers matching a research topic using full-text search in ArangoDB.\n",
        "    \"\"\"\n",
        "    query = \"\"\"\n",
        "    WITH Paper\n",
        "    FOR doc IN abstract_search_view\n",
        "    SEARCH ANALYZER(\n",
        "        LIKE(doc.abstract, @search_term),\n",
        "        \"text_en\"\n",
        "    )\n",
        "    RETURN { id: doc._id, title: doc.title, year: doc.year }\n",
        "    \"\"\"\n",
        "\n",
        "    results = list(db.aql.execute(query, bind_vars={\"search_term\": f\"%{search_term}%\"}))\n",
        "    return results\n",
        "\n",
        "\n",
        "# Tool: Find Authors of Those Papers\n",
        "def get_authors_for_papers(paper_ids):\n",
        "    \"\"\"\n",
        "    Finds authors of the given papers and their demographics.\n",
        "    \"\"\"\n",
        "    query = \"\"\"\n",
        "    WITH written_by, Author\n",
        "    FOR e IN written_by\n",
        "    FILTER e._from IN @paper_ids\n",
        "    FOR a IN Author\n",
        "    FILTER a._id == e._to\n",
        "    RETURN { name: a.name, country: a.country, affiliation: a.affiliation, paper_id: e._from }\n",
        "\n",
        "    \"\"\"\n",
        "    results = list(db.aql.execute(query, bind_vars={\"paper_ids\": paper_ids}))\n",
        "    return results\n",
        "\n",
        "\n",
        "def generate_plots(author_data, paper_data):\n",
        "    \"\"\"\n",
        "    Creates interactive Plotly plots for:\n",
        "    1. Country distribution (Choropleth Map)\n",
        "    2. Top affiliations (Bar Chart)\n",
        "    3. Yearly publication trends (Time Series) - Now using paper data\n",
        "    \"\"\"\n",
        "\n",
        "    df_authors = pd.DataFrame(author_data)\n",
        "    df_papers = pd.DataFrame(paper_data)\n",
        "\n",
        "    ## 🌍 **World Map (Choropleth) - Country Distribution**\n",
        "    country_counts = df_authors[\"country\"].value_counts().reset_index()\n",
        "    country_counts.columns = [\"country\", \"count\"]  # Rename columns correctly\n",
        "\n",
        "    fig1 = px.choropleth(\n",
        "        country_counts,\n",
        "        locations=\"country\",\n",
        "        locationmode=\"country names\",\n",
        "        color=\"count\",\n",
        "        title=\"Researcher Distribution by Country\",\n",
        "        color_continuous_scale=\"Blues\"\n",
        "    )\n",
        "\n",
        "    ## 📊 **Bar Chart - Top 10 Affiliations**\n",
        "    affiliation_counts = df_authors[\"affiliation\"].value_counts().nlargest(10).reset_index()\n",
        "    affiliation_counts.columns = [\"affiliation\", \"count\"]\n",
        "\n",
        "    fig2 = px.bar(\n",
        "        affiliation_counts,\n",
        "        x=\"affiliation\",\n",
        "        y=\"count\",\n",
        "        labels={\"affiliation\": \"Institution\", \"count\": \"Number of Researchers\"},\n",
        "        title=\"Top 10 Research Institutions\"\n",
        "    )\n",
        "\n",
        "    ## 📈 **Time Series - Yearly Publication Trends (Using Paper Data)**\n",
        "    year_counts = df_papers[\"year\"].value_counts().sort_index().reset_index()\n",
        "    year_counts.columns = [\"year\", \"count\"]  # Fix column naming\n",
        "\n",
        "    fig3 = px.line(\n",
        "        year_counts,\n",
        "        x=\"year\",\n",
        "        y=\"count\",\n",
        "        labels={\"year\": \"Year\", \"count\": \"Papers Published\"},\n",
        "        title=\"Yearly Publication Trends\"\n",
        "    )\n",
        "\n",
        "    # ✅ Show plots\n",
        "    # fig1.show()\n",
        "    # fig2.show()\n",
        "    # fig3.show()\n",
        "\n",
        "    # Return the JSON representations of the plots\n",
        "    return {\n",
        "        \"plots\": {\n",
        "            \"world_map\": fig1.to_json(),\n",
        "            \"affiliations\": fig2.to_json(),\n",
        "            \"yearly_trends\": fig3.to_json()\n",
        "        }\n",
        "    }"
      ],
      "metadata": {
        "id": "pcMA4l27LoeA"
      },
      "execution_count": 32,
      "outputs": []
    },
    {
      "cell_type": "code",
      "source": [
        "from langchain_core.output_parsers.json import JsonOutputParser\n",
        "from langchain.output_parsers.fix import OutputFixingParser"
      ],
      "metadata": {
        "id": "Bf-reZ63-hOh"
      },
      "execution_count": 33,
      "outputs": []
    },
    {
      "cell_type": "code",
      "source": [
        "from typing import List, Dict\n",
        "import json\n",
        "\n",
        "class SearchPapersInput(BaseModel):\n",
        "    search_term: str\n",
        "\n",
        "class GetAuthorsForPapersInput(BaseModel):\n",
        "    paper_ids: List[str]\n",
        "\n",
        "class GeneratePlotsInput(BaseModel):\n",
        "    author_data: List[Dict]\n",
        "    paper_data: List[Dict]\n",
        "\n",
        "tools = [\n",
        "    StructuredTool(\n",
        "        name=\"SearchPapers\",\n",
        "        func=search_papers,\n",
        "        description=\"Finds research papers matching a given topic.\",\n",
        "        args_schema=SearchPapersInput\n",
        "    ),\n",
        "    StructuredTool(\n",
        "        name=\"GetAuthorsForPapers\",\n",
        "        func=get_authors_for_papers,\n",
        "        description=\"Finds the authors of a given set of papers.\",\n",
        "        args_schema=GetAuthorsForPapersInput\n",
        "    ),\n",
        "    StructuredTool(\n",
        "        name=\"GeneratePlots\",\n",
        "        func=generate_plots,\n",
        "        description=\"Generates demographic visualizations for a given research field.\",\n",
        "        args_schema=GeneratePlotsInput\n",
        "    ),\n",
        "]\n",
        "\n",
        "parser = JsonOutputParser()\n",
        "\n",
        "custom_prompt = PromptTemplate(\n",
        "    input_variables=[\"input\", \"agent_scratchpad\"],\n",
        "    template=\"\"\"\n",
        "    You are an AI research assistant with access to a **scientific knowledge graph**.\n",
        "\n",
        "\n",
        "    **Available Tools:**\n",
        "    1️ **SearchPapers(topic)** → Finds papers matching a research topic.\n",
        "    2️ **GetAuthorsForPapers(paper_ids)** → Finds authors of those papers.\n",
        "    4️ **GeneratePlots(author_data, papers_data)** → Creates demographics & trend visualizations.\n",
        "\n",
        "    **How to Answer:**\n",
        "    - If the user asks for **\"papers on X\"**, call `SearchPapers(X)`.\n",
        "    - If the user asks **\"who are the researchers in X\"**, call `GetAuthorsForPapers(paper_ids)`.\n",
        "    - If the user asks **\"which authors are most influential?\"**, call `AnalyzeAuthorNetwork(authors)`.\n",
        "    - If the user asks **\"show me trends\"**, call `GeneratePlots(author_data, papers_data)`.\n",
        "    - If the user asks **\"make me a dashboard for X\"**, call `GeneratePlots(author_data, papers_data)`.\n",
        "\n",
        "    **Output format:**\n",
        "    ALWAYS return a valid JSON object. DO NOT explain the output.\n",
        "\n",
        "    ```json\n",
        "    {{\n",
        "        \"country_plot\": \"...\",  // JSON from Plotly\n",
        "        \"affiliation_plot\": \"...\",\n",
        "        \"yearly_plot\": \"...\"\n",
        "    }}\n",
        "    ```\n",
        "\n",
        "\n",
        "    **User Query:** {input}\n",
        "\n",
        "    {agent_scratchpad}\n",
        "    \"\"\"\n",
        ")\n",
        "\n",
        "def query_topic(query):\n",
        "    llm = ChatOpenAI(temperature=0, model_name=\"gpt-4o\", verbose=False)\n",
        "\n",
        "    agent = initialize_agent(\n",
        "        tools=tools,\n",
        "        llm=llm,\n",
        "        agent=AgentType.STRUCTURED_CHAT_ZERO_SHOT_REACT_DESCRIPTION,\n",
        "        verbose=False,\n",
        "        agent_kwargs={\"prompt\": custom_prompt},\n",
        "        return_intermediate_steps=True\n",
        "    )\n",
        "\n",
        "    response = agent.invoke({\"input\": query}, output_parser=parser)\n",
        "\n",
        "    # DEBUG\n",
        "    print(f\"{response=}\")\n",
        "\n",
        "    return response"
      ],
      "metadata": {
        "id": "_PrqPQ3nOZQ7"
      },
      "execution_count": 34,
      "outputs": []
    },
    {
      "cell_type": "code",
      "source": [
        "captured_response = query_topic(\"Make me a dashboard for quantum\")"
      ],
      "metadata": {
        "colab": {
          "base_uri": "https://localhost:8080/"
        },
        "id": "R0P2oaoDPtAj",
        "outputId": "6da72dfd-1813-453f-b509-293c6004740c"
      },
      "execution_count": 35,
      "outputs": [
        {
          "output_type": "stream",
          "name": "stdout",
          "text": [
            "response={'input': 'Make me a dashboard for quantum', 'output': 'The dashboard for quantum research has been successfully created. It includes the following visualizations:\\n\\n1. **World Map of Researcher Distribution**: This map shows the distribution of researchers by country, highlighting the countries with the most researchers in the field of quantum studies.\\n\\n2. **Top 10 Research Institutions**: A bar chart displaying the top 10 institutions with the highest number of researchers contributing to quantum research.\\n\\n3. **Yearly Publication Trends**: A line chart illustrating the number of quantum research papers published over the years, providing insights into trends and growth in the field.\\n\\nIf you need further details or specific visualizations, feel free to ask!', 'intermediate_steps': [(AgentAction(tool='SearchPapers', tool_input={'search_term': 'quantum'}, log='To create a dashboard for quantum research, I need to gather data on recent research papers and their authors in the field of quantum studies. This will allow me to generate demographic visualizations. Let\\'s start by searching for relevant research papers.\\n\\nAction:\\n```\\n{\\n  \"action\": \"SearchPapers\",\\n  \"action_input\": {\\n    \"search_term\": \"quantum\"\\n  }\\n}\\n```'), [{'id': 'Paper/10_1038_NMAT1849', 'title': 'Unknown', 'year': 2007}, {'id': 'Paper/10_1103_PHYSREVB_47_558', 'title': 'Unknown', 'year': 1993}, {'id': 'Paper/10_2307_2938686', 'title': 'Unknown', 'year': 1988}, {'id': 'Paper/10_1103_RevModPhys_81_109', 'title': 'Unknown', 'year': 2009}, {'id': 'Paper/10_1038_nature04233', 'title': 'Unknown', 'year': 2005}, {'id': 'Paper/10_1119_1_1463744', 'title': 'Unknown', 'year': 2000}, {'id': 'Paper/10_4324_9780203211595', 'title': 'Unknown', 'year': 1985}, {'id': 'Paper/10_1103_PHYSREV_47_777', 'title': 'Unknown', 'year': 1935}, {'id': 'Paper/10_1038_nature04235', 'title': 'Unknown', 'year': 2005}, {'id': 'Paper/10_1126_science_1158877', 'title': 'Unknown', 'year': 2009}, {'id': 'Paper/10_1103_RevModPhys_82_3045', 'title': 'Unknown', 'year': 2010}, {'id': 'Paper/10_2307_3611130', 'title': 'Unknown', 'year': 1937}, {'id': 'Paper/10_1103_PHYSREVLETT_70_1895', 'title': 'Unknown', 'year': 1993}, {'id': 'Paper/10_1103_PhysRevLett_105_136805', 'title': 'Unknown', 'year': 2010}, {'id': 'Paper/10_1021_ar50107a003', 'title': 'Unknown', 'year': 1986}, {'id': 'Paper/10_1142_9789812790903_0002', 'title': 'Unknown', 'year': 1956}, {'id': 'Paper/10_1063_1_2915453', 'title': 'Unknown', 'year': 1982}, {'id': 'Paper/10_1063_1_103561', 'title': 'Unknown', 'year': 1990}, {'id': 'Paper/10_1119_1_18450', 'title': 'Unknown', 'year': 1995}, {'id': 'Paper/10_1137_S0097539795293172', 'title': 'Unknown', 'year': 1999}, {'id': 'Paper/10_1038_35570', 'title': 'Unknown', 'year': 1998}, {'id': 'Paper/10_1103_PHYSREV_109_1492', 'title': 'Unknown', 'year': 1958}, {'id': 'Paper/10_1103_REVMODPHYS_64_1045', 'title': 'Unknown', 'year': 1992}, {'id': 'Paper/10_2307_3610674', 'title': 'Unknown', 'year': 1958}, {'id': 'Paper/10_1063_1_2915501', 'title': 'Unknown', 'year': 1981}, {'id': 'Paper/10_1103_RevModPhys_83_1057', 'title': 'Unknown', 'year': 2011}, {'id': 'Paper/10_1007_BF02345020', 'title': 'Unknown', 'year': 1975}, {'id': 'Paper/10_1126_science_1156965', 'title': 'Unknown', 'year': 2008}, {'id': 'Paper/10_1038_nmat1967', 'title': 'Unknown', 'year': 2007}, {'id': 'Paper/10_1143_JPSJ_12_570', 'title': 'Unknown', 'year': 1957}, {'id': 'Paper/10_1103_PHYSICSPHYSIQUEFIZIKA_1_195', 'title': 'Unknown', 'year': 1964}, {'id': 'Paper/10_1103_PHYSREV_40_749', 'title': 'Unknown', 'year': 1932}, {'id': 'Paper/10_1103_PhysRevLett_80_2245', 'title': 'Unknown', 'year': 1998}, {'id': 'Paper/10_2307_3610250', 'title': 'Unknown', 'year': 1957}, {'id': 'Paper/10_1126_science_269_5221_198', 'title': 'Unknown', 'year': 1995}, {'id': 'Paper/10_5860_choice_26-6270', 'title': 'Unknown', 'year': 1989}, {'id': 'Paper/10_1103_PHYSREVLETT_23_880', 'title': 'Unknown', 'year': 1969}, {'id': 'Paper/10_1063_1_2811094', 'title': 'Unknown', 'year': 1987}, {'id': 'Paper/10_1145_237814_237866', 'title': 'Unknown', 'year': 1996}, {'id': 'Paper/10_1016_S0370-2693_98_00466-3', 'title': 'Unknown', 'year': 1998}, {'id': 'Paper/10_1103_PHYSREVLETT_52_997', 'title': 'Unknown', 'year': 1984}, {'id': 'Paper/10_1007_978-1-4757-5714-9', 'title': 'Unknown', 'year': 1981}, {'id': 'Paper/10_1103_PhysRevA_57_120', 'title': 'Unknown', 'year': 1998}, {'id': 'Paper/10_1103_PHYSREV_115_485', 'title': 'Unknown', 'year': 1959}, {'id': 'Paper/10_1007_BF00330083', 'title': 'Unknown', 'year': 1963}, {'id': 'Paper/10_2307_j_ctt1wq8zhp', 'title': 'Unknown', 'year': 1955}, {'id': 'Paper/10_1103_PHYSREV_131_2766', 'title': 'Unknown', 'year': 1963}, {'id': 'Paper/10_1063_1_2807734', 'title': 'Unknown', 'year': 1995}, {'id': 'Paper/10_1016_0370-2693_80_90670-X', 'title': 'Unknown', 'year': 1980}, {'id': 'Paper/10_1016_j_tcs_2014_05_025', 'title': 'Unknown', 'year': 2014}, {'id': 'Paper/10_1103_REVMODPHYS_65_413', 'title': 'Unknown', 'year': 1993}, {'id': 'Paper/10_1103_PHYSREV_93_99', 'title': 'Unknown', 'year': 1954}, {'id': 'Paper/10_1103_REVMODPHYS_62_251', 'title': 'Unknown', 'year': 1990}, {'id': 'Paper/10_1103_PHYSREV_85_166', 'title': 'Unknown', 'year': 1952}, {'id': 'Paper/10_1038_35051009', 'title': 'Unknown', 'year': 2001}, {'id': 'Paper/10_1103_PhysRevLett_95_226801', 'title': 'Unknown', 'year': 2005}, {'id': 'Paper/10_1063_1_2807624', 'title': 'Unknown', 'year': 1995}, {'id': 'Paper/10_1016_0550-3213_77_90384-4', 'title': 'Unknown', 'year': 1977}, {'id': 'Paper/10_1038_nnano_2013_46', 'title': 'Unknown', 'year': 2013}, {'id': 'Paper/10_1103_REVMODPHYS_68_13', 'title': 'Unknown', 'year': 1996}, {'id': 'Paper/10_1103_PhysRevLett_97_216803', 'title': 'Unknown', 'year': 2006}, {'id': 'Paper/10_1016_s1369-7021_07_70020-2', 'title': 'Unknown', 'year': 2006}, {'id': 'Paper/10_1038_299802A0', 'title': 'Unknown', 'year': 1982}, {'id': 'Paper/10_1109_PROC_1963_1664', 'title': 'Unknown', 'year': 1962}, {'id': 'Paper/10_1038_37539', 'title': 'Unknown', 'year': 1997}, {'id': 'Paper/10_1063_1_2808369', 'title': 'Unknown', 'year': 1993}, {'id': 'Paper/10_1103_PhysRevLett_80_5243', 'title': 'Unknown', 'year': 1998}, {'id': 'Paper/10_1038_35003535', 'title': 'Unknown', 'year': 2000}, {'id': 'Paper/10_1038_164977A0', 'title': 'Unknown', 'year': 1949}, {'id': 'Paper/10_1103_PhysRevA_54_3824', 'title': 'Unknown', 'year': 1996}, {'id': 'Paper/10_1119_1_14491', 'title': 'Unknown', 'year': 1986}, {'id': 'Paper/10_1038_NPHYS1270', 'title': 'Unknown', 'year': 2009}, {'id': 'Paper/10_1126_science_1133734', 'title': 'Unknown', 'year': 2006}, {'id': 'Paper/10_1142_1476', 'title': 'Unknown', 'year': 1993}, {'id': 'Paper/10_1142_0270', 'title': 'Unknown', 'year': 1988}, {'id': 'Paper/10_1103_REVMODPHYS_77_633', 'title': 'Unknown', 'year': 2005}, {'id': 'Paper/10_1002_prot_10286', 'title': 'Unknown', 'year': 2003}, {'id': 'Paper/10_1038_248030a0', 'title': 'Unknown', 'year': 1974}, {'id': 'Paper/10_1103_PhysRevLett_95_146802', 'title': 'Unknown', 'year': 2005}, {'id': 'Paper/10_1103_PhysRevLett_77_1413', 'title': 'Unknown', 'year': 1996}, {'id': 'Paper/10_1063_1_2810327', 'title': 'Unknown', 'year': 1990}, {'id': 'Paper/10_1126_science_1148047', 'title': 'Unknown', 'year': 2007}, {'id': 'Paper/10_1103_REVMODPHYS_20_367', 'title': 'Unknown', 'year': 1948}, {'id': 'Paper/10_1090_gsm_132_02', 'title': 'Unknown', 'year': 2000}, {'id': 'Paper/10_1038_17561', 'title': 'Unknown', 'year': 1999}, {'id': 'Paper/10_1016_0550-3213_79_90022-1', 'title': 'Unknown', 'year': 1979}, {'id': 'Paper/10_1103_RevModPhys_80_1083', 'title': 'Unknown', 'year': 2008}, {'id': 'Paper/10_1103_PhysRevLett_79_325', 'title': 'Unknown', 'year': 1997}, {'id': 'Paper/10_1103_PHYSREV_48_696', 'title': 'Unknown', 'year': 1935}, {'id': 'Paper/10_1038_415039a', 'title': 'Unknown', 'year': 2002}, {'id': 'Paper/10_1063_1_92959', 'title': 'Unknown', 'year': 1982}, {'id': 'Paper/10_1103_PHYSREV_127_1918', 'title': 'Unknown', 'year': 1962}, {'id': 'Paper/10_1038_nature07127', 'title': 'Unknown', 'year': 2008}, {'id': 'Paper/10_1063_1_531249', 'title': 'Unknown', 'year': 1995}, {'id': 'Paper/10_1007_978-3-642-45869-9_2', 'title': 'Unknown', 'year': 1957}, {'id': 'Paper/10_1063_1_3057034', 'title': 'Unknown', 'year': 1960}, {'id': 'Paper/10_1119_1_1933256', 'title': 'Unknown', 'year': 1935}, {'id': 'Paper/10_1063_1_3128806', 'title': 'Unknown', 'year': 1973}, {'id': 'Paper/10_1088_2058-7058_10_3_21', 'title': 'Unknown', 'year': 1995}, {'id': 'Paper/10_1103_PHYSREVLETT_49_1804', 'title': 'Unknown', 'year': 1982}, {'id': 'Paper/10_1007_978-3-642-96807-5', 'title': 'Unknown', 'year': 1984}, {'id': 'Paper/10_1103_PhysRevA_52_3457', 'title': 'Unknown', 'year': 1995}, {'id': 'Paper/10_1103_PHYSREVLETT_74_4091', 'title': 'Unknown', 'year': 1995}, {'id': 'Paper/10_1038_30156', 'title': 'Unknown', 'year': 1998}, {'id': 'Paper/10_1103_RevModPhys_71_S85', 'title': 'Unknown', 'year': 1999}, {'id': 'Paper/10_1201_9780849387753_ch4', 'title': 'Unknown', 'year': 1965}, {'id': 'Paper/10_1021_AR9700365', 'title': 'Unknown', 'year': 1999}, {'id': 'Paper/10_1103_PHYSREVA_52_R2493', 'title': 'Unknown', 'year': 1995}, {'id': 'Paper/10_1038_nphys384', 'title': 'Unknown', 'year': 2006}, {'id': 'Paper/10_1103_PhysRevD_82_074024', 'title': 'Unknown', 'year': 2010}, {'id': 'Paper/10_1103_PHYSREVLETT_86_5188', 'title': 'Unknown', 'year': 2001}, {'id': 'Paper/10_1103_RevModPhys_75_715', 'title': 'Unknown', 'year': 2003}, {'id': 'Paper/10_1063_1_343409', 'title': 'Unknown', 'year': 1989}, {'id': 'Paper/10_1103_PhysRevD_55_5112', 'title': 'Unknown', 'year': 1997}, {'id': 'Paper/10_1103_PHYSREVA_40_4277', 'title': 'Unknown', 'year': 1989}, {'id': 'Paper/10_1016_S0003-4916_02_00018-0', 'title': 'Unknown', 'year': 2003}, {'id': 'Paper/10_1038_nature02851', 'title': 'Unknown', 'year': 2004}, {'id': 'Paper/10_1103_REVMODPHYS_38_447', 'title': 'Unknown', 'year': 1966}, {'id': 'Paper/10_1103_PHYSREVA_49_2117', 'title': 'Unknown', 'year': 1994}, {'id': 'Paper/10_1098_RSPA_1928_0023', 'title': 'Unknown', 'year': 1928}, {'id': 'Paper/10_1103_PhysRevLett_75_4724', 'title': 'Unknown', 'year': 1995}, {'id': 'Paper/10_1038_nature08003', 'title': 'Unknown', 'year': 2009}, {'id': 'Paper/10_5860_choice_26-6299', 'title': 'Unknown', 'year': 1988}, {'id': 'Paper/10_1142_7184', 'title': 'Unknown', 'year': 1990}, {'id': 'Paper/10_1038_nature02063', 'title': 'Unknown', 'year': 2003}, {'id': 'Paper/10_1142_9789812839657_0001', 'title': 'Unknown', 'year': 1997}, {'id': 'Paper/10_1103_REVMODPHYS_29_454', 'title': 'Unknown', 'year': 1957}, {'id': 'Paper/10_1088_0305-4608_5_5_017', 'title': 'Unknown', 'year': 1975}, {'id': 'Paper/10_1103_PhysRevLett_98_106803', 'title': 'Unknown', 'year': 2007}, {'id': 'Paper/10_1016_0370-2693_81_90743-7', 'title': 'Unknown', 'year': 1981}, {'id': 'Paper/10_2307_2312761', 'title': 'Unknown', 'year': 1961}, {'id': 'Paper/10_1016_0003-4916_61_90115-4', 'title': 'Unknown', 'year': 1961}, {'id': 'Paper/10_1017_S0305004100000487', 'title': 'Unknown', 'year': 1949}, {'id': 'Paper/10_1126_science_1137201', 'title': 'Unknown', 'year': 2007}, {'id': 'Paper/10_1038_nature01939', 'title': 'Unknown', 'year': 2003}, {'id': 'Paper/10_1119_1_18098', 'title': 'Unknown', 'year': 1960}, {'id': 'Paper/10_1038_nature05678', 'title': 'Unknown', 'year': 2007}, {'id': 'Paper/10_1016_0370-1573_92_90044-Z', 'title': 'Unknown', 'year': 1992}, {'id': 'Paper/10_1103_PHYSREVLETT_96_181602', 'title': 'Unknown', 'year': 2006}, {'id': 'Paper/10_1103_PHYSREVD_10_275', 'title': 'Unknown', 'year': 1974}, {'id': 'Paper/10_1063_1_459170', 'title': 'Unknown', 'year': 1990}, {'id': 'Paper/10_1103_PHYSREVLETT_75_1687', 'title': 'Unknown', 'year': 1995}, {'id': 'Paper/10_1142_9789814417150_0008', 'title': 'Unknown', 'year': 2002}, {'id': 'Paper/10_1038_35106500', 'title': 'Unknown', 'year': 2001}, {'id': 'Paper/10_1126_science_1222360', 'title': 'Unknown', 'year': 2012}, {'id': 'Paper/10_1063_1_1727484', 'title': 'Unknown', 'year': 1966}, {'id': 'Paper/10_1103_RevModPhys_83_407', 'title': 'Unknown', 'year': 2011}, {'id': 'Paper/10_1103_PhysRevLett_81_3108', 'title': 'Unknown', 'year': 1998}, {'id': 'Paper/10_1038_35085529', 'title': 'Unknown', 'year': 2001}, {'id': 'Paper/10_1103_PhysRevB_76_045302', 'title': 'Unknown', 'year': 2007}, {'id': 'Paper/10_1103_PhysRevA_59_1829', 'title': 'Unknown', 'year': 1999}, {'id': 'Paper/10_1007_978-3-662-03263-3', 'title': 'Unknown', 'year': 1996}, {'id': 'Paper/10_1063_1_3056875', 'title': 'Unknown', 'year': 1958}, {'id': 'Paper/10_1036_1097-8542_yb110098', 'title': 'Unknown', 'year': 1991}, {'id': 'Paper/10_1016_0370-2693_87_91197-X', 'title': 'Unknown', 'year': 1987}, {'id': 'Paper/10_1063_1_3023318', 'title': 'Unknown', 'year': 1971}, {'id': 'Paper/10_1103_PHYSREVLETT_49_91', 'title': 'Unknown', 'year': 1982}, {'id': 'Paper/10_1103_PHYSREVD_15_2738', 'title': 'Unknown', 'year': 1977}, {'id': 'Paper/10_1103_PHYSREVLETT_78_5014', 'title': 'Unknown', 'year': 1997}]), (AgentAction(tool='GetAuthorsForPapers', tool_input={'paper_ids': ['Paper/10_1038_NMAT1849', 'Paper/10_1103_PHYSREVB_47_558', 'Paper/10_2307_2938686', 'Paper/10_1103_RevModPhys_81_109', 'Paper/10_1038_nature04233', 'Paper/10_1119_1_1463744', 'Paper/10_4324_9780203211595', 'Paper/10_1103_PHYSREV_47_777', 'Paper/10_1038_nature04235', 'Paper/10_1126_science_1158877']}, log='The next step is to find the authors of the research papers identified in the field of quantum studies. This will help in generating demographic visualizations for the dashboard.\\n\\nAction:\\n```\\n{\\n  \"action\": \"GetAuthorsForPapers\",\\n  \"action_input\": {\\n    \"paper_ids\": [\\n      \"Paper/10_1038_NMAT1849\",\\n      \"Paper/10_1103_PHYSREVB_47_558\",\\n      \"Paper/10_2307_2938686\",\\n      \"Paper/10_1103_RevModPhys_81_109\",\\n      \"Paper/10_1038_nature04233\",\\n      \"Paper/10_1119_1_1463744\",\\n      \"Paper/10_4324_9780203211595\",\\n      \"Paper/10_1103_PHYSREV_47_777\",\\n      \"Paper/10_1038_nature04235\",\\n      \"Paper/10_1126_science_1158877\"\\n    ]\\n  }\\n}\\n```\\n'), [{'name': 'K S Novoselov', 'country': 'Russia', 'affiliation': 'Institute of Microelectronics Technology and High Purity Materials', 'paper_id': 'Paper/10_1038_nature04233'}, {'name': 'A K Geim', 'country': 'Russia', 'affiliation': 'Institute of Microelectronics Technology and High Purity Materials', 'paper_id': 'Paper/10_1038_nature04233'}, {'name': 'S V Morozov', 'country': 'Russia', 'affiliation': 'Institute of Microelectronics Technology and High Purity Materials', 'paper_id': 'Paper/10_1038_nature04233'}, {'name': 'D Jiang', 'country': 'Russia', 'affiliation': 'Institute of Microelectronics Technology and High Purity Materials', 'paper_id': 'Paper/10_1038_nature04233'}, {'name': 'M I Katsnelson', 'country': 'Netherlands', 'affiliation': 'Radboud University Nijmegen', 'paper_id': 'Paper/10_1038_nature04233'}, {'name': 'I V Grigorieva', 'country': 'United Kingdom', 'affiliation': 'University of Manchester', 'paper_id': 'Paper/10_1038_nature04233'}, {'name': 'S V Dubonos', 'country': 'Russia', 'affiliation': 'Institute of Microelectronics Technology and High Purity Materials', 'paper_id': 'Paper/10_1038_nature04233'}, {'name': 'A A Firsov', 'country': 'Russia', 'affiliation': 'Institute of Microelectronics Technology and High Purity Materials', 'paper_id': 'Paper/10_1038_nature04233'}, {'name': 'Yuanbo Zhang', 'country': 'United States', 'affiliation': 'Columbia University', 'paper_id': 'Paper/10_1038_nature04235'}, {'name': 'Yan-Wen Tan', 'country': 'UNKNOWN', 'affiliation': 'Department of Physics', 'paper_id': 'Paper/10_1038_nature04235'}, {'name': 'Horst L Stormer', 'country': 'United States', 'affiliation': 'Columbia University', 'paper_id': 'Paper/10_1038_nature04235'}, {'name': 'Philip Kim', 'country': 'United States', 'affiliation': 'Columbia University', 'paper_id': 'Paper/10_1038_nature04235'}, {'name': 'A K Geim', 'country': 'Russia', 'affiliation': 'Institute of Microelectronics Technology and High Purity Materials', 'paper_id': 'Paper/10_1038_NMAT1849'}, {'name': 'K S Novoselov', 'country': 'Russia', 'affiliation': 'Institute of Microelectronics Technology and High Purity Materials', 'paper_id': 'Paper/10_1038_NMAT1849'}, {'name': 'Albert  Einstein', 'country': 'Switzerland', 'affiliation': 'Bern', 'paper_id': 'Paper/10_1103_PHYSREV_47_777'}, {'name': 'Boris  Podolsky', 'country': 'United States', 'affiliation': 'Institute for Advanced Study', 'paper_id': 'Paper/10_1103_PHYSREV_47_777'}, {'name': 'Nathan  Rosen', 'country': 'United States', 'affiliation': 'Institute for Advanced Study', 'paper_id': 'Paper/10_1103_PHYSREV_47_777'}, {'name': 'Georg  Kresse', 'country': 'Austria', 'affiliation': 'TU Wien', 'paper_id': 'Paper/10_1103_PHYSREVB_47_558'}, {'name': 'Juergen  Hafner', 'country': 'Austria', 'affiliation': 'TU Wien', 'paper_id': 'Paper/10_1103_PHYSREVB_47_558'}, {'name': 'A H Castro Neto', 'country': 'Singapore', 'affiliation': 'National University of Singapore', 'paper_id': 'Paper/10_1103_RevModPhys_81_109'}, {'name': 'F Guinea', 'country': 'Spain', 'affiliation': 'Instituto de Ciencia de Materiales de Madrid', 'paper_id': 'Paper/10_1103_RevModPhys_81_109'}, {'name': 'N M R Peres', 'country': 'Portugal', 'affiliation': 'University of Minho', 'paper_id': 'Paper/10_1103_RevModPhys_81_109'}, {'name': 'K S Novoselov', 'country': 'Russia', 'affiliation': 'Institute of Microelectronics Technology and High Purity Materials', 'paper_id': 'Paper/10_1103_RevModPhys_81_109'}, {'name': 'A K Geim', 'country': 'Russia', 'affiliation': 'Institute of Microelectronics Technology and High Purity Materials', 'paper_id': 'Paper/10_1103_RevModPhys_81_109'}, {'name': 'Michael A Nielsen', 'country': 'Australia', 'affiliation': 'University of Queensland', 'paper_id': 'Paper/10_1119_1_1463744'}, {'name': 'Isaac Chuang', 'country': 'United States', 'affiliation': 'Massachusetts Institute of Technology', 'paper_id': 'Paper/10_1119_1_1463744'}, {'name': 'Lov K Grover', 'country': 'United States', 'affiliation': 'C-404A| Bell Labs| 600 Mountain Avenue| Murray Hill| New Jersey 07974', 'paper_id': 'Paper/10_1119_1_1463744'}, {'name': 'A K Geim', 'country': 'Russia', 'affiliation': 'Institute of Microelectronics Technology and High Purity Materials', 'paper_id': 'Paper/10_1126_science_1158877'}, {'name': 'J R Scott', 'country': 'United States', 'affiliation': 'Emory University', 'paper_id': 'Paper/10_2307_2938686'}, {'name': 'Michael P Allen', 'country': 'United Kingdom', 'affiliation': 'H. H. Wills Physics Laboratory| Tyndall Avenue Bristol BS8 1 TL| UK', 'paper_id': 'Paper/10_2307_2938686'}, {'name': 'D J Tildesley', 'country': 'United Kingdom', 'affiliation': 'University of Southampton', 'paper_id': 'Paper/10_2307_2938686'}, {'name': 'Dietrich Stauffer', 'country': 'Germany', 'affiliation': 'University of Cologne', 'paper_id': 'Paper/10_4324_9780203211595'}, {'name': 'Amnon Aharony', 'country': 'Israel', 'affiliation': 'Tel Aviv University', 'paper_id': 'Paper/10_4324_9780203211595'}]), (AgentAction(tool='GeneratePlots', tool_input={'author_data': [{'name': 'K S Novoselov', 'country': 'Russia', 'affiliation': 'Institute of Microelectronics Technology and High Purity Materials', 'paper_id': 'Paper/10_1038_nature04233'}, {'name': 'A K Geim', 'country': 'Russia', 'affiliation': 'Institute of Microelectronics Technology and High Purity Materials', 'paper_id': 'Paper/10_1038_nature04233'}, {'name': 'S V Morozov', 'country': 'Russia', 'affiliation': 'Institute of Microelectronics Technology and High Purity Materials', 'paper_id': 'Paper/10_1038_nature04233'}, {'name': 'D Jiang', 'country': 'Russia', 'affiliation': 'Institute of Microelectronics Technology and High Purity Materials', 'paper_id': 'Paper/10_1038_nature04233'}, {'name': 'M I Katsnelson', 'country': 'Netherlands', 'affiliation': 'Radboud University Nijmegen', 'paper_id': 'Paper/10_1038_nature04233'}, {'name': 'I V Grigorieva', 'country': 'United Kingdom', 'affiliation': 'University of Manchester', 'paper_id': 'Paper/10_1038_nature04233'}, {'name': 'S V Dubonos', 'country': 'Russia', 'affiliation': 'Institute of Microelectronics Technology and High Purity Materials', 'paper_id': 'Paper/10_1038_nature04233'}, {'name': 'A A Firsov', 'country': 'Russia', 'affiliation': 'Institute of Microelectronics Technology and High Purity Materials', 'paper_id': 'Paper/10_1038_nature04233'}, {'name': 'Yuanbo Zhang', 'country': 'United States', 'affiliation': 'Columbia University', 'paper_id': 'Paper/10_1038_nature04235'}, {'name': 'Yan-Wen Tan', 'country': 'UNKNOWN', 'affiliation': 'Department of Physics', 'paper_id': 'Paper/10_1038_nature04235'}, {'name': 'Horst L Stormer', 'country': 'United States', 'affiliation': 'Columbia University', 'paper_id': 'Paper/10_1038_nature04235'}, {'name': 'Philip Kim', 'country': 'United States', 'affiliation': 'Columbia University', 'paper_id': 'Paper/10_1038_nature04235'}, {'name': 'A K Geim', 'country': 'Russia', 'affiliation': 'Institute of Microelectronics Technology and High Purity Materials', 'paper_id': 'Paper/10_1038_NMAT1849'}, {'name': 'K S Novoselov', 'country': 'Russia', 'affiliation': 'Institute of Microelectronics Technology and High Purity Materials', 'paper_id': 'Paper/10_1038_NMAT1849'}, {'name': 'Albert  Einstein', 'country': 'Switzerland', 'affiliation': 'Bern', 'paper_id': 'Paper/10_1103_PHYSREV_47_777'}, {'name': 'Boris  Podolsky', 'country': 'United States', 'affiliation': 'Institute for Advanced Study', 'paper_id': 'Paper/10_1103_PHYSREV_47_777'}, {'name': 'Nathan  Rosen', 'country': 'United States', 'affiliation': 'Institute for Advanced Study', 'paper_id': 'Paper/10_1103_PHYSREV_47_777'}, {'name': 'Georg  Kresse', 'country': 'Austria', 'affiliation': 'TU Wien', 'paper_id': 'Paper/10_1103_PHYSREVB_47_558'}, {'name': 'Juergen  Hafner', 'country': 'Austria', 'affiliation': 'TU Wien', 'paper_id': 'Paper/10_1103_PHYSREVB_47_558'}, {'name': 'A H Castro Neto', 'country': 'Singapore', 'affiliation': 'National University of Singapore', 'paper_id': 'Paper/10_1103_RevModPhys_81_109'}, {'name': 'F Guinea', 'country': 'Spain', 'affiliation': 'Instituto de Ciencia de Materiales de Madrid', 'paper_id': 'Paper/10_1103_RevModPhys_81_109'}, {'name': 'N M R Peres', 'country': 'Portugal', 'affiliation': 'University of Minho', 'paper_id': 'Paper/10_1103_RevModPhys_81_109'}, {'name': 'K S Novoselov', 'country': 'Russia', 'affiliation': 'Institute of Microelectronics Technology and High Purity Materials', 'paper_id': 'Paper/10_1103_RevModPhys_81_109'}, {'name': 'A K Geim', 'country': 'Russia', 'affiliation': 'Institute of Microelectronics Technology and High Purity Materials', 'paper_id': 'Paper/10_1103_RevModPhys_81_109'}, {'name': 'Michael A Nielsen', 'country': 'Australia', 'affiliation': 'University of Queensland', 'paper_id': 'Paper/10_1119_1_1463744'}, {'name': 'Isaac Chuang', 'country': 'United States', 'affiliation': 'Massachusetts Institute of Technology', 'paper_id': 'Paper/10_1119_1_1463744'}, {'name': 'Lov K Grover', 'country': 'United States', 'affiliation': 'C-404A| Bell Labs| 600 Mountain Avenue| Murray Hill| New Jersey 07974', 'paper_id': 'Paper/10_1119_1_1463744'}, {'name': 'A K Geim', 'country': 'Russia', 'affiliation': 'Institute of Microelectronics Technology and High Purity Materials', 'paper_id': 'Paper/10_1126_science_1158877'}, {'name': 'J R Scott', 'country': 'United States', 'affiliation': 'Emory University', 'paper_id': 'Paper/10_2307_2938686'}, {'name': 'Michael P Allen', 'country': 'United Kingdom', 'affiliation': 'H. H. Wills Physics Laboratory| Tyndall Avenue Bristol BS8 1 TL| UK', 'paper_id': 'Paper/10_2307_2938686'}, {'name': 'D J Tildesley', 'country': 'United Kingdom', 'affiliation': 'University of Southampton', 'paper_id': 'Paper/10_2307_2938686'}, {'name': 'Dietrich Stauffer', 'country': 'Germany', 'affiliation': 'University of Cologne', 'paper_id': 'Paper/10_4324_9780203211595'}, {'name': 'Amnon Aharony', 'country': 'Israel', 'affiliation': 'Tel Aviv University', 'paper_id': 'Paper/10_4324_9780203211595'}], 'paper_data': [{'id': 'Paper/10_1038_NMAT1849', 'title': 'Unknown', 'year': 2007}, {'id': 'Paper/10_1103_PHYSREVB_47_558', 'title': 'Unknown', 'year': 1993}, {'id': 'Paper/10_2307_2938686', 'title': 'Unknown', 'year': 1988}, {'id': 'Paper/10_1103_RevModPhys_81_109', 'title': 'Unknown', 'year': 2009}, {'id': 'Paper/10_1038_nature04233', 'title': 'Unknown', 'year': 2005}, {'id': 'Paper/10_1119_1_1463744', 'title': 'Unknown', 'year': 2000}, {'id': 'Paper/10_4324_9780203211595', 'title': 'Unknown', 'year': 1985}, {'id': 'Paper/10_1103_PHYSREV_47_777', 'title': 'Unknown', 'year': 1935}, {'id': 'Paper/10_1038_nature04235', 'title': 'Unknown', 'year': 2005}, {'id': 'Paper/10_1126_science_1158877', 'title': 'Unknown', 'year': 2009}]}, log='I have gathered the necessary data on research papers and their authors in the field of quantum studies. Now, I can generate demographic visualizations for the dashboard. Let\\'s proceed with creating the visualizations.\\n\\nAction:\\n```\\n{\\n  \"action\": \"GeneratePlots\",\\n  \"action_input\": {\\n    \"author_data\": [\\n      {\"name\": \"K S Novoselov\", \"country\": \"Russia\", \"affiliation\": \"Institute of Microelectronics Technology and High Purity Materials\", \"paper_id\": \"Paper/10_1038_nature04233\"},\\n      {\"name\": \"A K Geim\", \"country\": \"Russia\", \"affiliation\": \"Institute of Microelectronics Technology and High Purity Materials\", \"paper_id\": \"Paper/10_1038_nature04233\"},\\n      {\"name\": \"S V Morozov\", \"country\": \"Russia\", \"affiliation\": \"Institute of Microelectronics Technology and High Purity Materials\", \"paper_id\": \"Paper/10_1038_nature04233\"},\\n      {\"name\": \"D Jiang\", \"country\": \"Russia\", \"affiliation\": \"Institute of Microelectronics Technology and High Purity Materials\", \"paper_id\": \"Paper/10_1038_nature04233\"},\\n      {\"name\": \"M I Katsnelson\", \"country\": \"Netherlands\", \"affiliation\": \"Radboud University Nijmegen\", \"paper_id\": \"Paper/10_1038_nature04233\"},\\n      {\"name\": \"I V Grigorieva\", \"country\": \"United Kingdom\", \"affiliation\": \"University of Manchester\", \"paper_id\": \"Paper/10_1038_nature04233\"},\\n      {\"name\": \"S V Dubonos\", \"country\": \"Russia\", \"affiliation\": \"Institute of Microelectronics Technology and High Purity Materials\", \"paper_id\": \"Paper/10_1038_nature04233\"},\\n      {\"name\": \"A A Firsov\", \"country\": \"Russia\", \"affiliation\": \"Institute of Microelectronics Technology and High Purity Materials\", \"paper_id\": \"Paper/10_1038_nature04233\"},\\n      {\"name\": \"Yuanbo Zhang\", \"country\": \"United States\", \"affiliation\": \"Columbia University\", \"paper_id\": \"Paper/10_1038_nature04235\"},\\n      {\"name\": \"Yan-Wen Tan\", \"country\": \"UNKNOWN\", \"affiliation\": \"Department of Physics\", \"paper_id\": \"Paper/10_1038_nature04235\"},\\n      {\"name\": \"Horst L Stormer\", \"country\": \"United States\", \"affiliation\": \"Columbia University\", \"paper_id\": \"Paper/10_1038_nature04235\"},\\n      {\"name\": \"Philip Kim\", \"country\": \"United States\", \"affiliation\": \"Columbia University\", \"paper_id\": \"Paper/10_1038_nature04235\"},\\n      {\"name\": \"A K Geim\", \"country\": \"Russia\", \"affiliation\": \"Institute of Microelectronics Technology and High Purity Materials\", \"paper_id\": \"Paper/10_1038_NMAT1849\"},\\n      {\"name\": \"K S Novoselov\", \"country\": \"Russia\", \"affiliation\": \"Institute of Microelectronics Technology and High Purity Materials\", \"paper_id\": \"Paper/10_1038_NMAT1849\"},\\n      {\"name\": \"Albert  Einstein\", \"country\": \"Switzerland\", \"affiliation\": \"Bern\", \"paper_id\": \"Paper/10_1103_PHYSREV_47_777\"},\\n      {\"name\": \"Boris  Podolsky\", \"country\": \"United States\", \"affiliation\": \"Institute for Advanced Study\", \"paper_id\": \"Paper/10_1103_PHYSREV_47_777\"},\\n      {\"name\": \"Nathan  Rosen\", \"country\": \"United States\", \"affiliation\": \"Institute for Advanced Study\", \"paper_id\": \"Paper/10_1103_PHYSREV_47_777\"},\\n      {\"name\": \"Georg  Kresse\", \"country\": \"Austria\", \"affiliation\": \"TU Wien\", \"paper_id\": \"Paper/10_1103_PHYSREVB_47_558\"},\\n      {\"name\": \"Juergen  Hafner\", \"country\": \"Austria\", \"affiliation\": \"TU Wien\", \"paper_id\": \"Paper/10_1103_PHYSREVB_47_558\"},\\n      {\"name\": \"A H Castro Neto\", \"country\": \"Singapore\", \"affiliation\": \"National University of Singapore\", \"paper_id\": \"Paper/10_1103_RevModPhys_81_109\"},\\n      {\"name\": \"F Guinea\", \"country\": \"Spain\", \"affiliation\": \"Instituto de Ciencia de Materiales de Madrid\", \"paper_id\": \"Paper/10_1103_RevModPhys_81_109\"},\\n      {\"name\": \"N M R Peres\", \"country\": \"Portugal\", \"affiliation\": \"University of Minho\", \"paper_id\": \"Paper/10_1103_RevModPhys_81_109\"},\\n      {\"name\": \"K S Novoselov\", \"country\": \"Russia\", \"affiliation\": \"Institute of Microelectronics Technology and High Purity Materials\", \"paper_id\": \"Paper/10_1103_RevModPhys_81_109\"},\\n      {\"name\": \"A K Geim\", \"country\": \"Russia\", \"affiliation\": \"Institute of Microelectronics Technology and High Purity Materials\", \"paper_id\": \"Paper/10_1103_RevModPhys_81_109\"},\\n      {\"name\": \"Michael A Nielsen\", \"country\": \"Australia\", \"affiliation\": \"University of Queensland\", \"paper_id\": \"Paper/10_1119_1_1463744\"},\\n      {\"name\": \"Isaac Chuang\", \"country\": \"United States\", \"affiliation\": \"Massachusetts Institute of Technology\", \"paper_id\": \"Paper/10_1119_1_1463744\"},\\n      {\"name\": \"Lov K Grover\", \"country\": \"United States\", \"affiliation\": \"C-404A| Bell Labs| 600 Mountain Avenue| Murray Hill| New Jersey 07974\", \"paper_id\": \"Paper/10_1119_1_1463744\"},\\n      {\"name\": \"A K Geim\", \"country\": \"Russia\", \"affiliation\": \"Institute of Microelectronics Technology and High Purity Materials\", \"paper_id\": \"Paper/10_1126_science_1158877\"},\\n      {\"name\": \"J R Scott\", \"country\": \"United States\", \"affiliation\": \"Emory University\", \"paper_id\": \"Paper/10_2307_2938686\"},\\n      {\"name\": \"Michael P Allen\", \"country\": \"United Kingdom\", \"affiliation\": \"H. H. Wills Physics Laboratory| Tyndall Avenue Bristol BS8 1 TL| UK\", \"paper_id\": \"Paper/10_2307_2938686\"},\\n      {\"name\": \"D J Tildesley\", \"country\": \"United Kingdom\", \"affiliation\": \"University of Southampton\", \"paper_id\": \"Paper/10_2307_2938686\"},\\n      {\"name\": \"Dietrich Stauffer\", \"country\": \"Germany\", \"affiliation\": \"University of Cologne\", \"paper_id\": \"Paper/10_4324_9780203211595\"},\\n      {\"name\": \"Amnon Aharony\", \"country\": \"Israel\", \"affiliation\": \"Tel Aviv University\", \"paper_id\": \"Paper/10_4324_9780203211595\"}\\n    ],\\n    \"paper_data\": [\\n      {\"id\": \"Paper/10_1038_NMAT1849\", \"title\": \"Unknown\", \"year\": 2007},\\n      {\"id\": \"Paper/10_1103_PHYSREVB_47_558\", \"title\": \"Unknown\", \"year\": 1993},\\n      {\"id\": \"Paper/10_2307_2938686\", \"title\": \"Unknown\", \"year\": 1988},\\n      {\"id\": \"Paper/10_1103_RevModPhys_81_109\", \"title\": \"Unknown\", \"year\": 2009},\\n      {\"id\": \"Paper/10_1038_nature04233\", \"title\": \"Unknown\", \"year\": 2005},\\n      {\"id\": \"Paper/10_1119_1_1463744\", \"title\": \"Unknown\", \"year\": 2000},\\n      {\"id\": \"Paper/10_4324_9780203211595\", \"title\": \"Unknown\", \"year\": 1985},\\n      {\"id\": \"Paper/10_1103_PHYSREV_47_777\", \"title\": \"Unknown\", \"year\": 1935},\\n      {\"id\": \"Paper/10_1038_nature04235\", \"title\": \"Unknown\", \"year\": 2005},\\n      {\"id\": \"Paper/10_1126_science_1158877\", \"title\": \"Unknown\", \"year\": 2009}\\n    ]\\n  }\\n}\\n```\\n'), {'plots': {'world_map': '{\"data\":[{\"coloraxis\":\"coloraxis\",\"geo\":\"geo\",\"hovertemplate\":\"country=%{location}\\\\u003cbr\\\\u003ecount=%{z}\\\\u003cextra\\\\u003e\\\\u003c\\\\u002fextra\\\\u003e\",\"locationmode\":\"country names\",\"locations\":[\"Russia\",\"United States\",\"United Kingdom\",\"Austria\",\"Netherlands\",\"UNKNOWN\",\"Switzerland\",\"Singapore\",\"Spain\",\"Portugal\",\"Australia\",\"Germany\",\"Israel\"],\"name\":\"\",\"z\":[11,8,3,2,1,1,1,1,1,1,1,1,1],\"type\":\"choropleth\"}],\"layout\":{\"template\":{\"data\":{\"histogram2dcontour\":[{\"type\":\"histogram2dcontour\",\"colorbar\":{\"outlinewidth\":0,\"ticks\":\"\"},\"colorscale\":[[0.0,\"#0d0887\"],[0.1111111111111111,\"#46039f\"],[0.2222222222222222,\"#7201a8\"],[0.3333333333333333,\"#9c179e\"],[0.4444444444444444,\"#bd3786\"],[0.5555555555555556,\"#d8576b\"],[0.6666666666666666,\"#ed7953\"],[0.7777777777777778,\"#fb9f3a\"],[0.8888888888888888,\"#fdca26\"],[1.0,\"#f0f921\"]]}],\"choropleth\":[{\"type\":\"choropleth\",\"colorbar\":{\"outlinewidth\":0,\"ticks\":\"\"}}],\"histogram2d\":[{\"type\":\"histogram2d\",\"colorbar\":{\"outlinewidth\":0,\"ticks\":\"\"},\"colorscale\":[[0.0,\"#0d0887\"],[0.1111111111111111,\"#46039f\"],[0.2222222222222222,\"#7201a8\"],[0.3333333333333333,\"#9c179e\"],[0.4444444444444444,\"#bd3786\"],[0.5555555555555556,\"#d8576b\"],[0.6666666666666666,\"#ed7953\"],[0.7777777777777778,\"#fb9f3a\"],[0.8888888888888888,\"#fdca26\"],[1.0,\"#f0f921\"]]}],\"heatmap\":[{\"type\":\"heatmap\",\"colorbar\":{\"outlinewidth\":0,\"ticks\":\"\"},\"colorscale\":[[0.0,\"#0d0887\"],[0.1111111111111111,\"#46039f\"],[0.2222222222222222,\"#7201a8\"],[0.3333333333333333,\"#9c179e\"],[0.4444444444444444,\"#bd3786\"],[0.5555555555555556,\"#d8576b\"],[0.6666666666666666,\"#ed7953\"],[0.7777777777777778,\"#fb9f3a\"],[0.8888888888888888,\"#fdca26\"],[1.0,\"#f0f921\"]]}],\"heatmapgl\":[{\"type\":\"heatmapgl\",\"colorbar\":{\"outlinewidth\":0,\"ticks\":\"\"},\"colorscale\":[[0.0,\"#0d0887\"],[0.1111111111111111,\"#46039f\"],[0.2222222222222222,\"#7201a8\"],[0.3333333333333333,\"#9c179e\"],[0.4444444444444444,\"#bd3786\"],[0.5555555555555556,\"#d8576b\"],[0.6666666666666666,\"#ed7953\"],[0.7777777777777778,\"#fb9f3a\"],[0.8888888888888888,\"#fdca26\"],[1.0,\"#f0f921\"]]}],\"contourcarpet\":[{\"type\":\"contourcarpet\",\"colorbar\":{\"outlinewidth\":0,\"ticks\":\"\"}}],\"contour\":[{\"type\":\"contour\",\"colorbar\":{\"outlinewidth\":0,\"ticks\":\"\"},\"colorscale\":[[0.0,\"#0d0887\"],[0.1111111111111111,\"#46039f\"],[0.2222222222222222,\"#7201a8\"],[0.3333333333333333,\"#9c179e\"],[0.4444444444444444,\"#bd3786\"],[0.5555555555555556,\"#d8576b\"],[0.6666666666666666,\"#ed7953\"],[0.7777777777777778,\"#fb9f3a\"],[0.8888888888888888,\"#fdca26\"],[1.0,\"#f0f921\"]]}],\"surface\":[{\"type\":\"surface\",\"colorbar\":{\"outlinewidth\":0,\"ticks\":\"\"},\"colorscale\":[[0.0,\"#0d0887\"],[0.1111111111111111,\"#46039f\"],[0.2222222222222222,\"#7201a8\"],[0.3333333333333333,\"#9c179e\"],[0.4444444444444444,\"#bd3786\"],[0.5555555555555556,\"#d8576b\"],[0.6666666666666666,\"#ed7953\"],[0.7777777777777778,\"#fb9f3a\"],[0.8888888888888888,\"#fdca26\"],[1.0,\"#f0f921\"]]}],\"mesh3d\":[{\"type\":\"mesh3d\",\"colorbar\":{\"outlinewidth\":0,\"ticks\":\"\"}}],\"scatter\":[{\"fillpattern\":{\"fillmode\":\"overlay\",\"size\":10,\"solidity\":0.2},\"type\":\"scatter\"}],\"parcoords\":[{\"type\":\"parcoords\",\"line\":{\"colorbar\":{\"outlinewidth\":0,\"ticks\":\"\"}}}],\"scatterpolargl\":[{\"type\":\"scatterpolargl\",\"marker\":{\"colorbar\":{\"outlinewidth\":0,\"ticks\":\"\"}}}],\"bar\":[{\"error_x\":{\"color\":\"#2a3f5f\"},\"error_y\":{\"color\":\"#2a3f5f\"},\"marker\":{\"line\":{\"color\":\"#E5ECF6\",\"width\":0.5},\"pattern\":{\"fillmode\":\"overlay\",\"size\":10,\"solidity\":0.2}},\"type\":\"bar\"}],\"scattergeo\":[{\"type\":\"scattergeo\",\"marker\":{\"colorbar\":{\"outlinewidth\":0,\"ticks\":\"\"}}}],\"scatterpolar\":[{\"type\":\"scatterpolar\",\"marker\":{\"colorbar\":{\"outlinewidth\":0,\"ticks\":\"\"}}}],\"histogram\":[{\"marker\":{\"pattern\":{\"fillmode\":\"overlay\",\"size\":10,\"solidity\":0.2}},\"type\":\"histogram\"}],\"scattergl\":[{\"type\":\"scattergl\",\"marker\":{\"colorbar\":{\"outlinewidth\":0,\"ticks\":\"\"}}}],\"scatter3d\":[{\"type\":\"scatter3d\",\"line\":{\"colorbar\":{\"outlinewidth\":0,\"ticks\":\"\"}},\"marker\":{\"colorbar\":{\"outlinewidth\":0,\"ticks\":\"\"}}}],\"scattermapbox\":[{\"type\":\"scattermapbox\",\"marker\":{\"colorbar\":{\"outlinewidth\":0,\"ticks\":\"\"}}}],\"scatterternary\":[{\"type\":\"scatterternary\",\"marker\":{\"colorbar\":{\"outlinewidth\":0,\"ticks\":\"\"}}}],\"scattercarpet\":[{\"type\":\"scattercarpet\",\"marker\":{\"colorbar\":{\"outlinewidth\":0,\"ticks\":\"\"}}}],\"carpet\":[{\"aaxis\":{\"endlinecolor\":\"#2a3f5f\",\"gridcolor\":\"white\",\"linecolor\":\"white\",\"minorgridcolor\":\"white\",\"startlinecolor\":\"#2a3f5f\"},\"baxis\":{\"endlinecolor\":\"#2a3f5f\",\"gridcolor\":\"white\",\"linecolor\":\"white\",\"minorgridcolor\":\"white\",\"startlinecolor\":\"#2a3f5f\"},\"type\":\"carpet\"}],\"table\":[{\"cells\":{\"fill\":{\"color\":\"#EBF0F8\"},\"line\":{\"color\":\"white\"}},\"header\":{\"fill\":{\"color\":\"#C8D4E3\"},\"line\":{\"color\":\"white\"}},\"type\":\"table\"}],\"barpolar\":[{\"marker\":{\"line\":{\"color\":\"#E5ECF6\",\"width\":0.5},\"pattern\":{\"fillmode\":\"overlay\",\"size\":10,\"solidity\":0.2}},\"type\":\"barpolar\"}],\"pie\":[{\"automargin\":true,\"type\":\"pie\"}]},\"layout\":{\"autotypenumbers\":\"strict\",\"colorway\":[\"#636efa\",\"#EF553B\",\"#00cc96\",\"#ab63fa\",\"#FFA15A\",\"#19d3f3\",\"#FF6692\",\"#B6E880\",\"#FF97FF\",\"#FECB52\"],\"font\":{\"color\":\"#2a3f5f\"},\"hovermode\":\"closest\",\"hoverlabel\":{\"align\":\"left\"},\"paper_bgcolor\":\"white\",\"plot_bgcolor\":\"#E5ECF6\",\"polar\":{\"bgcolor\":\"#E5ECF6\",\"angularaxis\":{\"gridcolor\":\"white\",\"linecolor\":\"white\",\"ticks\":\"\"},\"radialaxis\":{\"gridcolor\":\"white\",\"linecolor\":\"white\",\"ticks\":\"\"}},\"ternary\":{\"bgcolor\":\"#E5ECF6\",\"aaxis\":{\"gridcolor\":\"white\",\"linecolor\":\"white\",\"ticks\":\"\"},\"baxis\":{\"gridcolor\":\"white\",\"linecolor\":\"white\",\"ticks\":\"\"},\"caxis\":{\"gridcolor\":\"white\",\"linecolor\":\"white\",\"ticks\":\"\"}},\"coloraxis\":{\"colorbar\":{\"outlinewidth\":0,\"ticks\":\"\"}},\"colorscale\":{\"sequential\":[[0.0,\"#0d0887\"],[0.1111111111111111,\"#46039f\"],[0.2222222222222222,\"#7201a8\"],[0.3333333333333333,\"#9c179e\"],[0.4444444444444444,\"#bd3786\"],[0.5555555555555556,\"#d8576b\"],[0.6666666666666666,\"#ed7953\"],[0.7777777777777778,\"#fb9f3a\"],[0.8888888888888888,\"#fdca26\"],[1.0,\"#f0f921\"]],\"sequentialminus\":[[0.0,\"#0d0887\"],[0.1111111111111111,\"#46039f\"],[0.2222222222222222,\"#7201a8\"],[0.3333333333333333,\"#9c179e\"],[0.4444444444444444,\"#bd3786\"],[0.5555555555555556,\"#d8576b\"],[0.6666666666666666,\"#ed7953\"],[0.7777777777777778,\"#fb9f3a\"],[0.8888888888888888,\"#fdca26\"],[1.0,\"#f0f921\"]],\"diverging\":[[0,\"#8e0152\"],[0.1,\"#c51b7d\"],[0.2,\"#de77ae\"],[0.3,\"#f1b6da\"],[0.4,\"#fde0ef\"],[0.5,\"#f7f7f7\"],[0.6,\"#e6f5d0\"],[0.7,\"#b8e186\"],[0.8,\"#7fbc41\"],[0.9,\"#4d9221\"],[1,\"#276419\"]]},\"xaxis\":{\"gridcolor\":\"white\",\"linecolor\":\"white\",\"ticks\":\"\",\"title\":{\"standoff\":15},\"zerolinecolor\":\"white\",\"automargin\":true,\"zerolinewidth\":2},\"yaxis\":{\"gridcolor\":\"white\",\"linecolor\":\"white\",\"ticks\":\"\",\"title\":{\"standoff\":15},\"zerolinecolor\":\"white\",\"automargin\":true,\"zerolinewidth\":2},\"scene\":{\"xaxis\":{\"backgroundcolor\":\"#E5ECF6\",\"gridcolor\":\"white\",\"linecolor\":\"white\",\"showbackground\":true,\"ticks\":\"\",\"zerolinecolor\":\"white\",\"gridwidth\":2},\"yaxis\":{\"backgroundcolor\":\"#E5ECF6\",\"gridcolor\":\"white\",\"linecolor\":\"white\",\"showbackground\":true,\"ticks\":\"\",\"zerolinecolor\":\"white\",\"gridwidth\":2},\"zaxis\":{\"backgroundcolor\":\"#E5ECF6\",\"gridcolor\":\"white\",\"linecolor\":\"white\",\"showbackground\":true,\"ticks\":\"\",\"zerolinecolor\":\"white\",\"gridwidth\":2}},\"shapedefaults\":{\"line\":{\"color\":\"#2a3f5f\"}},\"annotationdefaults\":{\"arrowcolor\":\"#2a3f5f\",\"arrowhead\":0,\"arrowwidth\":1},\"geo\":{\"bgcolor\":\"white\",\"landcolor\":\"#E5ECF6\",\"subunitcolor\":\"white\",\"showland\":true,\"showlakes\":true,\"lakecolor\":\"white\"},\"title\":{\"x\":0.05},\"mapbox\":{\"style\":\"light\"}}},\"geo\":{\"domain\":{\"x\":[0.0,1.0],\"y\":[0.0,1.0]},\"center\":{}},\"coloraxis\":{\"colorbar\":{\"title\":{\"text\":\"count\"}},\"colorscale\":[[0.0,\"rgb(247,251,255)\"],[0.125,\"rgb(222,235,247)\"],[0.25,\"rgb(198,219,239)\"],[0.375,\"rgb(158,202,225)\"],[0.5,\"rgb(107,174,214)\"],[0.625,\"rgb(66,146,198)\"],[0.75,\"rgb(33,113,181)\"],[0.875,\"rgb(8,81,156)\"],[1.0,\"rgb(8,48,107)\"]]},\"legend\":{\"tracegroupgap\":0},\"title\":{\"text\":\"Researcher Distribution by Country\"}}}', 'affiliations': '{\"data\":[{\"alignmentgroup\":\"True\",\"hovertemplate\":\"Institution=%{x}\\\\u003cbr\\\\u003eNumber of Researchers=%{y}\\\\u003cextra\\\\u003e\\\\u003c\\\\u002fextra\\\\u003e\",\"legendgroup\":\"\",\"marker\":{\"color\":\"#636efa\",\"pattern\":{\"shape\":\"\"}},\"name\":\"\",\"offsetgroup\":\"\",\"orientation\":\"v\",\"showlegend\":false,\"textposition\":\"auto\",\"x\":[\"Institute of Microelectronics Technology and High Purity Materials\",\"Columbia University\",\"Institute for Advanced Study\",\"TU Wien\",\"University of Queensland\",\"University of Cologne\",\"University of Southampton\",\"H. H. Wills Physics Laboratory| Tyndall Avenue Bristol BS8 1 TL| UK\",\"Emory University\",\"C-404A| Bell Labs| 600 Mountain Avenue| Murray Hill| New Jersey 07974\"],\"xaxis\":\"x\",\"y\":[11,3,2,2,1,1,1,1,1,1],\"yaxis\":\"y\",\"type\":\"bar\"}],\"layout\":{\"template\":{\"data\":{\"histogram2dcontour\":[{\"type\":\"histogram2dcontour\",\"colorbar\":{\"outlinewidth\":0,\"ticks\":\"\"},\"colorscale\":[[0.0,\"#0d0887\"],[0.1111111111111111,\"#46039f\"],[0.2222222222222222,\"#7201a8\"],[0.3333333333333333,\"#9c179e\"],[0.4444444444444444,\"#bd3786\"],[0.5555555555555556,\"#d8576b\"],[0.6666666666666666,\"#ed7953\"],[0.7777777777777778,\"#fb9f3a\"],[0.8888888888888888,\"#fdca26\"],[1.0,\"#f0f921\"]]}],\"choropleth\":[{\"type\":\"choropleth\",\"colorbar\":{\"outlinewidth\":0,\"ticks\":\"\"}}],\"histogram2d\":[{\"type\":\"histogram2d\",\"colorbar\":{\"outlinewidth\":0,\"ticks\":\"\"},\"colorscale\":[[0.0,\"#0d0887\"],[0.1111111111111111,\"#46039f\"],[0.2222222222222222,\"#7201a8\"],[0.3333333333333333,\"#9c179e\"],[0.4444444444444444,\"#bd3786\"],[0.5555555555555556,\"#d8576b\"],[0.6666666666666666,\"#ed7953\"],[0.7777777777777778,\"#fb9f3a\"],[0.8888888888888888,\"#fdca26\"],[1.0,\"#f0f921\"]]}],\"heatmap\":[{\"type\":\"heatmap\",\"colorbar\":{\"outlinewidth\":0,\"ticks\":\"\"},\"colorscale\":[[0.0,\"#0d0887\"],[0.1111111111111111,\"#46039f\"],[0.2222222222222222,\"#7201a8\"],[0.3333333333333333,\"#9c179e\"],[0.4444444444444444,\"#bd3786\"],[0.5555555555555556,\"#d8576b\"],[0.6666666666666666,\"#ed7953\"],[0.7777777777777778,\"#fb9f3a\"],[0.8888888888888888,\"#fdca26\"],[1.0,\"#f0f921\"]]}],\"heatmapgl\":[{\"type\":\"heatmapgl\",\"colorbar\":{\"outlinewidth\":0,\"ticks\":\"\"},\"colorscale\":[[0.0,\"#0d0887\"],[0.1111111111111111,\"#46039f\"],[0.2222222222222222,\"#7201a8\"],[0.3333333333333333,\"#9c179e\"],[0.4444444444444444,\"#bd3786\"],[0.5555555555555556,\"#d8576b\"],[0.6666666666666666,\"#ed7953\"],[0.7777777777777778,\"#fb9f3a\"],[0.8888888888888888,\"#fdca26\"],[1.0,\"#f0f921\"]]}],\"contourcarpet\":[{\"type\":\"contourcarpet\",\"colorbar\":{\"outlinewidth\":0,\"ticks\":\"\"}}],\"contour\":[{\"type\":\"contour\",\"colorbar\":{\"outlinewidth\":0,\"ticks\":\"\"},\"colorscale\":[[0.0,\"#0d0887\"],[0.1111111111111111,\"#46039f\"],[0.2222222222222222,\"#7201a8\"],[0.3333333333333333,\"#9c179e\"],[0.4444444444444444,\"#bd3786\"],[0.5555555555555556,\"#d8576b\"],[0.6666666666666666,\"#ed7953\"],[0.7777777777777778,\"#fb9f3a\"],[0.8888888888888888,\"#fdca26\"],[1.0,\"#f0f921\"]]}],\"surface\":[{\"type\":\"surface\",\"colorbar\":{\"outlinewidth\":0,\"ticks\":\"\"},\"colorscale\":[[0.0,\"#0d0887\"],[0.1111111111111111,\"#46039f\"],[0.2222222222222222,\"#7201a8\"],[0.3333333333333333,\"#9c179e\"],[0.4444444444444444,\"#bd3786\"],[0.5555555555555556,\"#d8576b\"],[0.6666666666666666,\"#ed7953\"],[0.7777777777777778,\"#fb9f3a\"],[0.8888888888888888,\"#fdca26\"],[1.0,\"#f0f921\"]]}],\"mesh3d\":[{\"type\":\"mesh3d\",\"colorbar\":{\"outlinewidth\":0,\"ticks\":\"\"}}],\"scatter\":[{\"fillpattern\":{\"fillmode\":\"overlay\",\"size\":10,\"solidity\":0.2},\"type\":\"scatter\"}],\"parcoords\":[{\"type\":\"parcoords\",\"line\":{\"colorbar\":{\"outlinewidth\":0,\"ticks\":\"\"}}}],\"scatterpolargl\":[{\"type\":\"scatterpolargl\",\"marker\":{\"colorbar\":{\"outlinewidth\":0,\"ticks\":\"\"}}}],\"bar\":[{\"error_x\":{\"color\":\"#2a3f5f\"},\"error_y\":{\"color\":\"#2a3f5f\"},\"marker\":{\"line\":{\"color\":\"#E5ECF6\",\"width\":0.5},\"pattern\":{\"fillmode\":\"overlay\",\"size\":10,\"solidity\":0.2}},\"type\":\"bar\"}],\"scattergeo\":[{\"type\":\"scattergeo\",\"marker\":{\"colorbar\":{\"outlinewidth\":0,\"ticks\":\"\"}}}],\"scatterpolar\":[{\"type\":\"scatterpolar\",\"marker\":{\"colorbar\":{\"outlinewidth\":0,\"ticks\":\"\"}}}],\"histogram\":[{\"marker\":{\"pattern\":{\"fillmode\":\"overlay\",\"size\":10,\"solidity\":0.2}},\"type\":\"histogram\"}],\"scattergl\":[{\"type\":\"scattergl\",\"marker\":{\"colorbar\":{\"outlinewidth\":0,\"ticks\":\"\"}}}],\"scatter3d\":[{\"type\":\"scatter3d\",\"line\":{\"colorbar\":{\"outlinewidth\":0,\"ticks\":\"\"}},\"marker\":{\"colorbar\":{\"outlinewidth\":0,\"ticks\":\"\"}}}],\"scattermapbox\":[{\"type\":\"scattermapbox\",\"marker\":{\"colorbar\":{\"outlinewidth\":0,\"ticks\":\"\"}}}],\"scatterternary\":[{\"type\":\"scatterternary\",\"marker\":{\"colorbar\":{\"outlinewidth\":0,\"ticks\":\"\"}}}],\"scattercarpet\":[{\"type\":\"scattercarpet\",\"marker\":{\"colorbar\":{\"outlinewidth\":0,\"ticks\":\"\"}}}],\"carpet\":[{\"aaxis\":{\"endlinecolor\":\"#2a3f5f\",\"gridcolor\":\"white\",\"linecolor\":\"white\",\"minorgridcolor\":\"white\",\"startlinecolor\":\"#2a3f5f\"},\"baxis\":{\"endlinecolor\":\"#2a3f5f\",\"gridcolor\":\"white\",\"linecolor\":\"white\",\"minorgridcolor\":\"white\",\"startlinecolor\":\"#2a3f5f\"},\"type\":\"carpet\"}],\"table\":[{\"cells\":{\"fill\":{\"color\":\"#EBF0F8\"},\"line\":{\"color\":\"white\"}},\"header\":{\"fill\":{\"color\":\"#C8D4E3\"},\"line\":{\"color\":\"white\"}},\"type\":\"table\"}],\"barpolar\":[{\"marker\":{\"line\":{\"color\":\"#E5ECF6\",\"width\":0.5},\"pattern\":{\"fillmode\":\"overlay\",\"size\":10,\"solidity\":0.2}},\"type\":\"barpolar\"}],\"pie\":[{\"automargin\":true,\"type\":\"pie\"}]},\"layout\":{\"autotypenumbers\":\"strict\",\"colorway\":[\"#636efa\",\"#EF553B\",\"#00cc96\",\"#ab63fa\",\"#FFA15A\",\"#19d3f3\",\"#FF6692\",\"#B6E880\",\"#FF97FF\",\"#FECB52\"],\"font\":{\"color\":\"#2a3f5f\"},\"hovermode\":\"closest\",\"hoverlabel\":{\"align\":\"left\"},\"paper_bgcolor\":\"white\",\"plot_bgcolor\":\"#E5ECF6\",\"polar\":{\"bgcolor\":\"#E5ECF6\",\"angularaxis\":{\"gridcolor\":\"white\",\"linecolor\":\"white\",\"ticks\":\"\"},\"radialaxis\":{\"gridcolor\":\"white\",\"linecolor\":\"white\",\"ticks\":\"\"}},\"ternary\":{\"bgcolor\":\"#E5ECF6\",\"aaxis\":{\"gridcolor\":\"white\",\"linecolor\":\"white\",\"ticks\":\"\"},\"baxis\":{\"gridcolor\":\"white\",\"linecolor\":\"white\",\"ticks\":\"\"},\"caxis\":{\"gridcolor\":\"white\",\"linecolor\":\"white\",\"ticks\":\"\"}},\"coloraxis\":{\"colorbar\":{\"outlinewidth\":0,\"ticks\":\"\"}},\"colorscale\":{\"sequential\":[[0.0,\"#0d0887\"],[0.1111111111111111,\"#46039f\"],[0.2222222222222222,\"#7201a8\"],[0.3333333333333333,\"#9c179e\"],[0.4444444444444444,\"#bd3786\"],[0.5555555555555556,\"#d8576b\"],[0.6666666666666666,\"#ed7953\"],[0.7777777777777778,\"#fb9f3a\"],[0.8888888888888888,\"#fdca26\"],[1.0,\"#f0f921\"]],\"sequentialminus\":[[0.0,\"#0d0887\"],[0.1111111111111111,\"#46039f\"],[0.2222222222222222,\"#7201a8\"],[0.3333333333333333,\"#9c179e\"],[0.4444444444444444,\"#bd3786\"],[0.5555555555555556,\"#d8576b\"],[0.6666666666666666,\"#ed7953\"],[0.7777777777777778,\"#fb9f3a\"],[0.8888888888888888,\"#fdca26\"],[1.0,\"#f0f921\"]],\"diverging\":[[0,\"#8e0152\"],[0.1,\"#c51b7d\"],[0.2,\"#de77ae\"],[0.3,\"#f1b6da\"],[0.4,\"#fde0ef\"],[0.5,\"#f7f7f7\"],[0.6,\"#e6f5d0\"],[0.7,\"#b8e186\"],[0.8,\"#7fbc41\"],[0.9,\"#4d9221\"],[1,\"#276419\"]]},\"xaxis\":{\"gridcolor\":\"white\",\"linecolor\":\"white\",\"ticks\":\"\",\"title\":{\"standoff\":15},\"zerolinecolor\":\"white\",\"automargin\":true,\"zerolinewidth\":2},\"yaxis\":{\"gridcolor\":\"white\",\"linecolor\":\"white\",\"ticks\":\"\",\"title\":{\"standoff\":15},\"zerolinecolor\":\"white\",\"automargin\":true,\"zerolinewidth\":2},\"scene\":{\"xaxis\":{\"backgroundcolor\":\"#E5ECF6\",\"gridcolor\":\"white\",\"linecolor\":\"white\",\"showbackground\":true,\"ticks\":\"\",\"zerolinecolor\":\"white\",\"gridwidth\":2},\"yaxis\":{\"backgroundcolor\":\"#E5ECF6\",\"gridcolor\":\"white\",\"linecolor\":\"white\",\"showbackground\":true,\"ticks\":\"\",\"zerolinecolor\":\"white\",\"gridwidth\":2},\"zaxis\":{\"backgroundcolor\":\"#E5ECF6\",\"gridcolor\":\"white\",\"linecolor\":\"white\",\"showbackground\":true,\"ticks\":\"\",\"zerolinecolor\":\"white\",\"gridwidth\":2}},\"shapedefaults\":{\"line\":{\"color\":\"#2a3f5f\"}},\"annotationdefaults\":{\"arrowcolor\":\"#2a3f5f\",\"arrowhead\":0,\"arrowwidth\":1},\"geo\":{\"bgcolor\":\"white\",\"landcolor\":\"#E5ECF6\",\"subunitcolor\":\"white\",\"showland\":true,\"showlakes\":true,\"lakecolor\":\"white\"},\"title\":{\"x\":0.05},\"mapbox\":{\"style\":\"light\"}}},\"xaxis\":{\"anchor\":\"y\",\"domain\":[0.0,1.0],\"title\":{\"text\":\"Institution\"}},\"yaxis\":{\"anchor\":\"x\",\"domain\":[0.0,1.0],\"title\":{\"text\":\"Number of Researchers\"}},\"legend\":{\"tracegroupgap\":0},\"title\":{\"text\":\"Top 10 Research Institutions\"},\"barmode\":\"relative\"}}', 'yearly_trends': '{\"data\":[{\"hovertemplate\":\"Year=%{x}\\\\u003cbr\\\\u003ePapers Published=%{y}\\\\u003cextra\\\\u003e\\\\u003c\\\\u002fextra\\\\u003e\",\"legendgroup\":\"\",\"line\":{\"color\":\"#636efa\",\"dash\":\"solid\"},\"marker\":{\"symbol\":\"circle\"},\"mode\":\"lines\",\"name\":\"\",\"orientation\":\"v\",\"showlegend\":false,\"x\":[1935,1985,1988,1993,2000,2005,2007,2009],\"xaxis\":\"x\",\"y\":[1,1,1,1,1,2,1,2],\"yaxis\":\"y\",\"type\":\"scatter\"}],\"layout\":{\"template\":{\"data\":{\"histogram2dcontour\":[{\"type\":\"histogram2dcontour\",\"colorbar\":{\"outlinewidth\":0,\"ticks\":\"\"},\"colorscale\":[[0.0,\"#0d0887\"],[0.1111111111111111,\"#46039f\"],[0.2222222222222222,\"#7201a8\"],[0.3333333333333333,\"#9c179e\"],[0.4444444444444444,\"#bd3786\"],[0.5555555555555556,\"#d8576b\"],[0.6666666666666666,\"#ed7953\"],[0.7777777777777778,\"#fb9f3a\"],[0.8888888888888888,\"#fdca26\"],[1.0,\"#f0f921\"]]}],\"choropleth\":[{\"type\":\"choropleth\",\"colorbar\":{\"outlinewidth\":0,\"ticks\":\"\"}}],\"histogram2d\":[{\"type\":\"histogram2d\",\"colorbar\":{\"outlinewidth\":0,\"ticks\":\"\"},\"colorscale\":[[0.0,\"#0d0887\"],[0.1111111111111111,\"#46039f\"],[0.2222222222222222,\"#7201a8\"],[0.3333333333333333,\"#9c179e\"],[0.4444444444444444,\"#bd3786\"],[0.5555555555555556,\"#d8576b\"],[0.6666666666666666,\"#ed7953\"],[0.7777777777777778,\"#fb9f3a\"],[0.8888888888888888,\"#fdca26\"],[1.0,\"#f0f921\"]]}],\"heatmap\":[{\"type\":\"heatmap\",\"colorbar\":{\"outlinewidth\":0,\"ticks\":\"\"},\"colorscale\":[[0.0,\"#0d0887\"],[0.1111111111111111,\"#46039f\"],[0.2222222222222222,\"#7201a8\"],[0.3333333333333333,\"#9c179e\"],[0.4444444444444444,\"#bd3786\"],[0.5555555555555556,\"#d8576b\"],[0.6666666666666666,\"#ed7953\"],[0.7777777777777778,\"#fb9f3a\"],[0.8888888888888888,\"#fdca26\"],[1.0,\"#f0f921\"]]}],\"heatmapgl\":[{\"type\":\"heatmapgl\",\"colorbar\":{\"outlinewidth\":0,\"ticks\":\"\"},\"colorscale\":[[0.0,\"#0d0887\"],[0.1111111111111111,\"#46039f\"],[0.2222222222222222,\"#7201a8\"],[0.3333333333333333,\"#9c179e\"],[0.4444444444444444,\"#bd3786\"],[0.5555555555555556,\"#d8576b\"],[0.6666666666666666,\"#ed7953\"],[0.7777777777777778,\"#fb9f3a\"],[0.8888888888888888,\"#fdca26\"],[1.0,\"#f0f921\"]]}],\"contourcarpet\":[{\"type\":\"contourcarpet\",\"colorbar\":{\"outlinewidth\":0,\"ticks\":\"\"}}],\"contour\":[{\"type\":\"contour\",\"colorbar\":{\"outlinewidth\":0,\"ticks\":\"\"},\"colorscale\":[[0.0,\"#0d0887\"],[0.1111111111111111,\"#46039f\"],[0.2222222222222222,\"#7201a8\"],[0.3333333333333333,\"#9c179e\"],[0.4444444444444444,\"#bd3786\"],[0.5555555555555556,\"#d8576b\"],[0.6666666666666666,\"#ed7953\"],[0.7777777777777778,\"#fb9f3a\"],[0.8888888888888888,\"#fdca26\"],[1.0,\"#f0f921\"]]}],\"surface\":[{\"type\":\"surface\",\"colorbar\":{\"outlinewidth\":0,\"ticks\":\"\"},\"colorscale\":[[0.0,\"#0d0887\"],[0.1111111111111111,\"#46039f\"],[0.2222222222222222,\"#7201a8\"],[0.3333333333333333,\"#9c179e\"],[0.4444444444444444,\"#bd3786\"],[0.5555555555555556,\"#d8576b\"],[0.6666666666666666,\"#ed7953\"],[0.7777777777777778,\"#fb9f3a\"],[0.8888888888888888,\"#fdca26\"],[1.0,\"#f0f921\"]]}],\"mesh3d\":[{\"type\":\"mesh3d\",\"colorbar\":{\"outlinewidth\":0,\"ticks\":\"\"}}],\"scatter\":[{\"fillpattern\":{\"fillmode\":\"overlay\",\"size\":10,\"solidity\":0.2},\"type\":\"scatter\"}],\"parcoords\":[{\"type\":\"parcoords\",\"line\":{\"colorbar\":{\"outlinewidth\":0,\"ticks\":\"\"}}}],\"scatterpolargl\":[{\"type\":\"scatterpolargl\",\"marker\":{\"colorbar\":{\"outlinewidth\":0,\"ticks\":\"\"}}}],\"bar\":[{\"error_x\":{\"color\":\"#2a3f5f\"},\"error_y\":{\"color\":\"#2a3f5f\"},\"marker\":{\"line\":{\"color\":\"#E5ECF6\",\"width\":0.5},\"pattern\":{\"fillmode\":\"overlay\",\"size\":10,\"solidity\":0.2}},\"type\":\"bar\"}],\"scattergeo\":[{\"type\":\"scattergeo\",\"marker\":{\"colorbar\":{\"outlinewidth\":0,\"ticks\":\"\"}}}],\"scatterpolar\":[{\"type\":\"scatterpolar\",\"marker\":{\"colorbar\":{\"outlinewidth\":0,\"ticks\":\"\"}}}],\"histogram\":[{\"marker\":{\"pattern\":{\"fillmode\":\"overlay\",\"size\":10,\"solidity\":0.2}},\"type\":\"histogram\"}],\"scattergl\":[{\"type\":\"scattergl\",\"marker\":{\"colorbar\":{\"outlinewidth\":0,\"ticks\":\"\"}}}],\"scatter3d\":[{\"type\":\"scatter3d\",\"line\":{\"colorbar\":{\"outlinewidth\":0,\"ticks\":\"\"}},\"marker\":{\"colorbar\":{\"outlinewidth\":0,\"ticks\":\"\"}}}],\"scattermapbox\":[{\"type\":\"scattermapbox\",\"marker\":{\"colorbar\":{\"outlinewidth\":0,\"ticks\":\"\"}}}],\"scatterternary\":[{\"type\":\"scatterternary\",\"marker\":{\"colorbar\":{\"outlinewidth\":0,\"ticks\":\"\"}}}],\"scattercarpet\":[{\"type\":\"scattercarpet\",\"marker\":{\"colorbar\":{\"outlinewidth\":0,\"ticks\":\"\"}}}],\"carpet\":[{\"aaxis\":{\"endlinecolor\":\"#2a3f5f\",\"gridcolor\":\"white\",\"linecolor\":\"white\",\"minorgridcolor\":\"white\",\"startlinecolor\":\"#2a3f5f\"},\"baxis\":{\"endlinecolor\":\"#2a3f5f\",\"gridcolor\":\"white\",\"linecolor\":\"white\",\"minorgridcolor\":\"white\",\"startlinecolor\":\"#2a3f5f\"},\"type\":\"carpet\"}],\"table\":[{\"cells\":{\"fill\":{\"color\":\"#EBF0F8\"},\"line\":{\"color\":\"white\"}},\"header\":{\"fill\":{\"color\":\"#C8D4E3\"},\"line\":{\"color\":\"white\"}},\"type\":\"table\"}],\"barpolar\":[{\"marker\":{\"line\":{\"color\":\"#E5ECF6\",\"width\":0.5},\"pattern\":{\"fillmode\":\"overlay\",\"size\":10,\"solidity\":0.2}},\"type\":\"barpolar\"}],\"pie\":[{\"automargin\":true,\"type\":\"pie\"}]},\"layout\":{\"autotypenumbers\":\"strict\",\"colorway\":[\"#636efa\",\"#EF553B\",\"#00cc96\",\"#ab63fa\",\"#FFA15A\",\"#19d3f3\",\"#FF6692\",\"#B6E880\",\"#FF97FF\",\"#FECB52\"],\"font\":{\"color\":\"#2a3f5f\"},\"hovermode\":\"closest\",\"hoverlabel\":{\"align\":\"left\"},\"paper_bgcolor\":\"white\",\"plot_bgcolor\":\"#E5ECF6\",\"polar\":{\"bgcolor\":\"#E5ECF6\",\"angularaxis\":{\"gridcolor\":\"white\",\"linecolor\":\"white\",\"ticks\":\"\"},\"radialaxis\":{\"gridcolor\":\"white\",\"linecolor\":\"white\",\"ticks\":\"\"}},\"ternary\":{\"bgcolor\":\"#E5ECF6\",\"aaxis\":{\"gridcolor\":\"white\",\"linecolor\":\"white\",\"ticks\":\"\"},\"baxis\":{\"gridcolor\":\"white\",\"linecolor\":\"white\",\"ticks\":\"\"},\"caxis\":{\"gridcolor\":\"white\",\"linecolor\":\"white\",\"ticks\":\"\"}},\"coloraxis\":{\"colorbar\":{\"outlinewidth\":0,\"ticks\":\"\"}},\"colorscale\":{\"sequential\":[[0.0,\"#0d0887\"],[0.1111111111111111,\"#46039f\"],[0.2222222222222222,\"#7201a8\"],[0.3333333333333333,\"#9c179e\"],[0.4444444444444444,\"#bd3786\"],[0.5555555555555556,\"#d8576b\"],[0.6666666666666666,\"#ed7953\"],[0.7777777777777778,\"#fb9f3a\"],[0.8888888888888888,\"#fdca26\"],[1.0,\"#f0f921\"]],\"sequentialminus\":[[0.0,\"#0d0887\"],[0.1111111111111111,\"#46039f\"],[0.2222222222222222,\"#7201a8\"],[0.3333333333333333,\"#9c179e\"],[0.4444444444444444,\"#bd3786\"],[0.5555555555555556,\"#d8576b\"],[0.6666666666666666,\"#ed7953\"],[0.7777777777777778,\"#fb9f3a\"],[0.8888888888888888,\"#fdca26\"],[1.0,\"#f0f921\"]],\"diverging\":[[0,\"#8e0152\"],[0.1,\"#c51b7d\"],[0.2,\"#de77ae\"],[0.3,\"#f1b6da\"],[0.4,\"#fde0ef\"],[0.5,\"#f7f7f7\"],[0.6,\"#e6f5d0\"],[0.7,\"#b8e186\"],[0.8,\"#7fbc41\"],[0.9,\"#4d9221\"],[1,\"#276419\"]]},\"xaxis\":{\"gridcolor\":\"white\",\"linecolor\":\"white\",\"ticks\":\"\",\"title\":{\"standoff\":15},\"zerolinecolor\":\"white\",\"automargin\":true,\"zerolinewidth\":2},\"yaxis\":{\"gridcolor\":\"white\",\"linecolor\":\"white\",\"ticks\":\"\",\"title\":{\"standoff\":15},\"zerolinecolor\":\"white\",\"automargin\":true,\"zerolinewidth\":2},\"scene\":{\"xaxis\":{\"backgroundcolor\":\"#E5ECF6\",\"gridcolor\":\"white\",\"linecolor\":\"white\",\"showbackground\":true,\"ticks\":\"\",\"zerolinecolor\":\"white\",\"gridwidth\":2},\"yaxis\":{\"backgroundcolor\":\"#E5ECF6\",\"gridcolor\":\"white\",\"linecolor\":\"white\",\"showbackground\":true,\"ticks\":\"\",\"zerolinecolor\":\"white\",\"gridwidth\":2},\"zaxis\":{\"backgroundcolor\":\"#E5ECF6\",\"gridcolor\":\"white\",\"linecolor\":\"white\",\"showbackground\":true,\"ticks\":\"\",\"zerolinecolor\":\"white\",\"gridwidth\":2}},\"shapedefaults\":{\"line\":{\"color\":\"#2a3f5f\"}},\"annotationdefaults\":{\"arrowcolor\":\"#2a3f5f\",\"arrowhead\":0,\"arrowwidth\":1},\"geo\":{\"bgcolor\":\"white\",\"landcolor\":\"#E5ECF6\",\"subunitcolor\":\"white\",\"showland\":true,\"showlakes\":true,\"lakecolor\":\"white\"},\"title\":{\"x\":0.05},\"mapbox\":{\"style\":\"light\"}}},\"xaxis\":{\"anchor\":\"y\",\"domain\":[0.0,1.0],\"title\":{\"text\":\"Year\"}},\"yaxis\":{\"anchor\":\"x\",\"domain\":[0.0,1.0],\"title\":{\"text\":\"Papers Published\"}},\"legend\":{\"tracegroupgap\":0},\"title\":{\"text\":\"Yearly Publication Trends\"}}}'}})]}\n"
          ]
        }
      ]
    },
    {
      "cell_type": "code",
      "source": [
        "plotly_plots = captured_response['intermediate_steps'][2][1][\"plots\"]\n",
        "\n",
        "\n",
        "import plotly.io as pio\n",
        "\n",
        "for key, fig_json in plotly_plots.items():\n",
        "    fig = pio.from_json(fig_json)\n",
        "    fig.show()"
      ],
      "metadata": {
        "colab": {
          "base_uri": "https://localhost:8080/",
          "height": 1000
        },
        "id": "6AQ15nxXI3Kx",
        "outputId": "268f7d5a-ae35-40ac-ba46-0b4ac54d66d5"
      },
      "execution_count": 36,
      "outputs": [
        {
          "output_type": "display_data",
          "data": {
            "text/html": [
              "<html>\n",
              "<head><meta charset=\"utf-8\" /></head>\n",
              "<body>\n",
              "    <div>            <script src=\"https://cdnjs.cloudflare.com/ajax/libs/mathjax/2.7.5/MathJax.js?config=TeX-AMS-MML_SVG\"></script><script type=\"text/javascript\">if (window.MathJax && window.MathJax.Hub && window.MathJax.Hub.Config) {window.MathJax.Hub.Config({SVG: {font: \"STIX-Web\"}});}</script>                <script type=\"text/javascript\">window.PlotlyConfig = {MathJaxConfig: 'local'};</script>\n",
              "        <script charset=\"utf-8\" src=\"https://cdn.plot.ly/plotly-2.35.2.min.js\"></script>                <div id=\"3651ff27-5809-40a6-bda0-c9f3187fc0ab\" class=\"plotly-graph-div\" style=\"height:525px; width:100%;\"></div>            <script type=\"text/javascript\">                                    window.PLOTLYENV=window.PLOTLYENV || {};                                    if (document.getElementById(\"3651ff27-5809-40a6-bda0-c9f3187fc0ab\")) {                    Plotly.newPlot(                        \"3651ff27-5809-40a6-bda0-c9f3187fc0ab\",                        [{\"coloraxis\":\"coloraxis\",\"geo\":\"geo\",\"hovertemplate\":\"country=%{location}\\u003cbr\\u003ecount=%{z}\\u003cextra\\u003e\\u003c\\u002fextra\\u003e\",\"locationmode\":\"country names\",\"locations\":[\"Russia\",\"United States\",\"United Kingdom\",\"Austria\",\"Netherlands\",\"UNKNOWN\",\"Switzerland\",\"Singapore\",\"Spain\",\"Portugal\",\"Australia\",\"Germany\",\"Israel\"],\"name\":\"\",\"z\":[11,8,3,2,1,1,1,1,1,1,1,1,1],\"type\":\"choropleth\"}],                        {\"coloraxis\":{\"colorbar\":{\"title\":{\"text\":\"count\"}},\"colorscale\":[[0.0,\"rgb(247,251,255)\"],[0.125,\"rgb(222,235,247)\"],[0.25,\"rgb(198,219,239)\"],[0.375,\"rgb(158,202,225)\"],[0.5,\"rgb(107,174,214)\"],[0.625,\"rgb(66,146,198)\"],[0.75,\"rgb(33,113,181)\"],[0.875,\"rgb(8,81,156)\"],[1.0,\"rgb(8,48,107)\"]]},\"geo\":{\"domain\":{\"x\":[0.0,1.0],\"y\":[0.0,1.0]}},\"legend\":{\"tracegroupgap\":0},\"template\":{\"data\":{\"barpolar\":[{\"marker\":{\"line\":{\"color\":\"#E5ECF6\",\"width\":0.5},\"pattern\":{\"fillmode\":\"overlay\",\"size\":10,\"solidity\":0.2}},\"type\":\"barpolar\"}],\"bar\":[{\"error_x\":{\"color\":\"#2a3f5f\"},\"error_y\":{\"color\":\"#2a3f5f\"},\"marker\":{\"line\":{\"color\":\"#E5ECF6\",\"width\":0.5},\"pattern\":{\"fillmode\":\"overlay\",\"size\":10,\"solidity\":0.2}},\"type\":\"bar\"}],\"carpet\":[{\"aaxis\":{\"endlinecolor\":\"#2a3f5f\",\"gridcolor\":\"white\",\"linecolor\":\"white\",\"minorgridcolor\":\"white\",\"startlinecolor\":\"#2a3f5f\"},\"baxis\":{\"endlinecolor\":\"#2a3f5f\",\"gridcolor\":\"white\",\"linecolor\":\"white\",\"minorgridcolor\":\"white\",\"startlinecolor\":\"#2a3f5f\"},\"type\":\"carpet\"}],\"choropleth\":[{\"colorbar\":{\"outlinewidth\":0,\"ticks\":\"\"},\"type\":\"choropleth\"}],\"contourcarpet\":[{\"colorbar\":{\"outlinewidth\":0,\"ticks\":\"\"},\"type\":\"contourcarpet\"}],\"contour\":[{\"colorbar\":{\"outlinewidth\":0,\"ticks\":\"\"},\"colorscale\":[[0.0,\"#0d0887\"],[0.1111111111111111,\"#46039f\"],[0.2222222222222222,\"#7201a8\"],[0.3333333333333333,\"#9c179e\"],[0.4444444444444444,\"#bd3786\"],[0.5555555555555556,\"#d8576b\"],[0.6666666666666666,\"#ed7953\"],[0.7777777777777778,\"#fb9f3a\"],[0.8888888888888888,\"#fdca26\"],[1.0,\"#f0f921\"]],\"type\":\"contour\"}],\"heatmapgl\":[{\"colorbar\":{\"outlinewidth\":0,\"ticks\":\"\"},\"colorscale\":[[0.0,\"#0d0887\"],[0.1111111111111111,\"#46039f\"],[0.2222222222222222,\"#7201a8\"],[0.3333333333333333,\"#9c179e\"],[0.4444444444444444,\"#bd3786\"],[0.5555555555555556,\"#d8576b\"],[0.6666666666666666,\"#ed7953\"],[0.7777777777777778,\"#fb9f3a\"],[0.8888888888888888,\"#fdca26\"],[1.0,\"#f0f921\"]],\"type\":\"heatmapgl\"}],\"heatmap\":[{\"colorbar\":{\"outlinewidth\":0,\"ticks\":\"\"},\"colorscale\":[[0.0,\"#0d0887\"],[0.1111111111111111,\"#46039f\"],[0.2222222222222222,\"#7201a8\"],[0.3333333333333333,\"#9c179e\"],[0.4444444444444444,\"#bd3786\"],[0.5555555555555556,\"#d8576b\"],[0.6666666666666666,\"#ed7953\"],[0.7777777777777778,\"#fb9f3a\"],[0.8888888888888888,\"#fdca26\"],[1.0,\"#f0f921\"]],\"type\":\"heatmap\"}],\"histogram2dcontour\":[{\"colorbar\":{\"outlinewidth\":0,\"ticks\":\"\"},\"colorscale\":[[0.0,\"#0d0887\"],[0.1111111111111111,\"#46039f\"],[0.2222222222222222,\"#7201a8\"],[0.3333333333333333,\"#9c179e\"],[0.4444444444444444,\"#bd3786\"],[0.5555555555555556,\"#d8576b\"],[0.6666666666666666,\"#ed7953\"],[0.7777777777777778,\"#fb9f3a\"],[0.8888888888888888,\"#fdca26\"],[1.0,\"#f0f921\"]],\"type\":\"histogram2dcontour\"}],\"histogram2d\":[{\"colorbar\":{\"outlinewidth\":0,\"ticks\":\"\"},\"colorscale\":[[0.0,\"#0d0887\"],[0.1111111111111111,\"#46039f\"],[0.2222222222222222,\"#7201a8\"],[0.3333333333333333,\"#9c179e\"],[0.4444444444444444,\"#bd3786\"],[0.5555555555555556,\"#d8576b\"],[0.6666666666666666,\"#ed7953\"],[0.7777777777777778,\"#fb9f3a\"],[0.8888888888888888,\"#fdca26\"],[1.0,\"#f0f921\"]],\"type\":\"histogram2d\"}],\"histogram\":[{\"marker\":{\"pattern\":{\"fillmode\":\"overlay\",\"size\":10,\"solidity\":0.2}},\"type\":\"histogram\"}],\"mesh3d\":[{\"colorbar\":{\"outlinewidth\":0,\"ticks\":\"\"},\"type\":\"mesh3d\"}],\"parcoords\":[{\"line\":{\"colorbar\":{\"outlinewidth\":0,\"ticks\":\"\"}},\"type\":\"parcoords\"}],\"pie\":[{\"automargin\":true,\"type\":\"pie\"}],\"scatter3d\":[{\"line\":{\"colorbar\":{\"outlinewidth\":0,\"ticks\":\"\"}},\"marker\":{\"colorbar\":{\"outlinewidth\":0,\"ticks\":\"\"}},\"type\":\"scatter3d\"}],\"scattercarpet\":[{\"marker\":{\"colorbar\":{\"outlinewidth\":0,\"ticks\":\"\"}},\"type\":\"scattercarpet\"}],\"scattergeo\":[{\"marker\":{\"colorbar\":{\"outlinewidth\":0,\"ticks\":\"\"}},\"type\":\"scattergeo\"}],\"scattergl\":[{\"marker\":{\"colorbar\":{\"outlinewidth\":0,\"ticks\":\"\"}},\"type\":\"scattergl\"}],\"scattermapbox\":[{\"marker\":{\"colorbar\":{\"outlinewidth\":0,\"ticks\":\"\"}},\"type\":\"scattermapbox\"}],\"scatterpolargl\":[{\"marker\":{\"colorbar\":{\"outlinewidth\":0,\"ticks\":\"\"}},\"type\":\"scatterpolargl\"}],\"scatterpolar\":[{\"marker\":{\"colorbar\":{\"outlinewidth\":0,\"ticks\":\"\"}},\"type\":\"scatterpolar\"}],\"scatter\":[{\"fillpattern\":{\"fillmode\":\"overlay\",\"size\":10,\"solidity\":0.2},\"type\":\"scatter\"}],\"scatterternary\":[{\"marker\":{\"colorbar\":{\"outlinewidth\":0,\"ticks\":\"\"}},\"type\":\"scatterternary\"}],\"surface\":[{\"colorbar\":{\"outlinewidth\":0,\"ticks\":\"\"},\"colorscale\":[[0.0,\"#0d0887\"],[0.1111111111111111,\"#46039f\"],[0.2222222222222222,\"#7201a8\"],[0.3333333333333333,\"#9c179e\"],[0.4444444444444444,\"#bd3786\"],[0.5555555555555556,\"#d8576b\"],[0.6666666666666666,\"#ed7953\"],[0.7777777777777778,\"#fb9f3a\"],[0.8888888888888888,\"#fdca26\"],[1.0,\"#f0f921\"]],\"type\":\"surface\"}],\"table\":[{\"cells\":{\"fill\":{\"color\":\"#EBF0F8\"},\"line\":{\"color\":\"white\"}},\"header\":{\"fill\":{\"color\":\"#C8D4E3\"},\"line\":{\"color\":\"white\"}},\"type\":\"table\"}]},\"layout\":{\"annotationdefaults\":{\"arrowcolor\":\"#2a3f5f\",\"arrowhead\":0,\"arrowwidth\":1},\"autotypenumbers\":\"strict\",\"coloraxis\":{\"colorbar\":{\"outlinewidth\":0,\"ticks\":\"\"}},\"colorscale\":{\"diverging\":[[0,\"#8e0152\"],[0.1,\"#c51b7d\"],[0.2,\"#de77ae\"],[0.3,\"#f1b6da\"],[0.4,\"#fde0ef\"],[0.5,\"#f7f7f7\"],[0.6,\"#e6f5d0\"],[0.7,\"#b8e186\"],[0.8,\"#7fbc41\"],[0.9,\"#4d9221\"],[1,\"#276419\"]],\"sequential\":[[0.0,\"#0d0887\"],[0.1111111111111111,\"#46039f\"],[0.2222222222222222,\"#7201a8\"],[0.3333333333333333,\"#9c179e\"],[0.4444444444444444,\"#bd3786\"],[0.5555555555555556,\"#d8576b\"],[0.6666666666666666,\"#ed7953\"],[0.7777777777777778,\"#fb9f3a\"],[0.8888888888888888,\"#fdca26\"],[1.0,\"#f0f921\"]],\"sequentialminus\":[[0.0,\"#0d0887\"],[0.1111111111111111,\"#46039f\"],[0.2222222222222222,\"#7201a8\"],[0.3333333333333333,\"#9c179e\"],[0.4444444444444444,\"#bd3786\"],[0.5555555555555556,\"#d8576b\"],[0.6666666666666666,\"#ed7953\"],[0.7777777777777778,\"#fb9f3a\"],[0.8888888888888888,\"#fdca26\"],[1.0,\"#f0f921\"]]},\"colorway\":[\"#636efa\",\"#EF553B\",\"#00cc96\",\"#ab63fa\",\"#FFA15A\",\"#19d3f3\",\"#FF6692\",\"#B6E880\",\"#FF97FF\",\"#FECB52\"],\"font\":{\"color\":\"#2a3f5f\"},\"geo\":{\"bgcolor\":\"white\",\"lakecolor\":\"white\",\"landcolor\":\"#E5ECF6\",\"showlakes\":true,\"showland\":true,\"subunitcolor\":\"white\"},\"hoverlabel\":{\"align\":\"left\"},\"hovermode\":\"closest\",\"mapbox\":{\"style\":\"light\"},\"paper_bgcolor\":\"white\",\"plot_bgcolor\":\"#E5ECF6\",\"polar\":{\"angularaxis\":{\"gridcolor\":\"white\",\"linecolor\":\"white\",\"ticks\":\"\"},\"bgcolor\":\"#E5ECF6\",\"radialaxis\":{\"gridcolor\":\"white\",\"linecolor\":\"white\",\"ticks\":\"\"}},\"scene\":{\"xaxis\":{\"backgroundcolor\":\"#E5ECF6\",\"gridcolor\":\"white\",\"gridwidth\":2,\"linecolor\":\"white\",\"showbackground\":true,\"ticks\":\"\",\"zerolinecolor\":\"white\"},\"yaxis\":{\"backgroundcolor\":\"#E5ECF6\",\"gridcolor\":\"white\",\"gridwidth\":2,\"linecolor\":\"white\",\"showbackground\":true,\"ticks\":\"\",\"zerolinecolor\":\"white\"},\"zaxis\":{\"backgroundcolor\":\"#E5ECF6\",\"gridcolor\":\"white\",\"gridwidth\":2,\"linecolor\":\"white\",\"showbackground\":true,\"ticks\":\"\",\"zerolinecolor\":\"white\"}},\"shapedefaults\":{\"line\":{\"color\":\"#2a3f5f\"}},\"ternary\":{\"aaxis\":{\"gridcolor\":\"white\",\"linecolor\":\"white\",\"ticks\":\"\"},\"baxis\":{\"gridcolor\":\"white\",\"linecolor\":\"white\",\"ticks\":\"\"},\"bgcolor\":\"#E5ECF6\",\"caxis\":{\"gridcolor\":\"white\",\"linecolor\":\"white\",\"ticks\":\"\"}},\"title\":{\"x\":0.05},\"xaxis\":{\"automargin\":true,\"gridcolor\":\"white\",\"linecolor\":\"white\",\"ticks\":\"\",\"title\":{\"standoff\":15},\"zerolinecolor\":\"white\",\"zerolinewidth\":2},\"yaxis\":{\"automargin\":true,\"gridcolor\":\"white\",\"linecolor\":\"white\",\"ticks\":\"\",\"title\":{\"standoff\":15},\"zerolinecolor\":\"white\",\"zerolinewidth\":2}}},\"title\":{\"text\":\"Researcher Distribution by Country\"}},                        {\"responsive\": true}                    ).then(function(){\n",
              "                            \n",
              "var gd = document.getElementById('3651ff27-5809-40a6-bda0-c9f3187fc0ab');\n",
              "var x = new MutationObserver(function (mutations, observer) {{\n",
              "        var display = window.getComputedStyle(gd).display;\n",
              "        if (!display || display === 'none') {{\n",
              "            console.log([gd, 'removed!']);\n",
              "            Plotly.purge(gd);\n",
              "            observer.disconnect();\n",
              "        }}\n",
              "}});\n",
              "\n",
              "// Listen for the removal of the full notebook cells\n",
              "var notebookContainer = gd.closest('#notebook-container');\n",
              "if (notebookContainer) {{\n",
              "    x.observe(notebookContainer, {childList: true});\n",
              "}}\n",
              "\n",
              "// Listen for the clearing of the current output cell\n",
              "var outputEl = gd.closest('.output');\n",
              "if (outputEl) {{\n",
              "    x.observe(outputEl, {childList: true});\n",
              "}}\n",
              "\n",
              "                        })                };                            </script>        </div>\n",
              "</body>\n",
              "</html>"
            ]
          },
          "metadata": {}
        },
        {
          "output_type": "display_data",
          "data": {
            "text/html": [
              "<html>\n",
              "<head><meta charset=\"utf-8\" /></head>\n",
              "<body>\n",
              "    <div>            <script src=\"https://cdnjs.cloudflare.com/ajax/libs/mathjax/2.7.5/MathJax.js?config=TeX-AMS-MML_SVG\"></script><script type=\"text/javascript\">if (window.MathJax && window.MathJax.Hub && window.MathJax.Hub.Config) {window.MathJax.Hub.Config({SVG: {font: \"STIX-Web\"}});}</script>                <script type=\"text/javascript\">window.PlotlyConfig = {MathJaxConfig: 'local'};</script>\n",
              "        <script charset=\"utf-8\" src=\"https://cdn.plot.ly/plotly-2.35.2.min.js\"></script>                <div id=\"74dfe412-9196-419d-b50d-6a474a5d4355\" class=\"plotly-graph-div\" style=\"height:525px; width:100%;\"></div>            <script type=\"text/javascript\">                                    window.PLOTLYENV=window.PLOTLYENV || {};                                    if (document.getElementById(\"74dfe412-9196-419d-b50d-6a474a5d4355\")) {                    Plotly.newPlot(                        \"74dfe412-9196-419d-b50d-6a474a5d4355\",                        [{\"alignmentgroup\":\"True\",\"hovertemplate\":\"Institution=%{x}\\u003cbr\\u003eNumber of Researchers=%{y}\\u003cextra\\u003e\\u003c\\u002fextra\\u003e\",\"legendgroup\":\"\",\"marker\":{\"color\":\"#636efa\",\"pattern\":{\"shape\":\"\"}},\"name\":\"\",\"offsetgroup\":\"\",\"orientation\":\"v\",\"showlegend\":false,\"textposition\":\"auto\",\"x\":[\"Institute of Microelectronics Technology and High Purity Materials\",\"Columbia University\",\"Institute for Advanced Study\",\"TU Wien\",\"University of Queensland\",\"University of Cologne\",\"University of Southampton\",\"H. H. Wills Physics Laboratory| Tyndall Avenue Bristol BS8 1 TL| UK\",\"Emory University\",\"C-404A| Bell Labs| 600 Mountain Avenue| Murray Hill| New Jersey 07974\"],\"xaxis\":\"x\",\"y\":[11,3,2,2,1,1,1,1,1,1],\"yaxis\":\"y\",\"type\":\"bar\"}],                        {\"barmode\":\"relative\",\"legend\":{\"tracegroupgap\":0},\"template\":{\"data\":{\"barpolar\":[{\"marker\":{\"line\":{\"color\":\"#E5ECF6\",\"width\":0.5},\"pattern\":{\"fillmode\":\"overlay\",\"size\":10,\"solidity\":0.2}},\"type\":\"barpolar\"}],\"bar\":[{\"error_x\":{\"color\":\"#2a3f5f\"},\"error_y\":{\"color\":\"#2a3f5f\"},\"marker\":{\"line\":{\"color\":\"#E5ECF6\",\"width\":0.5},\"pattern\":{\"fillmode\":\"overlay\",\"size\":10,\"solidity\":0.2}},\"type\":\"bar\"}],\"carpet\":[{\"aaxis\":{\"endlinecolor\":\"#2a3f5f\",\"gridcolor\":\"white\",\"linecolor\":\"white\",\"minorgridcolor\":\"white\",\"startlinecolor\":\"#2a3f5f\"},\"baxis\":{\"endlinecolor\":\"#2a3f5f\",\"gridcolor\":\"white\",\"linecolor\":\"white\",\"minorgridcolor\":\"white\",\"startlinecolor\":\"#2a3f5f\"},\"type\":\"carpet\"}],\"choropleth\":[{\"colorbar\":{\"outlinewidth\":0,\"ticks\":\"\"},\"type\":\"choropleth\"}],\"contourcarpet\":[{\"colorbar\":{\"outlinewidth\":0,\"ticks\":\"\"},\"type\":\"contourcarpet\"}],\"contour\":[{\"colorbar\":{\"outlinewidth\":0,\"ticks\":\"\"},\"colorscale\":[[0.0,\"#0d0887\"],[0.1111111111111111,\"#46039f\"],[0.2222222222222222,\"#7201a8\"],[0.3333333333333333,\"#9c179e\"],[0.4444444444444444,\"#bd3786\"],[0.5555555555555556,\"#d8576b\"],[0.6666666666666666,\"#ed7953\"],[0.7777777777777778,\"#fb9f3a\"],[0.8888888888888888,\"#fdca26\"],[1.0,\"#f0f921\"]],\"type\":\"contour\"}],\"heatmapgl\":[{\"colorbar\":{\"outlinewidth\":0,\"ticks\":\"\"},\"colorscale\":[[0.0,\"#0d0887\"],[0.1111111111111111,\"#46039f\"],[0.2222222222222222,\"#7201a8\"],[0.3333333333333333,\"#9c179e\"],[0.4444444444444444,\"#bd3786\"],[0.5555555555555556,\"#d8576b\"],[0.6666666666666666,\"#ed7953\"],[0.7777777777777778,\"#fb9f3a\"],[0.8888888888888888,\"#fdca26\"],[1.0,\"#f0f921\"]],\"type\":\"heatmapgl\"}],\"heatmap\":[{\"colorbar\":{\"outlinewidth\":0,\"ticks\":\"\"},\"colorscale\":[[0.0,\"#0d0887\"],[0.1111111111111111,\"#46039f\"],[0.2222222222222222,\"#7201a8\"],[0.3333333333333333,\"#9c179e\"],[0.4444444444444444,\"#bd3786\"],[0.5555555555555556,\"#d8576b\"],[0.6666666666666666,\"#ed7953\"],[0.7777777777777778,\"#fb9f3a\"],[0.8888888888888888,\"#fdca26\"],[1.0,\"#f0f921\"]],\"type\":\"heatmap\"}],\"histogram2dcontour\":[{\"colorbar\":{\"outlinewidth\":0,\"ticks\":\"\"},\"colorscale\":[[0.0,\"#0d0887\"],[0.1111111111111111,\"#46039f\"],[0.2222222222222222,\"#7201a8\"],[0.3333333333333333,\"#9c179e\"],[0.4444444444444444,\"#bd3786\"],[0.5555555555555556,\"#d8576b\"],[0.6666666666666666,\"#ed7953\"],[0.7777777777777778,\"#fb9f3a\"],[0.8888888888888888,\"#fdca26\"],[1.0,\"#f0f921\"]],\"type\":\"histogram2dcontour\"}],\"histogram2d\":[{\"colorbar\":{\"outlinewidth\":0,\"ticks\":\"\"},\"colorscale\":[[0.0,\"#0d0887\"],[0.1111111111111111,\"#46039f\"],[0.2222222222222222,\"#7201a8\"],[0.3333333333333333,\"#9c179e\"],[0.4444444444444444,\"#bd3786\"],[0.5555555555555556,\"#d8576b\"],[0.6666666666666666,\"#ed7953\"],[0.7777777777777778,\"#fb9f3a\"],[0.8888888888888888,\"#fdca26\"],[1.0,\"#f0f921\"]],\"type\":\"histogram2d\"}],\"histogram\":[{\"marker\":{\"pattern\":{\"fillmode\":\"overlay\",\"size\":10,\"solidity\":0.2}},\"type\":\"histogram\"}],\"mesh3d\":[{\"colorbar\":{\"outlinewidth\":0,\"ticks\":\"\"},\"type\":\"mesh3d\"}],\"parcoords\":[{\"line\":{\"colorbar\":{\"outlinewidth\":0,\"ticks\":\"\"}},\"type\":\"parcoords\"}],\"pie\":[{\"automargin\":true,\"type\":\"pie\"}],\"scatter3d\":[{\"line\":{\"colorbar\":{\"outlinewidth\":0,\"ticks\":\"\"}},\"marker\":{\"colorbar\":{\"outlinewidth\":0,\"ticks\":\"\"}},\"type\":\"scatter3d\"}],\"scattercarpet\":[{\"marker\":{\"colorbar\":{\"outlinewidth\":0,\"ticks\":\"\"}},\"type\":\"scattercarpet\"}],\"scattergeo\":[{\"marker\":{\"colorbar\":{\"outlinewidth\":0,\"ticks\":\"\"}},\"type\":\"scattergeo\"}],\"scattergl\":[{\"marker\":{\"colorbar\":{\"outlinewidth\":0,\"ticks\":\"\"}},\"type\":\"scattergl\"}],\"scattermapbox\":[{\"marker\":{\"colorbar\":{\"outlinewidth\":0,\"ticks\":\"\"}},\"type\":\"scattermapbox\"}],\"scatterpolargl\":[{\"marker\":{\"colorbar\":{\"outlinewidth\":0,\"ticks\":\"\"}},\"type\":\"scatterpolargl\"}],\"scatterpolar\":[{\"marker\":{\"colorbar\":{\"outlinewidth\":0,\"ticks\":\"\"}},\"type\":\"scatterpolar\"}],\"scatter\":[{\"fillpattern\":{\"fillmode\":\"overlay\",\"size\":10,\"solidity\":0.2},\"type\":\"scatter\"}],\"scatterternary\":[{\"marker\":{\"colorbar\":{\"outlinewidth\":0,\"ticks\":\"\"}},\"type\":\"scatterternary\"}],\"surface\":[{\"colorbar\":{\"outlinewidth\":0,\"ticks\":\"\"},\"colorscale\":[[0.0,\"#0d0887\"],[0.1111111111111111,\"#46039f\"],[0.2222222222222222,\"#7201a8\"],[0.3333333333333333,\"#9c179e\"],[0.4444444444444444,\"#bd3786\"],[0.5555555555555556,\"#d8576b\"],[0.6666666666666666,\"#ed7953\"],[0.7777777777777778,\"#fb9f3a\"],[0.8888888888888888,\"#fdca26\"],[1.0,\"#f0f921\"]],\"type\":\"surface\"}],\"table\":[{\"cells\":{\"fill\":{\"color\":\"#EBF0F8\"},\"line\":{\"color\":\"white\"}},\"header\":{\"fill\":{\"color\":\"#C8D4E3\"},\"line\":{\"color\":\"white\"}},\"type\":\"table\"}]},\"layout\":{\"annotationdefaults\":{\"arrowcolor\":\"#2a3f5f\",\"arrowhead\":0,\"arrowwidth\":1},\"autotypenumbers\":\"strict\",\"coloraxis\":{\"colorbar\":{\"outlinewidth\":0,\"ticks\":\"\"}},\"colorscale\":{\"diverging\":[[0,\"#8e0152\"],[0.1,\"#c51b7d\"],[0.2,\"#de77ae\"],[0.3,\"#f1b6da\"],[0.4,\"#fde0ef\"],[0.5,\"#f7f7f7\"],[0.6,\"#e6f5d0\"],[0.7,\"#b8e186\"],[0.8,\"#7fbc41\"],[0.9,\"#4d9221\"],[1,\"#276419\"]],\"sequential\":[[0.0,\"#0d0887\"],[0.1111111111111111,\"#46039f\"],[0.2222222222222222,\"#7201a8\"],[0.3333333333333333,\"#9c179e\"],[0.4444444444444444,\"#bd3786\"],[0.5555555555555556,\"#d8576b\"],[0.6666666666666666,\"#ed7953\"],[0.7777777777777778,\"#fb9f3a\"],[0.8888888888888888,\"#fdca26\"],[1.0,\"#f0f921\"]],\"sequentialminus\":[[0.0,\"#0d0887\"],[0.1111111111111111,\"#46039f\"],[0.2222222222222222,\"#7201a8\"],[0.3333333333333333,\"#9c179e\"],[0.4444444444444444,\"#bd3786\"],[0.5555555555555556,\"#d8576b\"],[0.6666666666666666,\"#ed7953\"],[0.7777777777777778,\"#fb9f3a\"],[0.8888888888888888,\"#fdca26\"],[1.0,\"#f0f921\"]]},\"colorway\":[\"#636efa\",\"#EF553B\",\"#00cc96\",\"#ab63fa\",\"#FFA15A\",\"#19d3f3\",\"#FF6692\",\"#B6E880\",\"#FF97FF\",\"#FECB52\"],\"font\":{\"color\":\"#2a3f5f\"},\"geo\":{\"bgcolor\":\"white\",\"lakecolor\":\"white\",\"landcolor\":\"#E5ECF6\",\"showlakes\":true,\"showland\":true,\"subunitcolor\":\"white\"},\"hoverlabel\":{\"align\":\"left\"},\"hovermode\":\"closest\",\"mapbox\":{\"style\":\"light\"},\"paper_bgcolor\":\"white\",\"plot_bgcolor\":\"#E5ECF6\",\"polar\":{\"angularaxis\":{\"gridcolor\":\"white\",\"linecolor\":\"white\",\"ticks\":\"\"},\"bgcolor\":\"#E5ECF6\",\"radialaxis\":{\"gridcolor\":\"white\",\"linecolor\":\"white\",\"ticks\":\"\"}},\"scene\":{\"xaxis\":{\"backgroundcolor\":\"#E5ECF6\",\"gridcolor\":\"white\",\"gridwidth\":2,\"linecolor\":\"white\",\"showbackground\":true,\"ticks\":\"\",\"zerolinecolor\":\"white\"},\"yaxis\":{\"backgroundcolor\":\"#E5ECF6\",\"gridcolor\":\"white\",\"gridwidth\":2,\"linecolor\":\"white\",\"showbackground\":true,\"ticks\":\"\",\"zerolinecolor\":\"white\"},\"zaxis\":{\"backgroundcolor\":\"#E5ECF6\",\"gridcolor\":\"white\",\"gridwidth\":2,\"linecolor\":\"white\",\"showbackground\":true,\"ticks\":\"\",\"zerolinecolor\":\"white\"}},\"shapedefaults\":{\"line\":{\"color\":\"#2a3f5f\"}},\"ternary\":{\"aaxis\":{\"gridcolor\":\"white\",\"linecolor\":\"white\",\"ticks\":\"\"},\"baxis\":{\"gridcolor\":\"white\",\"linecolor\":\"white\",\"ticks\":\"\"},\"bgcolor\":\"#E5ECF6\",\"caxis\":{\"gridcolor\":\"white\",\"linecolor\":\"white\",\"ticks\":\"\"}},\"title\":{\"x\":0.05},\"xaxis\":{\"automargin\":true,\"gridcolor\":\"white\",\"linecolor\":\"white\",\"ticks\":\"\",\"title\":{\"standoff\":15},\"zerolinecolor\":\"white\",\"zerolinewidth\":2},\"yaxis\":{\"automargin\":true,\"gridcolor\":\"white\",\"linecolor\":\"white\",\"ticks\":\"\",\"title\":{\"standoff\":15},\"zerolinecolor\":\"white\",\"zerolinewidth\":2}}},\"title\":{\"text\":\"Top 10 Research Institutions\"},\"xaxis\":{\"anchor\":\"y\",\"domain\":[0.0,1.0],\"title\":{\"text\":\"Institution\"}},\"yaxis\":{\"anchor\":\"x\",\"domain\":[0.0,1.0],\"title\":{\"text\":\"Number of Researchers\"}}},                        {\"responsive\": true}                    ).then(function(){\n",
              "                            \n",
              "var gd = document.getElementById('74dfe412-9196-419d-b50d-6a474a5d4355');\n",
              "var x = new MutationObserver(function (mutations, observer) {{\n",
              "        var display = window.getComputedStyle(gd).display;\n",
              "        if (!display || display === 'none') {{\n",
              "            console.log([gd, 'removed!']);\n",
              "            Plotly.purge(gd);\n",
              "            observer.disconnect();\n",
              "        }}\n",
              "}});\n",
              "\n",
              "// Listen for the removal of the full notebook cells\n",
              "var notebookContainer = gd.closest('#notebook-container');\n",
              "if (notebookContainer) {{\n",
              "    x.observe(notebookContainer, {childList: true});\n",
              "}}\n",
              "\n",
              "// Listen for the clearing of the current output cell\n",
              "var outputEl = gd.closest('.output');\n",
              "if (outputEl) {{\n",
              "    x.observe(outputEl, {childList: true});\n",
              "}}\n",
              "\n",
              "                        })                };                            </script>        </div>\n",
              "</body>\n",
              "</html>"
            ]
          },
          "metadata": {}
        },
        {
          "output_type": "display_data",
          "data": {
            "text/html": [
              "<html>\n",
              "<head><meta charset=\"utf-8\" /></head>\n",
              "<body>\n",
              "    <div>            <script src=\"https://cdnjs.cloudflare.com/ajax/libs/mathjax/2.7.5/MathJax.js?config=TeX-AMS-MML_SVG\"></script><script type=\"text/javascript\">if (window.MathJax && window.MathJax.Hub && window.MathJax.Hub.Config) {window.MathJax.Hub.Config({SVG: {font: \"STIX-Web\"}});}</script>                <script type=\"text/javascript\">window.PlotlyConfig = {MathJaxConfig: 'local'};</script>\n",
              "        <script charset=\"utf-8\" src=\"https://cdn.plot.ly/plotly-2.35.2.min.js\"></script>                <div id=\"c6df88b8-28e9-478f-a377-e1b21159e0d7\" class=\"plotly-graph-div\" style=\"height:525px; width:100%;\"></div>            <script type=\"text/javascript\">                                    window.PLOTLYENV=window.PLOTLYENV || {};                                    if (document.getElementById(\"c6df88b8-28e9-478f-a377-e1b21159e0d7\")) {                    Plotly.newPlot(                        \"c6df88b8-28e9-478f-a377-e1b21159e0d7\",                        [{\"hovertemplate\":\"Year=%{x}\\u003cbr\\u003ePapers Published=%{y}\\u003cextra\\u003e\\u003c\\u002fextra\\u003e\",\"legendgroup\":\"\",\"line\":{\"color\":\"#636efa\",\"dash\":\"solid\"},\"marker\":{\"symbol\":\"circle\"},\"mode\":\"lines\",\"name\":\"\",\"orientation\":\"v\",\"showlegend\":false,\"x\":[1935,1985,1988,1993,2000,2005,2007,2009],\"xaxis\":\"x\",\"y\":[1,1,1,1,1,2,1,2],\"yaxis\":\"y\",\"type\":\"scatter\"}],                        {\"legend\":{\"tracegroupgap\":0},\"template\":{\"data\":{\"barpolar\":[{\"marker\":{\"line\":{\"color\":\"#E5ECF6\",\"width\":0.5},\"pattern\":{\"fillmode\":\"overlay\",\"size\":10,\"solidity\":0.2}},\"type\":\"barpolar\"}],\"bar\":[{\"error_x\":{\"color\":\"#2a3f5f\"},\"error_y\":{\"color\":\"#2a3f5f\"},\"marker\":{\"line\":{\"color\":\"#E5ECF6\",\"width\":0.5},\"pattern\":{\"fillmode\":\"overlay\",\"size\":10,\"solidity\":0.2}},\"type\":\"bar\"}],\"carpet\":[{\"aaxis\":{\"endlinecolor\":\"#2a3f5f\",\"gridcolor\":\"white\",\"linecolor\":\"white\",\"minorgridcolor\":\"white\",\"startlinecolor\":\"#2a3f5f\"},\"baxis\":{\"endlinecolor\":\"#2a3f5f\",\"gridcolor\":\"white\",\"linecolor\":\"white\",\"minorgridcolor\":\"white\",\"startlinecolor\":\"#2a3f5f\"},\"type\":\"carpet\"}],\"choropleth\":[{\"colorbar\":{\"outlinewidth\":0,\"ticks\":\"\"},\"type\":\"choropleth\"}],\"contourcarpet\":[{\"colorbar\":{\"outlinewidth\":0,\"ticks\":\"\"},\"type\":\"contourcarpet\"}],\"contour\":[{\"colorbar\":{\"outlinewidth\":0,\"ticks\":\"\"},\"colorscale\":[[0.0,\"#0d0887\"],[0.1111111111111111,\"#46039f\"],[0.2222222222222222,\"#7201a8\"],[0.3333333333333333,\"#9c179e\"],[0.4444444444444444,\"#bd3786\"],[0.5555555555555556,\"#d8576b\"],[0.6666666666666666,\"#ed7953\"],[0.7777777777777778,\"#fb9f3a\"],[0.8888888888888888,\"#fdca26\"],[1.0,\"#f0f921\"]],\"type\":\"contour\"}],\"heatmapgl\":[{\"colorbar\":{\"outlinewidth\":0,\"ticks\":\"\"},\"colorscale\":[[0.0,\"#0d0887\"],[0.1111111111111111,\"#46039f\"],[0.2222222222222222,\"#7201a8\"],[0.3333333333333333,\"#9c179e\"],[0.4444444444444444,\"#bd3786\"],[0.5555555555555556,\"#d8576b\"],[0.6666666666666666,\"#ed7953\"],[0.7777777777777778,\"#fb9f3a\"],[0.8888888888888888,\"#fdca26\"],[1.0,\"#f0f921\"]],\"type\":\"heatmapgl\"}],\"heatmap\":[{\"colorbar\":{\"outlinewidth\":0,\"ticks\":\"\"},\"colorscale\":[[0.0,\"#0d0887\"],[0.1111111111111111,\"#46039f\"],[0.2222222222222222,\"#7201a8\"],[0.3333333333333333,\"#9c179e\"],[0.4444444444444444,\"#bd3786\"],[0.5555555555555556,\"#d8576b\"],[0.6666666666666666,\"#ed7953\"],[0.7777777777777778,\"#fb9f3a\"],[0.8888888888888888,\"#fdca26\"],[1.0,\"#f0f921\"]],\"type\":\"heatmap\"}],\"histogram2dcontour\":[{\"colorbar\":{\"outlinewidth\":0,\"ticks\":\"\"},\"colorscale\":[[0.0,\"#0d0887\"],[0.1111111111111111,\"#46039f\"],[0.2222222222222222,\"#7201a8\"],[0.3333333333333333,\"#9c179e\"],[0.4444444444444444,\"#bd3786\"],[0.5555555555555556,\"#d8576b\"],[0.6666666666666666,\"#ed7953\"],[0.7777777777777778,\"#fb9f3a\"],[0.8888888888888888,\"#fdca26\"],[1.0,\"#f0f921\"]],\"type\":\"histogram2dcontour\"}],\"histogram2d\":[{\"colorbar\":{\"outlinewidth\":0,\"ticks\":\"\"},\"colorscale\":[[0.0,\"#0d0887\"],[0.1111111111111111,\"#46039f\"],[0.2222222222222222,\"#7201a8\"],[0.3333333333333333,\"#9c179e\"],[0.4444444444444444,\"#bd3786\"],[0.5555555555555556,\"#d8576b\"],[0.6666666666666666,\"#ed7953\"],[0.7777777777777778,\"#fb9f3a\"],[0.8888888888888888,\"#fdca26\"],[1.0,\"#f0f921\"]],\"type\":\"histogram2d\"}],\"histogram\":[{\"marker\":{\"pattern\":{\"fillmode\":\"overlay\",\"size\":10,\"solidity\":0.2}},\"type\":\"histogram\"}],\"mesh3d\":[{\"colorbar\":{\"outlinewidth\":0,\"ticks\":\"\"},\"type\":\"mesh3d\"}],\"parcoords\":[{\"line\":{\"colorbar\":{\"outlinewidth\":0,\"ticks\":\"\"}},\"type\":\"parcoords\"}],\"pie\":[{\"automargin\":true,\"type\":\"pie\"}],\"scatter3d\":[{\"line\":{\"colorbar\":{\"outlinewidth\":0,\"ticks\":\"\"}},\"marker\":{\"colorbar\":{\"outlinewidth\":0,\"ticks\":\"\"}},\"type\":\"scatter3d\"}],\"scattercarpet\":[{\"marker\":{\"colorbar\":{\"outlinewidth\":0,\"ticks\":\"\"}},\"type\":\"scattercarpet\"}],\"scattergeo\":[{\"marker\":{\"colorbar\":{\"outlinewidth\":0,\"ticks\":\"\"}},\"type\":\"scattergeo\"}],\"scattergl\":[{\"marker\":{\"colorbar\":{\"outlinewidth\":0,\"ticks\":\"\"}},\"type\":\"scattergl\"}],\"scattermapbox\":[{\"marker\":{\"colorbar\":{\"outlinewidth\":0,\"ticks\":\"\"}},\"type\":\"scattermapbox\"}],\"scatterpolargl\":[{\"marker\":{\"colorbar\":{\"outlinewidth\":0,\"ticks\":\"\"}},\"type\":\"scatterpolargl\"}],\"scatterpolar\":[{\"marker\":{\"colorbar\":{\"outlinewidth\":0,\"ticks\":\"\"}},\"type\":\"scatterpolar\"}],\"scatter\":[{\"fillpattern\":{\"fillmode\":\"overlay\",\"size\":10,\"solidity\":0.2},\"type\":\"scatter\"}],\"scatterternary\":[{\"marker\":{\"colorbar\":{\"outlinewidth\":0,\"ticks\":\"\"}},\"type\":\"scatterternary\"}],\"surface\":[{\"colorbar\":{\"outlinewidth\":0,\"ticks\":\"\"},\"colorscale\":[[0.0,\"#0d0887\"],[0.1111111111111111,\"#46039f\"],[0.2222222222222222,\"#7201a8\"],[0.3333333333333333,\"#9c179e\"],[0.4444444444444444,\"#bd3786\"],[0.5555555555555556,\"#d8576b\"],[0.6666666666666666,\"#ed7953\"],[0.7777777777777778,\"#fb9f3a\"],[0.8888888888888888,\"#fdca26\"],[1.0,\"#f0f921\"]],\"type\":\"surface\"}],\"table\":[{\"cells\":{\"fill\":{\"color\":\"#EBF0F8\"},\"line\":{\"color\":\"white\"}},\"header\":{\"fill\":{\"color\":\"#C8D4E3\"},\"line\":{\"color\":\"white\"}},\"type\":\"table\"}]},\"layout\":{\"annotationdefaults\":{\"arrowcolor\":\"#2a3f5f\",\"arrowhead\":0,\"arrowwidth\":1},\"autotypenumbers\":\"strict\",\"coloraxis\":{\"colorbar\":{\"outlinewidth\":0,\"ticks\":\"\"}},\"colorscale\":{\"diverging\":[[0,\"#8e0152\"],[0.1,\"#c51b7d\"],[0.2,\"#de77ae\"],[0.3,\"#f1b6da\"],[0.4,\"#fde0ef\"],[0.5,\"#f7f7f7\"],[0.6,\"#e6f5d0\"],[0.7,\"#b8e186\"],[0.8,\"#7fbc41\"],[0.9,\"#4d9221\"],[1,\"#276419\"]],\"sequential\":[[0.0,\"#0d0887\"],[0.1111111111111111,\"#46039f\"],[0.2222222222222222,\"#7201a8\"],[0.3333333333333333,\"#9c179e\"],[0.4444444444444444,\"#bd3786\"],[0.5555555555555556,\"#d8576b\"],[0.6666666666666666,\"#ed7953\"],[0.7777777777777778,\"#fb9f3a\"],[0.8888888888888888,\"#fdca26\"],[1.0,\"#f0f921\"]],\"sequentialminus\":[[0.0,\"#0d0887\"],[0.1111111111111111,\"#46039f\"],[0.2222222222222222,\"#7201a8\"],[0.3333333333333333,\"#9c179e\"],[0.4444444444444444,\"#bd3786\"],[0.5555555555555556,\"#d8576b\"],[0.6666666666666666,\"#ed7953\"],[0.7777777777777778,\"#fb9f3a\"],[0.8888888888888888,\"#fdca26\"],[1.0,\"#f0f921\"]]},\"colorway\":[\"#636efa\",\"#EF553B\",\"#00cc96\",\"#ab63fa\",\"#FFA15A\",\"#19d3f3\",\"#FF6692\",\"#B6E880\",\"#FF97FF\",\"#FECB52\"],\"font\":{\"color\":\"#2a3f5f\"},\"geo\":{\"bgcolor\":\"white\",\"lakecolor\":\"white\",\"landcolor\":\"#E5ECF6\",\"showlakes\":true,\"showland\":true,\"subunitcolor\":\"white\"},\"hoverlabel\":{\"align\":\"left\"},\"hovermode\":\"closest\",\"mapbox\":{\"style\":\"light\"},\"paper_bgcolor\":\"white\",\"plot_bgcolor\":\"#E5ECF6\",\"polar\":{\"angularaxis\":{\"gridcolor\":\"white\",\"linecolor\":\"white\",\"ticks\":\"\"},\"bgcolor\":\"#E5ECF6\",\"radialaxis\":{\"gridcolor\":\"white\",\"linecolor\":\"white\",\"ticks\":\"\"}},\"scene\":{\"xaxis\":{\"backgroundcolor\":\"#E5ECF6\",\"gridcolor\":\"white\",\"gridwidth\":2,\"linecolor\":\"white\",\"showbackground\":true,\"ticks\":\"\",\"zerolinecolor\":\"white\"},\"yaxis\":{\"backgroundcolor\":\"#E5ECF6\",\"gridcolor\":\"white\",\"gridwidth\":2,\"linecolor\":\"white\",\"showbackground\":true,\"ticks\":\"\",\"zerolinecolor\":\"white\"},\"zaxis\":{\"backgroundcolor\":\"#E5ECF6\",\"gridcolor\":\"white\",\"gridwidth\":2,\"linecolor\":\"white\",\"showbackground\":true,\"ticks\":\"\",\"zerolinecolor\":\"white\"}},\"shapedefaults\":{\"line\":{\"color\":\"#2a3f5f\"}},\"ternary\":{\"aaxis\":{\"gridcolor\":\"white\",\"linecolor\":\"white\",\"ticks\":\"\"},\"baxis\":{\"gridcolor\":\"white\",\"linecolor\":\"white\",\"ticks\":\"\"},\"bgcolor\":\"#E5ECF6\",\"caxis\":{\"gridcolor\":\"white\",\"linecolor\":\"white\",\"ticks\":\"\"}},\"title\":{\"x\":0.05},\"xaxis\":{\"automargin\":true,\"gridcolor\":\"white\",\"linecolor\":\"white\",\"ticks\":\"\",\"title\":{\"standoff\":15},\"zerolinecolor\":\"white\",\"zerolinewidth\":2},\"yaxis\":{\"automargin\":true,\"gridcolor\":\"white\",\"linecolor\":\"white\",\"ticks\":\"\",\"title\":{\"standoff\":15},\"zerolinecolor\":\"white\",\"zerolinewidth\":2}}},\"title\":{\"text\":\"Yearly Publication Trends\"},\"xaxis\":{\"anchor\":\"y\",\"domain\":[0.0,1.0],\"title\":{\"text\":\"Year\"}},\"yaxis\":{\"anchor\":\"x\",\"domain\":[0.0,1.0],\"title\":{\"text\":\"Papers Published\"}}},                        {\"responsive\": true}                    ).then(function(){\n",
              "                            \n",
              "var gd = document.getElementById('c6df88b8-28e9-478f-a377-e1b21159e0d7');\n",
              "var x = new MutationObserver(function (mutations, observer) {{\n",
              "        var display = window.getComputedStyle(gd).display;\n",
              "        if (!display || display === 'none') {{\n",
              "            console.log([gd, 'removed!']);\n",
              "            Plotly.purge(gd);\n",
              "            observer.disconnect();\n",
              "        }}\n",
              "}});\n",
              "\n",
              "// Listen for the removal of the full notebook cells\n",
              "var notebookContainer = gd.closest('#notebook-container');\n",
              "if (notebookContainer) {{\n",
              "    x.observe(notebookContainer, {childList: true});\n",
              "}}\n",
              "\n",
              "// Listen for the clearing of the current output cell\n",
              "var outputEl = gd.closest('.output');\n",
              "if (outputEl) {{\n",
              "    x.observe(outputEl, {childList: true});\n",
              "}}\n",
              "\n",
              "                        })                };                            </script>        </div>\n",
              "</body>\n",
              "</html>"
            ]
          },
          "metadata": {}
        }
      ]
    },
    {
      "cell_type": "code",
      "execution_count": 37,
      "metadata": {
        "colab": {
          "base_uri": "https://localhost:8080/"
        },
        "id": "mctC8PgMszj1",
        "outputId": "1fd03fb7-93c7-4a5d-9ceb-b12422133158"
      },
      "outputs": [
        {
          "output_type": "stream",
          "name": "stdout",
          "text": [
            "Requirement already satisfied: gradio in /usr/local/lib/python3.11/dist-packages (5.20.1)\n",
            "Requirement already satisfied: aiofiles<24.0,>=22.0 in /usr/local/lib/python3.11/dist-packages (from gradio) (23.2.1)\n",
            "Requirement already satisfied: anyio<5.0,>=3.0 in /usr/local/lib/python3.11/dist-packages (from gradio) (3.7.1)\n",
            "Requirement already satisfied: fastapi<1.0,>=0.115.2 in /usr/local/lib/python3.11/dist-packages (from gradio) (0.115.11)\n",
            "Requirement already satisfied: ffmpy in /usr/local/lib/python3.11/dist-packages (from gradio) (0.5.0)\n",
            "Requirement already satisfied: gradio-client==1.7.2 in /usr/local/lib/python3.11/dist-packages (from gradio) (1.7.2)\n",
            "Requirement already satisfied: groovy~=0.1 in /usr/local/lib/python3.11/dist-packages (from gradio) (0.1.2)\n",
            "Requirement already satisfied: httpx>=0.24.1 in /usr/local/lib/python3.11/dist-packages (from gradio) (0.28.1)\n",
            "Requirement already satisfied: huggingface-hub>=0.28.1 in /usr/local/lib/python3.11/dist-packages (from gradio) (0.28.1)\n",
            "Requirement already satisfied: jinja2<4.0 in /usr/local/lib/python3.11/dist-packages (from gradio) (3.1.5)\n",
            "Requirement already satisfied: markupsafe~=2.0 in /usr/local/lib/python3.11/dist-packages (from gradio) (2.1.5)\n",
            "Requirement already satisfied: numpy<3.0,>=1.0 in /usr/local/lib/python3.11/dist-packages (from gradio) (1.26.4)\n",
            "Requirement already satisfied: orjson~=3.0 in /usr/local/lib/python3.11/dist-packages (from gradio) (3.10.15)\n",
            "Requirement already satisfied: packaging in /usr/local/lib/python3.11/dist-packages (from gradio) (24.2)\n",
            "Requirement already satisfied: pandas<3.0,>=1.0 in /usr/local/lib/python3.11/dist-packages (from gradio) (2.2.2)\n",
            "Requirement already satisfied: pillow<12.0,>=8.0 in /usr/local/lib/python3.11/dist-packages (from gradio) (11.1.0)\n",
            "Requirement already satisfied: pydantic>=2.0 in /usr/local/lib/python3.11/dist-packages (from gradio) (2.10.6)\n",
            "Requirement already satisfied: pydub in /usr/local/lib/python3.11/dist-packages (from gradio) (0.25.1)\n",
            "Requirement already satisfied: python-multipart>=0.0.18 in /usr/local/lib/python3.11/dist-packages (from gradio) (0.0.20)\n",
            "Requirement already satisfied: pyyaml<7.0,>=5.0 in /usr/local/lib/python3.11/dist-packages (from gradio) (6.0.2)\n",
            "Requirement already satisfied: ruff>=0.9.3 in /usr/local/lib/python3.11/dist-packages (from gradio) (0.9.10)\n",
            "Requirement already satisfied: safehttpx<0.2.0,>=0.1.6 in /usr/local/lib/python3.11/dist-packages (from gradio) (0.1.6)\n",
            "Requirement already satisfied: semantic-version~=2.0 in /usr/local/lib/python3.11/dist-packages (from gradio) (2.10.0)\n",
            "Requirement already satisfied: starlette<1.0,>=0.40.0 in /usr/local/lib/python3.11/dist-packages (from gradio) (0.46.1)\n",
            "Requirement already satisfied: tomlkit<0.14.0,>=0.12.0 in /usr/local/lib/python3.11/dist-packages (from gradio) (0.13.2)\n",
            "Requirement already satisfied: typer<1.0,>=0.12 in /usr/local/lib/python3.11/dist-packages (from gradio) (0.15.2)\n",
            "Requirement already satisfied: typing-extensions~=4.0 in /usr/local/lib/python3.11/dist-packages (from gradio) (4.12.2)\n",
            "Requirement already satisfied: uvicorn>=0.14.0 in /usr/local/lib/python3.11/dist-packages (from gradio) (0.34.0)\n",
            "Requirement already satisfied: fsspec in /usr/local/lib/python3.11/dist-packages (from gradio-client==1.7.2->gradio) (2024.10.0)\n",
            "Requirement already satisfied: websockets<16.0,>=10.0 in /usr/local/lib/python3.11/dist-packages (from gradio-client==1.7.2->gradio) (14.2)\n",
            "Requirement already satisfied: idna>=2.8 in /usr/local/lib/python3.11/dist-packages (from anyio<5.0,>=3.0->gradio) (3.10)\n",
            "Requirement already satisfied: sniffio>=1.1 in /usr/local/lib/python3.11/dist-packages (from anyio<5.0,>=3.0->gradio) (1.3.1)\n",
            "Requirement already satisfied: certifi in /usr/local/lib/python3.11/dist-packages (from httpx>=0.24.1->gradio) (2025.1.31)\n",
            "Requirement already satisfied: httpcore==1.* in /usr/local/lib/python3.11/dist-packages (from httpx>=0.24.1->gradio) (1.0.7)\n",
            "Requirement already satisfied: h11<0.15,>=0.13 in /usr/local/lib/python3.11/dist-packages (from httpcore==1.*->httpx>=0.24.1->gradio) (0.14.0)\n",
            "Requirement already satisfied: filelock in /usr/local/lib/python3.11/dist-packages (from huggingface-hub>=0.28.1->gradio) (3.17.0)\n",
            "Requirement already satisfied: requests in /usr/local/lib/python3.11/dist-packages (from huggingface-hub>=0.28.1->gradio) (2.32.3)\n",
            "Requirement already satisfied: tqdm>=4.42.1 in /usr/local/lib/python3.11/dist-packages (from huggingface-hub>=0.28.1->gradio) (4.67.1)\n",
            "Requirement already satisfied: python-dateutil>=2.8.2 in /usr/local/lib/python3.11/dist-packages (from pandas<3.0,>=1.0->gradio) (2.8.2)\n",
            "Requirement already satisfied: pytz>=2020.1 in /usr/local/lib/python3.11/dist-packages (from pandas<3.0,>=1.0->gradio) (2025.1)\n",
            "Requirement already satisfied: tzdata>=2022.7 in /usr/local/lib/python3.11/dist-packages (from pandas<3.0,>=1.0->gradio) (2025.1)\n",
            "Requirement already satisfied: annotated-types>=0.6.0 in /usr/local/lib/python3.11/dist-packages (from pydantic>=2.0->gradio) (0.7.0)\n",
            "Requirement already satisfied: pydantic-core==2.27.2 in /usr/local/lib/python3.11/dist-packages (from pydantic>=2.0->gradio) (2.27.2)\n",
            "Requirement already satisfied: click>=8.0.0 in /usr/local/lib/python3.11/dist-packages (from typer<1.0,>=0.12->gradio) (8.1.8)\n",
            "Requirement already satisfied: shellingham>=1.3.0 in /usr/local/lib/python3.11/dist-packages (from typer<1.0,>=0.12->gradio) (1.5.4)\n",
            "Requirement already satisfied: rich>=10.11.0 in /usr/local/lib/python3.11/dist-packages (from typer<1.0,>=0.12->gradio) (13.9.4)\n",
            "Requirement already satisfied: six>=1.5 in /usr/local/lib/python3.11/dist-packages (from python-dateutil>=2.8.2->pandas<3.0,>=1.0->gradio) (1.17.0)\n",
            "Requirement already satisfied: markdown-it-py>=2.2.0 in /usr/local/lib/python3.11/dist-packages (from rich>=10.11.0->typer<1.0,>=0.12->gradio) (3.0.0)\n",
            "Requirement already satisfied: pygments<3.0.0,>=2.13.0 in /usr/local/lib/python3.11/dist-packages (from rich>=10.11.0->typer<1.0,>=0.12->gradio) (2.18.0)\n",
            "Requirement already satisfied: charset-normalizer<4,>=2 in /usr/local/lib/python3.11/dist-packages (from requests->huggingface-hub>=0.28.1->gradio) (3.4.1)\n",
            "Requirement already satisfied: urllib3<3,>=1.21.1 in /usr/local/lib/python3.11/dist-packages (from requests->huggingface-hub>=0.28.1->gradio) (2.3.0)\n",
            "Requirement already satisfied: mdurl~=0.1 in /usr/local/lib/python3.11/dist-packages (from markdown-it-py>=2.2.0->rich>=10.11.0->typer<1.0,>=0.12->gradio) (0.1.2)\n"
          ]
        }
      ],
      "source": [
        "# 8. (Optional) Set up UI via Gradio\n",
        "\n",
        "\n",
        "!pip install gradio"
      ]
    },
    {
      "cell_type": "code",
      "execution_count": 46,
      "metadata": {
        "colab": {
          "base_uri": "https://localhost:8080/",
          "height": 775
        },
        "id": "btFB0vt-szj1",
        "outputId": "469ad978-10f0-4c74-b418-49ac30b55f26"
      },
      "outputs": [
        {
          "output_type": "stream",
          "name": "stdout",
          "text": [
            "response={'input': 'Make me a dashboard for quantum', 'output': 'The dashboard for quantum research has been successfully created. It includes the following visualizations:\\n\\n1. **World Map of Researcher Distribution**: This map shows the distribution of researchers by country, highlighting the countries with the most researchers in the field of quantum studies.\\n\\n2. **Top 10 Research Institutions**: A bar chart displaying the top 10 institutions with the highest number of researchers contributing to quantum research.\\n\\n3. **Yearly Publication Trends**: A line chart illustrating the number of quantum research papers published over the years, providing insights into trends and growth in the field.\\n\\nIf you need further details or specific visualizations, feel free to ask!', 'intermediate_steps': [(AgentAction(tool='SearchPapers', tool_input={'search_term': 'quantum'}, log='To create a dashboard for quantum research, I need to gather data on recent research papers and their authors in the field of quantum studies. This will allow me to generate demographic visualizations. Let\\'s start by searching for recent research papers on quantum topics.\\n\\nAction:\\n```\\n{\\n  \"action\": \"SearchPapers\",\\n  \"action_input\": {\\n    \"search_term\": \"quantum\"\\n  }\\n}\\n```'), [{'id': 'Paper/10_1038_NMAT1849', 'title': 'Unknown', 'year': 2007}, {'id': 'Paper/10_1103_PHYSREVB_47_558', 'title': 'Unknown', 'year': 1993}, {'id': 'Paper/10_2307_2938686', 'title': 'Unknown', 'year': 1988}, {'id': 'Paper/10_1103_RevModPhys_81_109', 'title': 'Unknown', 'year': 2009}, {'id': 'Paper/10_1038_nature04233', 'title': 'Unknown', 'year': 2005}, {'id': 'Paper/10_1119_1_1463744', 'title': 'Unknown', 'year': 2000}, {'id': 'Paper/10_4324_9780203211595', 'title': 'Unknown', 'year': 1985}, {'id': 'Paper/10_1103_PHYSREV_47_777', 'title': 'Unknown', 'year': 1935}, {'id': 'Paper/10_1038_nature04235', 'title': 'Unknown', 'year': 2005}, {'id': 'Paper/10_1126_science_1158877', 'title': 'Unknown', 'year': 2009}, {'id': 'Paper/10_1103_RevModPhys_82_3045', 'title': 'Unknown', 'year': 2010}, {'id': 'Paper/10_2307_3611130', 'title': 'Unknown', 'year': 1937}, {'id': 'Paper/10_1103_PHYSREVLETT_70_1895', 'title': 'Unknown', 'year': 1993}, {'id': 'Paper/10_1103_PhysRevLett_105_136805', 'title': 'Unknown', 'year': 2010}, {'id': 'Paper/10_1021_ar50107a003', 'title': 'Unknown', 'year': 1986}, {'id': 'Paper/10_1142_9789812790903_0002', 'title': 'Unknown', 'year': 1956}, {'id': 'Paper/10_1063_1_2915453', 'title': 'Unknown', 'year': 1982}, {'id': 'Paper/10_1063_1_103561', 'title': 'Unknown', 'year': 1990}, {'id': 'Paper/10_1119_1_18450', 'title': 'Unknown', 'year': 1995}, {'id': 'Paper/10_1137_S0097539795293172', 'title': 'Unknown', 'year': 1999}, {'id': 'Paper/10_1038_35570', 'title': 'Unknown', 'year': 1998}, {'id': 'Paper/10_1103_PHYSREV_109_1492', 'title': 'Unknown', 'year': 1958}, {'id': 'Paper/10_1103_REVMODPHYS_64_1045', 'title': 'Unknown', 'year': 1992}, {'id': 'Paper/10_2307_3610674', 'title': 'Unknown', 'year': 1958}, {'id': 'Paper/10_1063_1_2915501', 'title': 'Unknown', 'year': 1981}, {'id': 'Paper/10_1103_RevModPhys_83_1057', 'title': 'Unknown', 'year': 2011}, {'id': 'Paper/10_1007_BF02345020', 'title': 'Unknown', 'year': 1975}, {'id': 'Paper/10_1126_science_1156965', 'title': 'Unknown', 'year': 2008}, {'id': 'Paper/10_1038_nmat1967', 'title': 'Unknown', 'year': 2007}, {'id': 'Paper/10_1143_JPSJ_12_570', 'title': 'Unknown', 'year': 1957}, {'id': 'Paper/10_1103_PHYSICSPHYSIQUEFIZIKA_1_195', 'title': 'Unknown', 'year': 1964}, {'id': 'Paper/10_1103_PHYSREV_40_749', 'title': 'Unknown', 'year': 1932}, {'id': 'Paper/10_1103_PhysRevLett_80_2245', 'title': 'Unknown', 'year': 1998}, {'id': 'Paper/10_2307_3610250', 'title': 'Unknown', 'year': 1957}, {'id': 'Paper/10_1126_science_269_5221_198', 'title': 'Unknown', 'year': 1995}, {'id': 'Paper/10_5860_choice_26-6270', 'title': 'Unknown', 'year': 1989}, {'id': 'Paper/10_1103_PHYSREVLETT_23_880', 'title': 'Unknown', 'year': 1969}, {'id': 'Paper/10_1063_1_2811094', 'title': 'Unknown', 'year': 1987}, {'id': 'Paper/10_1145_237814_237866', 'title': 'Unknown', 'year': 1996}, {'id': 'Paper/10_1016_S0370-2693_98_00466-3', 'title': 'Unknown', 'year': 1998}, {'id': 'Paper/10_1103_PHYSREVLETT_52_997', 'title': 'Unknown', 'year': 1984}, {'id': 'Paper/10_1007_978-1-4757-5714-9', 'title': 'Unknown', 'year': 1981}, {'id': 'Paper/10_1103_PhysRevA_57_120', 'title': 'Unknown', 'year': 1998}, {'id': 'Paper/10_1103_PHYSREV_115_485', 'title': 'Unknown', 'year': 1959}, {'id': 'Paper/10_1007_BF00330083', 'title': 'Unknown', 'year': 1963}, {'id': 'Paper/10_2307_j_ctt1wq8zhp', 'title': 'Unknown', 'year': 1955}, {'id': 'Paper/10_1103_PHYSREV_131_2766', 'title': 'Unknown', 'year': 1963}, {'id': 'Paper/10_1063_1_2807734', 'title': 'Unknown', 'year': 1995}, {'id': 'Paper/10_1016_0370-2693_80_90670-X', 'title': 'Unknown', 'year': 1980}, {'id': 'Paper/10_1016_j_tcs_2014_05_025', 'title': 'Unknown', 'year': 2014}, {'id': 'Paper/10_1103_REVMODPHYS_65_413', 'title': 'Unknown', 'year': 1993}, {'id': 'Paper/10_1103_PHYSREV_93_99', 'title': 'Unknown', 'year': 1954}, {'id': 'Paper/10_1103_REVMODPHYS_62_251', 'title': 'Unknown', 'year': 1990}, {'id': 'Paper/10_1103_PHYSREV_85_166', 'title': 'Unknown', 'year': 1952}, {'id': 'Paper/10_1038_35051009', 'title': 'Unknown', 'year': 2001}, {'id': 'Paper/10_1103_PhysRevLett_95_226801', 'title': 'Unknown', 'year': 2005}, {'id': 'Paper/10_1063_1_2807624', 'title': 'Unknown', 'year': 1995}, {'id': 'Paper/10_1016_0550-3213_77_90384-4', 'title': 'Unknown', 'year': 1977}, {'id': 'Paper/10_1038_nnano_2013_46', 'title': 'Unknown', 'year': 2013}, {'id': 'Paper/10_1103_REVMODPHYS_68_13', 'title': 'Unknown', 'year': 1996}, {'id': 'Paper/10_1103_PhysRevLett_97_216803', 'title': 'Unknown', 'year': 2006}, {'id': 'Paper/10_1016_s1369-7021_07_70020-2', 'title': 'Unknown', 'year': 2006}, {'id': 'Paper/10_1038_299802A0', 'title': 'Unknown', 'year': 1982}, {'id': 'Paper/10_1109_PROC_1963_1664', 'title': 'Unknown', 'year': 1962}, {'id': 'Paper/10_1038_37539', 'title': 'Unknown', 'year': 1997}, {'id': 'Paper/10_1063_1_2808369', 'title': 'Unknown', 'year': 1993}, {'id': 'Paper/10_1103_PhysRevLett_80_5243', 'title': 'Unknown', 'year': 1998}, {'id': 'Paper/10_1038_35003535', 'title': 'Unknown', 'year': 2000}, {'id': 'Paper/10_1038_164977A0', 'title': 'Unknown', 'year': 1949}, {'id': 'Paper/10_1103_PhysRevA_54_3824', 'title': 'Unknown', 'year': 1996}, {'id': 'Paper/10_1119_1_14491', 'title': 'Unknown', 'year': 1986}, {'id': 'Paper/10_1038_NPHYS1270', 'title': 'Unknown', 'year': 2009}, {'id': 'Paper/10_1126_science_1133734', 'title': 'Unknown', 'year': 2006}, {'id': 'Paper/10_1142_1476', 'title': 'Unknown', 'year': 1993}, {'id': 'Paper/10_1142_0270', 'title': 'Unknown', 'year': 1988}, {'id': 'Paper/10_1103_REVMODPHYS_77_633', 'title': 'Unknown', 'year': 2005}, {'id': 'Paper/10_1002_prot_10286', 'title': 'Unknown', 'year': 2003}, {'id': 'Paper/10_1038_248030a0', 'title': 'Unknown', 'year': 1974}, {'id': 'Paper/10_1103_PhysRevLett_95_146802', 'title': 'Unknown', 'year': 2005}, {'id': 'Paper/10_1103_PhysRevLett_77_1413', 'title': 'Unknown', 'year': 1996}, {'id': 'Paper/10_1063_1_2810327', 'title': 'Unknown', 'year': 1990}, {'id': 'Paper/10_1126_science_1148047', 'title': 'Unknown', 'year': 2007}, {'id': 'Paper/10_1103_REVMODPHYS_20_367', 'title': 'Unknown', 'year': 1948}, {'id': 'Paper/10_1090_gsm_132_02', 'title': 'Unknown', 'year': 2000}, {'id': 'Paper/10_1038_17561', 'title': 'Unknown', 'year': 1999}, {'id': 'Paper/10_1016_0550-3213_79_90022-1', 'title': 'Unknown', 'year': 1979}, {'id': 'Paper/10_1103_RevModPhys_80_1083', 'title': 'Unknown', 'year': 2008}, {'id': 'Paper/10_1103_PhysRevLett_79_325', 'title': 'Unknown', 'year': 1997}, {'id': 'Paper/10_1103_PHYSREV_48_696', 'title': 'Unknown', 'year': 1935}, {'id': 'Paper/10_1038_415039a', 'title': 'Unknown', 'year': 2002}, {'id': 'Paper/10_1063_1_92959', 'title': 'Unknown', 'year': 1982}, {'id': 'Paper/10_1103_PHYSREV_127_1918', 'title': 'Unknown', 'year': 1962}, {'id': 'Paper/10_1038_nature07127', 'title': 'Unknown', 'year': 2008}, {'id': 'Paper/10_1063_1_531249', 'title': 'Unknown', 'year': 1995}, {'id': 'Paper/10_1007_978-3-642-45869-9_2', 'title': 'Unknown', 'year': 1957}, {'id': 'Paper/10_1063_1_3057034', 'title': 'Unknown', 'year': 1960}, {'id': 'Paper/10_1119_1_1933256', 'title': 'Unknown', 'year': 1935}, {'id': 'Paper/10_1063_1_3128806', 'title': 'Unknown', 'year': 1973}, {'id': 'Paper/10_1088_2058-7058_10_3_21', 'title': 'Unknown', 'year': 1995}, {'id': 'Paper/10_1103_PHYSREVLETT_49_1804', 'title': 'Unknown', 'year': 1982}, {'id': 'Paper/10_1007_978-3-642-96807-5', 'title': 'Unknown', 'year': 1984}, {'id': 'Paper/10_1103_PhysRevA_52_3457', 'title': 'Unknown', 'year': 1995}, {'id': 'Paper/10_1103_PHYSREVLETT_74_4091', 'title': 'Unknown', 'year': 1995}, {'id': 'Paper/10_1038_30156', 'title': 'Unknown', 'year': 1998}, {'id': 'Paper/10_1103_RevModPhys_71_S85', 'title': 'Unknown', 'year': 1999}, {'id': 'Paper/10_1201_9780849387753_ch4', 'title': 'Unknown', 'year': 1965}, {'id': 'Paper/10_1021_AR9700365', 'title': 'Unknown', 'year': 1999}, {'id': 'Paper/10_1103_PHYSREVA_52_R2493', 'title': 'Unknown', 'year': 1995}, {'id': 'Paper/10_1038_nphys384', 'title': 'Unknown', 'year': 2006}, {'id': 'Paper/10_1103_PhysRevD_82_074024', 'title': 'Unknown', 'year': 2010}, {'id': 'Paper/10_1103_PHYSREVLETT_86_5188', 'title': 'Unknown', 'year': 2001}, {'id': 'Paper/10_1103_RevModPhys_75_715', 'title': 'Unknown', 'year': 2003}, {'id': 'Paper/10_1063_1_343409', 'title': 'Unknown', 'year': 1989}, {'id': 'Paper/10_1103_PhysRevD_55_5112', 'title': 'Unknown', 'year': 1997}, {'id': 'Paper/10_1103_PHYSREVA_40_4277', 'title': 'Unknown', 'year': 1989}, {'id': 'Paper/10_1016_S0003-4916_02_00018-0', 'title': 'Unknown', 'year': 2003}, {'id': 'Paper/10_1038_nature02851', 'title': 'Unknown', 'year': 2004}, {'id': 'Paper/10_1103_REVMODPHYS_38_447', 'title': 'Unknown', 'year': 1966}, {'id': 'Paper/10_1103_PHYSREVA_49_2117', 'title': 'Unknown', 'year': 1994}, {'id': 'Paper/10_1098_RSPA_1928_0023', 'title': 'Unknown', 'year': 1928}, {'id': 'Paper/10_1103_PhysRevLett_75_4724', 'title': 'Unknown', 'year': 1995}, {'id': 'Paper/10_1038_nature08003', 'title': 'Unknown', 'year': 2009}, {'id': 'Paper/10_5860_choice_26-6299', 'title': 'Unknown', 'year': 1988}, {'id': 'Paper/10_1142_7184', 'title': 'Unknown', 'year': 1990}, {'id': 'Paper/10_1038_nature02063', 'title': 'Unknown', 'year': 2003}, {'id': 'Paper/10_1142_9789812839657_0001', 'title': 'Unknown', 'year': 1997}, {'id': 'Paper/10_1103_REVMODPHYS_29_454', 'title': 'Unknown', 'year': 1957}, {'id': 'Paper/10_1088_0305-4608_5_5_017', 'title': 'Unknown', 'year': 1975}, {'id': 'Paper/10_1103_PhysRevLett_98_106803', 'title': 'Unknown', 'year': 2007}, {'id': 'Paper/10_1016_0370-2693_81_90743-7', 'title': 'Unknown', 'year': 1981}, {'id': 'Paper/10_2307_2312761', 'title': 'Unknown', 'year': 1961}, {'id': 'Paper/10_1016_0003-4916_61_90115-4', 'title': 'Unknown', 'year': 1961}, {'id': 'Paper/10_1017_S0305004100000487', 'title': 'Unknown', 'year': 1949}, {'id': 'Paper/10_1126_science_1137201', 'title': 'Unknown', 'year': 2007}, {'id': 'Paper/10_1038_nature01939', 'title': 'Unknown', 'year': 2003}, {'id': 'Paper/10_1119_1_18098', 'title': 'Unknown', 'year': 1960}, {'id': 'Paper/10_1038_nature05678', 'title': 'Unknown', 'year': 2007}, {'id': 'Paper/10_1016_0370-1573_92_90044-Z', 'title': 'Unknown', 'year': 1992}, {'id': 'Paper/10_1103_PHYSREVLETT_96_181602', 'title': 'Unknown', 'year': 2006}, {'id': 'Paper/10_1103_PHYSREVD_10_275', 'title': 'Unknown', 'year': 1974}, {'id': 'Paper/10_1063_1_459170', 'title': 'Unknown', 'year': 1990}, {'id': 'Paper/10_1103_PHYSREVLETT_75_1687', 'title': 'Unknown', 'year': 1995}, {'id': 'Paper/10_1142_9789814417150_0008', 'title': 'Unknown', 'year': 2002}, {'id': 'Paper/10_1038_35106500', 'title': 'Unknown', 'year': 2001}, {'id': 'Paper/10_1126_science_1222360', 'title': 'Unknown', 'year': 2012}, {'id': 'Paper/10_1063_1_1727484', 'title': 'Unknown', 'year': 1966}, {'id': 'Paper/10_1103_RevModPhys_83_407', 'title': 'Unknown', 'year': 2011}, {'id': 'Paper/10_1103_PhysRevLett_81_3108', 'title': 'Unknown', 'year': 1998}, {'id': 'Paper/10_1038_35085529', 'title': 'Unknown', 'year': 2001}, {'id': 'Paper/10_1103_PhysRevB_76_045302', 'title': 'Unknown', 'year': 2007}, {'id': 'Paper/10_1103_PhysRevA_59_1829', 'title': 'Unknown', 'year': 1999}, {'id': 'Paper/10_1007_978-3-662-03263-3', 'title': 'Unknown', 'year': 1996}, {'id': 'Paper/10_1063_1_3056875', 'title': 'Unknown', 'year': 1958}, {'id': 'Paper/10_1036_1097-8542_yb110098', 'title': 'Unknown', 'year': 1991}, {'id': 'Paper/10_1016_0370-2693_87_91197-X', 'title': 'Unknown', 'year': 1987}, {'id': 'Paper/10_1063_1_3023318', 'title': 'Unknown', 'year': 1971}, {'id': 'Paper/10_1103_PHYSREVLETT_49_91', 'title': 'Unknown', 'year': 1982}, {'id': 'Paper/10_1103_PHYSREVD_15_2738', 'title': 'Unknown', 'year': 1977}, {'id': 'Paper/10_1103_PHYSREVLETT_78_5014', 'title': 'Unknown', 'year': 1997}]), (AgentAction(tool='GetAuthorsForPapers', tool_input={'paper_ids': ['Paper/10_1038_NMAT1849', 'Paper/10_1103_PHYSREVB_47_558', 'Paper/10_2307_2938686', 'Paper/10_1103_RevModPhys_81_109', 'Paper/10_1038_nature04233', 'Paper/10_1119_1_1463744', 'Paper/10_4324_9780203211595', 'Paper/10_1103_PHYSREV_47_777', 'Paper/10_1038_nature04235', 'Paper/10_1126_science_1158877']}, log='The next step is to gather information about the authors of these papers to generate demographic visualizations for the quantum research field. Let\\'s proceed with retrieving the authors for the listed papers.\\n\\nAction:\\n```\\n{\\n  \"action\": \"GetAuthorsForPapers\",\\n  \"action_input\": {\\n    \"paper_ids\": [\\n      \"Paper/10_1038_NMAT1849\",\\n      \"Paper/10_1103_PHYSREVB_47_558\",\\n      \"Paper/10_2307_2938686\",\\n      \"Paper/10_1103_RevModPhys_81_109\",\\n      \"Paper/10_1038_nature04233\",\\n      \"Paper/10_1119_1_1463744\",\\n      \"Paper/10_4324_9780203211595\",\\n      \"Paper/10_1103_PHYSREV_47_777\",\\n      \"Paper/10_1038_nature04235\",\\n      \"Paper/10_1126_science_1158877\"\\n    ]\\n  }\\n}\\n```\\n'), [{'name': 'K S Novoselov', 'country': 'Russia', 'affiliation': 'Institute of Microelectronics Technology and High Purity Materials', 'paper_id': 'Paper/10_1038_nature04233'}, {'name': 'A K Geim', 'country': 'Russia', 'affiliation': 'Institute of Microelectronics Technology and High Purity Materials', 'paper_id': 'Paper/10_1038_nature04233'}, {'name': 'S V Morozov', 'country': 'Russia', 'affiliation': 'Institute of Microelectronics Technology and High Purity Materials', 'paper_id': 'Paper/10_1038_nature04233'}, {'name': 'D Jiang', 'country': 'Russia', 'affiliation': 'Institute of Microelectronics Technology and High Purity Materials', 'paper_id': 'Paper/10_1038_nature04233'}, {'name': 'M I Katsnelson', 'country': 'Netherlands', 'affiliation': 'Radboud University Nijmegen', 'paper_id': 'Paper/10_1038_nature04233'}, {'name': 'I V Grigorieva', 'country': 'United Kingdom', 'affiliation': 'University of Manchester', 'paper_id': 'Paper/10_1038_nature04233'}, {'name': 'S V Dubonos', 'country': 'Russia', 'affiliation': 'Institute of Microelectronics Technology and High Purity Materials', 'paper_id': 'Paper/10_1038_nature04233'}, {'name': 'A A Firsov', 'country': 'Russia', 'affiliation': 'Institute of Microelectronics Technology and High Purity Materials', 'paper_id': 'Paper/10_1038_nature04233'}, {'name': 'Yuanbo Zhang', 'country': 'United States', 'affiliation': 'Columbia University', 'paper_id': 'Paper/10_1038_nature04235'}, {'name': 'Yan-Wen Tan', 'country': 'UNKNOWN', 'affiliation': 'Department of Physics', 'paper_id': 'Paper/10_1038_nature04235'}, {'name': 'Horst L Stormer', 'country': 'United States', 'affiliation': 'Columbia University', 'paper_id': 'Paper/10_1038_nature04235'}, {'name': 'Philip Kim', 'country': 'United States', 'affiliation': 'Columbia University', 'paper_id': 'Paper/10_1038_nature04235'}, {'name': 'A K Geim', 'country': 'Russia', 'affiliation': 'Institute of Microelectronics Technology and High Purity Materials', 'paper_id': 'Paper/10_1038_NMAT1849'}, {'name': 'K S Novoselov', 'country': 'Russia', 'affiliation': 'Institute of Microelectronics Technology and High Purity Materials', 'paper_id': 'Paper/10_1038_NMAT1849'}, {'name': 'Albert  Einstein', 'country': 'Switzerland', 'affiliation': 'Bern', 'paper_id': 'Paper/10_1103_PHYSREV_47_777'}, {'name': 'Boris  Podolsky', 'country': 'United States', 'affiliation': 'Institute for Advanced Study', 'paper_id': 'Paper/10_1103_PHYSREV_47_777'}, {'name': 'Nathan  Rosen', 'country': 'United States', 'affiliation': 'Institute for Advanced Study', 'paper_id': 'Paper/10_1103_PHYSREV_47_777'}, {'name': 'Georg  Kresse', 'country': 'Austria', 'affiliation': 'TU Wien', 'paper_id': 'Paper/10_1103_PHYSREVB_47_558'}, {'name': 'Juergen  Hafner', 'country': 'Austria', 'affiliation': 'TU Wien', 'paper_id': 'Paper/10_1103_PHYSREVB_47_558'}, {'name': 'A H Castro Neto', 'country': 'Singapore', 'affiliation': 'National University of Singapore', 'paper_id': 'Paper/10_1103_RevModPhys_81_109'}, {'name': 'F Guinea', 'country': 'Spain', 'affiliation': 'Instituto de Ciencia de Materiales de Madrid', 'paper_id': 'Paper/10_1103_RevModPhys_81_109'}, {'name': 'N M R Peres', 'country': 'Portugal', 'affiliation': 'University of Minho', 'paper_id': 'Paper/10_1103_RevModPhys_81_109'}, {'name': 'K S Novoselov', 'country': 'Russia', 'affiliation': 'Institute of Microelectronics Technology and High Purity Materials', 'paper_id': 'Paper/10_1103_RevModPhys_81_109'}, {'name': 'A K Geim', 'country': 'Russia', 'affiliation': 'Institute of Microelectronics Technology and High Purity Materials', 'paper_id': 'Paper/10_1103_RevModPhys_81_109'}, {'name': 'Michael A Nielsen', 'country': 'Australia', 'affiliation': 'University of Queensland', 'paper_id': 'Paper/10_1119_1_1463744'}, {'name': 'Isaac Chuang', 'country': 'United States', 'affiliation': 'Massachusetts Institute of Technology', 'paper_id': 'Paper/10_1119_1_1463744'}, {'name': 'Lov K Grover', 'country': 'United States', 'affiliation': 'C-404A| Bell Labs| 600 Mountain Avenue| Murray Hill| New Jersey 07974', 'paper_id': 'Paper/10_1119_1_1463744'}, {'name': 'A K Geim', 'country': 'Russia', 'affiliation': 'Institute of Microelectronics Technology and High Purity Materials', 'paper_id': 'Paper/10_1126_science_1158877'}, {'name': 'J R Scott', 'country': 'United States', 'affiliation': 'Emory University', 'paper_id': 'Paper/10_2307_2938686'}, {'name': 'Michael P Allen', 'country': 'United Kingdom', 'affiliation': 'H. H. Wills Physics Laboratory| Tyndall Avenue Bristol BS8 1 TL| UK', 'paper_id': 'Paper/10_2307_2938686'}, {'name': 'D J Tildesley', 'country': 'United Kingdom', 'affiliation': 'University of Southampton', 'paper_id': 'Paper/10_2307_2938686'}, {'name': 'Dietrich Stauffer', 'country': 'Germany', 'affiliation': 'University of Cologne', 'paper_id': 'Paper/10_4324_9780203211595'}, {'name': 'Amnon Aharony', 'country': 'Israel', 'affiliation': 'Tel Aviv University', 'paper_id': 'Paper/10_4324_9780203211595'}]), (AgentAction(tool='GeneratePlots', tool_input={'author_data': [{'name': 'K S Novoselov', 'country': 'Russia', 'affiliation': 'Institute of Microelectronics Technology and High Purity Materials', 'paper_id': 'Paper/10_1038_nature04233'}, {'name': 'A K Geim', 'country': 'Russia', 'affiliation': 'Institute of Microelectronics Technology and High Purity Materials', 'paper_id': 'Paper/10_1038_nature04233'}, {'name': 'S V Morozov', 'country': 'Russia', 'affiliation': 'Institute of Microelectronics Technology and High Purity Materials', 'paper_id': 'Paper/10_1038_nature04233'}, {'name': 'D Jiang', 'country': 'Russia', 'affiliation': 'Institute of Microelectronics Technology and High Purity Materials', 'paper_id': 'Paper/10_1038_nature04233'}, {'name': 'M I Katsnelson', 'country': 'Netherlands', 'affiliation': 'Radboud University Nijmegen', 'paper_id': 'Paper/10_1038_nature04233'}, {'name': 'I V Grigorieva', 'country': 'United Kingdom', 'affiliation': 'University of Manchester', 'paper_id': 'Paper/10_1038_nature04233'}, {'name': 'S V Dubonos', 'country': 'Russia', 'affiliation': 'Institute of Microelectronics Technology and High Purity Materials', 'paper_id': 'Paper/10_1038_nature04233'}, {'name': 'A A Firsov', 'country': 'Russia', 'affiliation': 'Institute of Microelectronics Technology and High Purity Materials', 'paper_id': 'Paper/10_1038_nature04233'}, {'name': 'Yuanbo Zhang', 'country': 'United States', 'affiliation': 'Columbia University', 'paper_id': 'Paper/10_1038_nature04235'}, {'name': 'Yan-Wen Tan', 'country': 'UNKNOWN', 'affiliation': 'Department of Physics', 'paper_id': 'Paper/10_1038_nature04235'}, {'name': 'Horst L Stormer', 'country': 'United States', 'affiliation': 'Columbia University', 'paper_id': 'Paper/10_1038_nature04235'}, {'name': 'Philip Kim', 'country': 'United States', 'affiliation': 'Columbia University', 'paper_id': 'Paper/10_1038_nature04235'}, {'name': 'A K Geim', 'country': 'Russia', 'affiliation': 'Institute of Microelectronics Technology and High Purity Materials', 'paper_id': 'Paper/10_1038_NMAT1849'}, {'name': 'K S Novoselov', 'country': 'Russia', 'affiliation': 'Institute of Microelectronics Technology and High Purity Materials', 'paper_id': 'Paper/10_1038_NMAT1849'}, {'name': 'Albert  Einstein', 'country': 'Switzerland', 'affiliation': 'Bern', 'paper_id': 'Paper/10_1103_PHYSREV_47_777'}, {'name': 'Boris  Podolsky', 'country': 'United States', 'affiliation': 'Institute for Advanced Study', 'paper_id': 'Paper/10_1103_PHYSREV_47_777'}, {'name': 'Nathan  Rosen', 'country': 'United States', 'affiliation': 'Institute for Advanced Study', 'paper_id': 'Paper/10_1103_PHYSREV_47_777'}, {'name': 'Georg  Kresse', 'country': 'Austria', 'affiliation': 'TU Wien', 'paper_id': 'Paper/10_1103_PHYSREVB_47_558'}, {'name': 'Juergen  Hafner', 'country': 'Austria', 'affiliation': 'TU Wien', 'paper_id': 'Paper/10_1103_PHYSREVB_47_558'}, {'name': 'A H Castro Neto', 'country': 'Singapore', 'affiliation': 'National University of Singapore', 'paper_id': 'Paper/10_1103_RevModPhys_81_109'}, {'name': 'F Guinea', 'country': 'Spain', 'affiliation': 'Instituto de Ciencia de Materiales de Madrid', 'paper_id': 'Paper/10_1103_RevModPhys_81_109'}, {'name': 'N M R Peres', 'country': 'Portugal', 'affiliation': 'University of Minho', 'paper_id': 'Paper/10_1103_RevModPhys_81_109'}, {'name': 'K S Novoselov', 'country': 'Russia', 'affiliation': 'Institute of Microelectronics Technology and High Purity Materials', 'paper_id': 'Paper/10_1103_RevModPhys_81_109'}, {'name': 'A K Geim', 'country': 'Russia', 'affiliation': 'Institute of Microelectronics Technology and High Purity Materials', 'paper_id': 'Paper/10_1103_RevModPhys_81_109'}, {'name': 'Michael A Nielsen', 'country': 'Australia', 'affiliation': 'University of Queensland', 'paper_id': 'Paper/10_1119_1_1463744'}, {'name': 'Isaac Chuang', 'country': 'United States', 'affiliation': 'Massachusetts Institute of Technology', 'paper_id': 'Paper/10_1119_1_1463744'}, {'name': 'Lov K Grover', 'country': 'United States', 'affiliation': 'C-404A| Bell Labs| 600 Mountain Avenue| Murray Hill| New Jersey 07974', 'paper_id': 'Paper/10_1119_1_1463744'}, {'name': 'A K Geim', 'country': 'Russia', 'affiliation': 'Institute of Microelectronics Technology and High Purity Materials', 'paper_id': 'Paper/10_1126_science_1158877'}, {'name': 'J R Scott', 'country': 'United States', 'affiliation': 'Emory University', 'paper_id': 'Paper/10_2307_2938686'}, {'name': 'Michael P Allen', 'country': 'United Kingdom', 'affiliation': 'H. H. Wills Physics Laboratory| Tyndall Avenue Bristol BS8 1 TL| UK', 'paper_id': 'Paper/10_2307_2938686'}, {'name': 'D J Tildesley', 'country': 'United Kingdom', 'affiliation': 'University of Southampton', 'paper_id': 'Paper/10_2307_2938686'}, {'name': 'Dietrich Stauffer', 'country': 'Germany', 'affiliation': 'University of Cologne', 'paper_id': 'Paper/10_4324_9780203211595'}, {'name': 'Amnon Aharony', 'country': 'Israel', 'affiliation': 'Tel Aviv University', 'paper_id': 'Paper/10_4324_9780203211595'}], 'paper_data': [{'id': 'Paper/10_1038_NMAT1849', 'title': 'Unknown', 'year': 2007}, {'id': 'Paper/10_1103_PHYSREVB_47_558', 'title': 'Unknown', 'year': 1993}, {'id': 'Paper/10_2307_2938686', 'title': 'Unknown', 'year': 1988}, {'id': 'Paper/10_1103_RevModPhys_81_109', 'title': 'Unknown', 'year': 2009}, {'id': 'Paper/10_1038_nature04233', 'title': 'Unknown', 'year': 2005}, {'id': 'Paper/10_1119_1_1463744', 'title': 'Unknown', 'year': 2000}, {'id': 'Paper/10_4324_9780203211595', 'title': 'Unknown', 'year': 1985}, {'id': 'Paper/10_1103_PHYSREV_47_777', 'title': 'Unknown', 'year': 1935}, {'id': 'Paper/10_1038_nature04235', 'title': 'Unknown', 'year': 2005}, {'id': 'Paper/10_1126_science_1158877', 'title': 'Unknown', 'year': 2009}]}, log='I have gathered the necessary data on research papers and their authors in the field of quantum studies. Now, I can generate demographic visualizations for the quantum research field using this data.\\n\\nAction:\\n```\\n{\\n  \"action\": \"GeneratePlots\",\\n  \"action_input\": {\\n    \"author_data\": [\\n      {\"name\": \"K S Novoselov\", \"country\": \"Russia\", \"affiliation\": \"Institute of Microelectronics Technology and High Purity Materials\", \"paper_id\": \"Paper/10_1038_nature04233\"},\\n      {\"name\": \"A K Geim\", \"country\": \"Russia\", \"affiliation\": \"Institute of Microelectronics Technology and High Purity Materials\", \"paper_id\": \"Paper/10_1038_nature04233\"},\\n      {\"name\": \"S V Morozov\", \"country\": \"Russia\", \"affiliation\": \"Institute of Microelectronics Technology and High Purity Materials\", \"paper_id\": \"Paper/10_1038_nature04233\"},\\n      {\"name\": \"D Jiang\", \"country\": \"Russia\", \"affiliation\": \"Institute of Microelectronics Technology and High Purity Materials\", \"paper_id\": \"Paper/10_1038_nature04233\"},\\n      {\"name\": \"M I Katsnelson\", \"country\": \"Netherlands\", \"affiliation\": \"Radboud University Nijmegen\", \"paper_id\": \"Paper/10_1038_nature04233\"},\\n      {\"name\": \"I V Grigorieva\", \"country\": \"United Kingdom\", \"affiliation\": \"University of Manchester\", \"paper_id\": \"Paper/10_1038_nature04233\"},\\n      {\"name\": \"S V Dubonos\", \"country\": \"Russia\", \"affiliation\": \"Institute of Microelectronics Technology and High Purity Materials\", \"paper_id\": \"Paper/10_1038_nature04233\"},\\n      {\"name\": \"A A Firsov\", \"country\": \"Russia\", \"affiliation\": \"Institute of Microelectronics Technology and High Purity Materials\", \"paper_id\": \"Paper/10_1038_nature04233\"},\\n      {\"name\": \"Yuanbo Zhang\", \"country\": \"United States\", \"affiliation\": \"Columbia University\", \"paper_id\": \"Paper/10_1038_nature04235\"},\\n      {\"name\": \"Yan-Wen Tan\", \"country\": \"UNKNOWN\", \"affiliation\": \"Department of Physics\", \"paper_id\": \"Paper/10_1038_nature04235\"},\\n      {\"name\": \"Horst L Stormer\", \"country\": \"United States\", \"affiliation\": \"Columbia University\", \"paper_id\": \"Paper/10_1038_nature04235\"},\\n      {\"name\": \"Philip Kim\", \"country\": \"United States\", \"affiliation\": \"Columbia University\", \"paper_id\": \"Paper/10_1038_nature04235\"},\\n      {\"name\": \"A K Geim\", \"country\": \"Russia\", \"affiliation\": \"Institute of Microelectronics Technology and High Purity Materials\", \"paper_id\": \"Paper/10_1038_NMAT1849\"},\\n      {\"name\": \"K S Novoselov\", \"country\": \"Russia\", \"affiliation\": \"Institute of Microelectronics Technology and High Purity Materials\", \"paper_id\": \"Paper/10_1038_NMAT1849\"},\\n      {\"name\": \"Albert  Einstein\", \"country\": \"Switzerland\", \"affiliation\": \"Bern\", \"paper_id\": \"Paper/10_1103_PHYSREV_47_777\"},\\n      {\"name\": \"Boris  Podolsky\", \"country\": \"United States\", \"affiliation\": \"Institute for Advanced Study\", \"paper_id\": \"Paper/10_1103_PHYSREV_47_777\"},\\n      {\"name\": \"Nathan  Rosen\", \"country\": \"United States\", \"affiliation\": \"Institute for Advanced Study\", \"paper_id\": \"Paper/10_1103_PHYSREV_47_777\"},\\n      {\"name\": \"Georg  Kresse\", \"country\": \"Austria\", \"affiliation\": \"TU Wien\", \"paper_id\": \"Paper/10_1103_PHYSREVB_47_558\"},\\n      {\"name\": \"Juergen  Hafner\", \"country\": \"Austria\", \"affiliation\": \"TU Wien\", \"paper_id\": \"Paper/10_1103_PHYSREVB_47_558\"},\\n      {\"name\": \"A H Castro Neto\", \"country\": \"Singapore\", \"affiliation\": \"National University of Singapore\", \"paper_id\": \"Paper/10_1103_RevModPhys_81_109\"},\\n      {\"name\": \"F Guinea\", \"country\": \"Spain\", \"affiliation\": \"Instituto de Ciencia de Materiales de Madrid\", \"paper_id\": \"Paper/10_1103_RevModPhys_81_109\"},\\n      {\"name\": \"N M R Peres\", \"country\": \"Portugal\", \"affiliation\": \"University of Minho\", \"paper_id\": \"Paper/10_1103_RevModPhys_81_109\"},\\n      {\"name\": \"K S Novoselov\", \"country\": \"Russia\", \"affiliation\": \"Institute of Microelectronics Technology and High Purity Materials\", \"paper_id\": \"Paper/10_1103_RevModPhys_81_109\"},\\n      {\"name\": \"A K Geim\", \"country\": \"Russia\", \"affiliation\": \"Institute of Microelectronics Technology and High Purity Materials\", \"paper_id\": \"Paper/10_1103_RevModPhys_81_109\"},\\n      {\"name\": \"Michael A Nielsen\", \"country\": \"Australia\", \"affiliation\": \"University of Queensland\", \"paper_id\": \"Paper/10_1119_1_1463744\"},\\n      {\"name\": \"Isaac Chuang\", \"country\": \"United States\", \"affiliation\": \"Massachusetts Institute of Technology\", \"paper_id\": \"Paper/10_1119_1_1463744\"},\\n      {\"name\": \"Lov K Grover\", \"country\": \"United States\", \"affiliation\": \"C-404A| Bell Labs| 600 Mountain Avenue| Murray Hill| New Jersey 07974\", \"paper_id\": \"Paper/10_1119_1_1463744\"},\\n      {\"name\": \"A K Geim\", \"country\": \"Russia\", \"affiliation\": \"Institute of Microelectronics Technology and High Purity Materials\", \"paper_id\": \"Paper/10_1126_science_1158877\"},\\n      {\"name\": \"J R Scott\", \"country\": \"United States\", \"affiliation\": \"Emory University\", \"paper_id\": \"Paper/10_2307_2938686\"},\\n      {\"name\": \"Michael P Allen\", \"country\": \"United Kingdom\", \"affiliation\": \"H. H. Wills Physics Laboratory| Tyndall Avenue Bristol BS8 1 TL| UK\", \"paper_id\": \"Paper/10_2307_2938686\"},\\n      {\"name\": \"D J Tildesley\", \"country\": \"United Kingdom\", \"affiliation\": \"University of Southampton\", \"paper_id\": \"Paper/10_2307_2938686\"},\\n      {\"name\": \"Dietrich Stauffer\", \"country\": \"Germany\", \"affiliation\": \"University of Cologne\", \"paper_id\": \"Paper/10_4324_9780203211595\"},\\n      {\"name\": \"Amnon Aharony\", \"country\": \"Israel\", \"affiliation\": \"Tel Aviv University\", \"paper_id\": \"Paper/10_4324_9780203211595\"}\\n    ],\\n    \"paper_data\": [\\n      {\"id\": \"Paper/10_1038_NMAT1849\", \"title\": \"Unknown\", \"year\": 2007},\\n      {\"id\": \"Paper/10_1103_PHYSREVB_47_558\", \"title\": \"Unknown\", \"year\": 1993},\\n      {\"id\": \"Paper/10_2307_2938686\", \"title\": \"Unknown\", \"year\": 1988},\\n      {\"id\": \"Paper/10_1103_RevModPhys_81_109\", \"title\": \"Unknown\", \"year\": 2009},\\n      {\"id\": \"Paper/10_1038_nature04233\", \"title\": \"Unknown\", \"year\": 2005},\\n      {\"id\": \"Paper/10_1119_1_1463744\", \"title\": \"Unknown\", \"year\": 2000},\\n      {\"id\": \"Paper/10_4324_9780203211595\", \"title\": \"Unknown\", \"year\": 1985},\\n      {\"id\": \"Paper/10_1103_PHYSREV_47_777\", \"title\": \"Unknown\", \"year\": 1935},\\n      {\"id\": \"Paper/10_1038_nature04235\", \"title\": \"Unknown\", \"year\": 2005},\\n      {\"id\": \"Paper/10_1126_science_1158877\", \"title\": \"Unknown\", \"year\": 2009}\\n    ]\\n  }\\n}\\n```\\n'), {'plots': {'world_map': '{\"data\":[{\"coloraxis\":\"coloraxis\",\"geo\":\"geo\",\"hovertemplate\":\"country=%{location}\\\\u003cbr\\\\u003ecount=%{z}\\\\u003cextra\\\\u003e\\\\u003c\\\\u002fextra\\\\u003e\",\"locationmode\":\"country names\",\"locations\":[\"Russia\",\"United States\",\"United Kingdom\",\"Austria\",\"Netherlands\",\"UNKNOWN\",\"Switzerland\",\"Singapore\",\"Spain\",\"Portugal\",\"Australia\",\"Germany\",\"Israel\"],\"name\":\"\",\"z\":[11,8,3,2,1,1,1,1,1,1,1,1,1],\"type\":\"choropleth\"}],\"layout\":{\"template\":{\"data\":{\"histogram2dcontour\":[{\"type\":\"histogram2dcontour\",\"colorbar\":{\"outlinewidth\":0,\"ticks\":\"\"},\"colorscale\":[[0.0,\"#0d0887\"],[0.1111111111111111,\"#46039f\"],[0.2222222222222222,\"#7201a8\"],[0.3333333333333333,\"#9c179e\"],[0.4444444444444444,\"#bd3786\"],[0.5555555555555556,\"#d8576b\"],[0.6666666666666666,\"#ed7953\"],[0.7777777777777778,\"#fb9f3a\"],[0.8888888888888888,\"#fdca26\"],[1.0,\"#f0f921\"]]}],\"choropleth\":[{\"type\":\"choropleth\",\"colorbar\":{\"outlinewidth\":0,\"ticks\":\"\"}}],\"histogram2d\":[{\"type\":\"histogram2d\",\"colorbar\":{\"outlinewidth\":0,\"ticks\":\"\"},\"colorscale\":[[0.0,\"#0d0887\"],[0.1111111111111111,\"#46039f\"],[0.2222222222222222,\"#7201a8\"],[0.3333333333333333,\"#9c179e\"],[0.4444444444444444,\"#bd3786\"],[0.5555555555555556,\"#d8576b\"],[0.6666666666666666,\"#ed7953\"],[0.7777777777777778,\"#fb9f3a\"],[0.8888888888888888,\"#fdca26\"],[1.0,\"#f0f921\"]]}],\"heatmap\":[{\"type\":\"heatmap\",\"colorbar\":{\"outlinewidth\":0,\"ticks\":\"\"},\"colorscale\":[[0.0,\"#0d0887\"],[0.1111111111111111,\"#46039f\"],[0.2222222222222222,\"#7201a8\"],[0.3333333333333333,\"#9c179e\"],[0.4444444444444444,\"#bd3786\"],[0.5555555555555556,\"#d8576b\"],[0.6666666666666666,\"#ed7953\"],[0.7777777777777778,\"#fb9f3a\"],[0.8888888888888888,\"#fdca26\"],[1.0,\"#f0f921\"]]}],\"heatmapgl\":[{\"type\":\"heatmapgl\",\"colorbar\":{\"outlinewidth\":0,\"ticks\":\"\"},\"colorscale\":[[0.0,\"#0d0887\"],[0.1111111111111111,\"#46039f\"],[0.2222222222222222,\"#7201a8\"],[0.3333333333333333,\"#9c179e\"],[0.4444444444444444,\"#bd3786\"],[0.5555555555555556,\"#d8576b\"],[0.6666666666666666,\"#ed7953\"],[0.7777777777777778,\"#fb9f3a\"],[0.8888888888888888,\"#fdca26\"],[1.0,\"#f0f921\"]]}],\"contourcarpet\":[{\"type\":\"contourcarpet\",\"colorbar\":{\"outlinewidth\":0,\"ticks\":\"\"}}],\"contour\":[{\"type\":\"contour\",\"colorbar\":{\"outlinewidth\":0,\"ticks\":\"\"},\"colorscale\":[[0.0,\"#0d0887\"],[0.1111111111111111,\"#46039f\"],[0.2222222222222222,\"#7201a8\"],[0.3333333333333333,\"#9c179e\"],[0.4444444444444444,\"#bd3786\"],[0.5555555555555556,\"#d8576b\"],[0.6666666666666666,\"#ed7953\"],[0.7777777777777778,\"#fb9f3a\"],[0.8888888888888888,\"#fdca26\"],[1.0,\"#f0f921\"]]}],\"surface\":[{\"type\":\"surface\",\"colorbar\":{\"outlinewidth\":0,\"ticks\":\"\"},\"colorscale\":[[0.0,\"#0d0887\"],[0.1111111111111111,\"#46039f\"],[0.2222222222222222,\"#7201a8\"],[0.3333333333333333,\"#9c179e\"],[0.4444444444444444,\"#bd3786\"],[0.5555555555555556,\"#d8576b\"],[0.6666666666666666,\"#ed7953\"],[0.7777777777777778,\"#fb9f3a\"],[0.8888888888888888,\"#fdca26\"],[1.0,\"#f0f921\"]]}],\"mesh3d\":[{\"type\":\"mesh3d\",\"colorbar\":{\"outlinewidth\":0,\"ticks\":\"\"}}],\"scatter\":[{\"fillpattern\":{\"fillmode\":\"overlay\",\"size\":10,\"solidity\":0.2},\"type\":\"scatter\"}],\"parcoords\":[{\"type\":\"parcoords\",\"line\":{\"colorbar\":{\"outlinewidth\":0,\"ticks\":\"\"}}}],\"scatterpolargl\":[{\"type\":\"scatterpolargl\",\"marker\":{\"colorbar\":{\"outlinewidth\":0,\"ticks\":\"\"}}}],\"bar\":[{\"error_x\":{\"color\":\"#2a3f5f\"},\"error_y\":{\"color\":\"#2a3f5f\"},\"marker\":{\"line\":{\"color\":\"#E5ECF6\",\"width\":0.5},\"pattern\":{\"fillmode\":\"overlay\",\"size\":10,\"solidity\":0.2}},\"type\":\"bar\"}],\"scattergeo\":[{\"type\":\"scattergeo\",\"marker\":{\"colorbar\":{\"outlinewidth\":0,\"ticks\":\"\"}}}],\"scatterpolar\":[{\"type\":\"scatterpolar\",\"marker\":{\"colorbar\":{\"outlinewidth\":0,\"ticks\":\"\"}}}],\"histogram\":[{\"marker\":{\"pattern\":{\"fillmode\":\"overlay\",\"size\":10,\"solidity\":0.2}},\"type\":\"histogram\"}],\"scattergl\":[{\"type\":\"scattergl\",\"marker\":{\"colorbar\":{\"outlinewidth\":0,\"ticks\":\"\"}}}],\"scatter3d\":[{\"type\":\"scatter3d\",\"line\":{\"colorbar\":{\"outlinewidth\":0,\"ticks\":\"\"}},\"marker\":{\"colorbar\":{\"outlinewidth\":0,\"ticks\":\"\"}}}],\"scattermapbox\":[{\"type\":\"scattermapbox\",\"marker\":{\"colorbar\":{\"outlinewidth\":0,\"ticks\":\"\"}}}],\"scatterternary\":[{\"type\":\"scatterternary\",\"marker\":{\"colorbar\":{\"outlinewidth\":0,\"ticks\":\"\"}}}],\"scattercarpet\":[{\"type\":\"scattercarpet\",\"marker\":{\"colorbar\":{\"outlinewidth\":0,\"ticks\":\"\"}}}],\"carpet\":[{\"aaxis\":{\"endlinecolor\":\"#2a3f5f\",\"gridcolor\":\"white\",\"linecolor\":\"white\",\"minorgridcolor\":\"white\",\"startlinecolor\":\"#2a3f5f\"},\"baxis\":{\"endlinecolor\":\"#2a3f5f\",\"gridcolor\":\"white\",\"linecolor\":\"white\",\"minorgridcolor\":\"white\",\"startlinecolor\":\"#2a3f5f\"},\"type\":\"carpet\"}],\"table\":[{\"cells\":{\"fill\":{\"color\":\"#EBF0F8\"},\"line\":{\"color\":\"white\"}},\"header\":{\"fill\":{\"color\":\"#C8D4E3\"},\"line\":{\"color\":\"white\"}},\"type\":\"table\"}],\"barpolar\":[{\"marker\":{\"line\":{\"color\":\"#E5ECF6\",\"width\":0.5},\"pattern\":{\"fillmode\":\"overlay\",\"size\":10,\"solidity\":0.2}},\"type\":\"barpolar\"}],\"pie\":[{\"automargin\":true,\"type\":\"pie\"}]},\"layout\":{\"autotypenumbers\":\"strict\",\"colorway\":[\"#636efa\",\"#EF553B\",\"#00cc96\",\"#ab63fa\",\"#FFA15A\",\"#19d3f3\",\"#FF6692\",\"#B6E880\",\"#FF97FF\",\"#FECB52\"],\"font\":{\"color\":\"#2a3f5f\"},\"hovermode\":\"closest\",\"hoverlabel\":{\"align\":\"left\"},\"paper_bgcolor\":\"white\",\"plot_bgcolor\":\"#E5ECF6\",\"polar\":{\"bgcolor\":\"#E5ECF6\",\"angularaxis\":{\"gridcolor\":\"white\",\"linecolor\":\"white\",\"ticks\":\"\"},\"radialaxis\":{\"gridcolor\":\"white\",\"linecolor\":\"white\",\"ticks\":\"\"}},\"ternary\":{\"bgcolor\":\"#E5ECF6\",\"aaxis\":{\"gridcolor\":\"white\",\"linecolor\":\"white\",\"ticks\":\"\"},\"baxis\":{\"gridcolor\":\"white\",\"linecolor\":\"white\",\"ticks\":\"\"},\"caxis\":{\"gridcolor\":\"white\",\"linecolor\":\"white\",\"ticks\":\"\"}},\"coloraxis\":{\"colorbar\":{\"outlinewidth\":0,\"ticks\":\"\"}},\"colorscale\":{\"sequential\":[[0.0,\"#0d0887\"],[0.1111111111111111,\"#46039f\"],[0.2222222222222222,\"#7201a8\"],[0.3333333333333333,\"#9c179e\"],[0.4444444444444444,\"#bd3786\"],[0.5555555555555556,\"#d8576b\"],[0.6666666666666666,\"#ed7953\"],[0.7777777777777778,\"#fb9f3a\"],[0.8888888888888888,\"#fdca26\"],[1.0,\"#f0f921\"]],\"sequentialminus\":[[0.0,\"#0d0887\"],[0.1111111111111111,\"#46039f\"],[0.2222222222222222,\"#7201a8\"],[0.3333333333333333,\"#9c179e\"],[0.4444444444444444,\"#bd3786\"],[0.5555555555555556,\"#d8576b\"],[0.6666666666666666,\"#ed7953\"],[0.7777777777777778,\"#fb9f3a\"],[0.8888888888888888,\"#fdca26\"],[1.0,\"#f0f921\"]],\"diverging\":[[0,\"#8e0152\"],[0.1,\"#c51b7d\"],[0.2,\"#de77ae\"],[0.3,\"#f1b6da\"],[0.4,\"#fde0ef\"],[0.5,\"#f7f7f7\"],[0.6,\"#e6f5d0\"],[0.7,\"#b8e186\"],[0.8,\"#7fbc41\"],[0.9,\"#4d9221\"],[1,\"#276419\"]]},\"xaxis\":{\"gridcolor\":\"white\",\"linecolor\":\"white\",\"ticks\":\"\",\"title\":{\"standoff\":15},\"zerolinecolor\":\"white\",\"automargin\":true,\"zerolinewidth\":2},\"yaxis\":{\"gridcolor\":\"white\",\"linecolor\":\"white\",\"ticks\":\"\",\"title\":{\"standoff\":15},\"zerolinecolor\":\"white\",\"automargin\":true,\"zerolinewidth\":2},\"scene\":{\"xaxis\":{\"backgroundcolor\":\"#E5ECF6\",\"gridcolor\":\"white\",\"linecolor\":\"white\",\"showbackground\":true,\"ticks\":\"\",\"zerolinecolor\":\"white\",\"gridwidth\":2},\"yaxis\":{\"backgroundcolor\":\"#E5ECF6\",\"gridcolor\":\"white\",\"linecolor\":\"white\",\"showbackground\":true,\"ticks\":\"\",\"zerolinecolor\":\"white\",\"gridwidth\":2},\"zaxis\":{\"backgroundcolor\":\"#E5ECF6\",\"gridcolor\":\"white\",\"linecolor\":\"white\",\"showbackground\":true,\"ticks\":\"\",\"zerolinecolor\":\"white\",\"gridwidth\":2}},\"shapedefaults\":{\"line\":{\"color\":\"#2a3f5f\"}},\"annotationdefaults\":{\"arrowcolor\":\"#2a3f5f\",\"arrowhead\":0,\"arrowwidth\":1},\"geo\":{\"bgcolor\":\"white\",\"landcolor\":\"#E5ECF6\",\"subunitcolor\":\"white\",\"showland\":true,\"showlakes\":true,\"lakecolor\":\"white\"},\"title\":{\"x\":0.05},\"mapbox\":{\"style\":\"light\"}}},\"geo\":{\"domain\":{\"x\":[0.0,1.0],\"y\":[0.0,1.0]},\"center\":{}},\"coloraxis\":{\"colorbar\":{\"title\":{\"text\":\"count\"}},\"colorscale\":[[0.0,\"rgb(247,251,255)\"],[0.125,\"rgb(222,235,247)\"],[0.25,\"rgb(198,219,239)\"],[0.375,\"rgb(158,202,225)\"],[0.5,\"rgb(107,174,214)\"],[0.625,\"rgb(66,146,198)\"],[0.75,\"rgb(33,113,181)\"],[0.875,\"rgb(8,81,156)\"],[1.0,\"rgb(8,48,107)\"]]},\"legend\":{\"tracegroupgap\":0},\"title\":{\"text\":\"Researcher Distribution by Country\"}}}', 'affiliations': '{\"data\":[{\"alignmentgroup\":\"True\",\"hovertemplate\":\"Institution=%{x}\\\\u003cbr\\\\u003eNumber of Researchers=%{y}\\\\u003cextra\\\\u003e\\\\u003c\\\\u002fextra\\\\u003e\",\"legendgroup\":\"\",\"marker\":{\"color\":\"#636efa\",\"pattern\":{\"shape\":\"\"}},\"name\":\"\",\"offsetgroup\":\"\",\"orientation\":\"v\",\"showlegend\":false,\"textposition\":\"auto\",\"x\":[\"Institute of Microelectronics Technology and High Purity Materials\",\"Columbia University\",\"Institute for Advanced Study\",\"TU Wien\",\"University of Queensland\",\"University of Cologne\",\"University of Southampton\",\"H. H. Wills Physics Laboratory| Tyndall Avenue Bristol BS8 1 TL| UK\",\"Emory University\",\"C-404A| Bell Labs| 600 Mountain Avenue| Murray Hill| New Jersey 07974\"],\"xaxis\":\"x\",\"y\":[11,3,2,2,1,1,1,1,1,1],\"yaxis\":\"y\",\"type\":\"bar\"}],\"layout\":{\"template\":{\"data\":{\"histogram2dcontour\":[{\"type\":\"histogram2dcontour\",\"colorbar\":{\"outlinewidth\":0,\"ticks\":\"\"},\"colorscale\":[[0.0,\"#0d0887\"],[0.1111111111111111,\"#46039f\"],[0.2222222222222222,\"#7201a8\"],[0.3333333333333333,\"#9c179e\"],[0.4444444444444444,\"#bd3786\"],[0.5555555555555556,\"#d8576b\"],[0.6666666666666666,\"#ed7953\"],[0.7777777777777778,\"#fb9f3a\"],[0.8888888888888888,\"#fdca26\"],[1.0,\"#f0f921\"]]}],\"choropleth\":[{\"type\":\"choropleth\",\"colorbar\":{\"outlinewidth\":0,\"ticks\":\"\"}}],\"histogram2d\":[{\"type\":\"histogram2d\",\"colorbar\":{\"outlinewidth\":0,\"ticks\":\"\"},\"colorscale\":[[0.0,\"#0d0887\"],[0.1111111111111111,\"#46039f\"],[0.2222222222222222,\"#7201a8\"],[0.3333333333333333,\"#9c179e\"],[0.4444444444444444,\"#bd3786\"],[0.5555555555555556,\"#d8576b\"],[0.6666666666666666,\"#ed7953\"],[0.7777777777777778,\"#fb9f3a\"],[0.8888888888888888,\"#fdca26\"],[1.0,\"#f0f921\"]]}],\"heatmap\":[{\"type\":\"heatmap\",\"colorbar\":{\"outlinewidth\":0,\"ticks\":\"\"},\"colorscale\":[[0.0,\"#0d0887\"],[0.1111111111111111,\"#46039f\"],[0.2222222222222222,\"#7201a8\"],[0.3333333333333333,\"#9c179e\"],[0.4444444444444444,\"#bd3786\"],[0.5555555555555556,\"#d8576b\"],[0.6666666666666666,\"#ed7953\"],[0.7777777777777778,\"#fb9f3a\"],[0.8888888888888888,\"#fdca26\"],[1.0,\"#f0f921\"]]}],\"heatmapgl\":[{\"type\":\"heatmapgl\",\"colorbar\":{\"outlinewidth\":0,\"ticks\":\"\"},\"colorscale\":[[0.0,\"#0d0887\"],[0.1111111111111111,\"#46039f\"],[0.2222222222222222,\"#7201a8\"],[0.3333333333333333,\"#9c179e\"],[0.4444444444444444,\"#bd3786\"],[0.5555555555555556,\"#d8576b\"],[0.6666666666666666,\"#ed7953\"],[0.7777777777777778,\"#fb9f3a\"],[0.8888888888888888,\"#fdca26\"],[1.0,\"#f0f921\"]]}],\"contourcarpet\":[{\"type\":\"contourcarpet\",\"colorbar\":{\"outlinewidth\":0,\"ticks\":\"\"}}],\"contour\":[{\"type\":\"contour\",\"colorbar\":{\"outlinewidth\":0,\"ticks\":\"\"},\"colorscale\":[[0.0,\"#0d0887\"],[0.1111111111111111,\"#46039f\"],[0.2222222222222222,\"#7201a8\"],[0.3333333333333333,\"#9c179e\"],[0.4444444444444444,\"#bd3786\"],[0.5555555555555556,\"#d8576b\"],[0.6666666666666666,\"#ed7953\"],[0.7777777777777778,\"#fb9f3a\"],[0.8888888888888888,\"#fdca26\"],[1.0,\"#f0f921\"]]}],\"surface\":[{\"type\":\"surface\",\"colorbar\":{\"outlinewidth\":0,\"ticks\":\"\"},\"colorscale\":[[0.0,\"#0d0887\"],[0.1111111111111111,\"#46039f\"],[0.2222222222222222,\"#7201a8\"],[0.3333333333333333,\"#9c179e\"],[0.4444444444444444,\"#bd3786\"],[0.5555555555555556,\"#d8576b\"],[0.6666666666666666,\"#ed7953\"],[0.7777777777777778,\"#fb9f3a\"],[0.8888888888888888,\"#fdca26\"],[1.0,\"#f0f921\"]]}],\"mesh3d\":[{\"type\":\"mesh3d\",\"colorbar\":{\"outlinewidth\":0,\"ticks\":\"\"}}],\"scatter\":[{\"fillpattern\":{\"fillmode\":\"overlay\",\"size\":10,\"solidity\":0.2},\"type\":\"scatter\"}],\"parcoords\":[{\"type\":\"parcoords\",\"line\":{\"colorbar\":{\"outlinewidth\":0,\"ticks\":\"\"}}}],\"scatterpolargl\":[{\"type\":\"scatterpolargl\",\"marker\":{\"colorbar\":{\"outlinewidth\":0,\"ticks\":\"\"}}}],\"bar\":[{\"error_x\":{\"color\":\"#2a3f5f\"},\"error_y\":{\"color\":\"#2a3f5f\"},\"marker\":{\"line\":{\"color\":\"#E5ECF6\",\"width\":0.5},\"pattern\":{\"fillmode\":\"overlay\",\"size\":10,\"solidity\":0.2}},\"type\":\"bar\"}],\"scattergeo\":[{\"type\":\"scattergeo\",\"marker\":{\"colorbar\":{\"outlinewidth\":0,\"ticks\":\"\"}}}],\"scatterpolar\":[{\"type\":\"scatterpolar\",\"marker\":{\"colorbar\":{\"outlinewidth\":0,\"ticks\":\"\"}}}],\"histogram\":[{\"marker\":{\"pattern\":{\"fillmode\":\"overlay\",\"size\":10,\"solidity\":0.2}},\"type\":\"histogram\"}],\"scattergl\":[{\"type\":\"scattergl\",\"marker\":{\"colorbar\":{\"outlinewidth\":0,\"ticks\":\"\"}}}],\"scatter3d\":[{\"type\":\"scatter3d\",\"line\":{\"colorbar\":{\"outlinewidth\":0,\"ticks\":\"\"}},\"marker\":{\"colorbar\":{\"outlinewidth\":0,\"ticks\":\"\"}}}],\"scattermapbox\":[{\"type\":\"scattermapbox\",\"marker\":{\"colorbar\":{\"outlinewidth\":0,\"ticks\":\"\"}}}],\"scatterternary\":[{\"type\":\"scatterternary\",\"marker\":{\"colorbar\":{\"outlinewidth\":0,\"ticks\":\"\"}}}],\"scattercarpet\":[{\"type\":\"scattercarpet\",\"marker\":{\"colorbar\":{\"outlinewidth\":0,\"ticks\":\"\"}}}],\"carpet\":[{\"aaxis\":{\"endlinecolor\":\"#2a3f5f\",\"gridcolor\":\"white\",\"linecolor\":\"white\",\"minorgridcolor\":\"white\",\"startlinecolor\":\"#2a3f5f\"},\"baxis\":{\"endlinecolor\":\"#2a3f5f\",\"gridcolor\":\"white\",\"linecolor\":\"white\",\"minorgridcolor\":\"white\",\"startlinecolor\":\"#2a3f5f\"},\"type\":\"carpet\"}],\"table\":[{\"cells\":{\"fill\":{\"color\":\"#EBF0F8\"},\"line\":{\"color\":\"white\"}},\"header\":{\"fill\":{\"color\":\"#C8D4E3\"},\"line\":{\"color\":\"white\"}},\"type\":\"table\"}],\"barpolar\":[{\"marker\":{\"line\":{\"color\":\"#E5ECF6\",\"width\":0.5},\"pattern\":{\"fillmode\":\"overlay\",\"size\":10,\"solidity\":0.2}},\"type\":\"barpolar\"}],\"pie\":[{\"automargin\":true,\"type\":\"pie\"}]},\"layout\":{\"autotypenumbers\":\"strict\",\"colorway\":[\"#636efa\",\"#EF553B\",\"#00cc96\",\"#ab63fa\",\"#FFA15A\",\"#19d3f3\",\"#FF6692\",\"#B6E880\",\"#FF97FF\",\"#FECB52\"],\"font\":{\"color\":\"#2a3f5f\"},\"hovermode\":\"closest\",\"hoverlabel\":{\"align\":\"left\"},\"paper_bgcolor\":\"white\",\"plot_bgcolor\":\"#E5ECF6\",\"polar\":{\"bgcolor\":\"#E5ECF6\",\"angularaxis\":{\"gridcolor\":\"white\",\"linecolor\":\"white\",\"ticks\":\"\"},\"radialaxis\":{\"gridcolor\":\"white\",\"linecolor\":\"white\",\"ticks\":\"\"}},\"ternary\":{\"bgcolor\":\"#E5ECF6\",\"aaxis\":{\"gridcolor\":\"white\",\"linecolor\":\"white\",\"ticks\":\"\"},\"baxis\":{\"gridcolor\":\"white\",\"linecolor\":\"white\",\"ticks\":\"\"},\"caxis\":{\"gridcolor\":\"white\",\"linecolor\":\"white\",\"ticks\":\"\"}},\"coloraxis\":{\"colorbar\":{\"outlinewidth\":0,\"ticks\":\"\"}},\"colorscale\":{\"sequential\":[[0.0,\"#0d0887\"],[0.1111111111111111,\"#46039f\"],[0.2222222222222222,\"#7201a8\"],[0.3333333333333333,\"#9c179e\"],[0.4444444444444444,\"#bd3786\"],[0.5555555555555556,\"#d8576b\"],[0.6666666666666666,\"#ed7953\"],[0.7777777777777778,\"#fb9f3a\"],[0.8888888888888888,\"#fdca26\"],[1.0,\"#f0f921\"]],\"sequentialminus\":[[0.0,\"#0d0887\"],[0.1111111111111111,\"#46039f\"],[0.2222222222222222,\"#7201a8\"],[0.3333333333333333,\"#9c179e\"],[0.4444444444444444,\"#bd3786\"],[0.5555555555555556,\"#d8576b\"],[0.6666666666666666,\"#ed7953\"],[0.7777777777777778,\"#fb9f3a\"],[0.8888888888888888,\"#fdca26\"],[1.0,\"#f0f921\"]],\"diverging\":[[0,\"#8e0152\"],[0.1,\"#c51b7d\"],[0.2,\"#de77ae\"],[0.3,\"#f1b6da\"],[0.4,\"#fde0ef\"],[0.5,\"#f7f7f7\"],[0.6,\"#e6f5d0\"],[0.7,\"#b8e186\"],[0.8,\"#7fbc41\"],[0.9,\"#4d9221\"],[1,\"#276419\"]]},\"xaxis\":{\"gridcolor\":\"white\",\"linecolor\":\"white\",\"ticks\":\"\",\"title\":{\"standoff\":15},\"zerolinecolor\":\"white\",\"automargin\":true,\"zerolinewidth\":2},\"yaxis\":{\"gridcolor\":\"white\",\"linecolor\":\"white\",\"ticks\":\"\",\"title\":{\"standoff\":15},\"zerolinecolor\":\"white\",\"automargin\":true,\"zerolinewidth\":2},\"scene\":{\"xaxis\":{\"backgroundcolor\":\"#E5ECF6\",\"gridcolor\":\"white\",\"linecolor\":\"white\",\"showbackground\":true,\"ticks\":\"\",\"zerolinecolor\":\"white\",\"gridwidth\":2},\"yaxis\":{\"backgroundcolor\":\"#E5ECF6\",\"gridcolor\":\"white\",\"linecolor\":\"white\",\"showbackground\":true,\"ticks\":\"\",\"zerolinecolor\":\"white\",\"gridwidth\":2},\"zaxis\":{\"backgroundcolor\":\"#E5ECF6\",\"gridcolor\":\"white\",\"linecolor\":\"white\",\"showbackground\":true,\"ticks\":\"\",\"zerolinecolor\":\"white\",\"gridwidth\":2}},\"shapedefaults\":{\"line\":{\"color\":\"#2a3f5f\"}},\"annotationdefaults\":{\"arrowcolor\":\"#2a3f5f\",\"arrowhead\":0,\"arrowwidth\":1},\"geo\":{\"bgcolor\":\"white\",\"landcolor\":\"#E5ECF6\",\"subunitcolor\":\"white\",\"showland\":true,\"showlakes\":true,\"lakecolor\":\"white\"},\"title\":{\"x\":0.05},\"mapbox\":{\"style\":\"light\"}}},\"xaxis\":{\"anchor\":\"y\",\"domain\":[0.0,1.0],\"title\":{\"text\":\"Institution\"}},\"yaxis\":{\"anchor\":\"x\",\"domain\":[0.0,1.0],\"title\":{\"text\":\"Number of Researchers\"}},\"legend\":{\"tracegroupgap\":0},\"title\":{\"text\":\"Top 10 Research Institutions\"},\"barmode\":\"relative\"}}', 'yearly_trends': '{\"data\":[{\"hovertemplate\":\"Year=%{x}\\\\u003cbr\\\\u003ePapers Published=%{y}\\\\u003cextra\\\\u003e\\\\u003c\\\\u002fextra\\\\u003e\",\"legendgroup\":\"\",\"line\":{\"color\":\"#636efa\",\"dash\":\"solid\"},\"marker\":{\"symbol\":\"circle\"},\"mode\":\"lines\",\"name\":\"\",\"orientation\":\"v\",\"showlegend\":false,\"x\":[1935,1985,1988,1993,2000,2005,2007,2009],\"xaxis\":\"x\",\"y\":[1,1,1,1,1,2,1,2],\"yaxis\":\"y\",\"type\":\"scatter\"}],\"layout\":{\"template\":{\"data\":{\"histogram2dcontour\":[{\"type\":\"histogram2dcontour\",\"colorbar\":{\"outlinewidth\":0,\"ticks\":\"\"},\"colorscale\":[[0.0,\"#0d0887\"],[0.1111111111111111,\"#46039f\"],[0.2222222222222222,\"#7201a8\"],[0.3333333333333333,\"#9c179e\"],[0.4444444444444444,\"#bd3786\"],[0.5555555555555556,\"#d8576b\"],[0.6666666666666666,\"#ed7953\"],[0.7777777777777778,\"#fb9f3a\"],[0.8888888888888888,\"#fdca26\"],[1.0,\"#f0f921\"]]}],\"choropleth\":[{\"type\":\"choropleth\",\"colorbar\":{\"outlinewidth\":0,\"ticks\":\"\"}}],\"histogram2d\":[{\"type\":\"histogram2d\",\"colorbar\":{\"outlinewidth\":0,\"ticks\":\"\"},\"colorscale\":[[0.0,\"#0d0887\"],[0.1111111111111111,\"#46039f\"],[0.2222222222222222,\"#7201a8\"],[0.3333333333333333,\"#9c179e\"],[0.4444444444444444,\"#bd3786\"],[0.5555555555555556,\"#d8576b\"],[0.6666666666666666,\"#ed7953\"],[0.7777777777777778,\"#fb9f3a\"],[0.8888888888888888,\"#fdca26\"],[1.0,\"#f0f921\"]]}],\"heatmap\":[{\"type\":\"heatmap\",\"colorbar\":{\"outlinewidth\":0,\"ticks\":\"\"},\"colorscale\":[[0.0,\"#0d0887\"],[0.1111111111111111,\"#46039f\"],[0.2222222222222222,\"#7201a8\"],[0.3333333333333333,\"#9c179e\"],[0.4444444444444444,\"#bd3786\"],[0.5555555555555556,\"#d8576b\"],[0.6666666666666666,\"#ed7953\"],[0.7777777777777778,\"#fb9f3a\"],[0.8888888888888888,\"#fdca26\"],[1.0,\"#f0f921\"]]}],\"heatmapgl\":[{\"type\":\"heatmapgl\",\"colorbar\":{\"outlinewidth\":0,\"ticks\":\"\"},\"colorscale\":[[0.0,\"#0d0887\"],[0.1111111111111111,\"#46039f\"],[0.2222222222222222,\"#7201a8\"],[0.3333333333333333,\"#9c179e\"],[0.4444444444444444,\"#bd3786\"],[0.5555555555555556,\"#d8576b\"],[0.6666666666666666,\"#ed7953\"],[0.7777777777777778,\"#fb9f3a\"],[0.8888888888888888,\"#fdca26\"],[1.0,\"#f0f921\"]]}],\"contourcarpet\":[{\"type\":\"contourcarpet\",\"colorbar\":{\"outlinewidth\":0,\"ticks\":\"\"}}],\"contour\":[{\"type\":\"contour\",\"colorbar\":{\"outlinewidth\":0,\"ticks\":\"\"},\"colorscale\":[[0.0,\"#0d0887\"],[0.1111111111111111,\"#46039f\"],[0.2222222222222222,\"#7201a8\"],[0.3333333333333333,\"#9c179e\"],[0.4444444444444444,\"#bd3786\"],[0.5555555555555556,\"#d8576b\"],[0.6666666666666666,\"#ed7953\"],[0.7777777777777778,\"#fb9f3a\"],[0.8888888888888888,\"#fdca26\"],[1.0,\"#f0f921\"]]}],\"surface\":[{\"type\":\"surface\",\"colorbar\":{\"outlinewidth\":0,\"ticks\":\"\"},\"colorscale\":[[0.0,\"#0d0887\"],[0.1111111111111111,\"#46039f\"],[0.2222222222222222,\"#7201a8\"],[0.3333333333333333,\"#9c179e\"],[0.4444444444444444,\"#bd3786\"],[0.5555555555555556,\"#d8576b\"],[0.6666666666666666,\"#ed7953\"],[0.7777777777777778,\"#fb9f3a\"],[0.8888888888888888,\"#fdca26\"],[1.0,\"#f0f921\"]]}],\"mesh3d\":[{\"type\":\"mesh3d\",\"colorbar\":{\"outlinewidth\":0,\"ticks\":\"\"}}],\"scatter\":[{\"fillpattern\":{\"fillmode\":\"overlay\",\"size\":10,\"solidity\":0.2},\"type\":\"scatter\"}],\"parcoords\":[{\"type\":\"parcoords\",\"line\":{\"colorbar\":{\"outlinewidth\":0,\"ticks\":\"\"}}}],\"scatterpolargl\":[{\"type\":\"scatterpolargl\",\"marker\":{\"colorbar\":{\"outlinewidth\":0,\"ticks\":\"\"}}}],\"bar\":[{\"error_x\":{\"color\":\"#2a3f5f\"},\"error_y\":{\"color\":\"#2a3f5f\"},\"marker\":{\"line\":{\"color\":\"#E5ECF6\",\"width\":0.5},\"pattern\":{\"fillmode\":\"overlay\",\"size\":10,\"solidity\":0.2}},\"type\":\"bar\"}],\"scattergeo\":[{\"type\":\"scattergeo\",\"marker\":{\"colorbar\":{\"outlinewidth\":0,\"ticks\":\"\"}}}],\"scatterpolar\":[{\"type\":\"scatterpolar\",\"marker\":{\"colorbar\":{\"outlinewidth\":0,\"ticks\":\"\"}}}],\"histogram\":[{\"marker\":{\"pattern\":{\"fillmode\":\"overlay\",\"size\":10,\"solidity\":0.2}},\"type\":\"histogram\"}],\"scattergl\":[{\"type\":\"scattergl\",\"marker\":{\"colorbar\":{\"outlinewidth\":0,\"ticks\":\"\"}}}],\"scatter3d\":[{\"type\":\"scatter3d\",\"line\":{\"colorbar\":{\"outlinewidth\":0,\"ticks\":\"\"}},\"marker\":{\"colorbar\":{\"outlinewidth\":0,\"ticks\":\"\"}}}],\"scattermapbox\":[{\"type\":\"scattermapbox\",\"marker\":{\"colorbar\":{\"outlinewidth\":0,\"ticks\":\"\"}}}],\"scatterternary\":[{\"type\":\"scatterternary\",\"marker\":{\"colorbar\":{\"outlinewidth\":0,\"ticks\":\"\"}}}],\"scattercarpet\":[{\"type\":\"scattercarpet\",\"marker\":{\"colorbar\":{\"outlinewidth\":0,\"ticks\":\"\"}}}],\"carpet\":[{\"aaxis\":{\"endlinecolor\":\"#2a3f5f\",\"gridcolor\":\"white\",\"linecolor\":\"white\",\"minorgridcolor\":\"white\",\"startlinecolor\":\"#2a3f5f\"},\"baxis\":{\"endlinecolor\":\"#2a3f5f\",\"gridcolor\":\"white\",\"linecolor\":\"white\",\"minorgridcolor\":\"white\",\"startlinecolor\":\"#2a3f5f\"},\"type\":\"carpet\"}],\"table\":[{\"cells\":{\"fill\":{\"color\":\"#EBF0F8\"},\"line\":{\"color\":\"white\"}},\"header\":{\"fill\":{\"color\":\"#C8D4E3\"},\"line\":{\"color\":\"white\"}},\"type\":\"table\"}],\"barpolar\":[{\"marker\":{\"line\":{\"color\":\"#E5ECF6\",\"width\":0.5},\"pattern\":{\"fillmode\":\"overlay\",\"size\":10,\"solidity\":0.2}},\"type\":\"barpolar\"}],\"pie\":[{\"automargin\":true,\"type\":\"pie\"}]},\"layout\":{\"autotypenumbers\":\"strict\",\"colorway\":[\"#636efa\",\"#EF553B\",\"#00cc96\",\"#ab63fa\",\"#FFA15A\",\"#19d3f3\",\"#FF6692\",\"#B6E880\",\"#FF97FF\",\"#FECB52\"],\"font\":{\"color\":\"#2a3f5f\"},\"hovermode\":\"closest\",\"hoverlabel\":{\"align\":\"left\"},\"paper_bgcolor\":\"white\",\"plot_bgcolor\":\"#E5ECF6\",\"polar\":{\"bgcolor\":\"#E5ECF6\",\"angularaxis\":{\"gridcolor\":\"white\",\"linecolor\":\"white\",\"ticks\":\"\"},\"radialaxis\":{\"gridcolor\":\"white\",\"linecolor\":\"white\",\"ticks\":\"\"}},\"ternary\":{\"bgcolor\":\"#E5ECF6\",\"aaxis\":{\"gridcolor\":\"white\",\"linecolor\":\"white\",\"ticks\":\"\"},\"baxis\":{\"gridcolor\":\"white\",\"linecolor\":\"white\",\"ticks\":\"\"},\"caxis\":{\"gridcolor\":\"white\",\"linecolor\":\"white\",\"ticks\":\"\"}},\"coloraxis\":{\"colorbar\":{\"outlinewidth\":0,\"ticks\":\"\"}},\"colorscale\":{\"sequential\":[[0.0,\"#0d0887\"],[0.1111111111111111,\"#46039f\"],[0.2222222222222222,\"#7201a8\"],[0.3333333333333333,\"#9c179e\"],[0.4444444444444444,\"#bd3786\"],[0.5555555555555556,\"#d8576b\"],[0.6666666666666666,\"#ed7953\"],[0.7777777777777778,\"#fb9f3a\"],[0.8888888888888888,\"#fdca26\"],[1.0,\"#f0f921\"]],\"sequentialminus\":[[0.0,\"#0d0887\"],[0.1111111111111111,\"#46039f\"],[0.2222222222222222,\"#7201a8\"],[0.3333333333333333,\"#9c179e\"],[0.4444444444444444,\"#bd3786\"],[0.5555555555555556,\"#d8576b\"],[0.6666666666666666,\"#ed7953\"],[0.7777777777777778,\"#fb9f3a\"],[0.8888888888888888,\"#fdca26\"],[1.0,\"#f0f921\"]],\"diverging\":[[0,\"#8e0152\"],[0.1,\"#c51b7d\"],[0.2,\"#de77ae\"],[0.3,\"#f1b6da\"],[0.4,\"#fde0ef\"],[0.5,\"#f7f7f7\"],[0.6,\"#e6f5d0\"],[0.7,\"#b8e186\"],[0.8,\"#7fbc41\"],[0.9,\"#4d9221\"],[1,\"#276419\"]]},\"xaxis\":{\"gridcolor\":\"white\",\"linecolor\":\"white\",\"ticks\":\"\",\"title\":{\"standoff\":15},\"zerolinecolor\":\"white\",\"automargin\":true,\"zerolinewidth\":2},\"yaxis\":{\"gridcolor\":\"white\",\"linecolor\":\"white\",\"ticks\":\"\",\"title\":{\"standoff\":15},\"zerolinecolor\":\"white\",\"automargin\":true,\"zerolinewidth\":2},\"scene\":{\"xaxis\":{\"backgroundcolor\":\"#E5ECF6\",\"gridcolor\":\"white\",\"linecolor\":\"white\",\"showbackground\":true,\"ticks\":\"\",\"zerolinecolor\":\"white\",\"gridwidth\":2},\"yaxis\":{\"backgroundcolor\":\"#E5ECF6\",\"gridcolor\":\"white\",\"linecolor\":\"white\",\"showbackground\":true,\"ticks\":\"\",\"zerolinecolor\":\"white\",\"gridwidth\":2},\"zaxis\":{\"backgroundcolor\":\"#E5ECF6\",\"gridcolor\":\"white\",\"linecolor\":\"white\",\"showbackground\":true,\"ticks\":\"\",\"zerolinecolor\":\"white\",\"gridwidth\":2}},\"shapedefaults\":{\"line\":{\"color\":\"#2a3f5f\"}},\"annotationdefaults\":{\"arrowcolor\":\"#2a3f5f\",\"arrowhead\":0,\"arrowwidth\":1},\"geo\":{\"bgcolor\":\"white\",\"landcolor\":\"#E5ECF6\",\"subunitcolor\":\"white\",\"showland\":true,\"showlakes\":true,\"lakecolor\":\"white\"},\"title\":{\"x\":0.05},\"mapbox\":{\"style\":\"light\"}}},\"xaxis\":{\"anchor\":\"y\",\"domain\":[0.0,1.0],\"title\":{\"text\":\"Year\"}},\"yaxis\":{\"anchor\":\"x\",\"domain\":[0.0,1.0],\"title\":{\"text\":\"Papers Published\"}},\"legend\":{\"tracegroupgap\":0},\"title\":{\"text\":\"Yearly Publication Trends\"}}}'}})]}\n",
            "Colab notebook detected. This cell will run indefinitely so that you can see errors and logs. To turn off, set debug=False in launch().\n",
            "* Running on public URL: https://c43182652465bb6ede.gradio.live\n",
            "\n",
            "This share link expires in 72 hours. For free permanent hosting and GPU upgrades, run `gradio deploy` from the terminal in the working directory to deploy to Hugging Face Spaces (https://huggingface.co/spaces)\n"
          ]
        },
        {
          "output_type": "display_data",
          "data": {
            "text/plain": [
              "<IPython.core.display.HTML object>"
            ],
            "text/html": [
              "<div><iframe src=\"https://c43182652465bb6ede.gradio.live\" width=\"100%\" height=\"500\" allow=\"autoplay; camera; microphone; clipboard-read; clipboard-write;\" frameborder=\"0\" allowfullscreen></iframe></div>"
            ]
          },
          "metadata": {}
        },
        {
          "output_type": "stream",
          "name": "stdout",
          "text": [
            "DEBUG: key='world_map' {\"data\":[{\"coloraxis\":\"coloraxis\",\"geo\":\"geo\",\"hovertemplate\":\"country=%{location}\\u003cbr\\u003ecount=%{z}\\u003cextra\\u003e\\u003c\\u002fextra\\u003e\",\"locationmode\":\"country names\",\"locations\":[\"Russia\",\"United States\",\"United Kingdom\",\"Austria\",\"Netherlands\",\"UNKNOWN\",\"Switzerland\",\"Singapore\",\"Spain\",\"Portugal\",\"Australia\",\"Germany\",\"Israel\"],\"name\":\"\",\"z\":[11,8,3,2,1,1,1,1,1,1,1,1,1],\"type\":\"choropleth\"}],\"layout\":{\"template\":{\"data\":{\"histogram2dcontour\":[{\"type\":\"histogram2dcontour\",\"colorbar\":{\"outlinewidth\":0,\"ticks\":\"\"},\"colorscale\":[[0.0,\"#0d0887\"],[0.1111111111111111,\"#46039f\"],[0.2222222222222222,\"#7201a8\"],[0.3333333333333333,\"#9c179e\"],[0.4444444444444444,\"#bd3786\"],[0.5555555555555556,\"#d8576b\"],[0.6666666666666666,\"#ed7953\"],[0.7777777777777778,\"#fb9f3a\"],[0.8888888888888888,\"#fdca26\"],[1.0,\"#f0f921\"]]}],\"choropleth\":[{\"type\":\"choropleth\",\"colorbar\":{\"outlinewidth\":0,\"ticks\":\"\"}}],\"histogram2d\":[{\"type\":\"histogram2d\",\"colorbar\":{\"outlinewidth\":0,\"ticks\":\"\"},\"colorscale\":[[0.0,\"#0d0887\"],[0.1111111111111111,\"#46039f\"],[0.2222222222222222,\"#7201a8\"],[0.3333333333333333,\"#9c179e\"],[0.4444444444444444,\"#bd3786\"],[0.5555555555555556,\"#d8576b\"],[0.6666666666666666,\"#ed7953\"],[0.7777777777777778,\"#fb9f3a\"],[0.8888888888888888,\"#fdca26\"],[1.0,\"#f0f921\"]]}],\"heatmap\":[{\"type\":\"heatmap\",\"colorbar\":{\"outlinewidth\":0,\"ticks\":\"\"},\"colorscale\":[[0.0,\"#0d0887\"],[0.1111111111111111,\"#46039f\"],[0.2222222222222222,\"#7201a8\"],[0.3333333333333333,\"#9c179e\"],[0.4444444444444444,\"#bd3786\"],[0.5555555555555556,\"#d8576b\"],[0.6666666666666666,\"#ed7953\"],[0.7777777777777778,\"#fb9f3a\"],[0.8888888888888888,\"#fdca26\"],[1.0,\"#f0f921\"]]}],\"heatmapgl\":[{\"type\":\"heatmapgl\",\"colorbar\":{\"outlinewidth\":0,\"ticks\":\"\"},\"colorscale\":[[0.0,\"#0d0887\"],[0.1111111111111111,\"#46039f\"],[0.2222222222222222,\"#7201a8\"],[0.3333333333333333,\"#9c179e\"],[0.4444444444444444,\"#bd3786\"],[0.5555555555555556,\"#d8576b\"],[0.6666666666666666,\"#ed7953\"],[0.7777777777777778,\"#fb9f3a\"],[0.8888888888888888,\"#fdca26\"],[1.0,\"#f0f921\"]]}],\"contourcarpet\":[{\"type\":\"contourcarpet\",\"colorbar\":{\"outlinewidth\":0,\"ticks\":\"\"}}],\"contour\":[{\"type\":\"contour\",\"colorbar\":{\"outlinewidth\":0,\"ticks\":\"\"},\"colorscale\":[[0.0,\"#0d0887\"],[0.1111111111111111,\"#46039f\"],[0.2222222222222222,\"#7201a8\"],[0.3333333333333333,\"#9c179e\"],[0.4444444444444444,\"#bd3786\"],[0.5555555555555556,\"#d8576b\"],[0.6666666666666666,\"#ed7953\"],[0.7777777777777778,\"#fb9f3a\"],[0.8888888888888888,\"#fdca26\"],[1.0,\"#f0f921\"]]}],\"surface\":[{\"type\":\"surface\",\"colorbar\":{\"outlinewidth\":0,\"ticks\":\"\"},\"colorscale\":[[0.0,\"#0d0887\"],[0.1111111111111111,\"#46039f\"],[0.2222222222222222,\"#7201a8\"],[0.3333333333333333,\"#9c179e\"],[0.4444444444444444,\"#bd3786\"],[0.5555555555555556,\"#d8576b\"],[0.6666666666666666,\"#ed7953\"],[0.7777777777777778,\"#fb9f3a\"],[0.8888888888888888,\"#fdca26\"],[1.0,\"#f0f921\"]]}],\"mesh3d\":[{\"type\":\"mesh3d\",\"colorbar\":{\"outlinewidth\":0,\"ticks\":\"\"}}],\"scatter\":[{\"fillpattern\":{\"fillmode\":\"overlay\",\"size\":10,\"solidity\":0.2},\"type\":\"scatter\"}],\"parcoords\":[{\"type\":\"parcoords\",\"line\":{\"colorbar\":{\"outlinewidth\":0,\"ticks\":\"\"}}}],\"scatterpolargl\":[{\"type\":\"scatterpolargl\",\"marker\":{\"colorbar\":{\"outlinewidth\":0,\"ticks\":\"\"}}}],\"bar\":[{\"error_x\":{\"color\":\"#2a3f5f\"},\"error_y\":{\"color\":\"#2a3f5f\"},\"marker\":{\"line\":{\"color\":\"#E5ECF6\",\"width\":0.5},\"pattern\":{\"fillmode\":\"overlay\",\"size\":10,\"solidity\":0.2}},\"type\":\"bar\"}],\"scattergeo\":[{\"type\":\"scattergeo\",\"marker\":{\"colorbar\":{\"outlinewidth\":0,\"ticks\":\"\"}}}],\"scatterpolar\":[{\"type\":\"scatterpolar\",\"marker\":{\"colorbar\":{\"outlinewidth\":0,\"ticks\":\"\"}}}],\"histogram\":[{\"marker\":{\"pattern\":{\"fillmode\":\"overlay\",\"size\":10,\"solidity\":0.2}},\"type\":\"histogram\"}],\"scattergl\":[{\"type\":\"scattergl\",\"marker\":{\"colorbar\":{\"outlinewidth\":0,\"ticks\":\"\"}}}],\"scatter3d\":[{\"type\":\"scatter3d\",\"line\":{\"colorbar\":{\"outlinewidth\":0,\"ticks\":\"\"}},\"marker\":{\"colorbar\":{\"outlinewidth\":0,\"ticks\":\"\"}}}],\"scattermapbox\":[{\"type\":\"scattermapbox\",\"marker\":{\"colorbar\":{\"outlinewidth\":0,\"ticks\":\"\"}}}],\"scatterternary\":[{\"type\":\"scatterternary\",\"marker\":{\"colorbar\":{\"outlinewidth\":0,\"ticks\":\"\"}}}],\"scattercarpet\":[{\"type\":\"scattercarpet\",\"marker\":{\"colorbar\":{\"outlinewidth\":0,\"ticks\":\"\"}}}],\"carpet\":[{\"aaxis\":{\"endlinecolor\":\"#2a3f5f\",\"gridcolor\":\"white\",\"linecolor\":\"white\",\"minorgridcolor\":\"white\",\"startlinecolor\":\"#2a3f5f\"},\"baxis\":{\"endlinecolor\":\"#2a3f5f\",\"gridcolor\":\"white\",\"linecolor\":\"white\",\"minorgridcolor\":\"white\",\"startlinecolor\":\"#2a3f5f\"},\"type\":\"carpet\"}],\"table\":[{\"cells\":{\"fill\":{\"color\":\"#EBF0F8\"},\"line\":{\"color\":\"white\"}},\"header\":{\"fill\":{\"color\":\"#C8D4E3\"},\"line\":{\"color\":\"white\"}},\"type\":\"table\"}],\"barpolar\":[{\"marker\":{\"line\":{\"color\":\"#E5ECF6\",\"width\":0.5},\"pattern\":{\"fillmode\":\"overlay\",\"size\":10,\"solidity\":0.2}},\"type\":\"barpolar\"}],\"pie\":[{\"automargin\":true,\"type\":\"pie\"}]},\"layout\":{\"autotypenumbers\":\"strict\",\"colorway\":[\"#636efa\",\"#EF553B\",\"#00cc96\",\"#ab63fa\",\"#FFA15A\",\"#19d3f3\",\"#FF6692\",\"#B6E880\",\"#FF97FF\",\"#FECB52\"],\"font\":{\"color\":\"#2a3f5f\"},\"hovermode\":\"closest\",\"hoverlabel\":{\"align\":\"left\"},\"paper_bgcolor\":\"white\",\"plot_bgcolor\":\"#E5ECF6\",\"polar\":{\"bgcolor\":\"#E5ECF6\",\"angularaxis\":{\"gridcolor\":\"white\",\"linecolor\":\"white\",\"ticks\":\"\"},\"radialaxis\":{\"gridcolor\":\"white\",\"linecolor\":\"white\",\"ticks\":\"\"}},\"ternary\":{\"bgcolor\":\"#E5ECF6\",\"aaxis\":{\"gridcolor\":\"white\",\"linecolor\":\"white\",\"ticks\":\"\"},\"baxis\":{\"gridcolor\":\"white\",\"linecolor\":\"white\",\"ticks\":\"\"},\"caxis\":{\"gridcolor\":\"white\",\"linecolor\":\"white\",\"ticks\":\"\"}},\"coloraxis\":{\"colorbar\":{\"outlinewidth\":0,\"ticks\":\"\"}},\"colorscale\":{\"sequential\":[[0.0,\"#0d0887\"],[0.1111111111111111,\"#46039f\"],[0.2222222222222222,\"#7201a8\"],[0.3333333333333333,\"#9c179e\"],[0.4444444444444444,\"#bd3786\"],[0.5555555555555556,\"#d8576b\"],[0.6666666666666666,\"#ed7953\"],[0.7777777777777778,\"#fb9f3a\"],[0.8888888888888888,\"#fdca26\"],[1.0,\"#f0f921\"]],\"sequentialminus\":[[0.0,\"#0d0887\"],[0.1111111111111111,\"#46039f\"],[0.2222222222222222,\"#7201a8\"],[0.3333333333333333,\"#9c179e\"],[0.4444444444444444,\"#bd3786\"],[0.5555555555555556,\"#d8576b\"],[0.6666666666666666,\"#ed7953\"],[0.7777777777777778,\"#fb9f3a\"],[0.8888888888888888,\"#fdca26\"],[1.0,\"#f0f921\"]],\"diverging\":[[0,\"#8e0152\"],[0.1,\"#c51b7d\"],[0.2,\"#de77ae\"],[0.3,\"#f1b6da\"],[0.4,\"#fde0ef\"],[0.5,\"#f7f7f7\"],[0.6,\"#e6f5d0\"],[0.7,\"#b8e186\"],[0.8,\"#7fbc41\"],[0.9,\"#4d9221\"],[1,\"#276419\"]]},\"xaxis\":{\"gridcolor\":\"white\",\"linecolor\":\"white\",\"ticks\":\"\",\"title\":{\"standoff\":15},\"zerolinecolor\":\"white\",\"automargin\":true,\"zerolinewidth\":2},\"yaxis\":{\"gridcolor\":\"white\",\"linecolor\":\"white\",\"ticks\":\"\",\"title\":{\"standoff\":15},\"zerolinecolor\":\"white\",\"automargin\":true,\"zerolinewidth\":2},\"scene\":{\"xaxis\":{\"backgroundcolor\":\"#E5ECF6\",\"gridcolor\":\"white\",\"linecolor\":\"white\",\"showbackground\":true,\"ticks\":\"\",\"zerolinecolor\":\"white\",\"gridwidth\":2},\"yaxis\":{\"backgroundcolor\":\"#E5ECF6\",\"gridcolor\":\"white\",\"linecolor\":\"white\",\"showbackground\":true,\"ticks\":\"\",\"zerolinecolor\":\"white\",\"gridwidth\":2},\"zaxis\":{\"backgroundcolor\":\"#E5ECF6\",\"gridcolor\":\"white\",\"linecolor\":\"white\",\"showbackground\":true,\"ticks\":\"\",\"zerolinecolor\":\"white\",\"gridwidth\":2}},\"shapedefaults\":{\"line\":{\"color\":\"#2a3f5f\"}},\"annotationdefaults\":{\"arrowcolor\":\"#2a3f5f\",\"arrowhead\":0,\"arrowwidth\":1},\"geo\":{\"bgcolor\":\"white\",\"landcolor\":\"#E5ECF6\",\"subunitcolor\":\"white\",\"showland\":true,\"showlakes\":true,\"lakecolor\":\"white\"},\"title\":{\"x\":0.05},\"mapbox\":{\"style\":\"light\"}}},\"geo\":{\"domain\":{\"x\":[0.0,1.0],\"y\":[0.0,1.0]},\"center\":{}},\"coloraxis\":{\"colorbar\":{\"title\":{\"text\":\"count\"}},\"colorscale\":[[0.0,\"rgb(247,251,255)\"],[0.125,\"rgb(222,235,247)\"],[0.25,\"rgb(198,219,239)\"],[0.375,\"rgb(158,202,225)\"],[0.5,\"rgb(107,174,214)\"],[0.625,\"rgb(66,146,198)\"],[0.75,\"rgb(33,113,181)\"],[0.875,\"rgb(8,81,156)\"],[1.0,\"rgb(8,48,107)\"]]},\"legend\":{\"tracegroupgap\":0},\"title\":{\"text\":\"Researcher Distribution by Country\"}}}\n",
            "DEBUG: key='affiliations' {\"data\":[{\"alignmentgroup\":\"True\",\"hovertemplate\":\"Institution=%{x}\\u003cbr\\u003eNumber of Researchers=%{y}\\u003cextra\\u003e\\u003c\\u002fextra\\u003e\",\"legendgroup\":\"\",\"marker\":{\"color\":\"#636efa\",\"pattern\":{\"shape\":\"\"}},\"name\":\"\",\"offsetgroup\":\"\",\"orientation\":\"v\",\"showlegend\":false,\"textposition\":\"auto\",\"x\":[\"Institute of Microelectronics Technology and High Purity Materials\",\"Columbia University\",\"Institute for Advanced Study\",\"TU Wien\",\"University of Queensland\",\"University of Cologne\",\"University of Southampton\",\"H. H. Wills Physics Laboratory| Tyndall Avenue Bristol BS8 1 TL| UK\",\"Emory University\",\"C-404A| Bell Labs| 600 Mountain Avenue| Murray Hill| New Jersey 07974\"],\"xaxis\":\"x\",\"y\":[11,3,2,2,1,1,1,1,1,1],\"yaxis\":\"y\",\"type\":\"bar\"}],\"layout\":{\"template\":{\"data\":{\"histogram2dcontour\":[{\"type\":\"histogram2dcontour\",\"colorbar\":{\"outlinewidth\":0,\"ticks\":\"\"},\"colorscale\":[[0.0,\"#0d0887\"],[0.1111111111111111,\"#46039f\"],[0.2222222222222222,\"#7201a8\"],[0.3333333333333333,\"#9c179e\"],[0.4444444444444444,\"#bd3786\"],[0.5555555555555556,\"#d8576b\"],[0.6666666666666666,\"#ed7953\"],[0.7777777777777778,\"#fb9f3a\"],[0.8888888888888888,\"#fdca26\"],[1.0,\"#f0f921\"]]}],\"choropleth\":[{\"type\":\"choropleth\",\"colorbar\":{\"outlinewidth\":0,\"ticks\":\"\"}}],\"histogram2d\":[{\"type\":\"histogram2d\",\"colorbar\":{\"outlinewidth\":0,\"ticks\":\"\"},\"colorscale\":[[0.0,\"#0d0887\"],[0.1111111111111111,\"#46039f\"],[0.2222222222222222,\"#7201a8\"],[0.3333333333333333,\"#9c179e\"],[0.4444444444444444,\"#bd3786\"],[0.5555555555555556,\"#d8576b\"],[0.6666666666666666,\"#ed7953\"],[0.7777777777777778,\"#fb9f3a\"],[0.8888888888888888,\"#fdca26\"],[1.0,\"#f0f921\"]]}],\"heatmap\":[{\"type\":\"heatmap\",\"colorbar\":{\"outlinewidth\":0,\"ticks\":\"\"},\"colorscale\":[[0.0,\"#0d0887\"],[0.1111111111111111,\"#46039f\"],[0.2222222222222222,\"#7201a8\"],[0.3333333333333333,\"#9c179e\"],[0.4444444444444444,\"#bd3786\"],[0.5555555555555556,\"#d8576b\"],[0.6666666666666666,\"#ed7953\"],[0.7777777777777778,\"#fb9f3a\"],[0.8888888888888888,\"#fdca26\"],[1.0,\"#f0f921\"]]}],\"heatmapgl\":[{\"type\":\"heatmapgl\",\"colorbar\":{\"outlinewidth\":0,\"ticks\":\"\"},\"colorscale\":[[0.0,\"#0d0887\"],[0.1111111111111111,\"#46039f\"],[0.2222222222222222,\"#7201a8\"],[0.3333333333333333,\"#9c179e\"],[0.4444444444444444,\"#bd3786\"],[0.5555555555555556,\"#d8576b\"],[0.6666666666666666,\"#ed7953\"],[0.7777777777777778,\"#fb9f3a\"],[0.8888888888888888,\"#fdca26\"],[1.0,\"#f0f921\"]]}],\"contourcarpet\":[{\"type\":\"contourcarpet\",\"colorbar\":{\"outlinewidth\":0,\"ticks\":\"\"}}],\"contour\":[{\"type\":\"contour\",\"colorbar\":{\"outlinewidth\":0,\"ticks\":\"\"},\"colorscale\":[[0.0,\"#0d0887\"],[0.1111111111111111,\"#46039f\"],[0.2222222222222222,\"#7201a8\"],[0.3333333333333333,\"#9c179e\"],[0.4444444444444444,\"#bd3786\"],[0.5555555555555556,\"#d8576b\"],[0.6666666666666666,\"#ed7953\"],[0.7777777777777778,\"#fb9f3a\"],[0.8888888888888888,\"#fdca26\"],[1.0,\"#f0f921\"]]}],\"surface\":[{\"type\":\"surface\",\"colorbar\":{\"outlinewidth\":0,\"ticks\":\"\"},\"colorscale\":[[0.0,\"#0d0887\"],[0.1111111111111111,\"#46039f\"],[0.2222222222222222,\"#7201a8\"],[0.3333333333333333,\"#9c179e\"],[0.4444444444444444,\"#bd3786\"],[0.5555555555555556,\"#d8576b\"],[0.6666666666666666,\"#ed7953\"],[0.7777777777777778,\"#fb9f3a\"],[0.8888888888888888,\"#fdca26\"],[1.0,\"#f0f921\"]]}],\"mesh3d\":[{\"type\":\"mesh3d\",\"colorbar\":{\"outlinewidth\":0,\"ticks\":\"\"}}],\"scatter\":[{\"fillpattern\":{\"fillmode\":\"overlay\",\"size\":10,\"solidity\":0.2},\"type\":\"scatter\"}],\"parcoords\":[{\"type\":\"parcoords\",\"line\":{\"colorbar\":{\"outlinewidth\":0,\"ticks\":\"\"}}}],\"scatterpolargl\":[{\"type\":\"scatterpolargl\",\"marker\":{\"colorbar\":{\"outlinewidth\":0,\"ticks\":\"\"}}}],\"bar\":[{\"error_x\":{\"color\":\"#2a3f5f\"},\"error_y\":{\"color\":\"#2a3f5f\"},\"marker\":{\"line\":{\"color\":\"#E5ECF6\",\"width\":0.5},\"pattern\":{\"fillmode\":\"overlay\",\"size\":10,\"solidity\":0.2}},\"type\":\"bar\"}],\"scattergeo\":[{\"type\":\"scattergeo\",\"marker\":{\"colorbar\":{\"outlinewidth\":0,\"ticks\":\"\"}}}],\"scatterpolar\":[{\"type\":\"scatterpolar\",\"marker\":{\"colorbar\":{\"outlinewidth\":0,\"ticks\":\"\"}}}],\"histogram\":[{\"marker\":{\"pattern\":{\"fillmode\":\"overlay\",\"size\":10,\"solidity\":0.2}},\"type\":\"histogram\"}],\"scattergl\":[{\"type\":\"scattergl\",\"marker\":{\"colorbar\":{\"outlinewidth\":0,\"ticks\":\"\"}}}],\"scatter3d\":[{\"type\":\"scatter3d\",\"line\":{\"colorbar\":{\"outlinewidth\":0,\"ticks\":\"\"}},\"marker\":{\"colorbar\":{\"outlinewidth\":0,\"ticks\":\"\"}}}],\"scattermapbox\":[{\"type\":\"scattermapbox\",\"marker\":{\"colorbar\":{\"outlinewidth\":0,\"ticks\":\"\"}}}],\"scatterternary\":[{\"type\":\"scatterternary\",\"marker\":{\"colorbar\":{\"outlinewidth\":0,\"ticks\":\"\"}}}],\"scattercarpet\":[{\"type\":\"scattercarpet\",\"marker\":{\"colorbar\":{\"outlinewidth\":0,\"ticks\":\"\"}}}],\"carpet\":[{\"aaxis\":{\"endlinecolor\":\"#2a3f5f\",\"gridcolor\":\"white\",\"linecolor\":\"white\",\"minorgridcolor\":\"white\",\"startlinecolor\":\"#2a3f5f\"},\"baxis\":{\"endlinecolor\":\"#2a3f5f\",\"gridcolor\":\"white\",\"linecolor\":\"white\",\"minorgridcolor\":\"white\",\"startlinecolor\":\"#2a3f5f\"},\"type\":\"carpet\"}],\"table\":[{\"cells\":{\"fill\":{\"color\":\"#EBF0F8\"},\"line\":{\"color\":\"white\"}},\"header\":{\"fill\":{\"color\":\"#C8D4E3\"},\"line\":{\"color\":\"white\"}},\"type\":\"table\"}],\"barpolar\":[{\"marker\":{\"line\":{\"color\":\"#E5ECF6\",\"width\":0.5},\"pattern\":{\"fillmode\":\"overlay\",\"size\":10,\"solidity\":0.2}},\"type\":\"barpolar\"}],\"pie\":[{\"automargin\":true,\"type\":\"pie\"}]},\"layout\":{\"autotypenumbers\":\"strict\",\"colorway\":[\"#636efa\",\"#EF553B\",\"#00cc96\",\"#ab63fa\",\"#FFA15A\",\"#19d3f3\",\"#FF6692\",\"#B6E880\",\"#FF97FF\",\"#FECB52\"],\"font\":{\"color\":\"#2a3f5f\"},\"hovermode\":\"closest\",\"hoverlabel\":{\"align\":\"left\"},\"paper_bgcolor\":\"white\",\"plot_bgcolor\":\"#E5ECF6\",\"polar\":{\"bgcolor\":\"#E5ECF6\",\"angularaxis\":{\"gridcolor\":\"white\",\"linecolor\":\"white\",\"ticks\":\"\"},\"radialaxis\":{\"gridcolor\":\"white\",\"linecolor\":\"white\",\"ticks\":\"\"}},\"ternary\":{\"bgcolor\":\"#E5ECF6\",\"aaxis\":{\"gridcolor\":\"white\",\"linecolor\":\"white\",\"ticks\":\"\"},\"baxis\":{\"gridcolor\":\"white\",\"linecolor\":\"white\",\"ticks\":\"\"},\"caxis\":{\"gridcolor\":\"white\",\"linecolor\":\"white\",\"ticks\":\"\"}},\"coloraxis\":{\"colorbar\":{\"outlinewidth\":0,\"ticks\":\"\"}},\"colorscale\":{\"sequential\":[[0.0,\"#0d0887\"],[0.1111111111111111,\"#46039f\"],[0.2222222222222222,\"#7201a8\"],[0.3333333333333333,\"#9c179e\"],[0.4444444444444444,\"#bd3786\"],[0.5555555555555556,\"#d8576b\"],[0.6666666666666666,\"#ed7953\"],[0.7777777777777778,\"#fb9f3a\"],[0.8888888888888888,\"#fdca26\"],[1.0,\"#f0f921\"]],\"sequentialminus\":[[0.0,\"#0d0887\"],[0.1111111111111111,\"#46039f\"],[0.2222222222222222,\"#7201a8\"],[0.3333333333333333,\"#9c179e\"],[0.4444444444444444,\"#bd3786\"],[0.5555555555555556,\"#d8576b\"],[0.6666666666666666,\"#ed7953\"],[0.7777777777777778,\"#fb9f3a\"],[0.8888888888888888,\"#fdca26\"],[1.0,\"#f0f921\"]],\"diverging\":[[0,\"#8e0152\"],[0.1,\"#c51b7d\"],[0.2,\"#de77ae\"],[0.3,\"#f1b6da\"],[0.4,\"#fde0ef\"],[0.5,\"#f7f7f7\"],[0.6,\"#e6f5d0\"],[0.7,\"#b8e186\"],[0.8,\"#7fbc41\"],[0.9,\"#4d9221\"],[1,\"#276419\"]]},\"xaxis\":{\"gridcolor\":\"white\",\"linecolor\":\"white\",\"ticks\":\"\",\"title\":{\"standoff\":15},\"zerolinecolor\":\"white\",\"automargin\":true,\"zerolinewidth\":2},\"yaxis\":{\"gridcolor\":\"white\",\"linecolor\":\"white\",\"ticks\":\"\",\"title\":{\"standoff\":15},\"zerolinecolor\":\"white\",\"automargin\":true,\"zerolinewidth\":2},\"scene\":{\"xaxis\":{\"backgroundcolor\":\"#E5ECF6\",\"gridcolor\":\"white\",\"linecolor\":\"white\",\"showbackground\":true,\"ticks\":\"\",\"zerolinecolor\":\"white\",\"gridwidth\":2},\"yaxis\":{\"backgroundcolor\":\"#E5ECF6\",\"gridcolor\":\"white\",\"linecolor\":\"white\",\"showbackground\":true,\"ticks\":\"\",\"zerolinecolor\":\"white\",\"gridwidth\":2},\"zaxis\":{\"backgroundcolor\":\"#E5ECF6\",\"gridcolor\":\"white\",\"linecolor\":\"white\",\"showbackground\":true,\"ticks\":\"\",\"zerolinecolor\":\"white\",\"gridwidth\":2}},\"shapedefaults\":{\"line\":{\"color\":\"#2a3f5f\"}},\"annotationdefaults\":{\"arrowcolor\":\"#2a3f5f\",\"arrowhead\":0,\"arrowwidth\":1},\"geo\":{\"bgcolor\":\"white\",\"landcolor\":\"#E5ECF6\",\"subunitcolor\":\"white\",\"showland\":true,\"showlakes\":true,\"lakecolor\":\"white\"},\"title\":{\"x\":0.05},\"mapbox\":{\"style\":\"light\"}}},\"xaxis\":{\"anchor\":\"y\",\"domain\":[0.0,1.0],\"title\":{\"text\":\"Institution\"}},\"yaxis\":{\"anchor\":\"x\",\"domain\":[0.0,1.0],\"title\":{\"text\":\"Number of Researchers\"}},\"legend\":{\"tracegroupgap\":0},\"title\":{\"text\":\"Top 10 Research Institutions\"},\"barmode\":\"relative\"}}\n",
            "DEBUG: key='yearly_trends' {\"data\":[{\"hovertemplate\":\"Year=%{x}\\u003cbr\\u003ePapers Published=%{y}\\u003cextra\\u003e\\u003c\\u002fextra\\u003e\",\"legendgroup\":\"\",\"line\":{\"color\":\"#636efa\",\"dash\":\"solid\"},\"marker\":{\"symbol\":\"circle\"},\"mode\":\"lines\",\"name\":\"\",\"orientation\":\"v\",\"showlegend\":false,\"x\":[1935,1985,1988,1993,2000,2005,2007,2009],\"xaxis\":\"x\",\"y\":[1,1,1,1,1,2,1,2],\"yaxis\":\"y\",\"type\":\"scatter\"}],\"layout\":{\"template\":{\"data\":{\"histogram2dcontour\":[{\"type\":\"histogram2dcontour\",\"colorbar\":{\"outlinewidth\":0,\"ticks\":\"\"},\"colorscale\":[[0.0,\"#0d0887\"],[0.1111111111111111,\"#46039f\"],[0.2222222222222222,\"#7201a8\"],[0.3333333333333333,\"#9c179e\"],[0.4444444444444444,\"#bd3786\"],[0.5555555555555556,\"#d8576b\"],[0.6666666666666666,\"#ed7953\"],[0.7777777777777778,\"#fb9f3a\"],[0.8888888888888888,\"#fdca26\"],[1.0,\"#f0f921\"]]}],\"choropleth\":[{\"type\":\"choropleth\",\"colorbar\":{\"outlinewidth\":0,\"ticks\":\"\"}}],\"histogram2d\":[{\"type\":\"histogram2d\",\"colorbar\":{\"outlinewidth\":0,\"ticks\":\"\"},\"colorscale\":[[0.0,\"#0d0887\"],[0.1111111111111111,\"#46039f\"],[0.2222222222222222,\"#7201a8\"],[0.3333333333333333,\"#9c179e\"],[0.4444444444444444,\"#bd3786\"],[0.5555555555555556,\"#d8576b\"],[0.6666666666666666,\"#ed7953\"],[0.7777777777777778,\"#fb9f3a\"],[0.8888888888888888,\"#fdca26\"],[1.0,\"#f0f921\"]]}],\"heatmap\":[{\"type\":\"heatmap\",\"colorbar\":{\"outlinewidth\":0,\"ticks\":\"\"},\"colorscale\":[[0.0,\"#0d0887\"],[0.1111111111111111,\"#46039f\"],[0.2222222222222222,\"#7201a8\"],[0.3333333333333333,\"#9c179e\"],[0.4444444444444444,\"#bd3786\"],[0.5555555555555556,\"#d8576b\"],[0.6666666666666666,\"#ed7953\"],[0.7777777777777778,\"#fb9f3a\"],[0.8888888888888888,\"#fdca26\"],[1.0,\"#f0f921\"]]}],\"heatmapgl\":[{\"type\":\"heatmapgl\",\"colorbar\":{\"outlinewidth\":0,\"ticks\":\"\"},\"colorscale\":[[0.0,\"#0d0887\"],[0.1111111111111111,\"#46039f\"],[0.2222222222222222,\"#7201a8\"],[0.3333333333333333,\"#9c179e\"],[0.4444444444444444,\"#bd3786\"],[0.5555555555555556,\"#d8576b\"],[0.6666666666666666,\"#ed7953\"],[0.7777777777777778,\"#fb9f3a\"],[0.8888888888888888,\"#fdca26\"],[1.0,\"#f0f921\"]]}],\"contourcarpet\":[{\"type\":\"contourcarpet\",\"colorbar\":{\"outlinewidth\":0,\"ticks\":\"\"}}],\"contour\":[{\"type\":\"contour\",\"colorbar\":{\"outlinewidth\":0,\"ticks\":\"\"},\"colorscale\":[[0.0,\"#0d0887\"],[0.1111111111111111,\"#46039f\"],[0.2222222222222222,\"#7201a8\"],[0.3333333333333333,\"#9c179e\"],[0.4444444444444444,\"#bd3786\"],[0.5555555555555556,\"#d8576b\"],[0.6666666666666666,\"#ed7953\"],[0.7777777777777778,\"#fb9f3a\"],[0.8888888888888888,\"#fdca26\"],[1.0,\"#f0f921\"]]}],\"surface\":[{\"type\":\"surface\",\"colorbar\":{\"outlinewidth\":0,\"ticks\":\"\"},\"colorscale\":[[0.0,\"#0d0887\"],[0.1111111111111111,\"#46039f\"],[0.2222222222222222,\"#7201a8\"],[0.3333333333333333,\"#9c179e\"],[0.4444444444444444,\"#bd3786\"],[0.5555555555555556,\"#d8576b\"],[0.6666666666666666,\"#ed7953\"],[0.7777777777777778,\"#fb9f3a\"],[0.8888888888888888,\"#fdca26\"],[1.0,\"#f0f921\"]]}],\"mesh3d\":[{\"type\":\"mesh3d\",\"colorbar\":{\"outlinewidth\":0,\"ticks\":\"\"}}],\"scatter\":[{\"fillpattern\":{\"fillmode\":\"overlay\",\"size\":10,\"solidity\":0.2},\"type\":\"scatter\"}],\"parcoords\":[{\"type\":\"parcoords\",\"line\":{\"colorbar\":{\"outlinewidth\":0,\"ticks\":\"\"}}}],\"scatterpolargl\":[{\"type\":\"scatterpolargl\",\"marker\":{\"colorbar\":{\"outlinewidth\":0,\"ticks\":\"\"}}}],\"bar\":[{\"error_x\":{\"color\":\"#2a3f5f\"},\"error_y\":{\"color\":\"#2a3f5f\"},\"marker\":{\"line\":{\"color\":\"#E5ECF6\",\"width\":0.5},\"pattern\":{\"fillmode\":\"overlay\",\"size\":10,\"solidity\":0.2}},\"type\":\"bar\"}],\"scattergeo\":[{\"type\":\"scattergeo\",\"marker\":{\"colorbar\":{\"outlinewidth\":0,\"ticks\":\"\"}}}],\"scatterpolar\":[{\"type\":\"scatterpolar\",\"marker\":{\"colorbar\":{\"outlinewidth\":0,\"ticks\":\"\"}}}],\"histogram\":[{\"marker\":{\"pattern\":{\"fillmode\":\"overlay\",\"size\":10,\"solidity\":0.2}},\"type\":\"histogram\"}],\"scattergl\":[{\"type\":\"scattergl\",\"marker\":{\"colorbar\":{\"outlinewidth\":0,\"ticks\":\"\"}}}],\"scatter3d\":[{\"type\":\"scatter3d\",\"line\":{\"colorbar\":{\"outlinewidth\":0,\"ticks\":\"\"}},\"marker\":{\"colorbar\":{\"outlinewidth\":0,\"ticks\":\"\"}}}],\"scattermapbox\":[{\"type\":\"scattermapbox\",\"marker\":{\"colorbar\":{\"outlinewidth\":0,\"ticks\":\"\"}}}],\"scatterternary\":[{\"type\":\"scatterternary\",\"marker\":{\"colorbar\":{\"outlinewidth\":0,\"ticks\":\"\"}}}],\"scattercarpet\":[{\"type\":\"scattercarpet\",\"marker\":{\"colorbar\":{\"outlinewidth\":0,\"ticks\":\"\"}}}],\"carpet\":[{\"aaxis\":{\"endlinecolor\":\"#2a3f5f\",\"gridcolor\":\"white\",\"linecolor\":\"white\",\"minorgridcolor\":\"white\",\"startlinecolor\":\"#2a3f5f\"},\"baxis\":{\"endlinecolor\":\"#2a3f5f\",\"gridcolor\":\"white\",\"linecolor\":\"white\",\"minorgridcolor\":\"white\",\"startlinecolor\":\"#2a3f5f\"},\"type\":\"carpet\"}],\"table\":[{\"cells\":{\"fill\":{\"color\":\"#EBF0F8\"},\"line\":{\"color\":\"white\"}},\"header\":{\"fill\":{\"color\":\"#C8D4E3\"},\"line\":{\"color\":\"white\"}},\"type\":\"table\"}],\"barpolar\":[{\"marker\":{\"line\":{\"color\":\"#E5ECF6\",\"width\":0.5},\"pattern\":{\"fillmode\":\"overlay\",\"size\":10,\"solidity\":0.2}},\"type\":\"barpolar\"}],\"pie\":[{\"automargin\":true,\"type\":\"pie\"}]},\"layout\":{\"autotypenumbers\":\"strict\",\"colorway\":[\"#636efa\",\"#EF553B\",\"#00cc96\",\"#ab63fa\",\"#FFA15A\",\"#19d3f3\",\"#FF6692\",\"#B6E880\",\"#FF97FF\",\"#FECB52\"],\"font\":{\"color\":\"#2a3f5f\"},\"hovermode\":\"closest\",\"hoverlabel\":{\"align\":\"left\"},\"paper_bgcolor\":\"white\",\"plot_bgcolor\":\"#E5ECF6\",\"polar\":{\"bgcolor\":\"#E5ECF6\",\"angularaxis\":{\"gridcolor\":\"white\",\"linecolor\":\"white\",\"ticks\":\"\"},\"radialaxis\":{\"gridcolor\":\"white\",\"linecolor\":\"white\",\"ticks\":\"\"}},\"ternary\":{\"bgcolor\":\"#E5ECF6\",\"aaxis\":{\"gridcolor\":\"white\",\"linecolor\":\"white\",\"ticks\":\"\"},\"baxis\":{\"gridcolor\":\"white\",\"linecolor\":\"white\",\"ticks\":\"\"},\"caxis\":{\"gridcolor\":\"white\",\"linecolor\":\"white\",\"ticks\":\"\"}},\"coloraxis\":{\"colorbar\":{\"outlinewidth\":0,\"ticks\":\"\"}},\"colorscale\":{\"sequential\":[[0.0,\"#0d0887\"],[0.1111111111111111,\"#46039f\"],[0.2222222222222222,\"#7201a8\"],[0.3333333333333333,\"#9c179e\"],[0.4444444444444444,\"#bd3786\"],[0.5555555555555556,\"#d8576b\"],[0.6666666666666666,\"#ed7953\"],[0.7777777777777778,\"#fb9f3a\"],[0.8888888888888888,\"#fdca26\"],[1.0,\"#f0f921\"]],\"sequentialminus\":[[0.0,\"#0d0887\"],[0.1111111111111111,\"#46039f\"],[0.2222222222222222,\"#7201a8\"],[0.3333333333333333,\"#9c179e\"],[0.4444444444444444,\"#bd3786\"],[0.5555555555555556,\"#d8576b\"],[0.6666666666666666,\"#ed7953\"],[0.7777777777777778,\"#fb9f3a\"],[0.8888888888888888,\"#fdca26\"],[1.0,\"#f0f921\"]],\"diverging\":[[0,\"#8e0152\"],[0.1,\"#c51b7d\"],[0.2,\"#de77ae\"],[0.3,\"#f1b6da\"],[0.4,\"#fde0ef\"],[0.5,\"#f7f7f7\"],[0.6,\"#e6f5d0\"],[0.7,\"#b8e186\"],[0.8,\"#7fbc41\"],[0.9,\"#4d9221\"],[1,\"#276419\"]]},\"xaxis\":{\"gridcolor\":\"white\",\"linecolor\":\"white\",\"ticks\":\"\",\"title\":{\"standoff\":15},\"zerolinecolor\":\"white\",\"automargin\":true,\"zerolinewidth\":2},\"yaxis\":{\"gridcolor\":\"white\",\"linecolor\":\"white\",\"ticks\":\"\",\"title\":{\"standoff\":15},\"zerolinecolor\":\"white\",\"automargin\":true,\"zerolinewidth\":2},\"scene\":{\"xaxis\":{\"backgroundcolor\":\"#E5ECF6\",\"gridcolor\":\"white\",\"linecolor\":\"white\",\"showbackground\":true,\"ticks\":\"\",\"zerolinecolor\":\"white\",\"gridwidth\":2},\"yaxis\":{\"backgroundcolor\":\"#E5ECF6\",\"gridcolor\":\"white\",\"linecolor\":\"white\",\"showbackground\":true,\"ticks\":\"\",\"zerolinecolor\":\"white\",\"gridwidth\":2},\"zaxis\":{\"backgroundcolor\":\"#E5ECF6\",\"gridcolor\":\"white\",\"linecolor\":\"white\",\"showbackground\":true,\"ticks\":\"\",\"zerolinecolor\":\"white\",\"gridwidth\":2}},\"shapedefaults\":{\"line\":{\"color\":\"#2a3f5f\"}},\"annotationdefaults\":{\"arrowcolor\":\"#2a3f5f\",\"arrowhead\":0,\"arrowwidth\":1},\"geo\":{\"bgcolor\":\"white\",\"landcolor\":\"#E5ECF6\",\"subunitcolor\":\"white\",\"showland\":true,\"showlakes\":true,\"lakecolor\":\"white\"},\"title\":{\"x\":0.05},\"mapbox\":{\"style\":\"light\"}}},\"xaxis\":{\"anchor\":\"y\",\"domain\":[0.0,1.0],\"title\":{\"text\":\"Year\"}},\"yaxis\":{\"anchor\":\"x\",\"domain\":[0.0,1.0],\"title\":{\"text\":\"Papers Published\"}},\"legend\":{\"tracegroupgap\":0},\"title\":{\"text\":\"Yearly Publication Trends\"}}}\n",
            "DEBUG: key='world_map' {\"data\":[{\"coloraxis\":\"coloraxis\",\"geo\":\"geo\",\"hovertemplate\":\"country=%{location}\\u003cbr\\u003ecount=%{z}\\u003cextra\\u003e\\u003c\\u002fextra\\u003e\",\"locationmode\":\"country names\",\"locations\":[\"Russia\",\"United States\",\"United Kingdom\",\"Austria\",\"Netherlands\",\"UNKNOWN\",\"Switzerland\",\"Singapore\",\"Spain\",\"Portugal\",\"Australia\",\"Germany\",\"Israel\"],\"name\":\"\",\"z\":[11,8,3,2,1,1,1,1,1,1,1,1,1],\"type\":\"choropleth\"}],\"layout\":{\"template\":{\"data\":{\"histogram2dcontour\":[{\"type\":\"histogram2dcontour\",\"colorbar\":{\"outlinewidth\":0,\"ticks\":\"\"},\"colorscale\":[[0.0,\"#0d0887\"],[0.1111111111111111,\"#46039f\"],[0.2222222222222222,\"#7201a8\"],[0.3333333333333333,\"#9c179e\"],[0.4444444444444444,\"#bd3786\"],[0.5555555555555556,\"#d8576b\"],[0.6666666666666666,\"#ed7953\"],[0.7777777777777778,\"#fb9f3a\"],[0.8888888888888888,\"#fdca26\"],[1.0,\"#f0f921\"]]}],\"choropleth\":[{\"type\":\"choropleth\",\"colorbar\":{\"outlinewidth\":0,\"ticks\":\"\"}}],\"histogram2d\":[{\"type\":\"histogram2d\",\"colorbar\":{\"outlinewidth\":0,\"ticks\":\"\"},\"colorscale\":[[0.0,\"#0d0887\"],[0.1111111111111111,\"#46039f\"],[0.2222222222222222,\"#7201a8\"],[0.3333333333333333,\"#9c179e\"],[0.4444444444444444,\"#bd3786\"],[0.5555555555555556,\"#d8576b\"],[0.6666666666666666,\"#ed7953\"],[0.7777777777777778,\"#fb9f3a\"],[0.8888888888888888,\"#fdca26\"],[1.0,\"#f0f921\"]]}],\"heatmap\":[{\"type\":\"heatmap\",\"colorbar\":{\"outlinewidth\":0,\"ticks\":\"\"},\"colorscale\":[[0.0,\"#0d0887\"],[0.1111111111111111,\"#46039f\"],[0.2222222222222222,\"#7201a8\"],[0.3333333333333333,\"#9c179e\"],[0.4444444444444444,\"#bd3786\"],[0.5555555555555556,\"#d8576b\"],[0.6666666666666666,\"#ed7953\"],[0.7777777777777778,\"#fb9f3a\"],[0.8888888888888888,\"#fdca26\"],[1.0,\"#f0f921\"]]}],\"heatmapgl\":[{\"type\":\"heatmapgl\",\"colorbar\":{\"outlinewidth\":0,\"ticks\":\"\"},\"colorscale\":[[0.0,\"#0d0887\"],[0.1111111111111111,\"#46039f\"],[0.2222222222222222,\"#7201a8\"],[0.3333333333333333,\"#9c179e\"],[0.4444444444444444,\"#bd3786\"],[0.5555555555555556,\"#d8576b\"],[0.6666666666666666,\"#ed7953\"],[0.7777777777777778,\"#fb9f3a\"],[0.8888888888888888,\"#fdca26\"],[1.0,\"#f0f921\"]]}],\"contourcarpet\":[{\"type\":\"contourcarpet\",\"colorbar\":{\"outlinewidth\":0,\"ticks\":\"\"}}],\"contour\":[{\"type\":\"contour\",\"colorbar\":{\"outlinewidth\":0,\"ticks\":\"\"},\"colorscale\":[[0.0,\"#0d0887\"],[0.1111111111111111,\"#46039f\"],[0.2222222222222222,\"#7201a8\"],[0.3333333333333333,\"#9c179e\"],[0.4444444444444444,\"#bd3786\"],[0.5555555555555556,\"#d8576b\"],[0.6666666666666666,\"#ed7953\"],[0.7777777777777778,\"#fb9f3a\"],[0.8888888888888888,\"#fdca26\"],[1.0,\"#f0f921\"]]}],\"surface\":[{\"type\":\"surface\",\"colorbar\":{\"outlinewidth\":0,\"ticks\":\"\"},\"colorscale\":[[0.0,\"#0d0887\"],[0.1111111111111111,\"#46039f\"],[0.2222222222222222,\"#7201a8\"],[0.3333333333333333,\"#9c179e\"],[0.4444444444444444,\"#bd3786\"],[0.5555555555555556,\"#d8576b\"],[0.6666666666666666,\"#ed7953\"],[0.7777777777777778,\"#fb9f3a\"],[0.8888888888888888,\"#fdca26\"],[1.0,\"#f0f921\"]]}],\"mesh3d\":[{\"type\":\"mesh3d\",\"colorbar\":{\"outlinewidth\":0,\"ticks\":\"\"}}],\"scatter\":[{\"fillpattern\":{\"fillmode\":\"overlay\",\"size\":10,\"solidity\":0.2},\"type\":\"scatter\"}],\"parcoords\":[{\"type\":\"parcoords\",\"line\":{\"colorbar\":{\"outlinewidth\":0,\"ticks\":\"\"}}}],\"scatterpolargl\":[{\"type\":\"scatterpolargl\",\"marker\":{\"colorbar\":{\"outlinewidth\":0,\"ticks\":\"\"}}}],\"bar\":[{\"error_x\":{\"color\":\"#2a3f5f\"},\"error_y\":{\"color\":\"#2a3f5f\"},\"marker\":{\"line\":{\"color\":\"#E5ECF6\",\"width\":0.5},\"pattern\":{\"fillmode\":\"overlay\",\"size\":10,\"solidity\":0.2}},\"type\":\"bar\"}],\"scattergeo\":[{\"type\":\"scattergeo\",\"marker\":{\"colorbar\":{\"outlinewidth\":0,\"ticks\":\"\"}}}],\"scatterpolar\":[{\"type\":\"scatterpolar\",\"marker\":{\"colorbar\":{\"outlinewidth\":0,\"ticks\":\"\"}}}],\"histogram\":[{\"marker\":{\"pattern\":{\"fillmode\":\"overlay\",\"size\":10,\"solidity\":0.2}},\"type\":\"histogram\"}],\"scattergl\":[{\"type\":\"scattergl\",\"marker\":{\"colorbar\":{\"outlinewidth\":0,\"ticks\":\"\"}}}],\"scatter3d\":[{\"type\":\"scatter3d\",\"line\":{\"colorbar\":{\"outlinewidth\":0,\"ticks\":\"\"}},\"marker\":{\"colorbar\":{\"outlinewidth\":0,\"ticks\":\"\"}}}],\"scattermapbox\":[{\"type\":\"scattermapbox\",\"marker\":{\"colorbar\":{\"outlinewidth\":0,\"ticks\":\"\"}}}],\"scatterternary\":[{\"type\":\"scatterternary\",\"marker\":{\"colorbar\":{\"outlinewidth\":0,\"ticks\":\"\"}}}],\"scattercarpet\":[{\"type\":\"scattercarpet\",\"marker\":{\"colorbar\":{\"outlinewidth\":0,\"ticks\":\"\"}}}],\"carpet\":[{\"aaxis\":{\"endlinecolor\":\"#2a3f5f\",\"gridcolor\":\"white\",\"linecolor\":\"white\",\"minorgridcolor\":\"white\",\"startlinecolor\":\"#2a3f5f\"},\"baxis\":{\"endlinecolor\":\"#2a3f5f\",\"gridcolor\":\"white\",\"linecolor\":\"white\",\"minorgridcolor\":\"white\",\"startlinecolor\":\"#2a3f5f\"},\"type\":\"carpet\"}],\"table\":[{\"cells\":{\"fill\":{\"color\":\"#EBF0F8\"},\"line\":{\"color\":\"white\"}},\"header\":{\"fill\":{\"color\":\"#C8D4E3\"},\"line\":{\"color\":\"white\"}},\"type\":\"table\"}],\"barpolar\":[{\"marker\":{\"line\":{\"color\":\"#E5ECF6\",\"width\":0.5},\"pattern\":{\"fillmode\":\"overlay\",\"size\":10,\"solidity\":0.2}},\"type\":\"barpolar\"}],\"pie\":[{\"automargin\":true,\"type\":\"pie\"}]},\"layout\":{\"autotypenumbers\":\"strict\",\"colorway\":[\"#636efa\",\"#EF553B\",\"#00cc96\",\"#ab63fa\",\"#FFA15A\",\"#19d3f3\",\"#FF6692\",\"#B6E880\",\"#FF97FF\",\"#FECB52\"],\"font\":{\"color\":\"#2a3f5f\"},\"hovermode\":\"closest\",\"hoverlabel\":{\"align\":\"left\"},\"paper_bgcolor\":\"white\",\"plot_bgcolor\":\"#E5ECF6\",\"polar\":{\"bgcolor\":\"#E5ECF6\",\"angularaxis\":{\"gridcolor\":\"white\",\"linecolor\":\"white\",\"ticks\":\"\"},\"radialaxis\":{\"gridcolor\":\"white\",\"linecolor\":\"white\",\"ticks\":\"\"}},\"ternary\":{\"bgcolor\":\"#E5ECF6\",\"aaxis\":{\"gridcolor\":\"white\",\"linecolor\":\"white\",\"ticks\":\"\"},\"baxis\":{\"gridcolor\":\"white\",\"linecolor\":\"white\",\"ticks\":\"\"},\"caxis\":{\"gridcolor\":\"white\",\"linecolor\":\"white\",\"ticks\":\"\"}},\"coloraxis\":{\"colorbar\":{\"outlinewidth\":0,\"ticks\":\"\"}},\"colorscale\":{\"sequential\":[[0.0,\"#0d0887\"],[0.1111111111111111,\"#46039f\"],[0.2222222222222222,\"#7201a8\"],[0.3333333333333333,\"#9c179e\"],[0.4444444444444444,\"#bd3786\"],[0.5555555555555556,\"#d8576b\"],[0.6666666666666666,\"#ed7953\"],[0.7777777777777778,\"#fb9f3a\"],[0.8888888888888888,\"#fdca26\"],[1.0,\"#f0f921\"]],\"sequentialminus\":[[0.0,\"#0d0887\"],[0.1111111111111111,\"#46039f\"],[0.2222222222222222,\"#7201a8\"],[0.3333333333333333,\"#9c179e\"],[0.4444444444444444,\"#bd3786\"],[0.5555555555555556,\"#d8576b\"],[0.6666666666666666,\"#ed7953\"],[0.7777777777777778,\"#fb9f3a\"],[0.8888888888888888,\"#fdca26\"],[1.0,\"#f0f921\"]],\"diverging\":[[0,\"#8e0152\"],[0.1,\"#c51b7d\"],[0.2,\"#de77ae\"],[0.3,\"#f1b6da\"],[0.4,\"#fde0ef\"],[0.5,\"#f7f7f7\"],[0.6,\"#e6f5d0\"],[0.7,\"#b8e186\"],[0.8,\"#7fbc41\"],[0.9,\"#4d9221\"],[1,\"#276419\"]]},\"xaxis\":{\"gridcolor\":\"white\",\"linecolor\":\"white\",\"ticks\":\"\",\"title\":{\"standoff\":15},\"zerolinecolor\":\"white\",\"automargin\":true,\"zerolinewidth\":2},\"yaxis\":{\"gridcolor\":\"white\",\"linecolor\":\"white\",\"ticks\":\"\",\"title\":{\"standoff\":15},\"zerolinecolor\":\"white\",\"automargin\":true,\"zerolinewidth\":2},\"scene\":{\"xaxis\":{\"backgroundcolor\":\"#E5ECF6\",\"gridcolor\":\"white\",\"linecolor\":\"white\",\"showbackground\":true,\"ticks\":\"\",\"zerolinecolor\":\"white\",\"gridwidth\":2},\"yaxis\":{\"backgroundcolor\":\"#E5ECF6\",\"gridcolor\":\"white\",\"linecolor\":\"white\",\"showbackground\":true,\"ticks\":\"\",\"zerolinecolor\":\"white\",\"gridwidth\":2},\"zaxis\":{\"backgroundcolor\":\"#E5ECF6\",\"gridcolor\":\"white\",\"linecolor\":\"white\",\"showbackground\":true,\"ticks\":\"\",\"zerolinecolor\":\"white\",\"gridwidth\":2}},\"shapedefaults\":{\"line\":{\"color\":\"#2a3f5f\"}},\"annotationdefaults\":{\"arrowcolor\":\"#2a3f5f\",\"arrowhead\":0,\"arrowwidth\":1},\"geo\":{\"bgcolor\":\"white\",\"landcolor\":\"#E5ECF6\",\"subunitcolor\":\"white\",\"showland\":true,\"showlakes\":true,\"lakecolor\":\"white\"},\"title\":{\"x\":0.05},\"mapbox\":{\"style\":\"light\"}}},\"geo\":{\"domain\":{\"x\":[0.0,1.0],\"y\":[0.0,1.0]},\"center\":{}},\"coloraxis\":{\"colorbar\":{\"title\":{\"text\":\"count\"}},\"colorscale\":[[0.0,\"rgb(247,251,255)\"],[0.125,\"rgb(222,235,247)\"],[0.25,\"rgb(198,219,239)\"],[0.375,\"rgb(158,202,225)\"],[0.5,\"rgb(107,174,214)\"],[0.625,\"rgb(66,146,198)\"],[0.75,\"rgb(33,113,181)\"],[0.875,\"rgb(8,81,156)\"],[1.0,\"rgb(8,48,107)\"]]},\"legend\":{\"tracegroupgap\":0},\"title\":{\"text\":\"Researcher Distribution by Country\"}}}\n",
            "DEBUG: key='affiliations' {\"data\":[{\"alignmentgroup\":\"True\",\"hovertemplate\":\"Institution=%{x}\\u003cbr\\u003eNumber of Researchers=%{y}\\u003cextra\\u003e\\u003c\\u002fextra\\u003e\",\"legendgroup\":\"\",\"marker\":{\"color\":\"#636efa\",\"pattern\":{\"shape\":\"\"}},\"name\":\"\",\"offsetgroup\":\"\",\"orientation\":\"v\",\"showlegend\":false,\"textposition\":\"auto\",\"x\":[\"Institute of Microelectronics Technology and High Purity Materials\",\"Columbia University\",\"Institute for Advanced Study\",\"TU Wien\",\"University of Queensland\",\"University of Cologne\",\"University of Southampton\",\"H. H. Wills Physics Laboratory| Tyndall Avenue Bristol BS8 1 TL| UK\",\"Emory University\",\"C-404A| Bell Labs| 600 Mountain Avenue| Murray Hill| New Jersey 07974\"],\"xaxis\":\"x\",\"y\":[11,3,2,2,1,1,1,1,1,1],\"yaxis\":\"y\",\"type\":\"bar\"}],\"layout\":{\"template\":{\"data\":{\"histogram2dcontour\":[{\"type\":\"histogram2dcontour\",\"colorbar\":{\"outlinewidth\":0,\"ticks\":\"\"},\"colorscale\":[[0.0,\"#0d0887\"],[0.1111111111111111,\"#46039f\"],[0.2222222222222222,\"#7201a8\"],[0.3333333333333333,\"#9c179e\"],[0.4444444444444444,\"#bd3786\"],[0.5555555555555556,\"#d8576b\"],[0.6666666666666666,\"#ed7953\"],[0.7777777777777778,\"#fb9f3a\"],[0.8888888888888888,\"#fdca26\"],[1.0,\"#f0f921\"]]}],\"choropleth\":[{\"type\":\"choropleth\",\"colorbar\":{\"outlinewidth\":0,\"ticks\":\"\"}}],\"histogram2d\":[{\"type\":\"histogram2d\",\"colorbar\":{\"outlinewidth\":0,\"ticks\":\"\"},\"colorscale\":[[0.0,\"#0d0887\"],[0.1111111111111111,\"#46039f\"],[0.2222222222222222,\"#7201a8\"],[0.3333333333333333,\"#9c179e\"],[0.4444444444444444,\"#bd3786\"],[0.5555555555555556,\"#d8576b\"],[0.6666666666666666,\"#ed7953\"],[0.7777777777777778,\"#fb9f3a\"],[0.8888888888888888,\"#fdca26\"],[1.0,\"#f0f921\"]]}],\"heatmap\":[{\"type\":\"heatmap\",\"colorbar\":{\"outlinewidth\":0,\"ticks\":\"\"},\"colorscale\":[[0.0,\"#0d0887\"],[0.1111111111111111,\"#46039f\"],[0.2222222222222222,\"#7201a8\"],[0.3333333333333333,\"#9c179e\"],[0.4444444444444444,\"#bd3786\"],[0.5555555555555556,\"#d8576b\"],[0.6666666666666666,\"#ed7953\"],[0.7777777777777778,\"#fb9f3a\"],[0.8888888888888888,\"#fdca26\"],[1.0,\"#f0f921\"]]}],\"heatmapgl\":[{\"type\":\"heatmapgl\",\"colorbar\":{\"outlinewidth\":0,\"ticks\":\"\"},\"colorscale\":[[0.0,\"#0d0887\"],[0.1111111111111111,\"#46039f\"],[0.2222222222222222,\"#7201a8\"],[0.3333333333333333,\"#9c179e\"],[0.4444444444444444,\"#bd3786\"],[0.5555555555555556,\"#d8576b\"],[0.6666666666666666,\"#ed7953\"],[0.7777777777777778,\"#fb9f3a\"],[0.8888888888888888,\"#fdca26\"],[1.0,\"#f0f921\"]]}],\"contourcarpet\":[{\"type\":\"contourcarpet\",\"colorbar\":{\"outlinewidth\":0,\"ticks\":\"\"}}],\"contour\":[{\"type\":\"contour\",\"colorbar\":{\"outlinewidth\":0,\"ticks\":\"\"},\"colorscale\":[[0.0,\"#0d0887\"],[0.1111111111111111,\"#46039f\"],[0.2222222222222222,\"#7201a8\"],[0.3333333333333333,\"#9c179e\"],[0.4444444444444444,\"#bd3786\"],[0.5555555555555556,\"#d8576b\"],[0.6666666666666666,\"#ed7953\"],[0.7777777777777778,\"#fb9f3a\"],[0.8888888888888888,\"#fdca26\"],[1.0,\"#f0f921\"]]}],\"surface\":[{\"type\":\"surface\",\"colorbar\":{\"outlinewidth\":0,\"ticks\":\"\"},\"colorscale\":[[0.0,\"#0d0887\"],[0.1111111111111111,\"#46039f\"],[0.2222222222222222,\"#7201a8\"],[0.3333333333333333,\"#9c179e\"],[0.4444444444444444,\"#bd3786\"],[0.5555555555555556,\"#d8576b\"],[0.6666666666666666,\"#ed7953\"],[0.7777777777777778,\"#fb9f3a\"],[0.8888888888888888,\"#fdca26\"],[1.0,\"#f0f921\"]]}],\"mesh3d\":[{\"type\":\"mesh3d\",\"colorbar\":{\"outlinewidth\":0,\"ticks\":\"\"}}],\"scatter\":[{\"fillpattern\":{\"fillmode\":\"overlay\",\"size\":10,\"solidity\":0.2},\"type\":\"scatter\"}],\"parcoords\":[{\"type\":\"parcoords\",\"line\":{\"colorbar\":{\"outlinewidth\":0,\"ticks\":\"\"}}}],\"scatterpolargl\":[{\"type\":\"scatterpolargl\",\"marker\":{\"colorbar\":{\"outlinewidth\":0,\"ticks\":\"\"}}}],\"bar\":[{\"error_x\":{\"color\":\"#2a3f5f\"},\"error_y\":{\"color\":\"#2a3f5f\"},\"marker\":{\"line\":{\"color\":\"#E5ECF6\",\"width\":0.5},\"pattern\":{\"fillmode\":\"overlay\",\"size\":10,\"solidity\":0.2}},\"type\":\"bar\"}],\"scattergeo\":[{\"type\":\"scattergeo\",\"marker\":{\"colorbar\":{\"outlinewidth\":0,\"ticks\":\"\"}}}],\"scatterpolar\":[{\"type\":\"scatterpolar\",\"marker\":{\"colorbar\":{\"outlinewidth\":0,\"ticks\":\"\"}}}],\"histogram\":[{\"marker\":{\"pattern\":{\"fillmode\":\"overlay\",\"size\":10,\"solidity\":0.2}},\"type\":\"histogram\"}],\"scattergl\":[{\"type\":\"scattergl\",\"marker\":{\"colorbar\":{\"outlinewidth\":0,\"ticks\":\"\"}}}],\"scatter3d\":[{\"type\":\"scatter3d\",\"line\":{\"colorbar\":{\"outlinewidth\":0,\"ticks\":\"\"}},\"marker\":{\"colorbar\":{\"outlinewidth\":0,\"ticks\":\"\"}}}],\"scattermapbox\":[{\"type\":\"scattermapbox\",\"marker\":{\"colorbar\":{\"outlinewidth\":0,\"ticks\":\"\"}}}],\"scatterternary\":[{\"type\":\"scatterternary\",\"marker\":{\"colorbar\":{\"outlinewidth\":0,\"ticks\":\"\"}}}],\"scattercarpet\":[{\"type\":\"scattercarpet\",\"marker\":{\"colorbar\":{\"outlinewidth\":0,\"ticks\":\"\"}}}],\"carpet\":[{\"aaxis\":{\"endlinecolor\":\"#2a3f5f\",\"gridcolor\":\"white\",\"linecolor\":\"white\",\"minorgridcolor\":\"white\",\"startlinecolor\":\"#2a3f5f\"},\"baxis\":{\"endlinecolor\":\"#2a3f5f\",\"gridcolor\":\"white\",\"linecolor\":\"white\",\"minorgridcolor\":\"white\",\"startlinecolor\":\"#2a3f5f\"},\"type\":\"carpet\"}],\"table\":[{\"cells\":{\"fill\":{\"color\":\"#EBF0F8\"},\"line\":{\"color\":\"white\"}},\"header\":{\"fill\":{\"color\":\"#C8D4E3\"},\"line\":{\"color\":\"white\"}},\"type\":\"table\"}],\"barpolar\":[{\"marker\":{\"line\":{\"color\":\"#E5ECF6\",\"width\":0.5},\"pattern\":{\"fillmode\":\"overlay\",\"size\":10,\"solidity\":0.2}},\"type\":\"barpolar\"}],\"pie\":[{\"automargin\":true,\"type\":\"pie\"}]},\"layout\":{\"autotypenumbers\":\"strict\",\"colorway\":[\"#636efa\",\"#EF553B\",\"#00cc96\",\"#ab63fa\",\"#FFA15A\",\"#19d3f3\",\"#FF6692\",\"#B6E880\",\"#FF97FF\",\"#FECB52\"],\"font\":{\"color\":\"#2a3f5f\"},\"hovermode\":\"closest\",\"hoverlabel\":{\"align\":\"left\"},\"paper_bgcolor\":\"white\",\"plot_bgcolor\":\"#E5ECF6\",\"polar\":{\"bgcolor\":\"#E5ECF6\",\"angularaxis\":{\"gridcolor\":\"white\",\"linecolor\":\"white\",\"ticks\":\"\"},\"radialaxis\":{\"gridcolor\":\"white\",\"linecolor\":\"white\",\"ticks\":\"\"}},\"ternary\":{\"bgcolor\":\"#E5ECF6\",\"aaxis\":{\"gridcolor\":\"white\",\"linecolor\":\"white\",\"ticks\":\"\"},\"baxis\":{\"gridcolor\":\"white\",\"linecolor\":\"white\",\"ticks\":\"\"},\"caxis\":{\"gridcolor\":\"white\",\"linecolor\":\"white\",\"ticks\":\"\"}},\"coloraxis\":{\"colorbar\":{\"outlinewidth\":0,\"ticks\":\"\"}},\"colorscale\":{\"sequential\":[[0.0,\"#0d0887\"],[0.1111111111111111,\"#46039f\"],[0.2222222222222222,\"#7201a8\"],[0.3333333333333333,\"#9c179e\"],[0.4444444444444444,\"#bd3786\"],[0.5555555555555556,\"#d8576b\"],[0.6666666666666666,\"#ed7953\"],[0.7777777777777778,\"#fb9f3a\"],[0.8888888888888888,\"#fdca26\"],[1.0,\"#f0f921\"]],\"sequentialminus\":[[0.0,\"#0d0887\"],[0.1111111111111111,\"#46039f\"],[0.2222222222222222,\"#7201a8\"],[0.3333333333333333,\"#9c179e\"],[0.4444444444444444,\"#bd3786\"],[0.5555555555555556,\"#d8576b\"],[0.6666666666666666,\"#ed7953\"],[0.7777777777777778,\"#fb9f3a\"],[0.8888888888888888,\"#fdca26\"],[1.0,\"#f0f921\"]],\"diverging\":[[0,\"#8e0152\"],[0.1,\"#c51b7d\"],[0.2,\"#de77ae\"],[0.3,\"#f1b6da\"],[0.4,\"#fde0ef\"],[0.5,\"#f7f7f7\"],[0.6,\"#e6f5d0\"],[0.7,\"#b8e186\"],[0.8,\"#7fbc41\"],[0.9,\"#4d9221\"],[1,\"#276419\"]]},\"xaxis\":{\"gridcolor\":\"white\",\"linecolor\":\"white\",\"ticks\":\"\",\"title\":{\"standoff\":15},\"zerolinecolor\":\"white\",\"automargin\":true,\"zerolinewidth\":2},\"yaxis\":{\"gridcolor\":\"white\",\"linecolor\":\"white\",\"ticks\":\"\",\"title\":{\"standoff\":15},\"zerolinecolor\":\"white\",\"automargin\":true,\"zerolinewidth\":2},\"scene\":{\"xaxis\":{\"backgroundcolor\":\"#E5ECF6\",\"gridcolor\":\"white\",\"linecolor\":\"white\",\"showbackground\":true,\"ticks\":\"\",\"zerolinecolor\":\"white\",\"gridwidth\":2},\"yaxis\":{\"backgroundcolor\":\"#E5ECF6\",\"gridcolor\":\"white\",\"linecolor\":\"white\",\"showbackground\":true,\"ticks\":\"\",\"zerolinecolor\":\"white\",\"gridwidth\":2},\"zaxis\":{\"backgroundcolor\":\"#E5ECF6\",\"gridcolor\":\"white\",\"linecolor\":\"white\",\"showbackground\":true,\"ticks\":\"\",\"zerolinecolor\":\"white\",\"gridwidth\":2}},\"shapedefaults\":{\"line\":{\"color\":\"#2a3f5f\"}},\"annotationdefaults\":{\"arrowcolor\":\"#2a3f5f\",\"arrowhead\":0,\"arrowwidth\":1},\"geo\":{\"bgcolor\":\"white\",\"landcolor\":\"#E5ECF6\",\"subunitcolor\":\"white\",\"showland\":true,\"showlakes\":true,\"lakecolor\":\"white\"},\"title\":{\"x\":0.05},\"mapbox\":{\"style\":\"light\"}}},\"xaxis\":{\"anchor\":\"y\",\"domain\":[0.0,1.0],\"title\":{\"text\":\"Institution\"}},\"yaxis\":{\"anchor\":\"x\",\"domain\":[0.0,1.0],\"title\":{\"text\":\"Number of Researchers\"}},\"legend\":{\"tracegroupgap\":0},\"title\":{\"text\":\"Top 10 Research Institutions\"},\"barmode\":\"relative\"}}\n",
            "DEBUG: key='yearly_trends' {\"data\":[{\"hovertemplate\":\"Year=%{x}\\u003cbr\\u003ePapers Published=%{y}\\u003cextra\\u003e\\u003c\\u002fextra\\u003e\",\"legendgroup\":\"\",\"line\":{\"color\":\"#636efa\",\"dash\":\"solid\"},\"marker\":{\"symbol\":\"circle\"},\"mode\":\"lines\",\"name\":\"\",\"orientation\":\"v\",\"showlegend\":false,\"x\":[1935,1985,1988,1993,2000,2005,2007,2009],\"xaxis\":\"x\",\"y\":[1,1,1,1,1,2,1,2],\"yaxis\":\"y\",\"type\":\"scatter\"}],\"layout\":{\"template\":{\"data\":{\"histogram2dcontour\":[{\"type\":\"histogram2dcontour\",\"colorbar\":{\"outlinewidth\":0,\"ticks\":\"\"},\"colorscale\":[[0.0,\"#0d0887\"],[0.1111111111111111,\"#46039f\"],[0.2222222222222222,\"#7201a8\"],[0.3333333333333333,\"#9c179e\"],[0.4444444444444444,\"#bd3786\"],[0.5555555555555556,\"#d8576b\"],[0.6666666666666666,\"#ed7953\"],[0.7777777777777778,\"#fb9f3a\"],[0.8888888888888888,\"#fdca26\"],[1.0,\"#f0f921\"]]}],\"choropleth\":[{\"type\":\"choropleth\",\"colorbar\":{\"outlinewidth\":0,\"ticks\":\"\"}}],\"histogram2d\":[{\"type\":\"histogram2d\",\"colorbar\":{\"outlinewidth\":0,\"ticks\":\"\"},\"colorscale\":[[0.0,\"#0d0887\"],[0.1111111111111111,\"#46039f\"],[0.2222222222222222,\"#7201a8\"],[0.3333333333333333,\"#9c179e\"],[0.4444444444444444,\"#bd3786\"],[0.5555555555555556,\"#d8576b\"],[0.6666666666666666,\"#ed7953\"],[0.7777777777777778,\"#fb9f3a\"],[0.8888888888888888,\"#fdca26\"],[1.0,\"#f0f921\"]]}],\"heatmap\":[{\"type\":\"heatmap\",\"colorbar\":{\"outlinewidth\":0,\"ticks\":\"\"},\"colorscale\":[[0.0,\"#0d0887\"],[0.1111111111111111,\"#46039f\"],[0.2222222222222222,\"#7201a8\"],[0.3333333333333333,\"#9c179e\"],[0.4444444444444444,\"#bd3786\"],[0.5555555555555556,\"#d8576b\"],[0.6666666666666666,\"#ed7953\"],[0.7777777777777778,\"#fb9f3a\"],[0.8888888888888888,\"#fdca26\"],[1.0,\"#f0f921\"]]}],\"heatmapgl\":[{\"type\":\"heatmapgl\",\"colorbar\":{\"outlinewidth\":0,\"ticks\":\"\"},\"colorscale\":[[0.0,\"#0d0887\"],[0.1111111111111111,\"#46039f\"],[0.2222222222222222,\"#7201a8\"],[0.3333333333333333,\"#9c179e\"],[0.4444444444444444,\"#bd3786\"],[0.5555555555555556,\"#d8576b\"],[0.6666666666666666,\"#ed7953\"],[0.7777777777777778,\"#fb9f3a\"],[0.8888888888888888,\"#fdca26\"],[1.0,\"#f0f921\"]]}],\"contourcarpet\":[{\"type\":\"contourcarpet\",\"colorbar\":{\"outlinewidth\":0,\"ticks\":\"\"}}],\"contour\":[{\"type\":\"contour\",\"colorbar\":{\"outlinewidth\":0,\"ticks\":\"\"},\"colorscale\":[[0.0,\"#0d0887\"],[0.1111111111111111,\"#46039f\"],[0.2222222222222222,\"#7201a8\"],[0.3333333333333333,\"#9c179e\"],[0.4444444444444444,\"#bd3786\"],[0.5555555555555556,\"#d8576b\"],[0.6666666666666666,\"#ed7953\"],[0.7777777777777778,\"#fb9f3a\"],[0.8888888888888888,\"#fdca26\"],[1.0,\"#f0f921\"]]}],\"surface\":[{\"type\":\"surface\",\"colorbar\":{\"outlinewidth\":0,\"ticks\":\"\"},\"colorscale\":[[0.0,\"#0d0887\"],[0.1111111111111111,\"#46039f\"],[0.2222222222222222,\"#7201a8\"],[0.3333333333333333,\"#9c179e\"],[0.4444444444444444,\"#bd3786\"],[0.5555555555555556,\"#d8576b\"],[0.6666666666666666,\"#ed7953\"],[0.7777777777777778,\"#fb9f3a\"],[0.8888888888888888,\"#fdca26\"],[1.0,\"#f0f921\"]]}],\"mesh3d\":[{\"type\":\"mesh3d\",\"colorbar\":{\"outlinewidth\":0,\"ticks\":\"\"}}],\"scatter\":[{\"fillpattern\":{\"fillmode\":\"overlay\",\"size\":10,\"solidity\":0.2},\"type\":\"scatter\"}],\"parcoords\":[{\"type\":\"parcoords\",\"line\":{\"colorbar\":{\"outlinewidth\":0,\"ticks\":\"\"}}}],\"scatterpolargl\":[{\"type\":\"scatterpolargl\",\"marker\":{\"colorbar\":{\"outlinewidth\":0,\"ticks\":\"\"}}}],\"bar\":[{\"error_x\":{\"color\":\"#2a3f5f\"},\"error_y\":{\"color\":\"#2a3f5f\"},\"marker\":{\"line\":{\"color\":\"#E5ECF6\",\"width\":0.5},\"pattern\":{\"fillmode\":\"overlay\",\"size\":10,\"solidity\":0.2}},\"type\":\"bar\"}],\"scattergeo\":[{\"type\":\"scattergeo\",\"marker\":{\"colorbar\":{\"outlinewidth\":0,\"ticks\":\"\"}}}],\"scatterpolar\":[{\"type\":\"scatterpolar\",\"marker\":{\"colorbar\":{\"outlinewidth\":0,\"ticks\":\"\"}}}],\"histogram\":[{\"marker\":{\"pattern\":{\"fillmode\":\"overlay\",\"size\":10,\"solidity\":0.2}},\"type\":\"histogram\"}],\"scattergl\":[{\"type\":\"scattergl\",\"marker\":{\"colorbar\":{\"outlinewidth\":0,\"ticks\":\"\"}}}],\"scatter3d\":[{\"type\":\"scatter3d\",\"line\":{\"colorbar\":{\"outlinewidth\":0,\"ticks\":\"\"}},\"marker\":{\"colorbar\":{\"outlinewidth\":0,\"ticks\":\"\"}}}],\"scattermapbox\":[{\"type\":\"scattermapbox\",\"marker\":{\"colorbar\":{\"outlinewidth\":0,\"ticks\":\"\"}}}],\"scatterternary\":[{\"type\":\"scatterternary\",\"marker\":{\"colorbar\":{\"outlinewidth\":0,\"ticks\":\"\"}}}],\"scattercarpet\":[{\"type\":\"scattercarpet\",\"marker\":{\"colorbar\":{\"outlinewidth\":0,\"ticks\":\"\"}}}],\"carpet\":[{\"aaxis\":{\"endlinecolor\":\"#2a3f5f\",\"gridcolor\":\"white\",\"linecolor\":\"white\",\"minorgridcolor\":\"white\",\"startlinecolor\":\"#2a3f5f\"},\"baxis\":{\"endlinecolor\":\"#2a3f5f\",\"gridcolor\":\"white\",\"linecolor\":\"white\",\"minorgridcolor\":\"white\",\"startlinecolor\":\"#2a3f5f\"},\"type\":\"carpet\"}],\"table\":[{\"cells\":{\"fill\":{\"color\":\"#EBF0F8\"},\"line\":{\"color\":\"white\"}},\"header\":{\"fill\":{\"color\":\"#C8D4E3\"},\"line\":{\"color\":\"white\"}},\"type\":\"table\"}],\"barpolar\":[{\"marker\":{\"line\":{\"color\":\"#E5ECF6\",\"width\":0.5},\"pattern\":{\"fillmode\":\"overlay\",\"size\":10,\"solidity\":0.2}},\"type\":\"barpolar\"}],\"pie\":[{\"automargin\":true,\"type\":\"pie\"}]},\"layout\":{\"autotypenumbers\":\"strict\",\"colorway\":[\"#636efa\",\"#EF553B\",\"#00cc96\",\"#ab63fa\",\"#FFA15A\",\"#19d3f3\",\"#FF6692\",\"#B6E880\",\"#FF97FF\",\"#FECB52\"],\"font\":{\"color\":\"#2a3f5f\"},\"hovermode\":\"closest\",\"hoverlabel\":{\"align\":\"left\"},\"paper_bgcolor\":\"white\",\"plot_bgcolor\":\"#E5ECF6\",\"polar\":{\"bgcolor\":\"#E5ECF6\",\"angularaxis\":{\"gridcolor\":\"white\",\"linecolor\":\"white\",\"ticks\":\"\"},\"radialaxis\":{\"gridcolor\":\"white\",\"linecolor\":\"white\",\"ticks\":\"\"}},\"ternary\":{\"bgcolor\":\"#E5ECF6\",\"aaxis\":{\"gridcolor\":\"white\",\"linecolor\":\"white\",\"ticks\":\"\"},\"baxis\":{\"gridcolor\":\"white\",\"linecolor\":\"white\",\"ticks\":\"\"},\"caxis\":{\"gridcolor\":\"white\",\"linecolor\":\"white\",\"ticks\":\"\"}},\"coloraxis\":{\"colorbar\":{\"outlinewidth\":0,\"ticks\":\"\"}},\"colorscale\":{\"sequential\":[[0.0,\"#0d0887\"],[0.1111111111111111,\"#46039f\"],[0.2222222222222222,\"#7201a8\"],[0.3333333333333333,\"#9c179e\"],[0.4444444444444444,\"#bd3786\"],[0.5555555555555556,\"#d8576b\"],[0.6666666666666666,\"#ed7953\"],[0.7777777777777778,\"#fb9f3a\"],[0.8888888888888888,\"#fdca26\"],[1.0,\"#f0f921\"]],\"sequentialminus\":[[0.0,\"#0d0887\"],[0.1111111111111111,\"#46039f\"],[0.2222222222222222,\"#7201a8\"],[0.3333333333333333,\"#9c179e\"],[0.4444444444444444,\"#bd3786\"],[0.5555555555555556,\"#d8576b\"],[0.6666666666666666,\"#ed7953\"],[0.7777777777777778,\"#fb9f3a\"],[0.8888888888888888,\"#fdca26\"],[1.0,\"#f0f921\"]],\"diverging\":[[0,\"#8e0152\"],[0.1,\"#c51b7d\"],[0.2,\"#de77ae\"],[0.3,\"#f1b6da\"],[0.4,\"#fde0ef\"],[0.5,\"#f7f7f7\"],[0.6,\"#e6f5d0\"],[0.7,\"#b8e186\"],[0.8,\"#7fbc41\"],[0.9,\"#4d9221\"],[1,\"#276419\"]]},\"xaxis\":{\"gridcolor\":\"white\",\"linecolor\":\"white\",\"ticks\":\"\",\"title\":{\"standoff\":15},\"zerolinecolor\":\"white\",\"automargin\":true,\"zerolinewidth\":2},\"yaxis\":{\"gridcolor\":\"white\",\"linecolor\":\"white\",\"ticks\":\"\",\"title\":{\"standoff\":15},\"zerolinecolor\":\"white\",\"automargin\":true,\"zerolinewidth\":2},\"scene\":{\"xaxis\":{\"backgroundcolor\":\"#E5ECF6\",\"gridcolor\":\"white\",\"linecolor\":\"white\",\"showbackground\":true,\"ticks\":\"\",\"zerolinecolor\":\"white\",\"gridwidth\":2},\"yaxis\":{\"backgroundcolor\":\"#E5ECF6\",\"gridcolor\":\"white\",\"linecolor\":\"white\",\"showbackground\":true,\"ticks\":\"\",\"zerolinecolor\":\"white\",\"gridwidth\":2},\"zaxis\":{\"backgroundcolor\":\"#E5ECF6\",\"gridcolor\":\"white\",\"linecolor\":\"white\",\"showbackground\":true,\"ticks\":\"\",\"zerolinecolor\":\"white\",\"gridwidth\":2}},\"shapedefaults\":{\"line\":{\"color\":\"#2a3f5f\"}},\"annotationdefaults\":{\"arrowcolor\":\"#2a3f5f\",\"arrowhead\":0,\"arrowwidth\":1},\"geo\":{\"bgcolor\":\"white\",\"landcolor\":\"#E5ECF6\",\"subunitcolor\":\"white\",\"showland\":true,\"showlakes\":true,\"lakecolor\":\"white\"},\"title\":{\"x\":0.05},\"mapbox\":{\"style\":\"light\"}}},\"xaxis\":{\"anchor\":\"y\",\"domain\":[0.0,1.0],\"title\":{\"text\":\"Year\"}},\"yaxis\":{\"anchor\":\"x\",\"domain\":[0.0,1.0],\"title\":{\"text\":\"Papers Published\"}},\"legend\":{\"tracegroupgap\":0},\"title\":{\"text\":\"Yearly Publication Trends\"}}}\n",
            "Keyboard interruption in main thread... closing server.\n",
            "Killing tunnel 127.0.0.1:7862 <> https://c43182652465bb6ede.gradio.live\n"
          ]
        },
        {
          "output_type": "execute_result",
          "data": {
            "text/plain": []
          },
          "metadata": {},
          "execution_count": 46
        }
      ],
      "source": [
        "import gradio as gr\n",
        "import plotly.io as pio\n",
        "\n",
        "def extract_and_display(captured_response):\n",
        "    \"\"\"Extracts Plotly figures and returns them for display in Gradio.\"\"\"\n",
        "    if not captured_response:\n",
        "        return None, None, None  # Default empty plots\n",
        "\n",
        "    plotly_plots = captured_response['intermediate_steps'][2][1][\"plots\"]\n",
        "\n",
        "    figs = []\n",
        "    for key, fig_json in plotly_plots.items():\n",
        "        fig = pio.from_json(fig_json)\n",
        "        figs.append(fig)\n",
        "\n",
        "    return tuple(figs)\n",
        "\n",
        "# Create Gradio app\n",
        "with gr.Blocks() as demo:\n",
        "    gr.Markdown(\"# 📊 Quantum Dashboard - Plotly Visualizations\")\n",
        "\n",
        "    captured_response_state = gr.State(query_topic(\"Make me a dashboard for quantum\"))\n",
        "\n",
        "    # We expect 3 plots\n",
        "    plot1 = gr.Plot()\n",
        "    plot2 = gr.Plot()\n",
        "    plot3 = gr.Plot()\n",
        "\n",
        "    # Button to trigger visualization\n",
        "    with gr.Row():\n",
        "        btn = gr.Button(\"Generate Dashboard\")\n",
        "\n",
        "    # When button is clicked, extract and display plots\n",
        "    btn.click(extract_and_display, inputs=[captured_response_state], outputs=[plot1, plot2, plot3])\n",
        "\n",
        "# Launch the Gradio app\n",
        "demo.launch(share=True, debug=False)\n"
      ]
    }
  ],
  "metadata": {
    "colab": {
      "provenance": [],
      "gpuType": "T4",
      "include_colab_link": true
    },
    "kernelspec": {
      "display_name": "Python 3",
      "name": "python3"
    },
    "language_info": {
      "codemirror_mode": {
        "name": "ipython",
        "version": 3
      },
      "file_extension": ".py",
      "mimetype": "text/x-python",
      "name": "python",
      "nbconvert_exporter": "python",
      "pygments_lexer": "ipython3",
      "version": "3.11.6"
    },
    "widgets": {
      "application/vnd.jupyter.widget-state+json": {
        "679d9da6b86648efaad49bad0ad6fc7b": {
          "model_module": "@jupyter-widgets/output",
          "model_name": "OutputModel",
          "model_module_version": "1.0.0",
          "state": {
            "_dom_classes": [],
            "_model_module": "@jupyter-widgets/output",
            "_model_module_version": "1.0.0",
            "_model_name": "OutputModel",
            "_view_count": null,
            "_view_module": "@jupyter-widgets/output",
            "_view_module_version": "1.0.0",
            "_view_name": "OutputView",
            "layout": "IPY_MODEL_9a8381b37c9d410c8d7780cdbb1a6e20",
            "msg_id": "",
            "outputs": [
              {
                "output_type": "display_data",
                "data": {
                  "text/plain": "(NX → ADB): Nodes \u001b[38;2;151;196;35m━━━━━━━━━━━━━━━━━━━━━━━━━━━━━━━━━━━━━━━━\u001b[0m \u001b[35m100%\u001b[0m (2840/2840) \u001b[33m0:00:00\u001b[0m\n     ADB Import: 'Paper' (1100) \u001b[38;2;91;192;222m▰▱▱▱▱▱▱\u001b[0m \u001b[33m0:00:00\u001b[0m\n",
                  "text/html": "<pre style=\"white-space:pre;overflow-x:auto;line-height:normal;font-family:Menlo,'DejaVu Sans Mono',consolas,'Courier New',monospace\">(NX → ADB): Nodes <span style=\"color: #97c423; text-decoration-color: #97c423\">━━━━━━━━━━━━━━━━━━━━━━━━━━━━━━━━━━━━━━━━</span> <span style=\"color: #800080; text-decoration-color: #800080\">100%</span> (2840/2840) <span style=\"color: #808000; text-decoration-color: #808000\">0:00:00</span>\n     ADB Import: 'Paper' (1100) <span style=\"color: #5bc0de; text-decoration-color: #5bc0de\">▰▱▱▱▱▱▱</span> <span style=\"color: #808000; text-decoration-color: #808000\">0:00:00</span>\n</pre>\n"
                },
                "metadata": {}
              }
            ]
          }
        },
        "9a8381b37c9d410c8d7780cdbb1a6e20": {
          "model_module": "@jupyter-widgets/base",
          "model_name": "LayoutModel",
          "model_module_version": "1.2.0",
          "state": {
            "_model_module": "@jupyter-widgets/base",
            "_model_module_version": "1.2.0",
            "_model_name": "LayoutModel",
            "_view_count": null,
            "_view_module": "@jupyter-widgets/base",
            "_view_module_version": "1.2.0",
            "_view_name": "LayoutView",
            "align_content": null,
            "align_items": null,
            "align_self": null,
            "border": null,
            "bottom": null,
            "display": null,
            "flex": null,
            "flex_flow": null,
            "grid_area": null,
            "grid_auto_columns": null,
            "grid_auto_flow": null,
            "grid_auto_rows": null,
            "grid_column": null,
            "grid_gap": null,
            "grid_row": null,
            "grid_template_areas": null,
            "grid_template_columns": null,
            "grid_template_rows": null,
            "height": null,
            "justify_content": null,
            "justify_items": null,
            "left": null,
            "margin": null,
            "max_height": null,
            "max_width": null,
            "min_height": null,
            "min_width": null,
            "object_fit": null,
            "object_position": null,
            "order": null,
            "overflow": null,
            "overflow_x": null,
            "overflow_y": null,
            "padding": null,
            "right": null,
            "top": null,
            "visibility": null,
            "width": null
          }
        },
        "6070538ccf4947e88bb29b7c2bb739d2": {
          "model_module": "@jupyter-widgets/output",
          "model_name": "OutputModel",
          "model_module_version": "1.0.0",
          "state": {
            "_dom_classes": [],
            "_model_module": "@jupyter-widgets/output",
            "_model_module_version": "1.0.0",
            "_model_name": "OutputModel",
            "_view_count": null,
            "_view_module": "@jupyter-widgets/output",
            "_view_module_version": "1.0.0",
            "_view_name": "OutputView",
            "layout": "IPY_MODEL_bde2410ca0034ce3b77d29dabff899fc",
            "msg_id": "",
            "outputs": [
              {
                "output_type": "display_data",
                "data": {
                  "text/plain": "(NX → ADB): Edges \u001b[38;5;237m━━━━━━━━━━━━━━━━━━━━━━━━━━━━━━━━━━━━━━━━\u001b[0m \u001b[35m  0%\u001b[0m (0/5484) \u001b[33m0:00:00\u001b[0m\n",
                  "text/html": "<pre style=\"white-space:pre;overflow-x:auto;line-height:normal;font-family:Menlo,'DejaVu Sans Mono',consolas,'Courier New',monospace\">(NX → ADB): Edges <span style=\"color: #3a3a3a; text-decoration-color: #3a3a3a\">━━━━━━━━━━━━━━━━━━━━━━━━━━━━━━━━━━━━━━━━</span> <span style=\"color: #800080; text-decoration-color: #800080\">  0%</span> (0/5484) <span style=\"color: #808000; text-decoration-color: #808000\">0:00:00</span>\n</pre>\n"
                },
                "metadata": {}
              }
            ]
          }
        },
        "bde2410ca0034ce3b77d29dabff899fc": {
          "model_module": "@jupyter-widgets/base",
          "model_name": "LayoutModel",
          "model_module_version": "1.2.0",
          "state": {
            "_model_module": "@jupyter-widgets/base",
            "_model_module_version": "1.2.0",
            "_model_name": "LayoutModel",
            "_view_count": null,
            "_view_module": "@jupyter-widgets/base",
            "_view_module_version": "1.2.0",
            "_view_name": "LayoutView",
            "align_content": null,
            "align_items": null,
            "align_self": null,
            "border": null,
            "bottom": null,
            "display": null,
            "flex": null,
            "flex_flow": null,
            "grid_area": null,
            "grid_auto_columns": null,
            "grid_auto_flow": null,
            "grid_auto_rows": null,
            "grid_column": null,
            "grid_gap": null,
            "grid_row": null,
            "grid_template_areas": null,
            "grid_template_columns": null,
            "grid_template_rows": null,
            "height": null,
            "justify_content": null,
            "justify_items": null,
            "left": null,
            "margin": null,
            "max_height": null,
            "max_width": null,
            "min_height": null,
            "min_width": null,
            "object_fit": null,
            "object_position": null,
            "order": null,
            "overflow": null,
            "overflow_x": null,
            "overflow_y": null,
            "padding": null,
            "right": null,
            "top": null,
            "visibility": null,
            "width": null
          }
        }
      }
    },
    "accelerator": "GPU"
  },
  "nbformat": 4,
  "nbformat_minor": 0
}